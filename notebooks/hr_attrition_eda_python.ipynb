{
  "cells": [
    {
      "cell_type": "markdown",
      "metadata": {
        "id": "pFyocM67wZ6D"
      },
      "source": [
        "# **Uploading And Prepearing 🔧**"
      ]
    },
    {
      "cell_type": "code",
      "execution_count": 75,
      "metadata": {
        "id": "wjQ_Tkauv6_W"
      },
      "outputs": [],
      "source": [
        "url1 = 'https://raw.githubusercontent.com/RaghadZeyad/HR-Attrition-Analysis/main/data/hr_employee_data.csv'\n",
        "url2 = 'https://raw.githubusercontent.com/RaghadZeyad/HR-Attrition-Analysis/main/data/hr-performance-rating-data.csv'"
      ]
    },
    {
      "cell_type": "code",
      "execution_count": 76,
      "metadata": {
        "colab": {
          "base_uri": "https://localhost:8080/"
        },
        "id": "iGZEtmzGP6GY",
        "outputId": "edf13d80-3736-4c73-cbed-75457e0cd738"
      },
      "outputs": [
        {
          "output_type": "stream",
          "name": "stdout",
          "text": [
            "Requirement already satisfied: fireducks in /usr/local/lib/python3.11/dist-packages (1.2.8)\n",
            "Requirement already satisfied: firefw==1.2.8 in /usr/local/lib/python3.11/dist-packages (from fireducks) (1.2.8)\n",
            "Requirement already satisfied: pandas<2.3.0,>=1.5.3 in /usr/local/lib/python3.11/dist-packages (from fireducks) (2.2.2)\n",
            "Requirement already satisfied: pyarrow<19.1,>=19.0 in /usr/local/lib/python3.11/dist-packages (from fireducks) (19.0.1)\n",
            "Requirement already satisfied: numpy>=1.23.2 in /usr/local/lib/python3.11/dist-packages (from pandas<2.3.0,>=1.5.3->fireducks) (2.0.2)\n",
            "Requirement already satisfied: python-dateutil>=2.8.2 in /usr/local/lib/python3.11/dist-packages (from pandas<2.3.0,>=1.5.3->fireducks) (2.9.0.post0)\n",
            "Requirement already satisfied: pytz>=2020.1 in /usr/local/lib/python3.11/dist-packages (from pandas<2.3.0,>=1.5.3->fireducks) (2025.2)\n",
            "Requirement already satisfied: tzdata>=2022.7 in /usr/local/lib/python3.11/dist-packages (from pandas<2.3.0,>=1.5.3->fireducks) (2025.2)\n",
            "Requirement already satisfied: six>=1.5 in /usr/local/lib/python3.11/dist-packages (from python-dateutil>=2.8.2->pandas<2.3.0,>=1.5.3->fireducks) (1.17.0)\n"
          ]
        }
      ],
      "source": [
        "pip install fireducks"
      ]
    },
    {
      "cell_type": "code",
      "execution_count": 77,
      "metadata": {
        "id": "-C3tSJsLwIla"
      },
      "outputs": [],
      "source": [
        "import fireducks.pandas as pd\n",
        "import numpy as np\n",
        "import plotly.express as px"
      ]
    },
    {
      "cell_type": "code",
      "execution_count": 78,
      "metadata": {
        "id": "laZoW2i_wNiZ"
      },
      "outputs": [],
      "source": [
        "df_employee = pd.read_csv(url1)\n",
        "df_performance = pd.read_csv(url2)"
      ]
    },
    {
      "cell_type": "markdown",
      "metadata": {
        "id": "YFyK-GAgwqh3"
      },
      "source": [
        "# **Data Profiling And Curation 🔎**"
      ]
    },
    {
      "cell_type": "markdown",
      "metadata": {
        "id": "08iDi1-mxUb7"
      },
      "source": [
        "**Employee Table**"
      ]
    },
    {
      "cell_type": "code",
      "execution_count": 79,
      "metadata": {
        "colab": {
          "base_uri": "https://localhost:8080/",
          "height": 377
        },
        "id": "5AmgUYjjwWX2",
        "outputId": "133d62cc-76ae-4312-b0c0-aa2f01f79558"
      },
      "outputs": [
        {
          "output_type": "display_data",
          "data": {
            "text/html": [
              "<div>\n",
              "<style scoped>\n",
              "    .dataframe tbody tr th:only-of-type {\n",
              "        vertical-align: middle;\n",
              "    }\n",
              "\n",
              "    .dataframe tbody tr th {\n",
              "        vertical-align: top;\n",
              "    }\n",
              "\n",
              "    .dataframe thead th {\n",
              "        text-align: right;\n",
              "    }\n",
              "</style>\n",
              "<table border=\"1\" class=\"dataframe\">\n",
              "  <thead>\n",
              "    <tr style=\"text-align: right;\">\n",
              "      <th></th>\n",
              "      <th>EmployeeID</th>\n",
              "      <th>FirstName</th>\n",
              "      <th>LastName</th>\n",
              "      <th>Gender</th>\n",
              "      <th>Age</th>\n",
              "      <th>BusinessTravel</th>\n",
              "      <th>Department</th>\n",
              "      <th>DistanceFromHome (KM)</th>\n",
              "      <th>State</th>\n",
              "      <th>Ethnicity</th>\n",
              "      <th>...</th>\n",
              "      <th>MaritalStatus</th>\n",
              "      <th>Salary</th>\n",
              "      <th>StockOptionLevel</th>\n",
              "      <th>OverTime</th>\n",
              "      <th>HireDate</th>\n",
              "      <th>Attrition</th>\n",
              "      <th>YearsAtCompany</th>\n",
              "      <th>YearsInMostRecentRole</th>\n",
              "      <th>YearsSinceLastPromotion</th>\n",
              "      <th>YearsWithCurrManager</th>\n",
              "    </tr>\n",
              "  </thead>\n",
              "  <tbody>\n",
              "    <tr>\n",
              "      <th>0</th>\n",
              "      <td>3012-1A41</td>\n",
              "      <td>Leonelle</td>\n",
              "      <td>Simco</td>\n",
              "      <td>Female</td>\n",
              "      <td>30</td>\n",
              "      <td>Some Travel</td>\n",
              "      <td>Sales</td>\n",
              "      <td>27</td>\n",
              "      <td>IL</td>\n",
              "      <td>White</td>\n",
              "      <td>...</td>\n",
              "      <td>Divorced</td>\n",
              "      <td>102059</td>\n",
              "      <td>1</td>\n",
              "      <td>No</td>\n",
              "      <td>2012-01-03</td>\n",
              "      <td>No</td>\n",
              "      <td>10</td>\n",
              "      <td>4</td>\n",
              "      <td>9</td>\n",
              "      <td>7</td>\n",
              "    </tr>\n",
              "    <tr>\n",
              "      <th>1</th>\n",
              "      <td>CBCB-9C9D</td>\n",
              "      <td>Leonerd</td>\n",
              "      <td>Aland</td>\n",
              "      <td>Male</td>\n",
              "      <td>38</td>\n",
              "      <td>Some Travel</td>\n",
              "      <td>Sales</td>\n",
              "      <td>23</td>\n",
              "      <td>CA</td>\n",
              "      <td>White</td>\n",
              "      <td>...</td>\n",
              "      <td>Single</td>\n",
              "      <td>157718</td>\n",
              "      <td>0</td>\n",
              "      <td>Yes</td>\n",
              "      <td>2012-01-04</td>\n",
              "      <td>No</td>\n",
              "      <td>10</td>\n",
              "      <td>6</td>\n",
              "      <td>10</td>\n",
              "      <td>0</td>\n",
              "    </tr>\n",
              "    <tr>\n",
              "      <th>2</th>\n",
              "      <td>95D7-1CE9</td>\n",
              "      <td>Ahmed</td>\n",
              "      <td>Sykes</td>\n",
              "      <td>Male</td>\n",
              "      <td>43</td>\n",
              "      <td>Some Travel</td>\n",
              "      <td>Human Resources</td>\n",
              "      <td>29</td>\n",
              "      <td>CA</td>\n",
              "      <td>Asian or Asian American</td>\n",
              "      <td>...</td>\n",
              "      <td>Married</td>\n",
              "      <td>309964</td>\n",
              "      <td>1</td>\n",
              "      <td>No</td>\n",
              "      <td>2012-01-04</td>\n",
              "      <td>No</td>\n",
              "      <td>10</td>\n",
              "      <td>6</td>\n",
              "      <td>10</td>\n",
              "      <td>8</td>\n",
              "    </tr>\n",
              "    <tr>\n",
              "      <th>3</th>\n",
              "      <td>47A0-559B</td>\n",
              "      <td>Ermentrude</td>\n",
              "      <td>Berrie</td>\n",
              "      <td>Non-Binary</td>\n",
              "      <td>39</td>\n",
              "      <td>Some Travel</td>\n",
              "      <td>Technology</td>\n",
              "      <td>12</td>\n",
              "      <td>IL</td>\n",
              "      <td>White</td>\n",
              "      <td>...</td>\n",
              "      <td>Married</td>\n",
              "      <td>293132</td>\n",
              "      <td>0</td>\n",
              "      <td>No</td>\n",
              "      <td>2012-01-05</td>\n",
              "      <td>No</td>\n",
              "      <td>10</td>\n",
              "      <td>10</td>\n",
              "      <td>10</td>\n",
              "      <td>0</td>\n",
              "    </tr>\n",
              "    <tr>\n",
              "      <th>4</th>\n",
              "      <td>42CC-040A</td>\n",
              "      <td>Stace</td>\n",
              "      <td>Savege</td>\n",
              "      <td>Female</td>\n",
              "      <td>29</td>\n",
              "      <td>Some Travel</td>\n",
              "      <td>Human Resources</td>\n",
              "      <td>29</td>\n",
              "      <td>CA</td>\n",
              "      <td>White</td>\n",
              "      <td>...</td>\n",
              "      <td>Single</td>\n",
              "      <td>49606</td>\n",
              "      <td>0</td>\n",
              "      <td>No</td>\n",
              "      <td>2012-01-05</td>\n",
              "      <td>Yes</td>\n",
              "      <td>6</td>\n",
              "      <td>1</td>\n",
              "      <td>1</td>\n",
              "      <td>6</td>\n",
              "    </tr>\n",
              "  </tbody>\n",
              "</table>\n",
              "<p>5 rows × 23 columns</p>\n",
              "</div>"
            ]
          },
          "metadata": {}
        }
      ],
      "source": [
        "display(df_employee.head())"
      ]
    },
    {
      "cell_type": "code",
      "execution_count": 80,
      "metadata": {
        "colab": {
          "base_uri": "https://localhost:8080/"
        },
        "id": "n6TbRuinw10Z",
        "outputId": "77380e4e-2695-43bf-d9c2-456b19684edb"
      },
      "outputs": [
        {
          "output_type": "stream",
          "name": "stdout",
          "text": [
            "<class 'fireducks.pandas.frame.DataFrame'>\n",
            "RangeIndex: 1470 entries, 0 to 1469\n",
            "Data columns (total 23 columns):\n",
            " #   Column                   Non-Null Count  Dtype \n",
            "---  ------                   --------------  ----- \n",
            " 0   EmployeeID               1470 non-null   object\n",
            " 1   FirstName                1470 non-null   object\n",
            " 2   LastName                 1470 non-null   object\n",
            " 3   Gender                   1470 non-null   object\n",
            " 4   Age                      1470 non-null   int64 \n",
            " 5   BusinessTravel           1470 non-null   object\n",
            " 6   Department               1470 non-null   object\n",
            " 7   DistanceFromHome (KM)    1470 non-null   int64 \n",
            " 8   State                    1470 non-null   object\n",
            " 9   Ethnicity                1470 non-null   object\n",
            " 10  Education                1470 non-null   int64 \n",
            " 11  EducationField           1470 non-null   object\n",
            " 12  JobRole                  1470 non-null   object\n",
            " 13  MaritalStatus            1470 non-null   object\n",
            " 14  Salary                   1470 non-null   int64 \n",
            " 15  StockOptionLevel         1470 non-null   int64 \n",
            " 16  OverTime                 1470 non-null   object\n",
            " 17  HireDate                 1470 non-null   object\n",
            " 18  Attrition                1470 non-null   object\n",
            " 19  YearsAtCompany           1470 non-null   int64 \n",
            " 20  YearsInMostRecentRole    1470 non-null   int64 \n",
            " 21  YearsSinceLastPromotion  1470 non-null   int64 \n",
            " 22  YearsWithCurrManager     1470 non-null   int64 \n",
            "dtypes: int64(9), object(14)\n",
            "memory usage: 264.2+ KB\n",
            "None\n"
          ]
        }
      ],
      "source": [
        "print(df_employee.info())"
      ]
    },
    {
      "cell_type": "markdown",
      "metadata": {
        "id": "DuVdTTCPxbAY"
      },
      "source": [
        "**PerformanceRating Table**"
      ]
    },
    {
      "cell_type": "code",
      "execution_count": 81,
      "metadata": {
        "colab": {
          "base_uri": "https://localhost:8080/",
          "height": 226
        },
        "id": "3DYJCfpyyDE7",
        "outputId": "595b7bcf-fd1c-499e-8c54-5495b0eac13f"
      },
      "outputs": [
        {
          "output_type": "display_data",
          "data": {
            "text/html": [
              "<div>\n",
              "<style scoped>\n",
              "    .dataframe tbody tr th:only-of-type {\n",
              "        vertical-align: middle;\n",
              "    }\n",
              "\n",
              "    .dataframe tbody tr th {\n",
              "        vertical-align: top;\n",
              "    }\n",
              "\n",
              "    .dataframe thead th {\n",
              "        text-align: right;\n",
              "    }\n",
              "</style>\n",
              "<table border=\"1\" class=\"dataframe\">\n",
              "  <thead>\n",
              "    <tr style=\"text-align: right;\">\n",
              "      <th></th>\n",
              "      <th>PerformanceID</th>\n",
              "      <th>EmployeeID</th>\n",
              "      <th>ReviewDate</th>\n",
              "      <th>EnvironmentSatisfaction</th>\n",
              "      <th>JobSatisfaction</th>\n",
              "      <th>RelationshipSatisfaction</th>\n",
              "      <th>TrainingOpportunitiesWithinYear</th>\n",
              "      <th>TrainingOpportunitiesTaken</th>\n",
              "      <th>WorkLifeBalance</th>\n",
              "      <th>SelfRating</th>\n",
              "      <th>ManagerRating</th>\n",
              "    </tr>\n",
              "  </thead>\n",
              "  <tbody>\n",
              "    <tr>\n",
              "      <th>0</th>\n",
              "      <td>PR01</td>\n",
              "      <td>79F7-78EC</td>\n",
              "      <td>1/2/2013</td>\n",
              "      <td>5</td>\n",
              "      <td>4</td>\n",
              "      <td>5</td>\n",
              "      <td>1</td>\n",
              "      <td>0</td>\n",
              "      <td>4</td>\n",
              "      <td>4</td>\n",
              "      <td>4</td>\n",
              "    </tr>\n",
              "    <tr>\n",
              "      <th>1</th>\n",
              "      <td>PR02</td>\n",
              "      <td>B61E-0F26</td>\n",
              "      <td>1/3/2013</td>\n",
              "      <td>5</td>\n",
              "      <td>4</td>\n",
              "      <td>4</td>\n",
              "      <td>1</td>\n",
              "      <td>3</td>\n",
              "      <td>4</td>\n",
              "      <td>4</td>\n",
              "      <td>3</td>\n",
              "    </tr>\n",
              "    <tr>\n",
              "      <th>2</th>\n",
              "      <td>PR03</td>\n",
              "      <td>F5E3-48BB</td>\n",
              "      <td>1/3/2013</td>\n",
              "      <td>3</td>\n",
              "      <td>4</td>\n",
              "      <td>5</td>\n",
              "      <td>3</td>\n",
              "      <td>2</td>\n",
              "      <td>3</td>\n",
              "      <td>5</td>\n",
              "      <td>4</td>\n",
              "    </tr>\n",
              "    <tr>\n",
              "      <th>3</th>\n",
              "      <td>PR04</td>\n",
              "      <td>0678-748A</td>\n",
              "      <td>1/4/2013</td>\n",
              "      <td>5</td>\n",
              "      <td>3</td>\n",
              "      <td>2</td>\n",
              "      <td>2</td>\n",
              "      <td>0</td>\n",
              "      <td>2</td>\n",
              "      <td>3</td>\n",
              "      <td>2</td>\n",
              "    </tr>\n",
              "    <tr>\n",
              "      <th>4</th>\n",
              "      <td>PR05</td>\n",
              "      <td>541F-3E19</td>\n",
              "      <td>1/4/2013</td>\n",
              "      <td>5</td>\n",
              "      <td>2</td>\n",
              "      <td>3</td>\n",
              "      <td>1</td>\n",
              "      <td>0</td>\n",
              "      <td>4</td>\n",
              "      <td>4</td>\n",
              "      <td>3</td>\n",
              "    </tr>\n",
              "  </tbody>\n",
              "</table>\n",
              "</div>"
            ]
          },
          "metadata": {}
        }
      ],
      "source": [
        "display(df_performance.head())"
      ]
    },
    {
      "cell_type": "code",
      "execution_count": 82,
      "metadata": {
        "colab": {
          "base_uri": "https://localhost:8080/"
        },
        "id": "QA3fwN3ryEQd",
        "outputId": "edb8048e-f8f3-4978-e97c-06bf072dbfe1"
      },
      "outputs": [
        {
          "output_type": "stream",
          "name": "stdout",
          "text": [
            "<class 'fireducks.pandas.frame.DataFrame'>\n",
            "RangeIndex: 6709 entries, 0 to 6708\n",
            "Data columns (total 11 columns):\n",
            " #   Column                           Non-Null Count  Dtype \n",
            "---  ------                           --------------  ----- \n",
            " 0   PerformanceID                    6709 non-null   object\n",
            " 1   EmployeeID                       6709 non-null   object\n",
            " 2   ReviewDate                       6709 non-null   object\n",
            " 3   EnvironmentSatisfaction          6709 non-null   int64 \n",
            " 4   JobSatisfaction                  6709 non-null   int64 \n",
            " 5   RelationshipSatisfaction         6709 non-null   int64 \n",
            " 6   TrainingOpportunitiesWithinYear  6709 non-null   int64 \n",
            " 7   TrainingOpportunitiesTaken       6709 non-null   int64 \n",
            " 8   WorkLifeBalance                  6709 non-null   int64 \n",
            " 9   SelfRating                       6709 non-null   int64 \n",
            " 10  ManagerRating                    6709 non-null   int64 \n",
            "dtypes: int64(8), object(3)\n",
            "memory usage: 576.6+ KB\n",
            "None\n"
          ]
        }
      ],
      "source": [
        "print(df_performance.info())"
      ]
    },
    {
      "cell_type": "markdown",
      "metadata": {
        "id": "BDHvBmMjAumR"
      },
      "source": [
        "convert the ReviewDate column in the Performance table to a DATE format."
      ]
    },
    {
      "cell_type": "code",
      "execution_count": 83,
      "metadata": {
        "id": "He5R-7cJBTpG"
      },
      "outputs": [],
      "source": [
        "df_Performance_copy = df_performance.copy()"
      ]
    },
    {
      "cell_type": "code",
      "execution_count": 84,
      "metadata": {
        "id": "MRp_dlThB2wg"
      },
      "outputs": [],
      "source": [
        "df_Performance_copy['ReviewDate'] = pd.to_datetime(df_Performance_copy['ReviewDate'])"
      ]
    },
    {
      "cell_type": "code",
      "execution_count": 85,
      "metadata": {
        "colab": {
          "base_uri": "https://localhost:8080/",
          "height": 347
        },
        "id": "MEGg9TtnCK5c",
        "outputId": "7237a948-097f-417b-d688-4f777c925df5"
      },
      "outputs": [
        {
          "output_type": "stream",
          "name": "stdout",
          "text": [
            "<class 'fireducks.pandas.frame.DataFrame'>\n",
            "RangeIndex: 6709 entries, 0 to 6708\n",
            "Data columns (total 11 columns):\n",
            " #   Column                           Non-Null Count  Dtype         \n",
            "---  ------                           --------------  -----         \n",
            " 0   PerformanceID                    6709 non-null   object        \n",
            " 1   EmployeeID                       6709 non-null   object        \n",
            " 2   ReviewDate                       6709 non-null   datetime64[ns]\n",
            " 3   EnvironmentSatisfaction          6709 non-null   int64         \n",
            " 4   JobSatisfaction                  6709 non-null   int64         \n",
            " 5   RelationshipSatisfaction         6709 non-null   int64         \n",
            " 6   TrainingOpportunitiesWithinYear  6709 non-null   int64         \n",
            " 7   TrainingOpportunitiesTaken       6709 non-null   int64         \n",
            " 8   WorkLifeBalance                  6709 non-null   int64         \n",
            " 9   SelfRating                       6709 non-null   int64         \n",
            " 10  ManagerRating                    6709 non-null   int64         \n",
            "dtypes: datetime64[ns](1), int64(8), object(2)\n",
            "memory usage: 577.4+ KB\n"
          ]
        },
        {
          "output_type": "display_data",
          "data": {
            "text/plain": [
              "None"
            ]
          },
          "metadata": {}
        }
      ],
      "source": [
        "display(df_Performance_copy.info())"
      ]
    },
    {
      "cell_type": "markdown",
      "metadata": {
        "id": "RePLjJFAySnm"
      },
      "source": [
        "## Check for Missing Values & Duplicates"
      ]
    },
    {
      "cell_type": "markdown",
      "metadata": {
        "id": "yRtL8RAZyW3j"
      },
      "source": [
        "Employee"
      ]
    },
    {
      "cell_type": "code",
      "execution_count": 86,
      "metadata": {
        "colab": {
          "base_uri": "https://localhost:8080/"
        },
        "id": "vghBrTYVyYJ4",
        "outputId": "eeb405e7-c4e0-409a-a170-ac0f1252b30f"
      },
      "outputs": [
        {
          "output_type": "stream",
          "name": "stdout",
          "text": [
            "EmployeeID                 0\n",
            "FirstName                  0\n",
            "LastName                   0\n",
            "Gender                     0\n",
            "Age                        0\n",
            "BusinessTravel             0\n",
            "Department                 0\n",
            "DistanceFromHome (KM)      0\n",
            "State                      0\n",
            "Ethnicity                  0\n",
            "Education                  0\n",
            "EducationField             0\n",
            "JobRole                    0\n",
            "MaritalStatus              0\n",
            "Salary                     0\n",
            "StockOptionLevel           0\n",
            "OverTime                   0\n",
            "HireDate                   0\n",
            "Attrition                  0\n",
            "YearsAtCompany             0\n",
            "YearsInMostRecentRole      0\n",
            "YearsSinceLastPromotion    0\n",
            "YearsWithCurrManager       0\n",
            "dtype: int64\n"
          ]
        }
      ],
      "source": [
        "print(df_employee.isnull().sum())"
      ]
    },
    {
      "cell_type": "code",
      "execution_count": 87,
      "metadata": {
        "colab": {
          "base_uri": "https://localhost:8080/"
        },
        "id": "sa11e710yhZk",
        "outputId": "ae841889-e3b1-4ba5-9e2c-f20cae10476c"
      },
      "outputs": [
        {
          "output_type": "stream",
          "name": "stdout",
          "text": [
            "EmployeeID                 0\n",
            "FirstName                  0\n",
            "LastName                   0\n",
            "Gender                     0\n",
            "Age                        0\n",
            "BusinessTravel             0\n",
            "Department                 0\n",
            "DistanceFromHome (KM)      0\n",
            "State                      0\n",
            "Ethnicity                  0\n",
            "Education                  0\n",
            "EducationField             0\n",
            "JobRole                    0\n",
            "MaritalStatus              0\n",
            "Salary                     0\n",
            "StockOptionLevel           0\n",
            "OverTime                   0\n",
            "HireDate                   0\n",
            "Attrition                  0\n",
            "YearsAtCompany             0\n",
            "YearsInMostRecentRole      0\n",
            "YearsSinceLastPromotion    0\n",
            "YearsWithCurrManager       0\n",
            "dtype: int64\n"
          ]
        }
      ],
      "source": [
        "print(df_employee.isna().sum())"
      ]
    },
    {
      "cell_type": "code",
      "execution_count": 88,
      "metadata": {
        "colab": {
          "base_uri": "https://localhost:8080/"
        },
        "id": "BVT87knDu1lm",
        "outputId": "dc1e7a41-1694-41f5-8c73-6096990bf5e4"
      },
      "outputs": [
        {
          "output_type": "stream",
          "name": "stdout",
          "text": [
            "0\n"
          ]
        }
      ],
      "source": [
        "duplicate_count = df_employee[['EmployeeID']].duplicated().sum()\n",
        "print(duplicate_count)"
      ]
    },
    {
      "cell_type": "markdown",
      "metadata": {
        "id": "agPIlBlbyk5b"
      },
      "source": [
        "Performance"
      ]
    },
    {
      "cell_type": "code",
      "execution_count": 89,
      "metadata": {
        "colab": {
          "base_uri": "https://localhost:8080/"
        },
        "id": "Fd28fDwnymNI",
        "outputId": "59564f6b-fc94-420a-fb75-adb3cdbaf803"
      },
      "outputs": [
        {
          "output_type": "stream",
          "name": "stdout",
          "text": [
            "PerformanceID                      0\n",
            "EmployeeID                         0\n",
            "ReviewDate                         0\n",
            "EnvironmentSatisfaction            0\n",
            "JobSatisfaction                    0\n",
            "RelationshipSatisfaction           0\n",
            "TrainingOpportunitiesWithinYear    0\n",
            "TrainingOpportunitiesTaken         0\n",
            "WorkLifeBalance                    0\n",
            "SelfRating                         0\n",
            "ManagerRating                      0\n",
            "dtype: int64\n"
          ]
        }
      ],
      "source": [
        "print(df_performance.isnull().sum())"
      ]
    },
    {
      "cell_type": "code",
      "execution_count": 90,
      "metadata": {
        "colab": {
          "base_uri": "https://localhost:8080/"
        },
        "id": "vTHkj704ypAk",
        "outputId": "c45524c7-0edd-4ed1-9171-5428c0cee72a"
      },
      "outputs": [
        {
          "output_type": "stream",
          "name": "stdout",
          "text": [
            "PerformanceID                      0\n",
            "EmployeeID                         0\n",
            "ReviewDate                         0\n",
            "EnvironmentSatisfaction            0\n",
            "JobSatisfaction                    0\n",
            "RelationshipSatisfaction           0\n",
            "TrainingOpportunitiesWithinYear    0\n",
            "TrainingOpportunitiesTaken         0\n",
            "WorkLifeBalance                    0\n",
            "SelfRating                         0\n",
            "ManagerRating                      0\n",
            "dtype: int64\n"
          ]
        }
      ],
      "source": [
        "print(df_performance.isna().sum())"
      ]
    },
    {
      "cell_type": "code",
      "execution_count": 91,
      "metadata": {
        "colab": {
          "base_uri": "https://localhost:8080/"
        },
        "id": "IUXDQw_CvCdF",
        "outputId": "71acba5d-6766-4655-bdfe-82ef29fe0e75"
      },
      "outputs": [
        {
          "output_type": "stream",
          "name": "stdout",
          "text": [
            "0\n"
          ]
        }
      ],
      "source": [
        "duplicate_count = df_Performance_copy[['PerformanceID']].duplicated().sum()\n",
        "print(duplicate_count)"
      ]
    },
    {
      "cell_type": "markdown",
      "metadata": {
        "id": "f63YaXxb-2Cx"
      },
      "source": [
        "## Unique Values"
      ]
    },
    {
      "cell_type": "markdown",
      "metadata": {
        "id": "4qoSsfx--7Xg"
      },
      "source": [
        "Employee"
      ]
    },
    {
      "cell_type": "code",
      "execution_count": 92,
      "metadata": {
        "colab": {
          "base_uri": "https://localhost:8080/"
        },
        "id": "YEDHH70j_MIm",
        "outputId": "922951f2-63d3-488f-b9e8-d75d5174e7a5"
      },
      "outputs": [
        {
          "output_type": "stream",
          "name": "stdout",
          "text": [
            "['Female' 'Male' 'Non-Binary' 'Prefer Not To Say']\n"
          ]
        }
      ],
      "source": [
        "print(df_employee['Gender'].unique())"
      ]
    },
    {
      "cell_type": "code",
      "execution_count": 93,
      "metadata": {
        "colab": {
          "base_uri": "https://localhost:8080/"
        },
        "id": "RnNcLUin_XSS",
        "outputId": "359d1937-2169-4fab-b843-bee22ac74bec"
      },
      "outputs": [
        {
          "output_type": "stream",
          "name": "stdout",
          "text": [
            "[30 38 43 39 29 34 42 40 31 32 35 37 33 45 36 48 47 44 28 41 46 27 26 25\n",
            " 24 23 22 21 49 50 20 19 51 18]\n"
          ]
        }
      ],
      "source": [
        "print(df_employee['Age'].unique())"
      ]
    },
    {
      "cell_type": "code",
      "execution_count": 94,
      "metadata": {
        "colab": {
          "base_uri": "https://localhost:8080/"
        },
        "id": "dL_VHDOF_bzg",
        "outputId": "329bce91-9597-4180-d903-286e2a6aebd2"
      },
      "outputs": [
        {
          "output_type": "stream",
          "name": "stdout",
          "text": [
            "['Sales' 'Human Resources' 'Technology']\n"
          ]
        }
      ],
      "source": [
        "print(df_employee['Department'].unique())"
      ]
    },
    {
      "cell_type": "code",
      "execution_count": 95,
      "metadata": {
        "colab": {
          "base_uri": "https://localhost:8080/"
        },
        "id": "tDoWcfhS_iFW",
        "outputId": "653f7623-53a8-43f2-a7f9-17cdfc84527a"
      },
      "outputs": [
        {
          "output_type": "stream",
          "name": "stdout",
          "text": [
            "['IL' 'CA' 'NY']\n"
          ]
        }
      ],
      "source": [
        "print(df_employee['State'].unique())"
      ]
    },
    {
      "cell_type": "code",
      "execution_count": 96,
      "metadata": {
        "colab": {
          "base_uri": "https://localhost:8080/"
        },
        "id": "GICCUEAD_hfB",
        "outputId": "d426d3a3-8664-46cd-82a2-8359969806e4"
      },
      "outputs": [
        {
          "output_type": "stream",
          "name": "stdout",
          "text": [
            "['White' 'Asian or Asian American' 'Mixed or multiple ethnic groups'\n",
            " 'Black or African American' 'Native Hawaiian ' 'Other '\n",
            " 'American Indian or Alaska Native']\n"
          ]
        }
      ],
      "source": [
        "print(df_employee['Ethnicity'].unique())"
      ]
    },
    {
      "cell_type": "code",
      "execution_count": 97,
      "metadata": {
        "colab": {
          "base_uri": "https://localhost:8080/"
        },
        "id": "6W0GVpcg_vYL",
        "outputId": "d6f8b73d-4230-4a10-d12e-09c1a775d5ec"
      },
      "outputs": [
        {
          "output_type": "stream",
          "name": "stdout",
          "text": [
            "[5 4 3 2 1]\n"
          ]
        }
      ],
      "source": [
        "print(df_employee['Education'].unique())"
      ]
    },
    {
      "cell_type": "markdown",
      "metadata": {
        "id": "NjgaRRVp_y-i"
      },
      "source": [
        "![EDU.JPG](data:image/jpeg;base64,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)"
      ]
    },
    {
      "cell_type": "code",
      "execution_count": 98,
      "metadata": {
        "colab": {
          "base_uri": "https://localhost:8080/"
        },
        "id": "RhMNUD5j_3Ao",
        "outputId": "e9869e4b-e6c7-4070-a928-b00c508ca4ea"
      },
      "outputs": [
        {
          "output_type": "stream",
          "name": "stdout",
          "text": [
            "['Sales Executive' 'HR Business Partner' 'Engineering Manager' 'Recruiter'\n",
            " 'Data Scientist' 'Machine Learning Engineer' 'Manager'\n",
            " 'Software Engineer' 'Senior Software Engineer' 'Sales Representative'\n",
            " 'Analytics Manager' 'HR Executive' 'HR Manager']\n"
          ]
        }
      ],
      "source": [
        "print(df_employee['JobRole'].unique())"
      ]
    },
    {
      "cell_type": "code",
      "execution_count": 99,
      "metadata": {
        "colab": {
          "base_uri": "https://localhost:8080/"
        },
        "id": "M9EPSjlQ_9o3",
        "outputId": "1aaa3716-8f6f-4cfb-9ce7-726b3c9ffa73"
      },
      "outputs": [
        {
          "output_type": "stream",
          "name": "stdout",
          "text": [
            "[102059 157718 309964 ...  63375  46521  38258]\n"
          ]
        }
      ],
      "source": [
        "print(df_employee['Salary'].unique())"
      ]
    },
    {
      "cell_type": "code",
      "execution_count": 100,
      "metadata": {
        "colab": {
          "base_uri": "https://localhost:8080/"
        },
        "id": "v3V0iiY1ANcT",
        "outputId": "dd60edf0-0f6b-4175-ecc8-32c03d95d1ca"
      },
      "outputs": [
        {
          "output_type": "stream",
          "name": "stdout",
          "text": [
            "['No' 'Yes']\n"
          ]
        }
      ],
      "source": [
        "print(df_employee['OverTime'].unique())"
      ]
    },
    {
      "cell_type": "code",
      "execution_count": 101,
      "metadata": {
        "colab": {
          "base_uri": "https://localhost:8080/"
        },
        "id": "AFVSSn4FASE6",
        "outputId": "4a572e7f-0d5c-41ec-8c6a-a4ae5abf03ff"
      },
      "outputs": [
        {
          "output_type": "stream",
          "name": "stdout",
          "text": [
            "['No' 'Yes']\n"
          ]
        }
      ],
      "source": [
        "print(df_employee['Attrition'].unique())"
      ]
    },
    {
      "cell_type": "code",
      "execution_count": 102,
      "metadata": {
        "colab": {
          "base_uri": "https://localhost:8080/"
        },
        "id": "Ap4XvRQ-Ad45",
        "outputId": "0f8644a8-4652-433e-c058-e445f376c2db"
      },
      "outputs": [
        {
          "output_type": "stream",
          "name": "stdout",
          "text": [
            "[10  6  8  5  7  9  2  4  3  1  0]\n"
          ]
        }
      ],
      "source": [
        "print(df_employee['YearsAtCompany'].unique())"
      ]
    },
    {
      "cell_type": "markdown",
      "metadata": {
        "id": "lNtY_FI3DAK2"
      },
      "source": [
        "**Performance**"
      ]
    },
    {
      "cell_type": "code",
      "execution_count": 103,
      "metadata": {
        "colab": {
          "base_uri": "https://localhost:8080/"
        },
        "id": "22k56jPoFRjQ",
        "outputId": "43f74e43-1a1f-417c-fc6c-1130e6e006f2"
      },
      "outputs": [
        {
          "output_type": "stream",
          "name": "stdout",
          "text": [
            "1280\n"
          ]
        }
      ],
      "source": [
        "print(df_Performance_copy['EmployeeID'].nunique())"
      ]
    },
    {
      "cell_type": "code",
      "execution_count": 104,
      "metadata": {
        "colab": {
          "base_uri": "https://localhost:8080/"
        },
        "id": "5dEZg8ylDFCA",
        "outputId": "cd6126fb-181a-4003-c2a5-116d65f4155b"
      },
      "outputs": [
        {
          "output_type": "stream",
          "name": "stdout",
          "text": [
            "['2013-01-02T00:00:00.000000000' '2013-01-03T00:00:00.000000000'\n",
            " '2013-01-04T00:00:00.000000000' ... '2016-03-13T00:00:00.000000000'\n",
            " '2016-03-14T00:00:00.000000000' '2016-03-15T00:00:00.000000000']\n"
          ]
        }
      ],
      "source": [
        "print(df_Performance_copy['ReviewDate'].unique())"
      ]
    },
    {
      "cell_type": "code",
      "execution_count": 105,
      "metadata": {
        "colab": {
          "base_uri": "https://localhost:8080/"
        },
        "id": "XjWs5q8QDFRC",
        "outputId": "7ee5bb8d-1a5c-4f07-af18-80bc79b1ea4a"
      },
      "outputs": [
        {
          "output_type": "stream",
          "name": "stdout",
          "text": [
            "[4 3 2 5 1]\n"
          ]
        }
      ],
      "source": [
        "print(df_Performance_copy['JobSatisfaction'].unique())"
      ]
    },
    {
      "cell_type": "code",
      "execution_count": 106,
      "metadata": {
        "colab": {
          "base_uri": "https://localhost:8080/"
        },
        "id": "jGnGOfR8DFck",
        "outputId": "cf6829d9-83cf-4553-cc30-1d6d2ff98b85"
      },
      "outputs": [
        {
          "output_type": "stream",
          "name": "stdout",
          "text": [
            "[5 3 4 1 2]\n"
          ]
        }
      ],
      "source": [
        "print(df_Performance_copy['EnvironmentSatisfaction'].unique())"
      ]
    },
    {
      "cell_type": "code",
      "execution_count": 107,
      "metadata": {
        "colab": {
          "base_uri": "https://localhost:8080/"
        },
        "id": "8EDpbutdD4Ez",
        "outputId": "78174048-60e8-4680-9047-c75770e166f4"
      },
      "outputs": [
        {
          "output_type": "stream",
          "name": "stdout",
          "text": [
            "[5 4 2 3 1]\n"
          ]
        }
      ],
      "source": [
        "print(df_Performance_copy['RelationshipSatisfaction'].unique())"
      ]
    },
    {
      "cell_type": "markdown",
      "metadata": {
        "id": "Rob0uujjEA38"
      },
      "source": [
        "![SATIS.JPG](data:image/jpeg;base64,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)"
      ]
    },
    {
      "cell_type": "markdown",
      "metadata": {
        "id": "MD1pq_wVP4sT"
      },
      "source": [
        "#**Exploratory Data Analysis (EDA) 📊**"
      ]
    },
    {
      "cell_type": "code",
      "execution_count": 108,
      "metadata": {
        "id": "NHk8QhY7P93F"
      },
      "outputs": [],
      "source": [
        "df_filtered = df_employee[df_employee['Attrition'] == 'No']"
      ]
    },
    {
      "cell_type": "markdown",
      "metadata": {
        "id": "JytZ2ySsRBKC"
      },
      "source": [
        "##Employee Distribution"
      ]
    },
    {
      "cell_type": "markdown",
      "metadata": {
        "id": "B2YwEt57vO1S"
      },
      "source": [
        "The distribution of employee analysis examines how employees are spread across various categories,This analysis focuses only on employees who have not left the company,providing insights into the current workforce composition."
      ]
    },
    {
      "cell_type": "markdown",
      "metadata": {
        "id": "Z9zvNFyxRMpR"
      },
      "source": [
        "**By Gender**"
      ]
    },
    {
      "cell_type": "code",
      "execution_count": 109,
      "metadata": {
        "colab": {
          "base_uri": "https://localhost:8080/",
          "height": 517
        },
        "id": "P3IqQOUOROqr",
        "outputId": "d852598a-8a1d-4d0b-80b4-82a3b3c5ae6d"
      },
      "outputs": [
        {
          "output_type": "display_data",
          "data": {
            "text/html": [
              "<html>\n",
              "<head><meta charset=\"utf-8\" /></head>\n",
              "<body>\n",
              "    <div>            <script src=\"https://cdnjs.cloudflare.com/ajax/libs/mathjax/2.7.5/MathJax.js?config=TeX-AMS-MML_SVG\"></script><script type=\"text/javascript\">if (window.MathJax && window.MathJax.Hub && window.MathJax.Hub.Config) {window.MathJax.Hub.Config({SVG: {font: \"STIX-Web\"}});}</script>                <script type=\"text/javascript\">window.PlotlyConfig = {MathJaxConfig: 'local'};</script>\n",
              "        <script charset=\"utf-8\" src=\"https://cdn.plot.ly/plotly-2.35.2.min.js\"></script>                <div id=\"235fa255-505e-40a7-aad7-06f1d5d8187a\" class=\"plotly-graph-div\" style=\"height:500px; width:600px;\"></div>            <script type=\"text/javascript\">                                    window.PLOTLYENV=window.PLOTLYENV || {};                                    if (document.getElementById(\"235fa255-505e-40a7-aad7-06f1d5d8187a\")) {                    Plotly.newPlot(                        \"235fa255-505e-40a7-aad7-06f1d5d8187a\",                        [{\"domain\":{\"x\":[0.0,1.0],\"y\":[0.0,1.0]},\"hovertemplate\":\"Gender=%{label}\\u003cextra\\u003e\\u003c\\u002fextra\\u003e\",\"labels\":[\"Female\",\"Male\",\"Male\",\"Non-Binary\",\"Male\",\"Female\",\"Female\",\"Male\",\"Female\",\"Female\",\"Male\",\"Non-Binary\",\"Male\",\"Female\",\"Male\",\"Male\",\"Female\",\"Female\",\"Male\",\"Male\",\"Female\",\"Male\",\"Non-Binary\",\"Male\",\"Female\",\"Male\",\"Female\",\"Female\",\"Male\",\"Female\",\"Male\",\"Female\",\"Female\",\"Male\",\"Female\",\"Female\",\"Male\",\"Female\",\"Male\",\"Female\",\"Male\",\"Female\",\"Female\",\"Non-Binary\",\"Male\",\"Female\",\"Male\",\"Female\",\"Male\",\"Female\",\"Female\",\"Male\",\"Female\",\"Male\",\"Female\",\"Male\",\"Female\",\"Non-Binary\",\"Female\",\"Female\",\"Male\",\"Non-Binary\",\"Female\",\"Male\",\"Female\",\"Female\",\"Female\",\"Male\",\"Male\",\"Female\",\"Non-Binary\",\"Female\",\"Female\",\"Female\",\"Male\",\"Male\",\"Female\",\"Female\",\"Female\",\"Male\",\"Male\",\"Male\",\"Male\",\"Male\",\"Male\",\"Female\",\"Female\",\"Female\",\"Male\",\"Male\",\"Male\",\"Male\",\"Male\",\"Female\",\"Male\",\"Non-Binary\",\"Male\",\"Female\",\"Male\",\"Female\",\"Female\",\"Female\",\"Female\",\"Female\",\"Female\",\"Male\",\"Male\",\"Male\",\"Female\",\"Male\",\"Female\",\"Female\",\"Female\",\"Male\",\"Female\",\"Non-Binary\",\"Female\",\"Male\",\"Male\",\"Female\",\"Female\",\"Male\",\"Female\",\"Non-Binary\",\"Female\",\"Female\",\"Male\",\"Female\",\"Female\",\"Male\",\"Female\",\"Male\",\"Female\",\"Female\",\"Female\",\"Female\",\"Female\",\"Male\",\"Female\",\"Male\",\"Male\",\"Female\",\"Female\",\"Female\",\"Female\",\"Female\",\"Male\",\"Female\",\"Male\",\"Non-Binary\",\"Male\",\"Male\",\"Male\",\"Male\",\"Male\",\"Female\",\"Non-Binary\",\"Female\",\"Female\",\"Male\",\"Female\",\"Non-Binary\",\"Non-Binary\",\"Male\",\"Non-Binary\",\"Female\",\"Male\",\"Female\",\"Male\",\"Male\",\"Non-Binary\",\"Female\",\"Male\",\"Male\",\"Female\",\"Male\",\"Male\",\"Female\",\"Female\",\"Female\",\"Female\",\"Male\",\"Female\",\"Female\",\"Male\",\"Non-Binary\",\"Female\",\"Female\",\"Male\",\"Female\",\"Male\",\"Male\",\"Male\",\"Female\",\"Female\",\"Male\",\"Non-Binary\",\"Male\",\"Female\",\"Male\",\"Male\",\"Male\",\"Male\",\"Female\",\"Non-Binary\",\"Male\",\"Male\",\"Male\",\"Female\",\"Female\",\"Female\",\"Non-Binary\",\"Female\",\"Female\",\"Female\",\"Female\",\"Male\",\"Female\",\"Male\",\"Prefer Not To Say\",\"Female\",\"Male\",\"Female\",\"Female\",\"Male\",\"Male\",\"Male\",\"Male\",\"Female\",\"Female\",\"Female\",\"Non-Binary\",\"Non-Binary\",\"Male\",\"Female\",\"Male\",\"Male\",\"Female\",\"Female\",\"Male\",\"Female\",\"Male\",\"Female\",\"Non-Binary\",\"Female\",\"Female\",\"Male\",\"Female\",\"Female\",\"Female\",\"Female\",\"Male\",\"Female\",\"Non-Binary\",\"Female\",\"Female\",\"Male\",\"Male\",\"Female\",\"Female\",\"Male\",\"Male\",\"Female\",\"Female\",\"Male\",\"Male\",\"Male\",\"Non-Binary\",\"Female\",\"Non-Binary\",\"Female\",\"Female\",\"Male\",\"Male\",\"Female\",\"Female\",\"Female\",\"Male\",\"Prefer Not To Say\",\"Male\",\"Male\",\"Non-Binary\",\"Non-Binary\",\"Female\",\"Female\",\"Male\",\"Non-Binary\",\"Female\",\"Male\",\"Male\",\"Male\",\"Male\",\"Female\",\"Female\",\"Male\",\"Female\",\"Male\",\"Male\",\"Female\",\"Female\",\"Male\",\"Male\",\"Female\",\"Female\",\"Female\",\"Male\",\"Female\",\"Female\",\"Female\",\"Male\",\"Female\",\"Female\",\"Female\",\"Female\",\"Prefer Not To Say\",\"Female\",\"Male\",\"Non-Binary\",\"Prefer Not To Say\",\"Male\",\"Male\",\"Female\",\"Male\",\"Male\",\"Male\",\"Male\",\"Male\",\"Female\",\"Female\",\"Male\",\"Female\",\"Female\",\"Male\",\"Female\",\"Female\",\"Female\",\"Male\",\"Female\",\"Female\",\"Male\",\"Female\",\"Male\",\"Female\",\"Male\",\"Female\",\"Female\",\"Non-Binary\",\"Male\",\"Male\",\"Male\",\"Non-Binary\",\"Non-Binary\",\"Male\",\"Non-Binary\",\"Female\",\"Male\",\"Female\",\"Male\",\"Female\",\"Non-Binary\",\"Female\",\"Female\",\"Male\",\"Male\",\"Female\",\"Female\",\"Male\",\"Male\",\"Prefer Not To Say\",\"Male\",\"Male\",\"Male\",\"Male\",\"Male\",\"Female\",\"Male\",\"Non-Binary\",\"Female\",\"Male\",\"Female\",\"Non-Binary\",\"Non-Binary\",\"Male\",\"Male\",\"Male\",\"Female\",\"Female\",\"Female\",\"Female\",\"Female\",\"Male\",\"Female\",\"Female\",\"Male\",\"Female\",\"Female\",\"Prefer Not To Say\",\"Female\",\"Non-Binary\",\"Non-Binary\",\"Male\",\"Female\",\"Male\",\"Female\",\"Female\",\"Female\",\"Male\",\"Male\",\"Male\",\"Male\",\"Non-Binary\",\"Male\",\"Male\",\"Male\",\"Male\",\"Female\",\"Female\",\"Female\",\"Non-Binary\",\"Female\",\"Male\",\"Non-Binary\",\"Male\",\"Female\",\"Non-Binary\",\"Male\",\"Male\",\"Male\",\"Female\",\"Female\",\"Male\",\"Female\",\"Female\",\"Male\",\"Non-Binary\",\"Prefer Not To Say\",\"Non-Binary\",\"Non-Binary\",\"Male\",\"Male\",\"Male\",\"Female\",\"Male\",\"Female\",\"Female\",\"Female\",\"Male\",\"Male\",\"Male\",\"Male\",\"Female\",\"Male\",\"Female\",\"Male\",\"Female\",\"Female\",\"Female\",\"Female\",\"Male\",\"Non-Binary\",\"Male\",\"Male\",\"Female\",\"Female\",\"Male\",\"Female\",\"Female\",\"Male\",\"Female\",\"Male\",\"Male\",\"Male\",\"Male\",\"Male\",\"Female\",\"Female\",\"Male\",\"Female\",\"Male\",\"Male\",\"Male\",\"Male\",\"Male\",\"Female\",\"Male\",\"Female\",\"Female\",\"Female\",\"Female\",\"Male\",\"Female\",\"Male\",\"Female\",\"Male\",\"Male\",\"Male\",\"Male\",\"Male\",\"Female\",\"Non-Binary\",\"Female\",\"Male\",\"Male\",\"Non-Binary\",\"Female\",\"Female\",\"Male\",\"Male\",\"Female\",\"Female\",\"Male\",\"Female\",\"Female\",\"Female\",\"Female\",\"Female\",\"Male\",\"Female\",\"Male\",\"Female\",\"Male\",\"Prefer Not To Say\",\"Female\",\"Female\",\"Male\",\"Non-Binary\",\"Male\",\"Female\",\"Male\",\"Female\",\"Male\",\"Female\",\"Female\",\"Female\",\"Male\",\"Female\",\"Female\",\"Female\",\"Non-Binary\",\"Female\",\"Male\",\"Male\",\"Male\",\"Male\",\"Female\",\"Female\",\"Female\",\"Male\",\"Female\",\"Male\",\"Female\",\"Female\",\"Female\",\"Female\",\"Female\",\"Female\",\"Male\",\"Female\",\"Male\",\"Female\",\"Female\",\"Prefer Not To Say\",\"Female\",\"Female\",\"Male\",\"Female\",\"Male\",\"Female\",\"Female\",\"Male\",\"Male\",\"Male\",\"Male\",\"Female\",\"Female\",\"Male\",\"Male\",\"Male\",\"Male\",\"Male\",\"Male\",\"Female\",\"Non-Binary\",\"Female\",\"Male\",\"Male\",\"Female\",\"Male\",\"Female\",\"Female\",\"Male\",\"Male\",\"Prefer Not To Say\",\"Female\",\"Male\",\"Prefer Not To Say\",\"Female\",\"Female\",\"Male\",\"Male\",\"Non-Binary\",\"Female\",\"Male\",\"Female\",\"Non-Binary\",\"Female\",\"Non-Binary\",\"Male\",\"Female\",\"Female\",\"Male\",\"Female\",\"Female\",\"Non-Binary\",\"Non-Binary\",\"Male\",\"Male\",\"Male\",\"Female\",\"Male\",\"Male\",\"Female\",\"Male\",\"Female\",\"Female\",\"Female\",\"Female\",\"Female\",\"Female\",\"Female\",\"Female\",\"Male\",\"Male\",\"Female\",\"Male\",\"Male\",\"Male\",\"Male\",\"Female\",\"Non-Binary\",\"Female\",\"Female\",\"Male\",\"Female\",\"Male\",\"Male\",\"Male\",\"Female\",\"Non-Binary\",\"Male\",\"Female\",\"Female\",\"Female\",\"Male\",\"Female\",\"Male\",\"Female\",\"Female\",\"Female\",\"Male\",\"Non-Binary\",\"Female\",\"Male\",\"Female\",\"Male\",\"Male\",\"Female\",\"Female\",\"Male\",\"Male\",\"Male\",\"Male\",\"Female\",\"Female\",\"Non-Binary\",\"Female\",\"Female\",\"Non-Binary\",\"Male\",\"Female\",\"Female\",\"Female\",\"Female\",\"Female\",\"Female\",\"Female\",\"Male\",\"Female\",\"Male\",\"Female\",\"Male\",\"Non-Binary\",\"Female\",\"Non-Binary\",\"Male\",\"Female\",\"Female\",\"Female\",\"Male\",\"Male\",\"Female\",\"Male\",\"Male\",\"Male\",\"Non-Binary\",\"Male\",\"Female\",\"Prefer Not To Say\",\"Female\",\"Male\",\"Male\",\"Female\",\"Non-Binary\",\"Male\",\"Female\",\"Female\",\"Non-Binary\",\"Male\",\"Female\",\"Female\",\"Male\",\"Male\",\"Female\",\"Male\",\"Female\",\"Female\",\"Female\",\"Non-Binary\",\"Male\",\"Female\",\"Female\",\"Female\",\"Female\",\"Male\",\"Female\",\"Male\",\"Female\",\"Non-Binary\",\"Female\",\"Female\",\"Female\",\"Male\",\"Male\",\"Male\",\"Male\",\"Female\",\"Female\",\"Male\",\"Female\",\"Male\",\"Female\",\"Female\",\"Female\",\"Male\",\"Non-Binary\",\"Female\",\"Male\",\"Female\",\"Male\",\"Female\",\"Male\",\"Female\",\"Female\",\"Male\",\"Male\",\"Non-Binary\",\"Non-Binary\",\"Female\",\"Female\",\"Female\",\"Male\",\"Female\",\"Female\",\"Female\",\"Male\",\"Male\",\"Male\",\"Male\",\"Male\",\"Male\",\"Female\",\"Male\",\"Male\",\"Non-Binary\",\"Male\",\"Male\",\"Female\",\"Female\",\"Non-Binary\",\"Female\",\"Non-Binary\",\"Male\",\"Male\",\"Female\",\"Male\",\"Female\",\"Female\",\"Female\",\"Female\",\"Female\",\"Male\",\"Female\",\"Female\",\"Male\",\"Female\",\"Male\",\"Male\",\"Male\",\"Male\",\"Female\",\"Female\",\"Male\",\"Male\",\"Male\",\"Non-Binary\",\"Female\",\"Male\",\"Male\",\"Female\",\"Male\",\"Male\",\"Female\",\"Female\",\"Female\",\"Male\",\"Male\",\"Male\",\"Female\",\"Male\",\"Male\",\"Non-Binary\",\"Non-Binary\",\"Female\",\"Male\",\"Female\",\"Female\",\"Male\",\"Non-Binary\",\"Male\",\"Female\",\"Male\",\"Female\",\"Male\",\"Female\",\"Female\",\"Male\",\"Male\",\"Female\",\"Male\",\"Female\",\"Male\",\"Male\",\"Female\",\"Female\",\"Male\",\"Female\",\"Male\",\"Female\",\"Female\",\"Male\",\"Male\",\"Male\",\"Female\",\"Male\",\"Male\",\"Non-Binary\",\"Female\",\"Male\",\"Female\",\"Female\",\"Female\",\"Male\",\"Female\",\"Female\",\"Female\",\"Male\",\"Female\",\"Male\",\"Female\",\"Female\",\"Male\",\"Male\",\"Female\",\"Female\",\"Female\",\"Female\",\"Non-Binary\",\"Male\",\"Female\",\"Female\",\"Male\",\"Male\",\"Male\",\"Female\",\"Male\",\"Male\",\"Female\",\"Male\",\"Male\",\"Female\",\"Female\",\"Male\",\"Prefer Not To Say\",\"Female\",\"Female\",\"Male\",\"Male\",\"Male\",\"Male\",\"Female\",\"Female\",\"Male\",\"Male\",\"Male\",\"Male\",\"Male\",\"Female\",\"Female\",\"Male\",\"Male\",\"Female\",\"Male\",\"Male\",\"Female\",\"Female\",\"Male\",\"Male\",\"Male\",\"Non-Binary\",\"Female\",\"Female\",\"Female\",\"Female\",\"Female\",\"Female\",\"Male\",\"Male\",\"Male\",\"Male\",\"Female\",\"Male\",\"Male\",\"Male\",\"Male\",\"Male\",\"Male\",\"Female\",\"Non-Binary\",\"Prefer Not To Say\",\"Male\",\"Male\",\"Female\",\"Male\",\"Male\",\"Female\",\"Female\",\"Male\",\"Female\",\"Female\",\"Female\",\"Male\",\"Male\",\"Non-Binary\",\"Male\",\"Female\",\"Female\",\"Female\",\"Male\",\"Female\",\"Male\",\"Female\",\"Non-Binary\",\"Female\",\"Male\",\"Female\",\"Male\",\"Male\",\"Female\",\"Male\",\"Female\",\"Male\",\"Female\",\"Female\",\"Female\",\"Male\",\"Male\",\"Female\",\"Non-Binary\",\"Female\",\"Male\",\"Female\",\"Male\",\"Female\",\"Male\",\"Non-Binary\",\"Female\",\"Female\",\"Male\",\"Male\",\"Female\",\"Male\",\"Male\",\"Female\",\"Male\",\"Female\",\"Male\",\"Female\",\"Female\",\"Female\",\"Male\",\"Male\",\"Male\",\"Prefer Not To Say\",\"Male\",\"Female\",\"Female\",\"Female\",\"Female\",\"Male\",\"Female\",\"Female\",\"Female\",\"Male\",\"Female\",\"Male\",\"Female\",\"Male\",\"Female\",\"Male\",\"Female\",\"Female\",\"Female\",\"Female\",\"Female\",\"Male\",\"Female\",\"Female\",\"Non-Binary\",\"Female\",\"Non-Binary\",\"Female\",\"Male\",\"Male\",\"Male\",\"Male\",\"Male\",\"Female\",\"Female\",\"Male\",\"Male\",\"Female\",\"Male\",\"Female\",\"Female\",\"Female\",\"Male\",\"Female\",\"Non-Binary\",\"Female\",\"Female\",\"Male\",\"Male\",\"Female\",\"Male\",\"Female\",\"Male\",\"Female\",\"Female\",\"Male\",\"Male\",\"Male\",\"Non-Binary\",\"Male\",\"Female\",\"Female\",\"Male\",\"Male\",\"Non-Binary\",\"Male\",\"Female\",\"Female\",\"Male\",\"Male\",\"Female\",\"Female\",\"Female\",\"Female\",\"Male\",\"Female\",\"Female\",\"Female\",\"Male\",\"Male\",\"Female\",\"Male\",\"Non-Binary\",\"Female\",\"Female\",\"Female\",\"Male\",\"Female\",\"Male\",\"Female\",\"Male\",\"Male\",\"Female\",\"Female\",\"Female\",\"Female\",\"Male\",\"Female\",\"Female\",\"Male\",\"Male\",\"Male\",\"Prefer Not To Say\",\"Female\",\"Male\",\"Male\",\"Female\",\"Male\",\"Male\",\"Non-Binary\",\"Female\",\"Male\",\"Male\",\"Male\",\"Male\",\"Male\",\"Male\",\"Male\",\"Male\",\"Female\",\"Male\",\"Male\",\"Female\",\"Non-Binary\",\"Male\",\"Male\",\"Male\",\"Male\",\"Female\",\"Male\",\"Female\",\"Non-Binary\",\"Male\",\"Male\",\"Male\",\"Female\",\"Male\",\"Female\",\"Prefer Not To Say\",\"Male\",\"Female\",\"Male\",\"Male\",\"Male\",\"Female\",\"Male\",\"Female\",\"Female\",\"Non-Binary\",\"Prefer Not To Say\",\"Female\",\"Female\",\"Male\",\"Male\",\"Male\",\"Male\",\"Male\",\"Female\",\"Female\",\"Male\",\"Male\",\"Female\",\"Male\",\"Female\",\"Non-Binary\",\"Male\",\"Male\",\"Non-Binary\",\"Male\",\"Male\",\"Female\",\"Female\",\"Female\",\"Male\",\"Male\",\"Male\",\"Female\",\"Male\",\"Female\",\"Male\",\"Female\",\"Female\",\"Male\",\"Male\",\"Female\",\"Male\",\"Male\",\"Female\",\"Female\",\"Female\",\"Female\",\"Non-Binary\",\"Female\",\"Male\",\"Female\",\"Male\",\"Female\",\"Female\",\"Female\",\"Non-Binary\",\"Female\",\"Male\",\"Female\",\"Non-Binary\",\"Female\",\"Prefer Not To Say\",\"Female\",\"Male\",\"Male\",\"Female\",\"Non-Binary\",\"Prefer Not To Say\",\"Female\",\"Male\",\"Female\",\"Male\",\"Non-Binary\",\"Male\",\"Male\",\"Female\"],\"legendgroup\":\"\",\"name\":\"\",\"showlegend\":true,\"type\":\"pie\"}],                        {\"template\":{\"data\":{\"histogram2dcontour\":[{\"type\":\"histogram2dcontour\",\"colorbar\":{\"outlinewidth\":0,\"ticks\":\"\"},\"colorscale\":[[0.0,\"#0d0887\"],[0.1111111111111111,\"#46039f\"],[0.2222222222222222,\"#7201a8\"],[0.3333333333333333,\"#9c179e\"],[0.4444444444444444,\"#bd3786\"],[0.5555555555555556,\"#d8576b\"],[0.6666666666666666,\"#ed7953\"],[0.7777777777777778,\"#fb9f3a\"],[0.8888888888888888,\"#fdca26\"],[1.0,\"#f0f921\"]]}],\"choropleth\":[{\"type\":\"choropleth\",\"colorbar\":{\"outlinewidth\":0,\"ticks\":\"\"}}],\"histogram2d\":[{\"type\":\"histogram2d\",\"colorbar\":{\"outlinewidth\":0,\"ticks\":\"\"},\"colorscale\":[[0.0,\"#0d0887\"],[0.1111111111111111,\"#46039f\"],[0.2222222222222222,\"#7201a8\"],[0.3333333333333333,\"#9c179e\"],[0.4444444444444444,\"#bd3786\"],[0.5555555555555556,\"#d8576b\"],[0.6666666666666666,\"#ed7953\"],[0.7777777777777778,\"#fb9f3a\"],[0.8888888888888888,\"#fdca26\"],[1.0,\"#f0f921\"]]}],\"heatmap\":[{\"type\":\"heatmap\",\"colorbar\":{\"outlinewidth\":0,\"ticks\":\"\"},\"colorscale\":[[0.0,\"#0d0887\"],[0.1111111111111111,\"#46039f\"],[0.2222222222222222,\"#7201a8\"],[0.3333333333333333,\"#9c179e\"],[0.4444444444444444,\"#bd3786\"],[0.5555555555555556,\"#d8576b\"],[0.6666666666666666,\"#ed7953\"],[0.7777777777777778,\"#fb9f3a\"],[0.8888888888888888,\"#fdca26\"],[1.0,\"#f0f921\"]]}],\"heatmapgl\":[{\"type\":\"heatmapgl\",\"colorbar\":{\"outlinewidth\":0,\"ticks\":\"\"},\"colorscale\":[[0.0,\"#0d0887\"],[0.1111111111111111,\"#46039f\"],[0.2222222222222222,\"#7201a8\"],[0.3333333333333333,\"#9c179e\"],[0.4444444444444444,\"#bd3786\"],[0.5555555555555556,\"#d8576b\"],[0.6666666666666666,\"#ed7953\"],[0.7777777777777778,\"#fb9f3a\"],[0.8888888888888888,\"#fdca26\"],[1.0,\"#f0f921\"]]}],\"contourcarpet\":[{\"type\":\"contourcarpet\",\"colorbar\":{\"outlinewidth\":0,\"ticks\":\"\"}}],\"contour\":[{\"type\":\"contour\",\"colorbar\":{\"outlinewidth\":0,\"ticks\":\"\"},\"colorscale\":[[0.0,\"#0d0887\"],[0.1111111111111111,\"#46039f\"],[0.2222222222222222,\"#7201a8\"],[0.3333333333333333,\"#9c179e\"],[0.4444444444444444,\"#bd3786\"],[0.5555555555555556,\"#d8576b\"],[0.6666666666666666,\"#ed7953\"],[0.7777777777777778,\"#fb9f3a\"],[0.8888888888888888,\"#fdca26\"],[1.0,\"#f0f921\"]]}],\"surface\":[{\"type\":\"surface\",\"colorbar\":{\"outlinewidth\":0,\"ticks\":\"\"},\"colorscale\":[[0.0,\"#0d0887\"],[0.1111111111111111,\"#46039f\"],[0.2222222222222222,\"#7201a8\"],[0.3333333333333333,\"#9c179e\"],[0.4444444444444444,\"#bd3786\"],[0.5555555555555556,\"#d8576b\"],[0.6666666666666666,\"#ed7953\"],[0.7777777777777778,\"#fb9f3a\"],[0.8888888888888888,\"#fdca26\"],[1.0,\"#f0f921\"]]}],\"mesh3d\":[{\"type\":\"mesh3d\",\"colorbar\":{\"outlinewidth\":0,\"ticks\":\"\"}}],\"scatter\":[{\"fillpattern\":{\"fillmode\":\"overlay\",\"size\":10,\"solidity\":0.2},\"type\":\"scatter\"}],\"parcoords\":[{\"type\":\"parcoords\",\"line\":{\"colorbar\":{\"outlinewidth\":0,\"ticks\":\"\"}}}],\"scatterpolargl\":[{\"type\":\"scatterpolargl\",\"marker\":{\"colorbar\":{\"outlinewidth\":0,\"ticks\":\"\"}}}],\"bar\":[{\"error_x\":{\"color\":\"#2a3f5f\"},\"error_y\":{\"color\":\"#2a3f5f\"},\"marker\":{\"line\":{\"color\":\"#E5ECF6\",\"width\":0.5},\"pattern\":{\"fillmode\":\"overlay\",\"size\":10,\"solidity\":0.2}},\"type\":\"bar\"}],\"scattergeo\":[{\"type\":\"scattergeo\",\"marker\":{\"colorbar\":{\"outlinewidth\":0,\"ticks\":\"\"}}}],\"scatterpolar\":[{\"type\":\"scatterpolar\",\"marker\":{\"colorbar\":{\"outlinewidth\":0,\"ticks\":\"\"}}}],\"histogram\":[{\"marker\":{\"pattern\":{\"fillmode\":\"overlay\",\"size\":10,\"solidity\":0.2}},\"type\":\"histogram\"}],\"scattergl\":[{\"type\":\"scattergl\",\"marker\":{\"colorbar\":{\"outlinewidth\":0,\"ticks\":\"\"}}}],\"scatter3d\":[{\"type\":\"scatter3d\",\"line\":{\"colorbar\":{\"outlinewidth\":0,\"ticks\":\"\"}},\"marker\":{\"colorbar\":{\"outlinewidth\":0,\"ticks\":\"\"}}}],\"scattermapbox\":[{\"type\":\"scattermapbox\",\"marker\":{\"colorbar\":{\"outlinewidth\":0,\"ticks\":\"\"}}}],\"scatterternary\":[{\"type\":\"scatterternary\",\"marker\":{\"colorbar\":{\"outlinewidth\":0,\"ticks\":\"\"}}}],\"scattercarpet\":[{\"type\":\"scattercarpet\",\"marker\":{\"colorbar\":{\"outlinewidth\":0,\"ticks\":\"\"}}}],\"carpet\":[{\"aaxis\":{\"endlinecolor\":\"#2a3f5f\",\"gridcolor\":\"white\",\"linecolor\":\"white\",\"minorgridcolor\":\"white\",\"startlinecolor\":\"#2a3f5f\"},\"baxis\":{\"endlinecolor\":\"#2a3f5f\",\"gridcolor\":\"white\",\"linecolor\":\"white\",\"minorgridcolor\":\"white\",\"startlinecolor\":\"#2a3f5f\"},\"type\":\"carpet\"}],\"table\":[{\"cells\":{\"fill\":{\"color\":\"#EBF0F8\"},\"line\":{\"color\":\"white\"}},\"header\":{\"fill\":{\"color\":\"#C8D4E3\"},\"line\":{\"color\":\"white\"}},\"type\":\"table\"}],\"barpolar\":[{\"marker\":{\"line\":{\"color\":\"#E5ECF6\",\"width\":0.5},\"pattern\":{\"fillmode\":\"overlay\",\"size\":10,\"solidity\":0.2}},\"type\":\"barpolar\"}],\"pie\":[{\"automargin\":true,\"type\":\"pie\"}]},\"layout\":{\"autotypenumbers\":\"strict\",\"colorway\":[\"#636efa\",\"#EF553B\",\"#00cc96\",\"#ab63fa\",\"#FFA15A\",\"#19d3f3\",\"#FF6692\",\"#B6E880\",\"#FF97FF\",\"#FECB52\"],\"font\":{\"color\":\"#2a3f5f\"},\"hovermode\":\"closest\",\"hoverlabel\":{\"align\":\"left\"},\"paper_bgcolor\":\"white\",\"plot_bgcolor\":\"#E5ECF6\",\"polar\":{\"bgcolor\":\"#E5ECF6\",\"angularaxis\":{\"gridcolor\":\"white\",\"linecolor\":\"white\",\"ticks\":\"\"},\"radialaxis\":{\"gridcolor\":\"white\",\"linecolor\":\"white\",\"ticks\":\"\"}},\"ternary\":{\"bgcolor\":\"#E5ECF6\",\"aaxis\":{\"gridcolor\":\"white\",\"linecolor\":\"white\",\"ticks\":\"\"},\"baxis\":{\"gridcolor\":\"white\",\"linecolor\":\"white\",\"ticks\":\"\"},\"caxis\":{\"gridcolor\":\"white\",\"linecolor\":\"white\",\"ticks\":\"\"}},\"coloraxis\":{\"colorbar\":{\"outlinewidth\":0,\"ticks\":\"\"}},\"colorscale\":{\"sequential\":[[0.0,\"#0d0887\"],[0.1111111111111111,\"#46039f\"],[0.2222222222222222,\"#7201a8\"],[0.3333333333333333,\"#9c179e\"],[0.4444444444444444,\"#bd3786\"],[0.5555555555555556,\"#d8576b\"],[0.6666666666666666,\"#ed7953\"],[0.7777777777777778,\"#fb9f3a\"],[0.8888888888888888,\"#fdca26\"],[1.0,\"#f0f921\"]],\"sequentialminus\":[[0.0,\"#0d0887\"],[0.1111111111111111,\"#46039f\"],[0.2222222222222222,\"#7201a8\"],[0.3333333333333333,\"#9c179e\"],[0.4444444444444444,\"#bd3786\"],[0.5555555555555556,\"#d8576b\"],[0.6666666666666666,\"#ed7953\"],[0.7777777777777778,\"#fb9f3a\"],[0.8888888888888888,\"#fdca26\"],[1.0,\"#f0f921\"]],\"diverging\":[[0,\"#8e0152\"],[0.1,\"#c51b7d\"],[0.2,\"#de77ae\"],[0.3,\"#f1b6da\"],[0.4,\"#fde0ef\"],[0.5,\"#f7f7f7\"],[0.6,\"#e6f5d0\"],[0.7,\"#b8e186\"],[0.8,\"#7fbc41\"],[0.9,\"#4d9221\"],[1,\"#276419\"]]},\"xaxis\":{\"gridcolor\":\"white\",\"linecolor\":\"white\",\"ticks\":\"\",\"title\":{\"standoff\":15},\"zerolinecolor\":\"white\",\"automargin\":true,\"zerolinewidth\":2},\"yaxis\":{\"gridcolor\":\"white\",\"linecolor\":\"white\",\"ticks\":\"\",\"title\":{\"standoff\":15},\"zerolinecolor\":\"white\",\"automargin\":true,\"zerolinewidth\":2},\"scene\":{\"xaxis\":{\"backgroundcolor\":\"#E5ECF6\",\"gridcolor\":\"white\",\"linecolor\":\"white\",\"showbackground\":true,\"ticks\":\"\",\"zerolinecolor\":\"white\",\"gridwidth\":2},\"yaxis\":{\"backgroundcolor\":\"#E5ECF6\",\"gridcolor\":\"white\",\"linecolor\":\"white\",\"showbackground\":true,\"ticks\":\"\",\"zerolinecolor\":\"white\",\"gridwidth\":2},\"zaxis\":{\"backgroundcolor\":\"#E5ECF6\",\"gridcolor\":\"white\",\"linecolor\":\"white\",\"showbackground\":true,\"ticks\":\"\",\"zerolinecolor\":\"white\",\"gridwidth\":2}},\"shapedefaults\":{\"line\":{\"color\":\"#2a3f5f\"}},\"annotationdefaults\":{\"arrowcolor\":\"#2a3f5f\",\"arrowhead\":0,\"arrowwidth\":1},\"geo\":{\"bgcolor\":\"white\",\"landcolor\":\"#E5ECF6\",\"subunitcolor\":\"white\",\"showland\":true,\"showlakes\":true,\"lakecolor\":\"white\"},\"title\":{\"x\":0.05},\"mapbox\":{\"style\":\"light\"}}},\"legend\":{\"tracegroupgap\":0},\"title\":{\"text\":\"Gender Distribution\"},\"piecolorway\":[\"rgb(230, 240, 240)\",\"rgb(191, 221, 229)\",\"rgb(156, 201, 226)\",\"rgb(129, 180, 227)\",\"rgb(115, 154, 228)\",\"rgb(117, 127, 221)\",\"rgb(120, 100, 202)\",\"rgb(119, 74, 175)\",\"rgb(113, 50, 141)\",\"rgb(100, 31, 104)\",\"rgb(80, 20, 66)\",\"rgb(54, 14, 36)\"],\"height\":500,\"width\":600},                        {\"responsive\": true}                    ).then(function(){\n",
              "                            \n",
              "var gd = document.getElementById('235fa255-505e-40a7-aad7-06f1d5d8187a');\n",
              "var x = new MutationObserver(function (mutations, observer) {{\n",
              "        var display = window.getComputedStyle(gd).display;\n",
              "        if (!display || display === 'none') {{\n",
              "            console.log([gd, 'removed!']);\n",
              "            Plotly.purge(gd);\n",
              "            observer.disconnect();\n",
              "        }}\n",
              "}});\n",
              "\n",
              "// Listen for the removal of the full notebook cells\n",
              "var notebookContainer = gd.closest('#notebook-container');\n",
              "if (notebookContainer) {{\n",
              "    x.observe(notebookContainer, {childList: true});\n",
              "}}\n",
              "\n",
              "// Listen for the clearing of the current output cell\n",
              "var outputEl = gd.closest('.output');\n",
              "if (outputEl) {{\n",
              "    x.observe(outputEl, {childList: true});\n",
              "}}\n",
              "\n",
              "                        })                };                            </script>        </div>\n",
              "</body>\n",
              "</html>"
            ]
          },
          "metadata": {}
        }
      ],
      "source": [
        "fig1 = px.pie(df_filtered, names='Gender', title=\"Gender Distribution\", width=600, height=500, color_discrete_sequence=px.colors.sequential.dense)\n",
        "\n",
        "fig1.show()"
      ]
    },
    {
      "cell_type": "markdown",
      "metadata": {
        "id": "Hv5bZNUU0xgW"
      },
      "source": [
        "The gender distribution is relatively balanced, with a majority of employees identifying as female or male. A smaller portion of employees identify as non-binary or prefer not to disclose."
      ]
    },
    {
      "cell_type": "markdown",
      "metadata": {
        "id": "p5Ua_rOYqXaU"
      },
      "source": [
        "**By Age Group**"
      ]
    },
    {
      "cell_type": "code",
      "execution_count": 110,
      "metadata": {
        "colab": {
          "base_uri": "https://localhost:8080/",
          "height": 417
        },
        "id": "pl_m0jS9qazZ",
        "outputId": "aa486bcd-9e25-4de5-d397-ee7f36f6c38b"
      },
      "outputs": [
        {
          "output_type": "display_data",
          "data": {
            "text/html": [
              "<html>\n",
              "<head><meta charset=\"utf-8\" /></head>\n",
              "<body>\n",
              "    <div>            <script src=\"https://cdnjs.cloudflare.com/ajax/libs/mathjax/2.7.5/MathJax.js?config=TeX-AMS-MML_SVG\"></script><script type=\"text/javascript\">if (window.MathJax && window.MathJax.Hub && window.MathJax.Hub.Config) {window.MathJax.Hub.Config({SVG: {font: \"STIX-Web\"}});}</script>                <script type=\"text/javascript\">window.PlotlyConfig = {MathJaxConfig: 'local'};</script>\n",
              "        <script charset=\"utf-8\" src=\"https://cdn.plot.ly/plotly-2.35.2.min.js\"></script>                <div id=\"f98ab0d9-f8de-4aaf-9659-8625e9fd5510\" class=\"plotly-graph-div\" style=\"height:400px; width:700px;\"></div>            <script type=\"text/javascript\">                                    window.PLOTLYENV=window.PLOTLYENV || {};                                    if (document.getElementById(\"f98ab0d9-f8de-4aaf-9659-8625e9fd5510\")) {                    Plotly.newPlot(                        \"f98ab0d9-f8de-4aaf-9659-8625e9fd5510\",                        [{\"alignmentgroup\":\"True\",\"hovertemplate\":\"Age Group=%{x}\\u003cbr\\u003eCount=%{y}\\u003cextra\\u003e\\u003c\\u002fextra\\u003e\",\"legendgroup\":\"Young\",\"marker\":{\"color\":\"rgb(230, 240, 240)\",\"pattern\":{\"shape\":\"\"}},\"name\":\"Young\",\"offsetgroup\":\"Young\",\"orientation\":\"v\",\"showlegend\":true,\"textposition\":\"auto\",\"x\":[\"Young\"],\"xaxis\":\"x\",\"y\":[795],\"yaxis\":\"y\",\"type\":\"bar\"},{\"alignmentgroup\":\"True\",\"hovertemplate\":\"Age Group=%{x}\\u003cbr\\u003eCount=%{y}\\u003cextra\\u003e\\u003c\\u002fextra\\u003e\",\"legendgroup\":\"Middle-Aged\",\"marker\":{\"color\":\"rgb(191, 221, 229)\",\"pattern\":{\"shape\":\"\"}},\"name\":\"Middle-Aged\",\"offsetgroup\":\"Middle-Aged\",\"orientation\":\"v\",\"showlegend\":true,\"textposition\":\"auto\",\"x\":[\"Middle-Aged\"],\"xaxis\":\"x\",\"y\":[371],\"yaxis\":\"y\",\"type\":\"bar\"},{\"alignmentgroup\":\"True\",\"hovertemplate\":\"Age Group=%{x}\\u003cbr\\u003eCount=%{y}\\u003cextra\\u003e\\u003c\\u002fextra\\u003e\",\"legendgroup\":\"Older\",\"marker\":{\"color\":\"rgb(156, 201, 226)\",\"pattern\":{\"shape\":\"\"}},\"name\":\"Older\",\"offsetgroup\":\"Older\",\"orientation\":\"v\",\"showlegend\":true,\"textposition\":\"auto\",\"x\":[\"Older\"],\"xaxis\":\"x\",\"y\":[67],\"yaxis\":\"y\",\"type\":\"bar\"}],                        {\"template\":{\"data\":{\"barpolar\":[{\"marker\":{\"line\":{\"color\":\"white\",\"width\":0.5},\"pattern\":{\"fillmode\":\"overlay\",\"size\":10,\"solidity\":0.2}},\"type\":\"barpolar\"}],\"bar\":[{\"error_x\":{\"color\":\"#2a3f5f\"},\"error_y\":{\"color\":\"#2a3f5f\"},\"marker\":{\"line\":{\"color\":\"white\",\"width\":0.5},\"pattern\":{\"fillmode\":\"overlay\",\"size\":10,\"solidity\":0.2}},\"type\":\"bar\"}],\"carpet\":[{\"aaxis\":{\"endlinecolor\":\"#2a3f5f\",\"gridcolor\":\"#C8D4E3\",\"linecolor\":\"#C8D4E3\",\"minorgridcolor\":\"#C8D4E3\",\"startlinecolor\":\"#2a3f5f\"},\"baxis\":{\"endlinecolor\":\"#2a3f5f\",\"gridcolor\":\"#C8D4E3\",\"linecolor\":\"#C8D4E3\",\"minorgridcolor\":\"#C8D4E3\",\"startlinecolor\":\"#2a3f5f\"},\"type\":\"carpet\"}],\"choropleth\":[{\"colorbar\":{\"outlinewidth\":0,\"ticks\":\"\"},\"type\":\"choropleth\"}],\"contourcarpet\":[{\"colorbar\":{\"outlinewidth\":0,\"ticks\":\"\"},\"type\":\"contourcarpet\"}],\"contour\":[{\"colorbar\":{\"outlinewidth\":0,\"ticks\":\"\"},\"colorscale\":[[0.0,\"#0d0887\"],[0.1111111111111111,\"#46039f\"],[0.2222222222222222,\"#7201a8\"],[0.3333333333333333,\"#9c179e\"],[0.4444444444444444,\"#bd3786\"],[0.5555555555555556,\"#d8576b\"],[0.6666666666666666,\"#ed7953\"],[0.7777777777777778,\"#fb9f3a\"],[0.8888888888888888,\"#fdca26\"],[1.0,\"#f0f921\"]],\"type\":\"contour\"}],\"heatmapgl\":[{\"colorbar\":{\"outlinewidth\":0,\"ticks\":\"\"},\"colorscale\":[[0.0,\"#0d0887\"],[0.1111111111111111,\"#46039f\"],[0.2222222222222222,\"#7201a8\"],[0.3333333333333333,\"#9c179e\"],[0.4444444444444444,\"#bd3786\"],[0.5555555555555556,\"#d8576b\"],[0.6666666666666666,\"#ed7953\"],[0.7777777777777778,\"#fb9f3a\"],[0.8888888888888888,\"#fdca26\"],[1.0,\"#f0f921\"]],\"type\":\"heatmapgl\"}],\"heatmap\":[{\"colorbar\":{\"outlinewidth\":0,\"ticks\":\"\"},\"colorscale\":[[0.0,\"#0d0887\"],[0.1111111111111111,\"#46039f\"],[0.2222222222222222,\"#7201a8\"],[0.3333333333333333,\"#9c179e\"],[0.4444444444444444,\"#bd3786\"],[0.5555555555555556,\"#d8576b\"],[0.6666666666666666,\"#ed7953\"],[0.7777777777777778,\"#fb9f3a\"],[0.8888888888888888,\"#fdca26\"],[1.0,\"#f0f921\"]],\"type\":\"heatmap\"}],\"histogram2dcontour\":[{\"colorbar\":{\"outlinewidth\":0,\"ticks\":\"\"},\"colorscale\":[[0.0,\"#0d0887\"],[0.1111111111111111,\"#46039f\"],[0.2222222222222222,\"#7201a8\"],[0.3333333333333333,\"#9c179e\"],[0.4444444444444444,\"#bd3786\"],[0.5555555555555556,\"#d8576b\"],[0.6666666666666666,\"#ed7953\"],[0.7777777777777778,\"#fb9f3a\"],[0.8888888888888888,\"#fdca26\"],[1.0,\"#f0f921\"]],\"type\":\"histogram2dcontour\"}],\"histogram2d\":[{\"colorbar\":{\"outlinewidth\":0,\"ticks\":\"\"},\"colorscale\":[[0.0,\"#0d0887\"],[0.1111111111111111,\"#46039f\"],[0.2222222222222222,\"#7201a8\"],[0.3333333333333333,\"#9c179e\"],[0.4444444444444444,\"#bd3786\"],[0.5555555555555556,\"#d8576b\"],[0.6666666666666666,\"#ed7953\"],[0.7777777777777778,\"#fb9f3a\"],[0.8888888888888888,\"#fdca26\"],[1.0,\"#f0f921\"]],\"type\":\"histogram2d\"}],\"histogram\":[{\"marker\":{\"pattern\":{\"fillmode\":\"overlay\",\"size\":10,\"solidity\":0.2}},\"type\":\"histogram\"}],\"mesh3d\":[{\"colorbar\":{\"outlinewidth\":0,\"ticks\":\"\"},\"type\":\"mesh3d\"}],\"parcoords\":[{\"line\":{\"colorbar\":{\"outlinewidth\":0,\"ticks\":\"\"}},\"type\":\"parcoords\"}],\"pie\":[{\"automargin\":true,\"type\":\"pie\"}],\"scatter3d\":[{\"line\":{\"colorbar\":{\"outlinewidth\":0,\"ticks\":\"\"}},\"marker\":{\"colorbar\":{\"outlinewidth\":0,\"ticks\":\"\"}},\"type\":\"scatter3d\"}],\"scattercarpet\":[{\"marker\":{\"colorbar\":{\"outlinewidth\":0,\"ticks\":\"\"}},\"type\":\"scattercarpet\"}],\"scattergeo\":[{\"marker\":{\"colorbar\":{\"outlinewidth\":0,\"ticks\":\"\"}},\"type\":\"scattergeo\"}],\"scattergl\":[{\"marker\":{\"colorbar\":{\"outlinewidth\":0,\"ticks\":\"\"}},\"type\":\"scattergl\"}],\"scattermapbox\":[{\"marker\":{\"colorbar\":{\"outlinewidth\":0,\"ticks\":\"\"}},\"type\":\"scattermapbox\"}],\"scatterpolargl\":[{\"marker\":{\"colorbar\":{\"outlinewidth\":0,\"ticks\":\"\"}},\"type\":\"scatterpolargl\"}],\"scatterpolar\":[{\"marker\":{\"colorbar\":{\"outlinewidth\":0,\"ticks\":\"\"}},\"type\":\"scatterpolar\"}],\"scatter\":[{\"fillpattern\":{\"fillmode\":\"overlay\",\"size\":10,\"solidity\":0.2},\"type\":\"scatter\"}],\"scatterternary\":[{\"marker\":{\"colorbar\":{\"outlinewidth\":0,\"ticks\":\"\"}},\"type\":\"scatterternary\"}],\"surface\":[{\"colorbar\":{\"outlinewidth\":0,\"ticks\":\"\"},\"colorscale\":[[0.0,\"#0d0887\"],[0.1111111111111111,\"#46039f\"],[0.2222222222222222,\"#7201a8\"],[0.3333333333333333,\"#9c179e\"],[0.4444444444444444,\"#bd3786\"],[0.5555555555555556,\"#d8576b\"],[0.6666666666666666,\"#ed7953\"],[0.7777777777777778,\"#fb9f3a\"],[0.8888888888888888,\"#fdca26\"],[1.0,\"#f0f921\"]],\"type\":\"surface\"}],\"table\":[{\"cells\":{\"fill\":{\"color\":\"#EBF0F8\"},\"line\":{\"color\":\"white\"}},\"header\":{\"fill\":{\"color\":\"#C8D4E3\"},\"line\":{\"color\":\"white\"}},\"type\":\"table\"}]},\"layout\":{\"annotationdefaults\":{\"arrowcolor\":\"#2a3f5f\",\"arrowhead\":0,\"arrowwidth\":1},\"autotypenumbers\":\"strict\",\"coloraxis\":{\"colorbar\":{\"outlinewidth\":0,\"ticks\":\"\"}},\"colorscale\":{\"diverging\":[[0,\"#8e0152\"],[0.1,\"#c51b7d\"],[0.2,\"#de77ae\"],[0.3,\"#f1b6da\"],[0.4,\"#fde0ef\"],[0.5,\"#f7f7f7\"],[0.6,\"#e6f5d0\"],[0.7,\"#b8e186\"],[0.8,\"#7fbc41\"],[0.9,\"#4d9221\"],[1,\"#276419\"]],\"sequential\":[[0.0,\"#0d0887\"],[0.1111111111111111,\"#46039f\"],[0.2222222222222222,\"#7201a8\"],[0.3333333333333333,\"#9c179e\"],[0.4444444444444444,\"#bd3786\"],[0.5555555555555556,\"#d8576b\"],[0.6666666666666666,\"#ed7953\"],[0.7777777777777778,\"#fb9f3a\"],[0.8888888888888888,\"#fdca26\"],[1.0,\"#f0f921\"]],\"sequentialminus\":[[0.0,\"#0d0887\"],[0.1111111111111111,\"#46039f\"],[0.2222222222222222,\"#7201a8\"],[0.3333333333333333,\"#9c179e\"],[0.4444444444444444,\"#bd3786\"],[0.5555555555555556,\"#d8576b\"],[0.6666666666666666,\"#ed7953\"],[0.7777777777777778,\"#fb9f3a\"],[0.8888888888888888,\"#fdca26\"],[1.0,\"#f0f921\"]]},\"colorway\":[\"#636efa\",\"#EF553B\",\"#00cc96\",\"#ab63fa\",\"#FFA15A\",\"#19d3f3\",\"#FF6692\",\"#B6E880\",\"#FF97FF\",\"#FECB52\"],\"font\":{\"color\":\"#2a3f5f\"},\"geo\":{\"bgcolor\":\"white\",\"lakecolor\":\"white\",\"landcolor\":\"white\",\"showlakes\":true,\"showland\":true,\"subunitcolor\":\"#C8D4E3\"},\"hoverlabel\":{\"align\":\"left\"},\"hovermode\":\"closest\",\"mapbox\":{\"style\":\"light\"},\"paper_bgcolor\":\"white\",\"plot_bgcolor\":\"white\",\"polar\":{\"angularaxis\":{\"gridcolor\":\"#EBF0F8\",\"linecolor\":\"#EBF0F8\",\"ticks\":\"\"},\"bgcolor\":\"white\",\"radialaxis\":{\"gridcolor\":\"#EBF0F8\",\"linecolor\":\"#EBF0F8\",\"ticks\":\"\"}},\"scene\":{\"xaxis\":{\"backgroundcolor\":\"white\",\"gridcolor\":\"#DFE8F3\",\"gridwidth\":2,\"linecolor\":\"#EBF0F8\",\"showbackground\":true,\"ticks\":\"\",\"zerolinecolor\":\"#EBF0F8\"},\"yaxis\":{\"backgroundcolor\":\"white\",\"gridcolor\":\"#DFE8F3\",\"gridwidth\":2,\"linecolor\":\"#EBF0F8\",\"showbackground\":true,\"ticks\":\"\",\"zerolinecolor\":\"#EBF0F8\"},\"zaxis\":{\"backgroundcolor\":\"white\",\"gridcolor\":\"#DFE8F3\",\"gridwidth\":2,\"linecolor\":\"#EBF0F8\",\"showbackground\":true,\"ticks\":\"\",\"zerolinecolor\":\"#EBF0F8\"}},\"shapedefaults\":{\"line\":{\"color\":\"#2a3f5f\"}},\"ternary\":{\"aaxis\":{\"gridcolor\":\"#DFE8F3\",\"linecolor\":\"#A2B1C6\",\"ticks\":\"\"},\"baxis\":{\"gridcolor\":\"#DFE8F3\",\"linecolor\":\"#A2B1C6\",\"ticks\":\"\"},\"bgcolor\":\"white\",\"caxis\":{\"gridcolor\":\"#DFE8F3\",\"linecolor\":\"#A2B1C6\",\"ticks\":\"\"}},\"title\":{\"x\":0.05},\"xaxis\":{\"automargin\":true,\"gridcolor\":\"#EBF0F8\",\"linecolor\":\"#EBF0F8\",\"ticks\":\"\",\"title\":{\"standoff\":15},\"zerolinecolor\":\"#EBF0F8\",\"zerolinewidth\":2},\"yaxis\":{\"automargin\":true,\"gridcolor\":\"#EBF0F8\",\"linecolor\":\"#EBF0F8\",\"ticks\":\"\",\"title\":{\"standoff\":15},\"zerolinecolor\":\"#EBF0F8\",\"zerolinewidth\":2}}},\"xaxis\":{\"anchor\":\"y\",\"domain\":[0.0,1.0],\"title\":{\"text\":\"Age Group\"},\"categoryorder\":\"array\",\"categoryarray\":[\"Young\",\"Middle-Aged\",\"Older\"]},\"yaxis\":{\"anchor\":\"x\",\"domain\":[0.0,1.0],\"title\":{\"text\":\"Count\"}},\"legend\":{\"title\":{\"text\":\"Age Group\"},\"tracegroupgap\":0},\"title\":{\"text\":\"Employee Distribution by Age Group\"},\"barmode\":\"relative\",\"height\":400,\"width\":700},                        {\"responsive\": true}                    ).then(function(){\n",
              "                            \n",
              "var gd = document.getElementById('f98ab0d9-f8de-4aaf-9659-8625e9fd5510');\n",
              "var x = new MutationObserver(function (mutations, observer) {{\n",
              "        var display = window.getComputedStyle(gd).display;\n",
              "        if (!display || display === 'none') {{\n",
              "            console.log([gd, 'removed!']);\n",
              "            Plotly.purge(gd);\n",
              "            observer.disconnect();\n",
              "        }}\n",
              "}});\n",
              "\n",
              "// Listen for the removal of the full notebook cells\n",
              "var notebookContainer = gd.closest('#notebook-container');\n",
              "if (notebookContainer) {{\n",
              "    x.observe(notebookContainer, {childList: true});\n",
              "}}\n",
              "\n",
              "// Listen for the clearing of the current output cell\n",
              "var outputEl = gd.closest('.output');\n",
              "if (outputEl) {{\n",
              "    x.observe(outputEl, {childList: true});\n",
              "}}\n",
              "\n",
              "                        })                };                            </script>        </div>\n",
              "</body>\n",
              "</html>"
            ]
          },
          "metadata": {}
        }
      ],
      "source": [
        "def categorize_age_group(age):\n",
        "    if 18 <= age <= 30:\n",
        "        return 'Young'\n",
        "    elif 31 <= age <= 45:\n",
        "        return 'Middle-Aged'\n",
        "    else:\n",
        "        return 'Older'\n",
        "df_filtered['AgeGroup'] = df_filtered['Age'].apply(categorize_age_group)\n",
        "df_age_group = df_filtered.groupby('AgeGroup').size().reset_index(name='AgeGroupCount')\n",
        "df_age_group = df_age_group.sort_values(by='AgeGroupCount', ascending=False)\n",
        "fig2 = px.bar(df_age_group, x='AgeGroup', y='AgeGroupCount', title='Employee Distribution by Age Group',\n",
        "             width=700, height=400, labels={'AgeGroup': 'Age Group', 'AgeGroupCount': 'Count'}, color='AgeGroup',\n",
        "             color_discrete_sequence=px.colors.sequential.dense, template='plotly_white')\n",
        "fig2.show()"
      ]
    },
    {
      "cell_type": "markdown",
      "metadata": {
        "id": "57DioqVeuxUA"
      },
      "source": [
        "Young = 18 - 30 Years\n",
        "\n",
        "Middle-Aged = 31 - 45 Years\n",
        "\n",
        "Older = 46 - 59 Years"
      ]
    },
    {
      "cell_type": "markdown",
      "metadata": {
        "id": "lNoxYfP71CW8"
      },
      "source": [
        "The workforce is predominantly young. The majority of employees are in the 18-30 age group, making up 64.5% of the workforce. There is a noticeable drop-off in older age groups."
      ]
    },
    {
      "cell_type": "markdown",
      "metadata": {
        "id": "VmzWYo2pRpGD"
      },
      "source": [
        "**By Ethnicity**"
      ]
    },
    {
      "cell_type": "code",
      "execution_count": 111,
      "metadata": {
        "colab": {
          "base_uri": "https://localhost:8080/",
          "height": 517
        },
        "id": "OtyL06Iu1bFK",
        "outputId": "abaf8329-9e19-42af-f619-b02ca32e385c"
      },
      "outputs": [
        {
          "output_type": "display_data",
          "data": {
            "text/html": [
              "<html>\n",
              "<head><meta charset=\"utf-8\" /></head>\n",
              "<body>\n",
              "    <div>            <script src=\"https://cdnjs.cloudflare.com/ajax/libs/mathjax/2.7.5/MathJax.js?config=TeX-AMS-MML_SVG\"></script><script type=\"text/javascript\">if (window.MathJax && window.MathJax.Hub && window.MathJax.Hub.Config) {window.MathJax.Hub.Config({SVG: {font: \"STIX-Web\"}});}</script>                <script type=\"text/javascript\">window.PlotlyConfig = {MathJaxConfig: 'local'};</script>\n",
              "        <script charset=\"utf-8\" src=\"https://cdn.plot.ly/plotly-2.35.2.min.js\"></script>                <div id=\"7e5404d3-28ce-427f-a012-aea2e22b95c1\" class=\"plotly-graph-div\" style=\"height:500px; width:700px;\"></div>            <script type=\"text/javascript\">                                    window.PLOTLYENV=window.PLOTLYENV || {};                                    if (document.getElementById(\"7e5404d3-28ce-427f-a012-aea2e22b95c1\")) {                    Plotly.newPlot(                        \"7e5404d3-28ce-427f-a012-aea2e22b95c1\",                        [{\"domain\":{\"x\":[0.0,1.0],\"y\":[0.0,1.0]},\"hovertemplate\":\"Ethnicity=%{label}\\u003cextra\\u003e\\u003c\\u002fextra\\u003e\",\"labels\":[\"White\",\"White\",\"Asian or Asian American\",\"White\",\"Mixed or multiple ethnic groups\",\"Black or African American\",\"Native Hawaiian \",\"Black or African American\",\"White\",\"Other \",\"Asian or Asian American\",\"White\",\"Mixed or multiple ethnic groups\",\"Black or African American\",\"Mixed or multiple ethnic groups\",\"White\",\"Asian or Asian American\",\"White\",\"Mixed or multiple ethnic groups\",\"White\",\"Black or African American\",\"American Indian or Alaska Native\",\"White\",\"Asian or Asian American\",\"American Indian or Alaska Native\",\"White\",\"White\",\"White\",\"White\",\"Black or African American\",\"American Indian or Alaska Native\",\"Black or African American\",\"White\",\"Mixed or multiple ethnic groups\",\"Black or African American\",\"White\",\"White\",\"White\",\"White\",\"White\",\"White\",\"Mixed or multiple ethnic groups\",\"Black or African American\",\"White\",\"White\",\"Black or African American\",\"Mixed or multiple ethnic groups\",\"Mixed or multiple ethnic groups\",\"Asian or Asian American\",\"Mixed or multiple ethnic groups\",\"White\",\"Black or African American\",\"Black or African American\",\"White\",\"White\",\"Black or African American\",\"Asian or Asian American\",\"Asian or Asian American\",\"White\",\"White\",\"White\",\"Asian or Asian American\",\"White\",\"Black or African American\",\"White\",\"White\",\"White\",\"Black or African American\",\"White\",\"Mixed or multiple ethnic groups\",\"Black or African American\",\"White\",\"Asian or Asian American\",\"White\",\"Asian or Asian American\",\"Mixed or multiple ethnic groups\",\"Black or African American\",\"Black or African American\",\"Mixed or multiple ethnic groups\",\"White\",\"Asian or Asian American\",\"Black or African American\",\"Black or African American\",\"Asian or Asian American\",\"White\",\"Mixed or multiple ethnic groups\",\"White\",\"Mixed or multiple ethnic groups\",\"White\",\"White\",\"Black or African American\",\"Asian or Asian American\",\"White\",\"White\",\"White\",\"Black or African American\",\"White\",\"Mixed or multiple ethnic groups\",\"Black or African American\",\"Asian or Asian American\",\"Mixed or multiple ethnic groups\",\"Mixed or multiple ethnic groups\",\"White\",\"Black or African American\",\"Mixed or multiple ethnic groups\",\"Mixed or multiple ethnic groups\",\"White\",\"White\",\"White\",\"Black or African American\",\"Asian or Asian American\",\"White\",\"White\",\"Native Hawaiian \",\"White\",\"Black or African American\",\"Mixed or multiple ethnic groups\",\"Mixed or multiple ethnic groups\",\"White\",\"White\",\"Black or African American\",\"Asian or Asian American\",\"American Indian or Alaska Native\",\"White\",\"Asian or Asian American\",\"White\",\"White\",\"Asian or Asian American\",\"American Indian or Alaska Native\",\"Asian or Asian American\",\"Asian or Asian American\",\"Black or African American\",\"White\",\"White\",\"White\",\"Asian or Asian American\",\"Black or African American\",\"Black or African American\",\"White\",\"White\",\"Black or African American\",\"White\",\"White\",\"White\",\"White\",\"American Indian or Alaska Native\",\"Mixed or multiple ethnic groups\",\"Mixed or multiple ethnic groups\",\"White\",\"Black or African American\",\"White\",\"White\",\"Black or African American\",\"Native Hawaiian \",\"White\",\"White\",\"Mixed or multiple ethnic groups\",\"Asian or Asian American\",\"White\",\"Black or African American\",\"Other \",\"White\",\"White\",\"Black or African American\",\"White\",\"White\",\"Asian or Asian American\",\"Black or African American\",\"Other \",\"Asian or Asian American\",\"White\",\"White\",\"Black or African American\",\"White\",\"Asian or Asian American\",\"White\",\"White\",\"White\",\"White\",\"Mixed or multiple ethnic groups\",\"Mixed or multiple ethnic groups\",\"American Indian or Alaska Native\",\"White\",\"Asian or Asian American\",\"White\",\"White\",\"White\",\"Mixed or multiple ethnic groups\",\"White\",\"Mixed or multiple ethnic groups\",\"Mixed or multiple ethnic groups\",\"American Indian or Alaska Native\",\"Black or African American\",\"White\",\"American Indian or Alaska Native\",\"Asian or Asian American\",\"Black or African American\",\"White\",\"White\",\"White\",\"White\",\"American Indian or Alaska Native\",\"Asian or Asian American\",\"Asian or Asian American\",\"White\",\"Asian or Asian American\",\"Asian or Asian American\",\"White\",\"Mixed or multiple ethnic groups\",\"White\",\"White\",\"White\",\"White\",\"White\",\"White\",\"White\",\"Mixed or multiple ethnic groups\",\"Native Hawaiian \",\"White\",\"White\",\"Black or African American\",\"White\",\"White\",\"Mixed or multiple ethnic groups\",\"Black or African American\",\"Mixed or multiple ethnic groups\",\"Mixed or multiple ethnic groups\",\"Mixed or multiple ethnic groups\",\"Black or African American\",\"White\",\"Native Hawaiian \",\"Mixed or multiple ethnic groups\",\"White\",\"White\",\"Asian or Asian American\",\"White\",\"White\",\"Black or African American\",\"Black or African American\",\"White\",\"White\",\"White\",\"Asian or Asian American\",\"White\",\"Black or African American\",\"White\",\"White\",\"Other \",\"Black or African American\",\"Mixed or multiple ethnic groups\",\"Mixed or multiple ethnic groups\",\"Black or African American\",\"Asian or Asian American\",\"Asian or Asian American\",\"Mixed or multiple ethnic groups\",\"Asian or Asian American\",\"White\",\"Black or African American\",\"Mixed or multiple ethnic groups\",\"Asian or Asian American\",\"White\",\"Asian or Asian American\",\"Mixed or multiple ethnic groups\",\"Asian or Asian American\",\"Asian or Asian American\",\"Mixed or multiple ethnic groups\",\"White\",\"Mixed or multiple ethnic groups\",\"White\",\"White\",\"Black or African American\",\"Black or African American\",\"White\",\"White\",\"Black or African American\",\"Mixed or multiple ethnic groups\",\"Mixed or multiple ethnic groups\",\"White\",\"American Indian or Alaska Native\",\"Mixed or multiple ethnic groups\",\"White\",\"White\",\"Native Hawaiian \",\"Asian or Asian American\",\"Other \",\"Black or African American\",\"Native Hawaiian \",\"White\",\"Black or African American\",\"White\",\"Black or African American\",\"White\",\"White\",\"White\",\"White\",\"Black or African American\",\"White\",\"Mixed or multiple ethnic groups\",\"Black or African American\",\"White\",\"Mixed or multiple ethnic groups\",\"White\",\"Mixed or multiple ethnic groups\",\"Black or African American\",\"White\",\"Black or African American\",\"Mixed or multiple ethnic groups\",\"White\",\"American Indian or Alaska Native\",\"White\",\"Mixed or multiple ethnic groups\",\"White\",\"Black or African American\",\"Asian or Asian American\",\"White\",\"White\",\"Black or African American\",\"Asian or Asian American\",\"Mixed or multiple ethnic groups\",\"White\",\"White\",\"Mixed or multiple ethnic groups\",\"Mixed or multiple ethnic groups\",\"White\",\"Mixed or multiple ethnic groups\",\"White\",\"Black or African American\",\"Asian or Asian American\",\"White\",\"Black or African American\",\"White\",\"Black or African American\",\"White\",\"White\",\"White\",\"Mixed or multiple ethnic groups\",\"Mixed or multiple ethnic groups\",\"White\",\"Mixed or multiple ethnic groups\",\"Black or African American\",\"White\",\"White\",\"White\",\"Asian or Asian American\",\"Black or African American\",\"White\",\"Mixed or multiple ethnic groups\",\"Black or African American\",\"Black or African American\",\"White\",\"White\",\"American Indian or Alaska Native\",\"Black or African American\",\"Black or African American\",\"White\",\"White\",\"Mixed or multiple ethnic groups\",\"American Indian or Alaska Native\",\"Mixed or multiple ethnic groups\",\"White\",\"Mixed or multiple ethnic groups\",\"Asian or Asian American\",\"White\",\"White\",\"White\",\"Asian or Asian American\",\"Mixed or multiple ethnic groups\",\"White\",\"White\",\"Black or African American\",\"Other \",\"Black or African American\",\"Black or African American\",\"White\",\"Mixed or multiple ethnic groups\",\"Asian or Asian American\",\"Black or African American\",\"Black or African American\",\"American Indian or Alaska Native\",\"Mixed or multiple ethnic groups\",\"White\",\"White\",\"Asian or Asian American\",\"Asian or Asian American\",\"White\",\"Asian or Asian American\",\"White\",\"White\",\"Asian or Asian American\",\"Asian or Asian American\",\"White\",\"Native Hawaiian \",\"White\",\"White\",\"White\",\"Black or African American\",\"White\",\"Black or African American\",\"White\",\"White\",\"Black or African American\",\"White\",\"White\",\"Mixed or multiple ethnic groups\",\"Asian or Asian American\",\"Mixed or multiple ethnic groups\",\"Asian or Asian American\",\"White\",\"White\",\"White\",\"Mixed or multiple ethnic groups\",\"Black or African American\",\"Mixed or multiple ethnic groups\",\"Asian or Asian American\",\"Mixed or multiple ethnic groups\",\"White\",\"Black or African American\",\"Black or African American\",\"White\",\"Mixed or multiple ethnic groups\",\"White\",\"Asian or Asian American\",\"Asian or Asian American\",\"Asian or Asian American\",\"Mixed or multiple ethnic groups\",\"White\",\"White\",\"White\",\"White\",\"Black or African American\",\"Mixed or multiple ethnic groups\",\"Mixed or multiple ethnic groups\",\"White\",\"White\",\"Mixed or multiple ethnic groups\",\"Mixed or multiple ethnic groups\",\"White\",\"Mixed or multiple ethnic groups\",\"Mixed or multiple ethnic groups\",\"Black or African American\",\"Mixed or multiple ethnic groups\",\"White\",\"Asian or Asian American\",\"Other \",\"White\",\"White\",\"Mixed or multiple ethnic groups\",\"American Indian or Alaska Native\",\"Black or African American\",\"White\",\"White\",\"Black or African American\",\"White\",\"White\",\"White\",\"Mixed or multiple ethnic groups\",\"Black or African American\",\"Black or African American\",\"Mixed or multiple ethnic groups\",\"Native Hawaiian \",\"Black or African American\",\"Black or African American\",\"Native Hawaiian \",\"Mixed or multiple ethnic groups\",\"Black or African American\",\"American Indian or Alaska Native\",\"Black or African American\",\"White\",\"Mixed or multiple ethnic groups\",\"Mixed or multiple ethnic groups\",\"Black or African American\",\"Mixed or multiple ethnic groups\",\"White\",\"Other \",\"White\",\"White\",\"Black or African American\",\"White\",\"White\",\"Mixed or multiple ethnic groups\",\"Mixed or multiple ethnic groups\",\"White\",\"White\",\"Asian or Asian American\",\"Asian or Asian American\",\"Asian or Asian American\",\"Asian or Asian American\",\"White\",\"Black or African American\",\"White\",\"White\",\"Mixed or multiple ethnic groups\",\"White\",\"White\",\"White\",\"Asian or Asian American\",\"Other \",\"Mixed or multiple ethnic groups\",\"White\",\"Mixed or multiple ethnic groups\",\"Native Hawaiian \",\"American Indian or Alaska Native\",\"White\",\"White\",\"Mixed or multiple ethnic groups\",\"White\",\"Black or African American\",\"White\",\"Mixed or multiple ethnic groups\",\"Mixed or multiple ethnic groups\",\"Asian or Asian American\",\"White\",\"Mixed or multiple ethnic groups\",\"White\",\"White\",\"White\",\"Other \",\"White\",\"Asian or Asian American\",\"Asian or Asian American\",\"White\",\"White\",\"American Indian or Alaska Native\",\"White\",\"Mixed or multiple ethnic groups\",\"White\",\"Black or African American\",\"American Indian or Alaska Native\",\"White\",\"White\",\"Mixed or multiple ethnic groups\",\"White\",\"White\",\"White\",\"Mixed or multiple ethnic groups\",\"White\",\"Asian or Asian American\",\"White\",\"Mixed or multiple ethnic groups\",\"White\",\"Black or African American\",\"Black or African American\",\"Asian or Asian American\",\"Black or African American\",\"Mixed or multiple ethnic groups\",\"Asian or Asian American\",\"Black or African American\",\"White\",\"White\",\"White\",\"White\",\"White\",\"Black or African American\",\"Mixed or multiple ethnic groups\",\"White\",\"Native Hawaiian \",\"White\",\"White\",\"Native Hawaiian \",\"White\",\"White\",\"White\",\"White\",\"White\",\"American Indian or Alaska Native\",\"American Indian or Alaska Native\",\"Mixed or multiple ethnic groups\",\"Mixed or multiple ethnic groups\",\"Mixed or multiple ethnic groups\",\"White\",\"Mixed or multiple ethnic groups\",\"Mixed or multiple ethnic groups\",\"Mixed or multiple ethnic groups\",\"American Indian or Alaska Native\",\"White\",\"White\",\"Asian or Asian American\",\"Black or African American\",\"Asian or Asian American\",\"Native Hawaiian \",\"Black or African American\",\"White\",\"Mixed or multiple ethnic groups\",\"Mixed or multiple ethnic groups\",\"White\",\"Black or African American\",\"White\",\"White\",\"Asian or Asian American\",\"White\",\"Mixed or multiple ethnic groups\",\"American Indian or Alaska Native\",\"Black or African American\",\"Mixed or multiple ethnic groups\",\"White\",\"White\",\"Other \",\"Mixed or multiple ethnic groups\",\"Mixed or multiple ethnic groups\",\"White\",\"Asian or Asian American\",\"White\",\"Mixed or multiple ethnic groups\",\"White\",\"White\",\"White\",\"White\",\"Black or African American\",\"White\",\"Mixed or multiple ethnic groups\",\"American Indian or Alaska Native\",\"White\",\"Other \",\"White\",\"White\",\"Black or African American\",\"Black or African American\",\"Mixed or multiple ethnic groups\",\"White\",\"White\",\"Mixed or multiple ethnic groups\",\"Black or African American\",\"American Indian or Alaska Native\",\"Black or African American\",\"White\",\"White\",\"Mixed or multiple ethnic groups\",\"Black or African American\",\"White\",\"White\",\"White\",\"American Indian or Alaska Native\",\"American Indian or Alaska Native\",\"Black or African American\",\"White\",\"White\",\"Other \",\"Black or African American\",\"Mixed or multiple ethnic groups\",\"Black or African American\",\"White\",\"Mixed or multiple ethnic groups\",\"Black or African American\",\"White\",\"Black or African American\",\"Native Hawaiian \",\"Black or African American\",\"White\",\"Black or African American\",\"White\",\"White\",\"Black or African American\",\"White\",\"Black or African American\",\"Black or African American\",\"Asian or Asian American\",\"Mixed or multiple ethnic groups\",\"Black or African American\",\"White\",\"Mixed or multiple ethnic groups\",\"Mixed or multiple ethnic groups\",\"American Indian or Alaska Native\",\"White\",\"Black or African American\",\"Mixed or multiple ethnic groups\",\"White\",\"Asian or Asian American\",\"Black or African American\",\"White\",\"White\",\"White\",\"White\",\"Mixed or multiple ethnic groups\",\"Mixed or multiple ethnic groups\",\"White\",\"White\",\"Mixed or multiple ethnic groups\",\"Black or African American\",\"White\",\"White\",\"White\",\"White\",\"White\",\"Mixed or multiple ethnic groups\",\"Mixed or multiple ethnic groups\",\"Native Hawaiian \",\"White\",\"Mixed or multiple ethnic groups\",\"White\",\"Black or African American\",\"White\",\"Black or African American\",\"White\",\"White\",\"Asian or Asian American\",\"White\",\"White\",\"Mixed or multiple ethnic groups\",\"Asian or Asian American\",\"White\",\"White\",\"Mixed or multiple ethnic groups\",\"Mixed or multiple ethnic groups\",\"Asian or Asian American\",\"American Indian or Alaska Native\",\"Asian or Asian American\",\"White\",\"Asian or Asian American\",\"Mixed or multiple ethnic groups\",\"Mixed or multiple ethnic groups\",\"Black or African American\",\"White\",\"Native Hawaiian \",\"Black or African American\",\"Mixed or multiple ethnic groups\",\"Mixed or multiple ethnic groups\",\"White\",\"Black or African American\",\"Native Hawaiian \",\"Mixed or multiple ethnic groups\",\"Mixed or multiple ethnic groups\",\"White\",\"White\",\"White\",\"American Indian or Alaska Native\",\"White\",\"Black or African American\",\"White\",\"Mixed or multiple ethnic groups\",\"Mixed or multiple ethnic groups\",\"Mixed or multiple ethnic groups\",\"White\",\"Asian or Asian American\",\"Black or African American\",\"White\",\"Asian or Asian American\",\"Asian or Asian American\",\"Mixed or multiple ethnic groups\",\"White\",\"Black or African American\",\"White\",\"Asian or Asian American\",\"White\",\"White\",\"American Indian or Alaska Native\",\"White\",\"Mixed or multiple ethnic groups\",\"Black or African American\",\"White\",\"White\",\"American Indian or Alaska Native\",\"White\",\"Mixed or multiple ethnic groups\",\"White\",\"White\",\"Mixed or multiple ethnic groups\",\"White\",\"White\",\"Mixed or multiple ethnic groups\",\"Black or African American\",\"White\",\"Asian or Asian American\",\"Asian or Asian American\",\"Black or African American\",\"White\",\"Asian or Asian American\",\"Asian or Asian American\",\"Black or African American\",\"Asian or Asian American\",\"Mixed or multiple ethnic groups\",\"American Indian or Alaska Native\",\"White\",\"Black or African American\",\"Black or African American\",\"American Indian or Alaska Native\",\"American Indian or Alaska Native\",\"Mixed or multiple ethnic groups\",\"Mixed or multiple ethnic groups\",\"Black or African American\",\"Other \",\"White\",\"White\",\"Mixed or multiple ethnic groups\",\"Black or African American\",\"White\",\"White\",\"Mixed or multiple ethnic groups\",\"Black or African American\",\"White\",\"Black or African American\",\"White\",\"White\",\"Mixed or multiple ethnic groups\",\"Black or African American\",\"White\",\"Mixed or multiple ethnic groups\",\"Mixed or multiple ethnic groups\",\"Native Hawaiian \",\"Black or African American\",\"Mixed or multiple ethnic groups\",\"White\",\"White\",\"Mixed or multiple ethnic groups\",\"White\",\"Black or African American\",\"Mixed or multiple ethnic groups\",\"Mixed or multiple ethnic groups\",\"White\",\"Black or African American\",\"Black or African American\",\"White\",\"Mixed or multiple ethnic groups\",\"White\",\"American Indian or Alaska Native\",\"American Indian or Alaska Native\",\"Black or African American\",\"Black or African American\",\"White\",\"White\",\"White\",\"Black or African American\",\"White\",\"Asian or Asian American\",\"Mixed or multiple ethnic groups\",\"Black or African American\",\"Asian or Asian American\",\"Black or African American\",\"White\",\"White\",\"Mixed or multiple ethnic groups\",\"White\",\"White\",\"Mixed or multiple ethnic groups\",\"Mixed or multiple ethnic groups\",\"Black or African American\",\"White\",\"American Indian or Alaska Native\",\"Asian or Asian American\",\"Black or African American\",\"Native Hawaiian \",\"Mixed or multiple ethnic groups\",\"Asian or Asian American\",\"Black or African American\",\"Mixed or multiple ethnic groups\",\"White\",\"Black or African American\",\"White\",\"White\",\"White\",\"White\",\"White\",\"White\",\"White\",\"White\",\"White\",\"White\",\"White\",\"White\",\"White\",\"White\",\"White\",\"White\",\"White\",\"White\",\"White\",\"White\",\"White\",\"White\",\"White\",\"White\",\"White\",\"White\",\"White\",\"White\",\"White\",\"White\",\"White\",\"White\",\"White\",\"White\",\"White\",\"White\",\"White\",\"White\",\"White\",\"White\",\"White\",\"White\",\"White\",\"White\",\"White\",\"White\",\"White\",\"White\",\"White\",\"White\",\"White\",\"White\",\"White\",\"White\",\"White\",\"White\",\"White\",\"White\",\"White\",\"White\",\"White\",\"White\",\"White\",\"White\",\"White\",\"White\",\"White\",\"White\",\"White\",\"White\",\"White\",\"White\",\"White\",\"White\",\"White\",\"White\",\"White\",\"White\",\"White\",\"White\",\"White\",\"White\",\"White\",\"White\",\"White\",\"White\",\"White\",\"White\",\"White\",\"White\",\"White\",\"White\",\"White\",\"White\",\"White\",\"White\",\"White\",\"White\",\"White\",\"White\",\"White\",\"White\",\"White\",\"White\",\"White\",\"White\",\"White\",\"White\",\"White\",\"White\",\"White\",\"White\",\"White\",\"White\",\"White\",\"White\",\"White\",\"White\",\"White\",\"White\",\"White\",\"White\",\"White\",\"White\",\"White\",\"White\",\"White\",\"White\",\"White\",\"White\",\"White\",\"White\",\"White\",\"White\",\"White\",\"White\",\"White\",\"White\",\"White\",\"White\",\"White\",\"White\",\"White\",\"White\",\"White\",\"White\",\"White\",\"White\",\"White\",\"White\",\"White\",\"White\",\"White\",\"White\",\"White\",\"White\",\"White\",\"White\",\"White\",\"White\",\"White\",\"White\",\"White\",\"White\",\"White\",\"White\",\"White\",\"White\",\"White\",\"White\",\"White\",\"White\",\"White\",\"White\",\"White\",\"White\",\"White\",\"White\",\"White\",\"White\",\"White\",\"White\",\"White\",\"White\",\"White\",\"White\",\"White\",\"White\",\"White\",\"White\",\"White\",\"White\",\"White\",\"White\",\"White\",\"White\",\"White\",\"White\",\"White\",\"White\",\"White\",\"White\",\"White\",\"White\",\"White\",\"White\",\"White\",\"White\",\"White\",\"White\",\"White\",\"White\",\"White\",\"White\",\"White\",\"White\",\"White\",\"White\",\"White\",\"White\",\"White\",\"White\",\"White\",\"White\",\"White\",\"White\",\"White\",\"White\",\"White\",\"White\",\"White\",\"White\",\"White\",\"White\",\"White\",\"White\",\"White\",\"White\",\"White\",\"White\",\"White\",\"White\",\"White\",\"White\",\"White\",\"White\",\"White\",\"White\",\"White\",\"White\",\"White\",\"White\",\"White\",\"White\",\"White\",\"White\",\"White\",\"White\",\"White\",\"White\",\"White\",\"White\",\"White\",\"White\",\"White\",\"White\",\"White\",\"White\",\"White\",\"White\",\"White\",\"White\",\"White\",\"White\",\"White\",\"White\",\"White\",\"White\",\"White\",\"White\",\"White\",\"White\",\"White\",\"White\",\"White\",\"White\",\"White\",\"White\",\"White\",\"White\",\"White\",\"White\",\"White\",\"White\",\"White\",\"White\",\"White\",\"White\",\"White\",\"White\",\"White\",\"White\",\"White\",\"White\",\"White\",\"White\",\"White\",\"White\",\"White\",\"White\",\"White\",\"White\",\"White\",\"White\",\"White\",\"White\",\"White\",\"White\",\"White\",\"White\",\"White\",\"White\",\"White\",\"White\",\"White\",\"White\",\"White\",\"White\",\"White\",\"White\",\"White\",\"White\",\"White\",\"White\",\"White\",\"White\",\"White\",\"White\",\"White\",\"White\",\"White\",\"White\",\"White\",\"White\",\"White\",\"White\",\"White\",\"White\",\"White\",\"White\",\"White\",\"White\",\"White\",\"White\",\"White\",\"White\",\"White\",\"White\",\"White\",\"White\",\"White\",\"White\",\"White\",\"White\",\"White\",\"White\",\"Black or African American\",\"Black or African American\",\"Black or African American\",\"Black or African American\",\"Black or African American\",\"Black or African American\",\"Black or African American\",\"Black or African American\",\"Black or African American\",\"Black or African American\",\"Black or African American\",\"Black or African American\",\"Black or African American\",\"Black or African American\",\"Black or African American\",\"Black or African American\",\"Black or African American\",\"Black or African American\",\"Black or African American\",\"Black or African American\",\"Black or African American\"],\"legendgroup\":\"\",\"name\":\"\",\"showlegend\":true,\"type\":\"pie\"}],                        {\"template\":{\"data\":{\"histogram2dcontour\":[{\"type\":\"histogram2dcontour\",\"colorbar\":{\"outlinewidth\":0,\"ticks\":\"\"},\"colorscale\":[[0.0,\"#0d0887\"],[0.1111111111111111,\"#46039f\"],[0.2222222222222222,\"#7201a8\"],[0.3333333333333333,\"#9c179e\"],[0.4444444444444444,\"#bd3786\"],[0.5555555555555556,\"#d8576b\"],[0.6666666666666666,\"#ed7953\"],[0.7777777777777778,\"#fb9f3a\"],[0.8888888888888888,\"#fdca26\"],[1.0,\"#f0f921\"]]}],\"choropleth\":[{\"type\":\"choropleth\",\"colorbar\":{\"outlinewidth\":0,\"ticks\":\"\"}}],\"histogram2d\":[{\"type\":\"histogram2d\",\"colorbar\":{\"outlinewidth\":0,\"ticks\":\"\"},\"colorscale\":[[0.0,\"#0d0887\"],[0.1111111111111111,\"#46039f\"],[0.2222222222222222,\"#7201a8\"],[0.3333333333333333,\"#9c179e\"],[0.4444444444444444,\"#bd3786\"],[0.5555555555555556,\"#d8576b\"],[0.6666666666666666,\"#ed7953\"],[0.7777777777777778,\"#fb9f3a\"],[0.8888888888888888,\"#fdca26\"],[1.0,\"#f0f921\"]]}],\"heatmap\":[{\"type\":\"heatmap\",\"colorbar\":{\"outlinewidth\":0,\"ticks\":\"\"},\"colorscale\":[[0.0,\"#0d0887\"],[0.1111111111111111,\"#46039f\"],[0.2222222222222222,\"#7201a8\"],[0.3333333333333333,\"#9c179e\"],[0.4444444444444444,\"#bd3786\"],[0.5555555555555556,\"#d8576b\"],[0.6666666666666666,\"#ed7953\"],[0.7777777777777778,\"#fb9f3a\"],[0.8888888888888888,\"#fdca26\"],[1.0,\"#f0f921\"]]}],\"heatmapgl\":[{\"type\":\"heatmapgl\",\"colorbar\":{\"outlinewidth\":0,\"ticks\":\"\"},\"colorscale\":[[0.0,\"#0d0887\"],[0.1111111111111111,\"#46039f\"],[0.2222222222222222,\"#7201a8\"],[0.3333333333333333,\"#9c179e\"],[0.4444444444444444,\"#bd3786\"],[0.5555555555555556,\"#d8576b\"],[0.6666666666666666,\"#ed7953\"],[0.7777777777777778,\"#fb9f3a\"],[0.8888888888888888,\"#fdca26\"],[1.0,\"#f0f921\"]]}],\"contourcarpet\":[{\"type\":\"contourcarpet\",\"colorbar\":{\"outlinewidth\":0,\"ticks\":\"\"}}],\"contour\":[{\"type\":\"contour\",\"colorbar\":{\"outlinewidth\":0,\"ticks\":\"\"},\"colorscale\":[[0.0,\"#0d0887\"],[0.1111111111111111,\"#46039f\"],[0.2222222222222222,\"#7201a8\"],[0.3333333333333333,\"#9c179e\"],[0.4444444444444444,\"#bd3786\"],[0.5555555555555556,\"#d8576b\"],[0.6666666666666666,\"#ed7953\"],[0.7777777777777778,\"#fb9f3a\"],[0.8888888888888888,\"#fdca26\"],[1.0,\"#f0f921\"]]}],\"surface\":[{\"type\":\"surface\",\"colorbar\":{\"outlinewidth\":0,\"ticks\":\"\"},\"colorscale\":[[0.0,\"#0d0887\"],[0.1111111111111111,\"#46039f\"],[0.2222222222222222,\"#7201a8\"],[0.3333333333333333,\"#9c179e\"],[0.4444444444444444,\"#bd3786\"],[0.5555555555555556,\"#d8576b\"],[0.6666666666666666,\"#ed7953\"],[0.7777777777777778,\"#fb9f3a\"],[0.8888888888888888,\"#fdca26\"],[1.0,\"#f0f921\"]]}],\"mesh3d\":[{\"type\":\"mesh3d\",\"colorbar\":{\"outlinewidth\":0,\"ticks\":\"\"}}],\"scatter\":[{\"fillpattern\":{\"fillmode\":\"overlay\",\"size\":10,\"solidity\":0.2},\"type\":\"scatter\"}],\"parcoords\":[{\"type\":\"parcoords\",\"line\":{\"colorbar\":{\"outlinewidth\":0,\"ticks\":\"\"}}}],\"scatterpolargl\":[{\"type\":\"scatterpolargl\",\"marker\":{\"colorbar\":{\"outlinewidth\":0,\"ticks\":\"\"}}}],\"bar\":[{\"error_x\":{\"color\":\"#2a3f5f\"},\"error_y\":{\"color\":\"#2a3f5f\"},\"marker\":{\"line\":{\"color\":\"#E5ECF6\",\"width\":0.5},\"pattern\":{\"fillmode\":\"overlay\",\"size\":10,\"solidity\":0.2}},\"type\":\"bar\"}],\"scattergeo\":[{\"type\":\"scattergeo\",\"marker\":{\"colorbar\":{\"outlinewidth\":0,\"ticks\":\"\"}}}],\"scatterpolar\":[{\"type\":\"scatterpolar\",\"marker\":{\"colorbar\":{\"outlinewidth\":0,\"ticks\":\"\"}}}],\"histogram\":[{\"marker\":{\"pattern\":{\"fillmode\":\"overlay\",\"size\":10,\"solidity\":0.2}},\"type\":\"histogram\"}],\"scattergl\":[{\"type\":\"scattergl\",\"marker\":{\"colorbar\":{\"outlinewidth\":0,\"ticks\":\"\"}}}],\"scatter3d\":[{\"type\":\"scatter3d\",\"line\":{\"colorbar\":{\"outlinewidth\":0,\"ticks\":\"\"}},\"marker\":{\"colorbar\":{\"outlinewidth\":0,\"ticks\":\"\"}}}],\"scattermapbox\":[{\"type\":\"scattermapbox\",\"marker\":{\"colorbar\":{\"outlinewidth\":0,\"ticks\":\"\"}}}],\"scatterternary\":[{\"type\":\"scatterternary\",\"marker\":{\"colorbar\":{\"outlinewidth\":0,\"ticks\":\"\"}}}],\"scattercarpet\":[{\"type\":\"scattercarpet\",\"marker\":{\"colorbar\":{\"outlinewidth\":0,\"ticks\":\"\"}}}],\"carpet\":[{\"aaxis\":{\"endlinecolor\":\"#2a3f5f\",\"gridcolor\":\"white\",\"linecolor\":\"white\",\"minorgridcolor\":\"white\",\"startlinecolor\":\"#2a3f5f\"},\"baxis\":{\"endlinecolor\":\"#2a3f5f\",\"gridcolor\":\"white\",\"linecolor\":\"white\",\"minorgridcolor\":\"white\",\"startlinecolor\":\"#2a3f5f\"},\"type\":\"carpet\"}],\"table\":[{\"cells\":{\"fill\":{\"color\":\"#EBF0F8\"},\"line\":{\"color\":\"white\"}},\"header\":{\"fill\":{\"color\":\"#C8D4E3\"},\"line\":{\"color\":\"white\"}},\"type\":\"table\"}],\"barpolar\":[{\"marker\":{\"line\":{\"color\":\"#E5ECF6\",\"width\":0.5},\"pattern\":{\"fillmode\":\"overlay\",\"size\":10,\"solidity\":0.2}},\"type\":\"barpolar\"}],\"pie\":[{\"automargin\":true,\"type\":\"pie\"}]},\"layout\":{\"autotypenumbers\":\"strict\",\"colorway\":[\"#636efa\",\"#EF553B\",\"#00cc96\",\"#ab63fa\",\"#FFA15A\",\"#19d3f3\",\"#FF6692\",\"#B6E880\",\"#FF97FF\",\"#FECB52\"],\"font\":{\"color\":\"#2a3f5f\"},\"hovermode\":\"closest\",\"hoverlabel\":{\"align\":\"left\"},\"paper_bgcolor\":\"white\",\"plot_bgcolor\":\"#E5ECF6\",\"polar\":{\"bgcolor\":\"#E5ECF6\",\"angularaxis\":{\"gridcolor\":\"white\",\"linecolor\":\"white\",\"ticks\":\"\"},\"radialaxis\":{\"gridcolor\":\"white\",\"linecolor\":\"white\",\"ticks\":\"\"}},\"ternary\":{\"bgcolor\":\"#E5ECF6\",\"aaxis\":{\"gridcolor\":\"white\",\"linecolor\":\"white\",\"ticks\":\"\"},\"baxis\":{\"gridcolor\":\"white\",\"linecolor\":\"white\",\"ticks\":\"\"},\"caxis\":{\"gridcolor\":\"white\",\"linecolor\":\"white\",\"ticks\":\"\"}},\"coloraxis\":{\"colorbar\":{\"outlinewidth\":0,\"ticks\":\"\"}},\"colorscale\":{\"sequential\":[[0.0,\"#0d0887\"],[0.1111111111111111,\"#46039f\"],[0.2222222222222222,\"#7201a8\"],[0.3333333333333333,\"#9c179e\"],[0.4444444444444444,\"#bd3786\"],[0.5555555555555556,\"#d8576b\"],[0.6666666666666666,\"#ed7953\"],[0.7777777777777778,\"#fb9f3a\"],[0.8888888888888888,\"#fdca26\"],[1.0,\"#f0f921\"]],\"sequentialminus\":[[0.0,\"#0d0887\"],[0.1111111111111111,\"#46039f\"],[0.2222222222222222,\"#7201a8\"],[0.3333333333333333,\"#9c179e\"],[0.4444444444444444,\"#bd3786\"],[0.5555555555555556,\"#d8576b\"],[0.6666666666666666,\"#ed7953\"],[0.7777777777777778,\"#fb9f3a\"],[0.8888888888888888,\"#fdca26\"],[1.0,\"#f0f921\"]],\"diverging\":[[0,\"#8e0152\"],[0.1,\"#c51b7d\"],[0.2,\"#de77ae\"],[0.3,\"#f1b6da\"],[0.4,\"#fde0ef\"],[0.5,\"#f7f7f7\"],[0.6,\"#e6f5d0\"],[0.7,\"#b8e186\"],[0.8,\"#7fbc41\"],[0.9,\"#4d9221\"],[1,\"#276419\"]]},\"xaxis\":{\"gridcolor\":\"white\",\"linecolor\":\"white\",\"ticks\":\"\",\"title\":{\"standoff\":15},\"zerolinecolor\":\"white\",\"automargin\":true,\"zerolinewidth\":2},\"yaxis\":{\"gridcolor\":\"white\",\"linecolor\":\"white\",\"ticks\":\"\",\"title\":{\"standoff\":15},\"zerolinecolor\":\"white\",\"automargin\":true,\"zerolinewidth\":2},\"scene\":{\"xaxis\":{\"backgroundcolor\":\"#E5ECF6\",\"gridcolor\":\"white\",\"linecolor\":\"white\",\"showbackground\":true,\"ticks\":\"\",\"zerolinecolor\":\"white\",\"gridwidth\":2},\"yaxis\":{\"backgroundcolor\":\"#E5ECF6\",\"gridcolor\":\"white\",\"linecolor\":\"white\",\"showbackground\":true,\"ticks\":\"\",\"zerolinecolor\":\"white\",\"gridwidth\":2},\"zaxis\":{\"backgroundcolor\":\"#E5ECF6\",\"gridcolor\":\"white\",\"linecolor\":\"white\",\"showbackground\":true,\"ticks\":\"\",\"zerolinecolor\":\"white\",\"gridwidth\":2}},\"shapedefaults\":{\"line\":{\"color\":\"#2a3f5f\"}},\"annotationdefaults\":{\"arrowcolor\":\"#2a3f5f\",\"arrowhead\":0,\"arrowwidth\":1},\"geo\":{\"bgcolor\":\"white\",\"landcolor\":\"#E5ECF6\",\"subunitcolor\":\"white\",\"showland\":true,\"showlakes\":true,\"lakecolor\":\"white\"},\"title\":{\"x\":0.05},\"mapbox\":{\"style\":\"light\"}}},\"legend\":{\"tracegroupgap\":0},\"title\":{\"text\":\"Ethnicity Distribution\"},\"piecolorway\":[\"rgb(230, 240, 240)\",\"rgb(191, 221, 229)\",\"rgb(156, 201, 226)\",\"rgb(129, 180, 227)\",\"rgb(115, 154, 228)\",\"rgb(117, 127, 221)\",\"rgb(120, 100, 202)\",\"rgb(119, 74, 175)\",\"rgb(113, 50, 141)\",\"rgb(100, 31, 104)\",\"rgb(80, 20, 66)\",\"rgb(54, 14, 36)\"],\"height\":500,\"width\":700},                        {\"responsive\": true}                    ).then(function(){\n",
              "                            \n",
              "var gd = document.getElementById('7e5404d3-28ce-427f-a012-aea2e22b95c1');\n",
              "var x = new MutationObserver(function (mutations, observer) {{\n",
              "        var display = window.getComputedStyle(gd).display;\n",
              "        if (!display || display === 'none') {{\n",
              "            console.log([gd, 'removed!']);\n",
              "            Plotly.purge(gd);\n",
              "            observer.disconnect();\n",
              "        }}\n",
              "}});\n",
              "\n",
              "// Listen for the removal of the full notebook cells\n",
              "var notebookContainer = gd.closest('#notebook-container');\n",
              "if (notebookContainer) {{\n",
              "    x.observe(notebookContainer, {childList: true});\n",
              "}}\n",
              "\n",
              "// Listen for the clearing of the current output cell\n",
              "var outputEl = gd.closest('.output');\n",
              "if (outputEl) {{\n",
              "    x.observe(outputEl, {childList: true});\n",
              "}}\n",
              "\n",
              "                        })                };                            </script>        </div>\n",
              "</body>\n",
              "</html>"
            ]
          },
          "metadata": {}
        }
      ],
      "source": [
        "fig3 = px.pie(df_filtered, names='Ethnicity', title=\"Ethnicity Distribution\", width=700, height=500, color_discrete_sequence=px.colors.sequential.dense)\n",
        "\n",
        "fig3.show()"
      ]
    },
    {
      "cell_type": "markdown",
      "metadata": {
        "id": "_1cjNxSnUiX4"
      },
      "source": [
        "The ethnic distribution of employees shows that the majority of the workforce identifies as White, making up 58.6% of the total employees. Black employees account for 14.3%, followed by Mixed ethnicity at 13.5%, and Asian employees at 7.7%. Smaller groups include Native Alaskan (3.16%), Native Hawaiian (1.62%), and Other ethnicities (1.14%). While the workforce is predominantly White, there is noticeable diversity across different ethnic backgrounds, which highlights the company's efforts to attract a broad range of employees."
      ]
    },
    {
      "cell_type": "markdown",
      "metadata": {
        "id": "aETFJtArZl_b"
      },
      "source": [
        "**By Education Level**"
      ]
    },
    {
      "cell_type": "code",
      "execution_count": 112,
      "metadata": {
        "colab": {
          "base_uri": "https://localhost:8080/",
          "height": 517
        },
        "id": "KbnSIg08t-EV",
        "outputId": "58da4ecf-60ff-4065-f943-29eb5f3bb12a"
      },
      "outputs": [
        {
          "output_type": "display_data",
          "data": {
            "text/html": [
              "<html>\n",
              "<head><meta charset=\"utf-8\" /></head>\n",
              "<body>\n",
              "    <div>            <script src=\"https://cdnjs.cloudflare.com/ajax/libs/mathjax/2.7.5/MathJax.js?config=TeX-AMS-MML_SVG\"></script><script type=\"text/javascript\">if (window.MathJax && window.MathJax.Hub && window.MathJax.Hub.Config) {window.MathJax.Hub.Config({SVG: {font: \"STIX-Web\"}});}</script>                <script type=\"text/javascript\">window.PlotlyConfig = {MathJaxConfig: 'local'};</script>\n",
              "        <script charset=\"utf-8\" src=\"https://cdn.plot.ly/plotly-2.35.2.min.js\"></script>                <div id=\"6e653541-2599-4e4e-8c48-174400523e6e\" class=\"plotly-graph-div\" style=\"height:500px; width:700px;\"></div>            <script type=\"text/javascript\">                                    window.PLOTLYENV=window.PLOTLYENV || {};                                    if (document.getElementById(\"6e653541-2599-4e4e-8c48-174400523e6e\")) {                    Plotly.newPlot(                        \"6e653541-2599-4e4e-8c48-174400523e6e\",                        [{\"alignmentgroup\":\"True\",\"hovertemplate\":\"Education Level=%{y}\\u003cbr\\u003eCount=%{x}\\u003cextra\\u003e\\u003c\\u002fextra\\u003e\",\"legendgroup\":\"Doctor\",\"marker\":{\"color\":\"rgb(230, 240, 240)\",\"pattern\":{\"shape\":\"\"}},\"name\":\"Doctor\",\"offsetgroup\":\"Doctor\",\"orientation\":\"h\",\"showlegend\":true,\"textposition\":\"auto\",\"x\":[43],\"xaxis\":\"x\",\"y\":[\"Doctor\"],\"yaxis\":\"y\",\"type\":\"bar\"},{\"alignmentgroup\":\"True\",\"hovertemplate\":\"Education Level=%{y}\\u003cbr\\u003eCount=%{x}\\u003cextra\\u003e\\u003c\\u002fextra\\u003e\",\"legendgroup\":\"No Formal Qualification\",\"marker\":{\"color\":\"rgb(191, 221, 229)\",\"pattern\":{\"shape\":\"\"}},\"name\":\"No Formal Qualification\",\"offsetgroup\":\"No Formal Qualification\",\"orientation\":\"h\",\"showlegend\":true,\"textposition\":\"auto\",\"x\":[139],\"xaxis\":\"x\",\"y\":[\"No Formal Qualification\"],\"yaxis\":\"y\",\"type\":\"bar\"},{\"alignmentgroup\":\"True\",\"hovertemplate\":\"Education Level=%{y}\\u003cbr\\u003eCount=%{x}\\u003cextra\\u003e\\u003c\\u002fextra\\u003e\",\"legendgroup\":\"High School\",\"marker\":{\"color\":\"rgb(156, 201, 226)\",\"pattern\":{\"shape\":\"\"}},\"name\":\"High School\",\"offsetgroup\":\"High School\",\"orientation\":\"h\",\"showlegend\":true,\"textposition\":\"auto\",\"x\":[238],\"xaxis\":\"x\",\"y\":[\"High School\"],\"yaxis\":\"y\",\"type\":\"bar\"},{\"alignmentgroup\":\"True\",\"hovertemplate\":\"Education Level=%{y}\\u003cbr\\u003eCount=%{x}\\u003cextra\\u003e\\u003c\\u002fextra\\u003e\",\"legendgroup\":\"Masters\",\"marker\":{\"color\":\"rgb(129, 180, 227)\",\"pattern\":{\"shape\":\"\"}},\"name\":\"Masters\",\"offsetgroup\":\"Masters\",\"orientation\":\"h\",\"showlegend\":true,\"textposition\":\"auto\",\"x\":[340],\"xaxis\":\"x\",\"y\":[\"Masters\"],\"yaxis\":\"y\",\"type\":\"bar\"},{\"alignmentgroup\":\"True\",\"hovertemplate\":\"Education Level=%{y}\\u003cbr\\u003eCount=%{x}\\u003cextra\\u003e\\u003c\\u002fextra\\u003e\",\"legendgroup\":\"Bachelor\",\"marker\":{\"color\":\"rgb(115, 154, 228)\",\"pattern\":{\"shape\":\"\"}},\"name\":\"Bachelor\",\"offsetgroup\":\"Bachelor\",\"orientation\":\"h\",\"showlegend\":true,\"textposition\":\"auto\",\"x\":[473],\"xaxis\":\"x\",\"y\":[\"Bachelor\"],\"yaxis\":\"y\",\"type\":\"bar\"}],                        {\"template\":{\"data\":{\"barpolar\":[{\"marker\":{\"line\":{\"color\":\"white\",\"width\":0.5},\"pattern\":{\"fillmode\":\"overlay\",\"size\":10,\"solidity\":0.2}},\"type\":\"barpolar\"}],\"bar\":[{\"error_x\":{\"color\":\"#2a3f5f\"},\"error_y\":{\"color\":\"#2a3f5f\"},\"marker\":{\"line\":{\"color\":\"white\",\"width\":0.5},\"pattern\":{\"fillmode\":\"overlay\",\"size\":10,\"solidity\":0.2}},\"type\":\"bar\"}],\"carpet\":[{\"aaxis\":{\"endlinecolor\":\"#2a3f5f\",\"gridcolor\":\"#C8D4E3\",\"linecolor\":\"#C8D4E3\",\"minorgridcolor\":\"#C8D4E3\",\"startlinecolor\":\"#2a3f5f\"},\"baxis\":{\"endlinecolor\":\"#2a3f5f\",\"gridcolor\":\"#C8D4E3\",\"linecolor\":\"#C8D4E3\",\"minorgridcolor\":\"#C8D4E3\",\"startlinecolor\":\"#2a3f5f\"},\"type\":\"carpet\"}],\"choropleth\":[{\"colorbar\":{\"outlinewidth\":0,\"ticks\":\"\"},\"type\":\"choropleth\"}],\"contourcarpet\":[{\"colorbar\":{\"outlinewidth\":0,\"ticks\":\"\"},\"type\":\"contourcarpet\"}],\"contour\":[{\"colorbar\":{\"outlinewidth\":0,\"ticks\":\"\"},\"colorscale\":[[0.0,\"#0d0887\"],[0.1111111111111111,\"#46039f\"],[0.2222222222222222,\"#7201a8\"],[0.3333333333333333,\"#9c179e\"],[0.4444444444444444,\"#bd3786\"],[0.5555555555555556,\"#d8576b\"],[0.6666666666666666,\"#ed7953\"],[0.7777777777777778,\"#fb9f3a\"],[0.8888888888888888,\"#fdca26\"],[1.0,\"#f0f921\"]],\"type\":\"contour\"}],\"heatmapgl\":[{\"colorbar\":{\"outlinewidth\":0,\"ticks\":\"\"},\"colorscale\":[[0.0,\"#0d0887\"],[0.1111111111111111,\"#46039f\"],[0.2222222222222222,\"#7201a8\"],[0.3333333333333333,\"#9c179e\"],[0.4444444444444444,\"#bd3786\"],[0.5555555555555556,\"#d8576b\"],[0.6666666666666666,\"#ed7953\"],[0.7777777777777778,\"#fb9f3a\"],[0.8888888888888888,\"#fdca26\"],[1.0,\"#f0f921\"]],\"type\":\"heatmapgl\"}],\"heatmap\":[{\"colorbar\":{\"outlinewidth\":0,\"ticks\":\"\"},\"colorscale\":[[0.0,\"#0d0887\"],[0.1111111111111111,\"#46039f\"],[0.2222222222222222,\"#7201a8\"],[0.3333333333333333,\"#9c179e\"],[0.4444444444444444,\"#bd3786\"],[0.5555555555555556,\"#d8576b\"],[0.6666666666666666,\"#ed7953\"],[0.7777777777777778,\"#fb9f3a\"],[0.8888888888888888,\"#fdca26\"],[1.0,\"#f0f921\"]],\"type\":\"heatmap\"}],\"histogram2dcontour\":[{\"colorbar\":{\"outlinewidth\":0,\"ticks\":\"\"},\"colorscale\":[[0.0,\"#0d0887\"],[0.1111111111111111,\"#46039f\"],[0.2222222222222222,\"#7201a8\"],[0.3333333333333333,\"#9c179e\"],[0.4444444444444444,\"#bd3786\"],[0.5555555555555556,\"#d8576b\"],[0.6666666666666666,\"#ed7953\"],[0.7777777777777778,\"#fb9f3a\"],[0.8888888888888888,\"#fdca26\"],[1.0,\"#f0f921\"]],\"type\":\"histogram2dcontour\"}],\"histogram2d\":[{\"colorbar\":{\"outlinewidth\":0,\"ticks\":\"\"},\"colorscale\":[[0.0,\"#0d0887\"],[0.1111111111111111,\"#46039f\"],[0.2222222222222222,\"#7201a8\"],[0.3333333333333333,\"#9c179e\"],[0.4444444444444444,\"#bd3786\"],[0.5555555555555556,\"#d8576b\"],[0.6666666666666666,\"#ed7953\"],[0.7777777777777778,\"#fb9f3a\"],[0.8888888888888888,\"#fdca26\"],[1.0,\"#f0f921\"]],\"type\":\"histogram2d\"}],\"histogram\":[{\"marker\":{\"pattern\":{\"fillmode\":\"overlay\",\"size\":10,\"solidity\":0.2}},\"type\":\"histogram\"}],\"mesh3d\":[{\"colorbar\":{\"outlinewidth\":0,\"ticks\":\"\"},\"type\":\"mesh3d\"}],\"parcoords\":[{\"line\":{\"colorbar\":{\"outlinewidth\":0,\"ticks\":\"\"}},\"type\":\"parcoords\"}],\"pie\":[{\"automargin\":true,\"type\":\"pie\"}],\"scatter3d\":[{\"line\":{\"colorbar\":{\"outlinewidth\":0,\"ticks\":\"\"}},\"marker\":{\"colorbar\":{\"outlinewidth\":0,\"ticks\":\"\"}},\"type\":\"scatter3d\"}],\"scattercarpet\":[{\"marker\":{\"colorbar\":{\"outlinewidth\":0,\"ticks\":\"\"}},\"type\":\"scattercarpet\"}],\"scattergeo\":[{\"marker\":{\"colorbar\":{\"outlinewidth\":0,\"ticks\":\"\"}},\"type\":\"scattergeo\"}],\"scattergl\":[{\"marker\":{\"colorbar\":{\"outlinewidth\":0,\"ticks\":\"\"}},\"type\":\"scattergl\"}],\"scattermapbox\":[{\"marker\":{\"colorbar\":{\"outlinewidth\":0,\"ticks\":\"\"}},\"type\":\"scattermapbox\"}],\"scatterpolargl\":[{\"marker\":{\"colorbar\":{\"outlinewidth\":0,\"ticks\":\"\"}},\"type\":\"scatterpolargl\"}],\"scatterpolar\":[{\"marker\":{\"colorbar\":{\"outlinewidth\":0,\"ticks\":\"\"}},\"type\":\"scatterpolar\"}],\"scatter\":[{\"fillpattern\":{\"fillmode\":\"overlay\",\"size\":10,\"solidity\":0.2},\"type\":\"scatter\"}],\"scatterternary\":[{\"marker\":{\"colorbar\":{\"outlinewidth\":0,\"ticks\":\"\"}},\"type\":\"scatterternary\"}],\"surface\":[{\"colorbar\":{\"outlinewidth\":0,\"ticks\":\"\"},\"colorscale\":[[0.0,\"#0d0887\"],[0.1111111111111111,\"#46039f\"],[0.2222222222222222,\"#7201a8\"],[0.3333333333333333,\"#9c179e\"],[0.4444444444444444,\"#bd3786\"],[0.5555555555555556,\"#d8576b\"],[0.6666666666666666,\"#ed7953\"],[0.7777777777777778,\"#fb9f3a\"],[0.8888888888888888,\"#fdca26\"],[1.0,\"#f0f921\"]],\"type\":\"surface\"}],\"table\":[{\"cells\":{\"fill\":{\"color\":\"#EBF0F8\"},\"line\":{\"color\":\"white\"}},\"header\":{\"fill\":{\"color\":\"#C8D4E3\"},\"line\":{\"color\":\"white\"}},\"type\":\"table\"}]},\"layout\":{\"annotationdefaults\":{\"arrowcolor\":\"#2a3f5f\",\"arrowhead\":0,\"arrowwidth\":1},\"autotypenumbers\":\"strict\",\"coloraxis\":{\"colorbar\":{\"outlinewidth\":0,\"ticks\":\"\"}},\"colorscale\":{\"diverging\":[[0,\"#8e0152\"],[0.1,\"#c51b7d\"],[0.2,\"#de77ae\"],[0.3,\"#f1b6da\"],[0.4,\"#fde0ef\"],[0.5,\"#f7f7f7\"],[0.6,\"#e6f5d0\"],[0.7,\"#b8e186\"],[0.8,\"#7fbc41\"],[0.9,\"#4d9221\"],[1,\"#276419\"]],\"sequential\":[[0.0,\"#0d0887\"],[0.1111111111111111,\"#46039f\"],[0.2222222222222222,\"#7201a8\"],[0.3333333333333333,\"#9c179e\"],[0.4444444444444444,\"#bd3786\"],[0.5555555555555556,\"#d8576b\"],[0.6666666666666666,\"#ed7953\"],[0.7777777777777778,\"#fb9f3a\"],[0.8888888888888888,\"#fdca26\"],[1.0,\"#f0f921\"]],\"sequentialminus\":[[0.0,\"#0d0887\"],[0.1111111111111111,\"#46039f\"],[0.2222222222222222,\"#7201a8\"],[0.3333333333333333,\"#9c179e\"],[0.4444444444444444,\"#bd3786\"],[0.5555555555555556,\"#d8576b\"],[0.6666666666666666,\"#ed7953\"],[0.7777777777777778,\"#fb9f3a\"],[0.8888888888888888,\"#fdca26\"],[1.0,\"#f0f921\"]]},\"colorway\":[\"#636efa\",\"#EF553B\",\"#00cc96\",\"#ab63fa\",\"#FFA15A\",\"#19d3f3\",\"#FF6692\",\"#B6E880\",\"#FF97FF\",\"#FECB52\"],\"font\":{\"color\":\"#2a3f5f\"},\"geo\":{\"bgcolor\":\"white\",\"lakecolor\":\"white\",\"landcolor\":\"white\",\"showlakes\":true,\"showland\":true,\"subunitcolor\":\"#C8D4E3\"},\"hoverlabel\":{\"align\":\"left\"},\"hovermode\":\"closest\",\"mapbox\":{\"style\":\"light\"},\"paper_bgcolor\":\"white\",\"plot_bgcolor\":\"white\",\"polar\":{\"angularaxis\":{\"gridcolor\":\"#EBF0F8\",\"linecolor\":\"#EBF0F8\",\"ticks\":\"\"},\"bgcolor\":\"white\",\"radialaxis\":{\"gridcolor\":\"#EBF0F8\",\"linecolor\":\"#EBF0F8\",\"ticks\":\"\"}},\"scene\":{\"xaxis\":{\"backgroundcolor\":\"white\",\"gridcolor\":\"#DFE8F3\",\"gridwidth\":2,\"linecolor\":\"#EBF0F8\",\"showbackground\":true,\"ticks\":\"\",\"zerolinecolor\":\"#EBF0F8\"},\"yaxis\":{\"backgroundcolor\":\"white\",\"gridcolor\":\"#DFE8F3\",\"gridwidth\":2,\"linecolor\":\"#EBF0F8\",\"showbackground\":true,\"ticks\":\"\",\"zerolinecolor\":\"#EBF0F8\"},\"zaxis\":{\"backgroundcolor\":\"white\",\"gridcolor\":\"#DFE8F3\",\"gridwidth\":2,\"linecolor\":\"#EBF0F8\",\"showbackground\":true,\"ticks\":\"\",\"zerolinecolor\":\"#EBF0F8\"}},\"shapedefaults\":{\"line\":{\"color\":\"#2a3f5f\"}},\"ternary\":{\"aaxis\":{\"gridcolor\":\"#DFE8F3\",\"linecolor\":\"#A2B1C6\",\"ticks\":\"\"},\"baxis\":{\"gridcolor\":\"#DFE8F3\",\"linecolor\":\"#A2B1C6\",\"ticks\":\"\"},\"bgcolor\":\"white\",\"caxis\":{\"gridcolor\":\"#DFE8F3\",\"linecolor\":\"#A2B1C6\",\"ticks\":\"\"}},\"title\":{\"x\":0.05},\"xaxis\":{\"automargin\":true,\"gridcolor\":\"#EBF0F8\",\"linecolor\":\"#EBF0F8\",\"ticks\":\"\",\"title\":{\"standoff\":15},\"zerolinecolor\":\"#EBF0F8\",\"zerolinewidth\":2},\"yaxis\":{\"automargin\":true,\"gridcolor\":\"#EBF0F8\",\"linecolor\":\"#EBF0F8\",\"ticks\":\"\",\"title\":{\"standoff\":15},\"zerolinecolor\":\"#EBF0F8\",\"zerolinewidth\":2}}},\"xaxis\":{\"anchor\":\"y\",\"domain\":[0.0,1.0],\"title\":{\"text\":\"Count\"}},\"yaxis\":{\"anchor\":\"x\",\"domain\":[0.0,1.0],\"title\":{\"text\":\"Education Level\"},\"categoryorder\":\"array\",\"categoryarray\":[\"Bachelor\",\"Masters\",\"High School\",\"No Formal Qualification\",\"Doctor\"]},\"legend\":{\"title\":{\"text\":\"Education Level\"},\"tracegroupgap\":0},\"title\":{\"text\":\"Employee Distribution by Education Level\"},\"barmode\":\"relative\",\"height\":500,\"width\":700},                        {\"responsive\": true}                    ).then(function(){\n",
              "                            \n",
              "var gd = document.getElementById('6e653541-2599-4e4e-8c48-174400523e6e');\n",
              "var x = new MutationObserver(function (mutations, observer) {{\n",
              "        var display = window.getComputedStyle(gd).display;\n",
              "        if (!display || display === 'none') {{\n",
              "            console.log([gd, 'removed!']);\n",
              "            Plotly.purge(gd);\n",
              "            observer.disconnect();\n",
              "        }}\n",
              "}});\n",
              "\n",
              "// Listen for the removal of the full notebook cells\n",
              "var notebookContainer = gd.closest('#notebook-container');\n",
              "if (notebookContainer) {{\n",
              "    x.observe(notebookContainer, {childList: true});\n",
              "}}\n",
              "\n",
              "// Listen for the clearing of the current output cell\n",
              "var outputEl = gd.closest('.output');\n",
              "if (outputEl) {{\n",
              "    x.observe(outputEl, {childList: true});\n",
              "}}\n",
              "\n",
              "                        })                };                            </script>        </div>\n",
              "</body>\n",
              "</html>"
            ]
          },
          "metadata": {}
        }
      ],
      "source": [
        "education_mapping = {\n",
        "    1: 'No Formal Qualification',\n",
        "    2: 'High School',\n",
        "    3: 'Bachelor',\n",
        "    4: 'Masters',\n",
        "    5: 'Doctor' }\n",
        "df_filtered['EducationLevel'] = df_filtered['Education'].map(education_mapping)\n",
        "df_education_level = df_filtered.groupby('EducationLevel').size().reset_index(name='EducationLevelCount')\n",
        "df_education_level = df_education_level.sort_values(by='EducationLevelCount')\n",
        "fig4 = px.bar(df_education_level, y='EducationLevel', x='EducationLevelCount', title='Employee Distribution by Education Level',\n",
        "             width=700, height=500, labels={'EducationLevel': 'Education Level', 'EducationLevelCount': 'Count'},\n",
        "             color='EducationLevel', color_discrete_sequence=px.colors.sequential.dense, template='plotly_white')\n",
        "fig4.show()"
      ]
    },
    {
      "cell_type": "markdown",
      "metadata": {
        "id": "RfutIJxc29cF"
      },
      "source": [
        "The majority of employees hold a Bachelor's degree , followed by Master’s and High School. The company has relatively few employees with a Doctorate , suggesting a workforce with strong educational qualifications but not highly concentrated in advanced degrees."
      ]
    },
    {
      "cell_type": "markdown",
      "metadata": {
        "id": "ZefUvAIFXQGT"
      },
      "source": [
        "**By Department**"
      ]
    },
    {
      "cell_type": "code",
      "execution_count": 113,
      "metadata": {
        "colab": {
          "base_uri": "https://localhost:8080/",
          "height": 517
        },
        "id": "ghVxx-s93Sb0",
        "outputId": "c3ddcbd8-289c-46af-eee4-2d3e413a01ca"
      },
      "outputs": [
        {
          "output_type": "display_data",
          "data": {
            "text/html": [
              "<html>\n",
              "<head><meta charset=\"utf-8\" /></head>\n",
              "<body>\n",
              "    <div>            <script src=\"https://cdnjs.cloudflare.com/ajax/libs/mathjax/2.7.5/MathJax.js?config=TeX-AMS-MML_SVG\"></script><script type=\"text/javascript\">if (window.MathJax && window.MathJax.Hub && window.MathJax.Hub.Config) {window.MathJax.Hub.Config({SVG: {font: \"STIX-Web\"}});}</script>                <script type=\"text/javascript\">window.PlotlyConfig = {MathJaxConfig: 'local'};</script>\n",
              "        <script charset=\"utf-8\" src=\"https://cdn.plot.ly/plotly-2.35.2.min.js\"></script>                <div id=\"c9dd21cd-f11c-479c-b454-8d09880db2c8\" class=\"plotly-graph-div\" style=\"height:500px; width:700px;\"></div>            <script type=\"text/javascript\">                                    window.PLOTLYENV=window.PLOTLYENV || {};                                    if (document.getElementById(\"c9dd21cd-f11c-479c-b454-8d09880db2c8\")) {                    Plotly.newPlot(                        \"c9dd21cd-f11c-479c-b454-8d09880db2c8\",                        [{\"domain\":{\"x\":[0.0,1.0],\"y\":[0.0,1.0]},\"hovertemplate\":\"Department=%{label}\\u003cextra\\u003e\\u003c\\u002fextra\\u003e\",\"labels\":[\"Sales\",\"Sales\",\"Human Resources\",\"Technology\",\"Sales\",\"Technology\",\"Sales\",\"Sales\",\"Technology\",\"Technology\",\"Sales\",\"Technology\",\"Technology\",\"Technology\",\"Sales\",\"Sales\",\"Technology\",\"Sales\",\"Human Resources\",\"Technology\",\"Human Resources\",\"Technology\",\"Technology\",\"Sales\",\"Human Resources\",\"Sales\",\"Sales\",\"Technology\",\"Sales\",\"Technology\",\"Technology\",\"Technology\",\"Technology\",\"Technology\",\"Technology\",\"Technology\",\"Sales\",\"Technology\",\"Sales\",\"Technology\",\"Sales\",\"Human Resources\",\"Technology\",\"Technology\",\"Technology\",\"Technology\",\"Sales\",\"Human Resources\",\"Technology\",\"Technology\",\"Technology\",\"Technology\",\"Technology\",\"Sales\",\"Sales\",\"Human Resources\",\"Technology\",\"Technology\",\"Technology\",\"Technology\",\"Sales\",\"Technology\",\"Technology\",\"Sales\",\"Technology\",\"Sales\",\"Technology\",\"Technology\",\"Sales\",\"Human Resources\",\"Technology\",\"Technology\",\"Sales\",\"Technology\",\"Sales\",\"Technology\",\"Technology\",\"Technology\",\"Human Resources\",\"Technology\",\"Technology\",\"Sales\",\"Technology\",\"Technology\",\"Technology\",\"Technology\",\"Technology\",\"Sales\",\"Technology\",\"Sales\",\"Technology\",\"Technology\",\"Technology\",\"Technology\",\"Technology\",\"Sales\",\"Technology\",\"Technology\",\"Technology\",\"Technology\",\"Technology\",\"Technology\",\"Sales\",\"Sales\",\"Sales\",\"Technology\",\"Sales\",\"Technology\",\"Sales\",\"Sales\",\"Technology\",\"Technology\",\"Sales\",\"Technology\",\"Technology\",\"Technology\",\"Technology\",\"Sales\",\"Technology\",\"Sales\",\"Technology\",\"Sales\",\"Technology\",\"Technology\",\"Technology\",\"Technology\",\"Sales\",\"Technology\",\"Sales\",\"Sales\",\"Technology\",\"Technology\",\"Technology\",\"Technology\",\"Technology\",\"Sales\",\"Technology\",\"Technology\",\"Human Resources\",\"Technology\",\"Technology\",\"Technology\",\"Sales\",\"Sales\",\"Technology\",\"Sales\",\"Sales\",\"Technology\",\"Technology\",\"Technology\",\"Technology\",\"Technology\",\"Technology\",\"Technology\",\"Sales\",\"Technology\",\"Sales\",\"Technology\",\"Sales\",\"Technology\",\"Sales\",\"Technology\",\"Technology\",\"Technology\",\"Technology\",\"Technology\",\"Human Resources\",\"Technology\",\"Technology\",\"Technology\",\"Technology\",\"Technology\",\"Technology\",\"Technology\",\"Technology\",\"Technology\",\"Sales\",\"Technology\",\"Technology\",\"Technology\",\"Technology\",\"Technology\",\"Technology\",\"Sales\",\"Technology\",\"Sales\",\"Sales\",\"Sales\",\"Technology\",\"Technology\",\"Technology\",\"Technology\",\"Technology\",\"Technology\",\"Sales\",\"Technology\",\"Technology\",\"Technology\",\"Sales\",\"Technology\",\"Sales\",\"Technology\",\"Technology\",\"Human Resources\",\"Technology\",\"Sales\",\"Sales\",\"Sales\",\"Technology\",\"Technology\",\"Technology\",\"Technology\",\"Sales\",\"Technology\",\"Technology\",\"Technology\",\"Technology\",\"Technology\",\"Technology\",\"Technology\",\"Technology\",\"Sales\",\"Technology\",\"Sales\",\"Sales\",\"Technology\",\"Technology\",\"Technology\",\"Technology\",\"Human Resources\",\"Technology\",\"Technology\",\"Technology\",\"Technology\",\"Sales\",\"Technology\",\"Technology\",\"Technology\",\"Technology\",\"Technology\",\"Sales\",\"Sales\",\"Technology\",\"Technology\",\"Technology\",\"Technology\",\"Technology\",\"Technology\",\"Technology\",\"Technology\",\"Technology\",\"Technology\",\"Technology\",\"Sales\",\"Sales\",\"Sales\",\"Technology\",\"Technology\",\"Technology\",\"Technology\",\"Technology\",\"Sales\",\"Sales\",\"Technology\",\"Sales\",\"Technology\",\"Technology\",\"Technology\",\"Technology\",\"Sales\",\"Sales\",\"Sales\",\"Technology\",\"Technology\",\"Technology\",\"Sales\",\"Technology\",\"Technology\",\"Sales\",\"Technology\",\"Technology\",\"Technology\",\"Sales\",\"Sales\",\"Technology\",\"Technology\",\"Sales\",\"Sales\",\"Technology\",\"Technology\",\"Technology\",\"Technology\",\"Sales\",\"Technology\",\"Sales\",\"Technology\",\"Technology\",\"Technology\",\"Technology\",\"Technology\",\"Human Resources\",\"Technology\",\"Sales\",\"Technology\",\"Sales\",\"Technology\",\"Sales\",\"Technology\",\"Technology\",\"Sales\",\"Sales\",\"Technology\",\"Sales\",\"Technology\",\"Technology\",\"Technology\",\"Technology\",\"Technology\",\"Sales\",\"Technology\",\"Technology\",\"Sales\",\"Technology\",\"Technology\",\"Sales\",\"Sales\",\"Technology\",\"Technology\",\"Sales\",\"Technology\",\"Technology\",\"Sales\",\"Technology\",\"Sales\",\"Technology\",\"Technology\",\"Sales\",\"Technology\",\"Technology\",\"Sales\",\"Sales\",\"Sales\",\"Sales\",\"Technology\",\"Sales\",\"Sales\",\"Technology\",\"Technology\",\"Sales\",\"Human Resources\",\"Sales\",\"Technology\",\"Technology\",\"Sales\",\"Technology\",\"Technology\",\"Technology\",\"Technology\",\"Human Resources\",\"Technology\",\"Technology\",\"Technology\",\"Technology\",\"Technology\",\"Sales\",\"Technology\",\"Technology\",\"Technology\",\"Technology\",\"Technology\",\"Sales\",\"Technology\",\"Technology\",\"Sales\",\"Technology\",\"Sales\",\"Human Resources\",\"Sales\",\"Sales\",\"Technology\",\"Technology\",\"Technology\",\"Technology\",\"Technology\",\"Technology\",\"Technology\",\"Technology\",\"Technology\",\"Sales\",\"Technology\",\"Technology\",\"Technology\",\"Technology\",\"Technology\",\"Technology\",\"Human Resources\",\"Technology\",\"Technology\",\"Technology\",\"Technology\",\"Technology\",\"Human Resources\",\"Technology\",\"Technology\",\"Technology\",\"Technology\",\"Technology\",\"Technology\",\"Technology\",\"Sales\",\"Technology\",\"Technology\",\"Technology\",\"Sales\",\"Sales\",\"Technology\",\"Technology\",\"Technology\",\"Technology\",\"Technology\",\"Technology\",\"Technology\",\"Sales\",\"Technology\",\"Sales\",\"Technology\",\"Technology\",\"Technology\",\"Technology\",\"Technology\",\"Sales\",\"Sales\",\"Technology\",\"Sales\",\"Technology\",\"Technology\",\"Technology\",\"Technology\",\"Sales\",\"Sales\",\"Sales\",\"Technology\",\"Technology\",\"Sales\",\"Sales\",\"Sales\",\"Technology\",\"Technology\",\"Technology\",\"Sales\",\"Technology\",\"Technology\",\"Technology\",\"Technology\",\"Sales\",\"Sales\",\"Sales\",\"Technology\",\"Technology\",\"Technology\",\"Sales\",\"Technology\",\"Technology\",\"Technology\",\"Technology\",\"Technology\",\"Technology\",\"Sales\",\"Sales\",\"Technology\",\"Sales\",\"Sales\",\"Sales\",\"Sales\",\"Technology\",\"Technology\",\"Sales\",\"Technology\",\"Technology\",\"Technology\",\"Technology\",\"Technology\",\"Sales\",\"Technology\",\"Sales\",\"Technology\",\"Technology\",\"Technology\",\"Technology\",\"Technology\",\"Technology\",\"Technology\",\"Technology\",\"Technology\",\"Technology\",\"Sales\",\"Technology\",\"Technology\",\"Technology\",\"Sales\",\"Technology\",\"Technology\",\"Technology\",\"Sales\",\"Sales\",\"Sales\",\"Sales\",\"Technology\",\"Sales\",\"Technology\",\"Human Resources\",\"Sales\",\"Human Resources\",\"Technology\",\"Technology\",\"Sales\",\"Technology\",\"Technology\",\"Technology\",\"Sales\",\"Technology\",\"Technology\",\"Technology\",\"Technology\",\"Technology\",\"Technology\",\"Sales\",\"Sales\",\"Technology\",\"Technology\",\"Technology\",\"Technology\",\"Technology\",\"Technology\",\"Technology\",\"Technology\",\"Sales\",\"Technology\",\"Sales\",\"Technology\",\"Technology\",\"Sales\",\"Technology\",\"Sales\",\"Technology\",\"Technology\",\"Technology\",\"Technology\",\"Sales\",\"Technology\",\"Technology\",\"Technology\",\"Sales\",\"Technology\",\"Technology\",\"Technology\",\"Technology\",\"Sales\",\"Sales\",\"Sales\",\"Technology\",\"Technology\",\"Sales\",\"Technology\",\"Technology\",\"Technology\",\"Sales\",\"Technology\",\"Technology\",\"Technology\",\"Human Resources\",\"Sales\",\"Technology\",\"Technology\",\"Sales\",\"Technology\",\"Technology\",\"Human Resources\",\"Technology\",\"Technology\",\"Technology\",\"Sales\",\"Technology\",\"Technology\",\"Technology\",\"Human Resources\",\"Technology\",\"Technology\",\"Technology\",\"Technology\",\"Sales\",\"Technology\",\"Human Resources\",\"Technology\",\"Technology\",\"Technology\",\"Sales\",\"Technology\",\"Technology\",\"Technology\",\"Technology\",\"Technology\",\"Technology\",\"Technology\",\"Technology\",\"Technology\",\"Human Resources\",\"Technology\",\"Technology\",\"Technology\",\"Technology\",\"Technology\",\"Sales\",\"Sales\",\"Sales\",\"Technology\",\"Technology\",\"Technology\",\"Technology\",\"Technology\",\"Technology\",\"Sales\",\"Sales\",\"Technology\",\"Technology\",\"Sales\",\"Technology\",\"Technology\",\"Technology\",\"Sales\",\"Technology\",\"Sales\",\"Technology\",\"Technology\",\"Technology\",\"Technology\",\"Human Resources\",\"Sales\",\"Technology\",\"Technology\",\"Technology\",\"Technology\",\"Technology\",\"Technology\",\"Technology\",\"Technology\",\"Technology\",\"Technology\",\"Sales\",\"Technology\",\"Technology\",\"Sales\",\"Technology\",\"Sales\",\"Human Resources\",\"Technology\",\"Sales\",\"Technology\",\"Sales\",\"Technology\",\"Technology\",\"Technology\",\"Sales\",\"Technology\",\"Technology\",\"Technology\",\"Sales\",\"Sales\",\"Technology\",\"Technology\",\"Technology\",\"Technology\",\"Technology\",\"Technology\",\"Technology\",\"Sales\",\"Sales\",\"Technology\",\"Sales\",\"Technology\",\"Sales\",\"Technology\",\"Technology\",\"Human Resources\",\"Technology\",\"Technology\",\"Technology\",\"Sales\",\"Technology\",\"Technology\",\"Sales\",\"Technology\",\"Technology\",\"Human Resources\",\"Technology\",\"Technology\",\"Sales\",\"Technology\",\"Sales\",\"Sales\",\"Technology\",\"Sales\",\"Technology\",\"Technology\",\"Technology\",\"Technology\",\"Sales\",\"Technology\",\"Technology\",\"Sales\",\"Sales\",\"Technology\",\"Technology\",\"Sales\",\"Technology\",\"Technology\",\"Technology\",\"Sales\",\"Sales\",\"Technology\",\"Technology\",\"Technology\",\"Sales\",\"Technology\",\"Technology\",\"Technology\",\"Technology\",\"Technology\",\"Sales\",\"Technology\",\"Technology\",\"Sales\",\"Human Resources\",\"Technology\",\"Technology\",\"Sales\",\"Technology\",\"Sales\",\"Technology\",\"Sales\",\"Technology\",\"Technology\",\"Technology\",\"Technology\",\"Technology\",\"Technology\",\"Technology\",\"Technology\",\"Technology\",\"Technology\",\"Sales\",\"Technology\",\"Technology\",\"Technology\",\"Technology\",\"Technology\",\"Sales\",\"Technology\",\"Sales\",\"Technology\",\"Technology\",\"Technology\",\"Technology\",\"Technology\",\"Sales\",\"Technology\",\"Technology\",\"Sales\",\"Technology\",\"Technology\",\"Technology\",\"Sales\",\"Technology\",\"Technology\",\"Technology\",\"Technology\",\"Sales\",\"Sales\",\"Sales\",\"Technology\",\"Human Resources\",\"Sales\",\"Technology\",\"Technology\",\"Technology\",\"Technology\",\"Technology\",\"Technology\",\"Technology\",\"Sales\",\"Technology\",\"Technology\",\"Technology\",\"Sales\",\"Technology\",\"Technology\",\"Sales\",\"Technology\",\"Human Resources\",\"Technology\",\"Technology\",\"Sales\",\"Sales\",\"Technology\",\"Sales\",\"Sales\",\"Technology\",\"Technology\",\"Technology\",\"Technology\",\"Sales\",\"Technology\",\"Technology\",\"Technology\",\"Technology\",\"Technology\",\"Sales\",\"Technology\",\"Technology\",\"Technology\",\"Technology\",\"Technology\",\"Technology\",\"Sales\",\"Technology\",\"Technology\",\"Technology\",\"Technology\",\"Technology\",\"Sales\",\"Technology\",\"Technology\",\"Technology\",\"Technology\",\"Technology\",\"Technology\",\"Technology\",\"Technology\",\"Technology\",\"Technology\",\"Technology\",\"Technology\",\"Human Resources\",\"Sales\",\"Technology\",\"Technology\",\"Technology\",\"Technology\",\"Sales\",\"Technology\",\"Technology\",\"Technology\",\"Technology\",\"Sales\",\"Technology\",\"Technology\",\"Technology\",\"Sales\",\"Sales\",\"Sales\",\"Technology\",\"Technology\",\"Technology\",\"Technology\",\"Sales\",\"Technology\",\"Technology\",\"Technology\",\"Sales\",\"Sales\",\"Technology\",\"Technology\",\"Sales\",\"Sales\",\"Technology\",\"Technology\",\"Sales\",\"Technology\",\"Sales\",\"Sales\",\"Technology\",\"Sales\",\"Sales\",\"Technology\",\"Technology\",\"Technology\",\"Sales\",\"Sales\",\"Sales\",\"Human Resources\",\"Technology\",\"Sales\",\"Technology\",\"Technology\",\"Technology\",\"Sales\",\"Technology\",\"Technology\",\"Technology\",\"Sales\",\"Technology\",\"Technology\",\"Technology\",\"Technology\",\"Technology\",\"Sales\",\"Sales\",\"Technology\",\"Technology\",\"Sales\",\"Technology\",\"Technology\",\"Sales\",\"Sales\",\"Sales\",\"Technology\",\"Technology\",\"Technology\",\"Sales\",\"Technology\",\"Sales\",\"Technology\",\"Sales\",\"Sales\",\"Technology\",\"Technology\",\"Technology\",\"Technology\",\"Technology\",\"Sales\",\"Sales\",\"Technology\",\"Technology\",\"Sales\",\"Technology\",\"Sales\",\"Human Resources\",\"Technology\",\"Sales\",\"Technology\",\"Sales\",\"Technology\",\"Technology\",\"Technology\",\"Sales\",\"Sales\",\"Technology\",\"Technology\",\"Technology\",\"Technology\",\"Technology\",\"Sales\",\"Technology\",\"Technology\",\"Technology\",\"Technology\",\"Technology\",\"Technology\",\"Technology\",\"Sales\",\"Technology\",\"Technology\",\"Human Resources\",\"Sales\",\"Technology\",\"Technology\",\"Technology\",\"Sales\",\"Technology\",\"Technology\",\"Technology\",\"Technology\",\"Technology\",\"Technology\",\"Human Resources\",\"Technology\",\"Technology\",\"Sales\",\"Technology\",\"Human Resources\",\"Technology\",\"Technology\",\"Technology\",\"Sales\",\"Technology\",\"Technology\",\"Technology\",\"Technology\",\"Sales\",\"Sales\",\"Technology\",\"Sales\",\"Technology\",\"Technology\",\"Technology\",\"Technology\",\"Technology\",\"Sales\",\"Technology\",\"Sales\",\"Technology\",\"Technology\",\"Technology\",\"Technology\",\"Technology\",\"Technology\",\"Human Resources\",\"Technology\",\"Sales\",\"Technology\",\"Technology\",\"Technology\",\"Technology\",\"Sales\",\"Technology\",\"Sales\",\"Sales\",\"Technology\",\"Technology\",\"Technology\",\"Sales\",\"Technology\",\"Sales\",\"Human Resources\",\"Technology\",\"Technology\",\"Technology\",\"Sales\",\"Technology\",\"Sales\",\"Technology\",\"Technology\",\"Technology\",\"Technology\",\"Technology\",\"Technology\",\"Technology\",\"Technology\",\"Technology\",\"Technology\",\"Sales\",\"Technology\",\"Technology\",\"Technology\",\"Sales\",\"Technology\",\"Technology\",\"Human Resources\",\"Sales\",\"Technology\",\"Technology\",\"Technology\",\"Technology\",\"Technology\",\"Technology\",\"Sales\",\"Technology\",\"Technology\",\"Technology\",\"Sales\",\"Technology\",\"Technology\",\"Sales\",\"Sales\",\"Sales\",\"Technology\",\"Sales\",\"Sales\",\"Sales\",\"Sales\",\"Technology\",\"Sales\",\"Human Resources\",\"Sales\",\"Sales\",\"Technology\",\"Technology\",\"Human Resources\",\"Technology\",\"Sales\",\"Technology\",\"Technology\",\"Sales\",\"Technology\",\"Technology\",\"Technology\",\"Sales\",\"Technology\",\"Technology\",\"Technology\",\"Sales\",\"Technology\",\"Technology\",\"Sales\",\"Technology\",\"Technology\",\"Technology\",\"Sales\",\"Technology\",\"Technology\",\"Technology\",\"Sales\",\"Sales\",\"Technology\",\"Human Resources\",\"Technology\",\"Sales\",\"Technology\",\"Technology\",\"Technology\",\"Technology\",\"Sales\",\"Sales\",\"Sales\",\"Sales\",\"Technology\",\"Technology\",\"Technology\",\"Technology\",\"Sales\",\"Technology\",\"Technology\",\"Technology\",\"Human Resources\",\"Technology\",\"Technology\",\"Technology\",\"Technology\",\"Technology\",\"Technology\",\"Technology\",\"Technology\",\"Sales\",\"Sales\",\"Technology\",\"Sales\",\"Sales\",\"Sales\",\"Sales\",\"Technology\",\"Technology\",\"Sales\",\"Technology\",\"Sales\",\"Technology\",\"Human Resources\",\"Technology\",\"Technology\",\"Technology\",\"Sales\",\"Technology\",\"Technology\",\"Sales\",\"Technology\",\"Human Resources\",\"Technology\",\"Technology\",\"Technology\",\"Sales\",\"Technology\",\"Technology\",\"Sales\",\"Sales\",\"Sales\",\"Sales\",\"Sales\",\"Technology\",\"Sales\",\"Technology\",\"Technology\",\"Technology\",\"Technology\",\"Technology\",\"Technology\",\"Technology\",\"Human Resources\",\"Technology\",\"Sales\",\"Sales\",\"Technology\",\"Sales\",\"Sales\",\"Technology\",\"Technology\",\"Technology\",\"Technology\",\"Sales\",\"Sales\",\"Sales\",\"Technology\",\"Sales\",\"Human Resources\",\"Sales\",\"Sales\",\"Technology\",\"Technology\",\"Sales\",\"Technology\",\"Technology\",\"Technology\",\"Technology\",\"Technology\",\"Technology\",\"Sales\",\"Technology\",\"Sales\",\"Technology\",\"Technology\",\"Technology\",\"Sales\",\"Technology\",\"Human Resources\",\"Sales\",\"Technology\",\"Technology\",\"Technology\",\"Technology\",\"Technology\",\"Technology\",\"Technology\",\"Technology\",\"Technology\",\"Technology\",\"Technology\",\"Technology\",\"Technology\",\"Technology\",\"Sales\",\"Technology\",\"Technology\",\"Sales\",\"Technology\",\"Technology\"],\"legendgroup\":\"\",\"name\":\"\",\"showlegend\":true,\"type\":\"pie\"}],                        {\"template\":{\"data\":{\"histogram2dcontour\":[{\"type\":\"histogram2dcontour\",\"colorbar\":{\"outlinewidth\":0,\"ticks\":\"\"},\"colorscale\":[[0.0,\"#0d0887\"],[0.1111111111111111,\"#46039f\"],[0.2222222222222222,\"#7201a8\"],[0.3333333333333333,\"#9c179e\"],[0.4444444444444444,\"#bd3786\"],[0.5555555555555556,\"#d8576b\"],[0.6666666666666666,\"#ed7953\"],[0.7777777777777778,\"#fb9f3a\"],[0.8888888888888888,\"#fdca26\"],[1.0,\"#f0f921\"]]}],\"choropleth\":[{\"type\":\"choropleth\",\"colorbar\":{\"outlinewidth\":0,\"ticks\":\"\"}}],\"histogram2d\":[{\"type\":\"histogram2d\",\"colorbar\":{\"outlinewidth\":0,\"ticks\":\"\"},\"colorscale\":[[0.0,\"#0d0887\"],[0.1111111111111111,\"#46039f\"],[0.2222222222222222,\"#7201a8\"],[0.3333333333333333,\"#9c179e\"],[0.4444444444444444,\"#bd3786\"],[0.5555555555555556,\"#d8576b\"],[0.6666666666666666,\"#ed7953\"],[0.7777777777777778,\"#fb9f3a\"],[0.8888888888888888,\"#fdca26\"],[1.0,\"#f0f921\"]]}],\"heatmap\":[{\"type\":\"heatmap\",\"colorbar\":{\"outlinewidth\":0,\"ticks\":\"\"},\"colorscale\":[[0.0,\"#0d0887\"],[0.1111111111111111,\"#46039f\"],[0.2222222222222222,\"#7201a8\"],[0.3333333333333333,\"#9c179e\"],[0.4444444444444444,\"#bd3786\"],[0.5555555555555556,\"#d8576b\"],[0.6666666666666666,\"#ed7953\"],[0.7777777777777778,\"#fb9f3a\"],[0.8888888888888888,\"#fdca26\"],[1.0,\"#f0f921\"]]}],\"heatmapgl\":[{\"type\":\"heatmapgl\",\"colorbar\":{\"outlinewidth\":0,\"ticks\":\"\"},\"colorscale\":[[0.0,\"#0d0887\"],[0.1111111111111111,\"#46039f\"],[0.2222222222222222,\"#7201a8\"],[0.3333333333333333,\"#9c179e\"],[0.4444444444444444,\"#bd3786\"],[0.5555555555555556,\"#d8576b\"],[0.6666666666666666,\"#ed7953\"],[0.7777777777777778,\"#fb9f3a\"],[0.8888888888888888,\"#fdca26\"],[1.0,\"#f0f921\"]]}],\"contourcarpet\":[{\"type\":\"contourcarpet\",\"colorbar\":{\"outlinewidth\":0,\"ticks\":\"\"}}],\"contour\":[{\"type\":\"contour\",\"colorbar\":{\"outlinewidth\":0,\"ticks\":\"\"},\"colorscale\":[[0.0,\"#0d0887\"],[0.1111111111111111,\"#46039f\"],[0.2222222222222222,\"#7201a8\"],[0.3333333333333333,\"#9c179e\"],[0.4444444444444444,\"#bd3786\"],[0.5555555555555556,\"#d8576b\"],[0.6666666666666666,\"#ed7953\"],[0.7777777777777778,\"#fb9f3a\"],[0.8888888888888888,\"#fdca26\"],[1.0,\"#f0f921\"]]}],\"surface\":[{\"type\":\"surface\",\"colorbar\":{\"outlinewidth\":0,\"ticks\":\"\"},\"colorscale\":[[0.0,\"#0d0887\"],[0.1111111111111111,\"#46039f\"],[0.2222222222222222,\"#7201a8\"],[0.3333333333333333,\"#9c179e\"],[0.4444444444444444,\"#bd3786\"],[0.5555555555555556,\"#d8576b\"],[0.6666666666666666,\"#ed7953\"],[0.7777777777777778,\"#fb9f3a\"],[0.8888888888888888,\"#fdca26\"],[1.0,\"#f0f921\"]]}],\"mesh3d\":[{\"type\":\"mesh3d\",\"colorbar\":{\"outlinewidth\":0,\"ticks\":\"\"}}],\"scatter\":[{\"fillpattern\":{\"fillmode\":\"overlay\",\"size\":10,\"solidity\":0.2},\"type\":\"scatter\"}],\"parcoords\":[{\"type\":\"parcoords\",\"line\":{\"colorbar\":{\"outlinewidth\":0,\"ticks\":\"\"}}}],\"scatterpolargl\":[{\"type\":\"scatterpolargl\",\"marker\":{\"colorbar\":{\"outlinewidth\":0,\"ticks\":\"\"}}}],\"bar\":[{\"error_x\":{\"color\":\"#2a3f5f\"},\"error_y\":{\"color\":\"#2a3f5f\"},\"marker\":{\"line\":{\"color\":\"#E5ECF6\",\"width\":0.5},\"pattern\":{\"fillmode\":\"overlay\",\"size\":10,\"solidity\":0.2}},\"type\":\"bar\"}],\"scattergeo\":[{\"type\":\"scattergeo\",\"marker\":{\"colorbar\":{\"outlinewidth\":0,\"ticks\":\"\"}}}],\"scatterpolar\":[{\"type\":\"scatterpolar\",\"marker\":{\"colorbar\":{\"outlinewidth\":0,\"ticks\":\"\"}}}],\"histogram\":[{\"marker\":{\"pattern\":{\"fillmode\":\"overlay\",\"size\":10,\"solidity\":0.2}},\"type\":\"histogram\"}],\"scattergl\":[{\"type\":\"scattergl\",\"marker\":{\"colorbar\":{\"outlinewidth\":0,\"ticks\":\"\"}}}],\"scatter3d\":[{\"type\":\"scatter3d\",\"line\":{\"colorbar\":{\"outlinewidth\":0,\"ticks\":\"\"}},\"marker\":{\"colorbar\":{\"outlinewidth\":0,\"ticks\":\"\"}}}],\"scattermapbox\":[{\"type\":\"scattermapbox\",\"marker\":{\"colorbar\":{\"outlinewidth\":0,\"ticks\":\"\"}}}],\"scatterternary\":[{\"type\":\"scatterternary\",\"marker\":{\"colorbar\":{\"outlinewidth\":0,\"ticks\":\"\"}}}],\"scattercarpet\":[{\"type\":\"scattercarpet\",\"marker\":{\"colorbar\":{\"outlinewidth\":0,\"ticks\":\"\"}}}],\"carpet\":[{\"aaxis\":{\"endlinecolor\":\"#2a3f5f\",\"gridcolor\":\"white\",\"linecolor\":\"white\",\"minorgridcolor\":\"white\",\"startlinecolor\":\"#2a3f5f\"},\"baxis\":{\"endlinecolor\":\"#2a3f5f\",\"gridcolor\":\"white\",\"linecolor\":\"white\",\"minorgridcolor\":\"white\",\"startlinecolor\":\"#2a3f5f\"},\"type\":\"carpet\"}],\"table\":[{\"cells\":{\"fill\":{\"color\":\"#EBF0F8\"},\"line\":{\"color\":\"white\"}},\"header\":{\"fill\":{\"color\":\"#C8D4E3\"},\"line\":{\"color\":\"white\"}},\"type\":\"table\"}],\"barpolar\":[{\"marker\":{\"line\":{\"color\":\"#E5ECF6\",\"width\":0.5},\"pattern\":{\"fillmode\":\"overlay\",\"size\":10,\"solidity\":0.2}},\"type\":\"barpolar\"}],\"pie\":[{\"automargin\":true,\"type\":\"pie\"}]},\"layout\":{\"autotypenumbers\":\"strict\",\"colorway\":[\"#636efa\",\"#EF553B\",\"#00cc96\",\"#ab63fa\",\"#FFA15A\",\"#19d3f3\",\"#FF6692\",\"#B6E880\",\"#FF97FF\",\"#FECB52\"],\"font\":{\"color\":\"#2a3f5f\"},\"hovermode\":\"closest\",\"hoverlabel\":{\"align\":\"left\"},\"paper_bgcolor\":\"white\",\"plot_bgcolor\":\"#E5ECF6\",\"polar\":{\"bgcolor\":\"#E5ECF6\",\"angularaxis\":{\"gridcolor\":\"white\",\"linecolor\":\"white\",\"ticks\":\"\"},\"radialaxis\":{\"gridcolor\":\"white\",\"linecolor\":\"white\",\"ticks\":\"\"}},\"ternary\":{\"bgcolor\":\"#E5ECF6\",\"aaxis\":{\"gridcolor\":\"white\",\"linecolor\":\"white\",\"ticks\":\"\"},\"baxis\":{\"gridcolor\":\"white\",\"linecolor\":\"white\",\"ticks\":\"\"},\"caxis\":{\"gridcolor\":\"white\",\"linecolor\":\"white\",\"ticks\":\"\"}},\"coloraxis\":{\"colorbar\":{\"outlinewidth\":0,\"ticks\":\"\"}},\"colorscale\":{\"sequential\":[[0.0,\"#0d0887\"],[0.1111111111111111,\"#46039f\"],[0.2222222222222222,\"#7201a8\"],[0.3333333333333333,\"#9c179e\"],[0.4444444444444444,\"#bd3786\"],[0.5555555555555556,\"#d8576b\"],[0.6666666666666666,\"#ed7953\"],[0.7777777777777778,\"#fb9f3a\"],[0.8888888888888888,\"#fdca26\"],[1.0,\"#f0f921\"]],\"sequentialminus\":[[0.0,\"#0d0887\"],[0.1111111111111111,\"#46039f\"],[0.2222222222222222,\"#7201a8\"],[0.3333333333333333,\"#9c179e\"],[0.4444444444444444,\"#bd3786\"],[0.5555555555555556,\"#d8576b\"],[0.6666666666666666,\"#ed7953\"],[0.7777777777777778,\"#fb9f3a\"],[0.8888888888888888,\"#fdca26\"],[1.0,\"#f0f921\"]],\"diverging\":[[0,\"#8e0152\"],[0.1,\"#c51b7d\"],[0.2,\"#de77ae\"],[0.3,\"#f1b6da\"],[0.4,\"#fde0ef\"],[0.5,\"#f7f7f7\"],[0.6,\"#e6f5d0\"],[0.7,\"#b8e186\"],[0.8,\"#7fbc41\"],[0.9,\"#4d9221\"],[1,\"#276419\"]]},\"xaxis\":{\"gridcolor\":\"white\",\"linecolor\":\"white\",\"ticks\":\"\",\"title\":{\"standoff\":15},\"zerolinecolor\":\"white\",\"automargin\":true,\"zerolinewidth\":2},\"yaxis\":{\"gridcolor\":\"white\",\"linecolor\":\"white\",\"ticks\":\"\",\"title\":{\"standoff\":15},\"zerolinecolor\":\"white\",\"automargin\":true,\"zerolinewidth\":2},\"scene\":{\"xaxis\":{\"backgroundcolor\":\"#E5ECF6\",\"gridcolor\":\"white\",\"linecolor\":\"white\",\"showbackground\":true,\"ticks\":\"\",\"zerolinecolor\":\"white\",\"gridwidth\":2},\"yaxis\":{\"backgroundcolor\":\"#E5ECF6\",\"gridcolor\":\"white\",\"linecolor\":\"white\",\"showbackground\":true,\"ticks\":\"\",\"zerolinecolor\":\"white\",\"gridwidth\":2},\"zaxis\":{\"backgroundcolor\":\"#E5ECF6\",\"gridcolor\":\"white\",\"linecolor\":\"white\",\"showbackground\":true,\"ticks\":\"\",\"zerolinecolor\":\"white\",\"gridwidth\":2}},\"shapedefaults\":{\"line\":{\"color\":\"#2a3f5f\"}},\"annotationdefaults\":{\"arrowcolor\":\"#2a3f5f\",\"arrowhead\":0,\"arrowwidth\":1},\"geo\":{\"bgcolor\":\"white\",\"landcolor\":\"#E5ECF6\",\"subunitcolor\":\"white\",\"showland\":true,\"showlakes\":true,\"lakecolor\":\"white\"},\"title\":{\"x\":0.05},\"mapbox\":{\"style\":\"light\"}}},\"legend\":{\"tracegroupgap\":0},\"title\":{\"text\":\"Department Distribution\"},\"piecolorway\":[\"rgb(230, 240, 240)\",\"rgb(191, 221, 229)\",\"rgb(156, 201, 226)\",\"rgb(129, 180, 227)\",\"rgb(115, 154, 228)\",\"rgb(117, 127, 221)\",\"rgb(120, 100, 202)\",\"rgb(119, 74, 175)\",\"rgb(113, 50, 141)\",\"rgb(100, 31, 104)\",\"rgb(80, 20, 66)\",\"rgb(54, 14, 36)\"],\"height\":500,\"width\":700},                        {\"responsive\": true}                    ).then(function(){\n",
              "                            \n",
              "var gd = document.getElementById('c9dd21cd-f11c-479c-b454-8d09880db2c8');\n",
              "var x = new MutationObserver(function (mutations, observer) {{\n",
              "        var display = window.getComputedStyle(gd).display;\n",
              "        if (!display || display === 'none') {{\n",
              "            console.log([gd, 'removed!']);\n",
              "            Plotly.purge(gd);\n",
              "            observer.disconnect();\n",
              "        }}\n",
              "}});\n",
              "\n",
              "// Listen for the removal of the full notebook cells\n",
              "var notebookContainer = gd.closest('#notebook-container');\n",
              "if (notebookContainer) {{\n",
              "    x.observe(notebookContainer, {childList: true});\n",
              "}}\n",
              "\n",
              "// Listen for the clearing of the current output cell\n",
              "var outputEl = gd.closest('.output');\n",
              "if (outputEl) {{\n",
              "    x.observe(outputEl, {childList: true});\n",
              "}}\n",
              "\n",
              "                        })                };                            </script>        </div>\n",
              "</body>\n",
              "</html>"
            ]
          },
          "metadata": {}
        }
      ],
      "source": [
        "fig5 = px.pie(df_filtered, names='Department', title=\"Department Distribution\", width=700, height=500, color_discrete_sequence=px.colors.sequential.dense)\n",
        "\n",
        "fig5.show()"
      ]
    },
    {
      "cell_type": "markdown",
      "metadata": {
        "id": "RRpH6x8jVsPh"
      },
      "source": [
        "The department distribution shows that the majority of employees (67.2%) belong to the technology department, highlighting the company's strong focus on technology. Sales employees make up 28.7% of the workforce, while the HR department has the smallest share, comprising only 4.14% of employees."
      ]
    },
    {
      "cell_type": "markdown",
      "metadata": {
        "id": "R7gHWQgCT--R"
      },
      "source": [
        "**By Years At Company**"
      ]
    },
    {
      "cell_type": "code",
      "execution_count": 114,
      "metadata": {
        "colab": {
          "base_uri": "https://localhost:8080/",
          "height": 417
        },
        "id": "NUp2QVMxumOq",
        "outputId": "1ed03f59-3141-4e8e-81ab-fbd4fea41e72"
      },
      "outputs": [
        {
          "output_type": "display_data",
          "data": {
            "text/html": [
              "<html>\n",
              "<head><meta charset=\"utf-8\" /></head>\n",
              "<body>\n",
              "    <div>            <script src=\"https://cdnjs.cloudflare.com/ajax/libs/mathjax/2.7.5/MathJax.js?config=TeX-AMS-MML_SVG\"></script><script type=\"text/javascript\">if (window.MathJax && window.MathJax.Hub && window.MathJax.Hub.Config) {window.MathJax.Hub.Config({SVG: {font: \"STIX-Web\"}});}</script>                <script type=\"text/javascript\">window.PlotlyConfig = {MathJaxConfig: 'local'};</script>\n",
              "        <script charset=\"utf-8\" src=\"https://cdn.plot.ly/plotly-2.35.2.min.js\"></script>                <div id=\"80476e17-ff4d-40f9-894c-5c95cde23207\" class=\"plotly-graph-div\" style=\"height:400px; width:700px;\"></div>            <script type=\"text/javascript\">                                    window.PLOTLYENV=window.PLOTLYENV || {};                                    if (document.getElementById(\"80476e17-ff4d-40f9-894c-5c95cde23207\")) {                    Plotly.newPlot(                        \"80476e17-ff4d-40f9-894c-5c95cde23207\",                        [{\"alignmentgroup\":\"True\",\"hovertemplate\":\"Years at Company=%{x}\\u003cbr\\u003eCount=%{y}\\u003cextra\\u003e\\u003c\\u002fextra\\u003e\",\"legendgroup\":\"1-2 years\",\"marker\":{\"color\":\"rgb(230, 240, 240)\",\"pattern\":{\"shape\":\"\"}},\"name\":\"1-2 years\",\"offsetgroup\":\"1-2 years\",\"orientation\":\"v\",\"showlegend\":true,\"textposition\":\"auto\",\"x\":[\"1-2 years\"],\"xaxis\":\"x\",\"y\":[246],\"yaxis\":\"y\",\"type\":\"bar\"},{\"alignmentgroup\":\"True\",\"hovertemplate\":\"Years at Company=%{x}\\u003cbr\\u003eCount=%{y}\\u003cextra\\u003e\\u003c\\u002fextra\\u003e\",\"legendgroup\":\"3-6 years\",\"marker\":{\"color\":\"rgb(191, 221, 229)\",\"pattern\":{\"shape\":\"\"}},\"name\":\"3-6 years\",\"offsetgroup\":\"3-6 years\",\"orientation\":\"v\",\"showlegend\":true,\"textposition\":\"auto\",\"x\":[\"3-6 years\"],\"xaxis\":\"x\",\"y\":[432],\"yaxis\":\"y\",\"type\":\"bar\"},{\"alignmentgroup\":\"True\",\"hovertemplate\":\"Years at Company=%{x}\\u003cbr\\u003eCount=%{y}\\u003cextra\\u003e\\u003c\\u002fextra\\u003e\",\"legendgroup\":\"6-10 years\",\"marker\":{\"color\":\"rgb(156, 201, 226)\",\"pattern\":{\"shape\":\"\"}},\"name\":\"6-10 years\",\"offsetgroup\":\"6-10 years\",\"orientation\":\"v\",\"showlegend\":true,\"textposition\":\"auto\",\"x\":[\"6-10 years\"],\"xaxis\":\"x\",\"y\":[555],\"yaxis\":\"y\",\"type\":\"bar\"}],                        {\"template\":{\"data\":{\"barpolar\":[{\"marker\":{\"line\":{\"color\":\"white\",\"width\":0.5},\"pattern\":{\"fillmode\":\"overlay\",\"size\":10,\"solidity\":0.2}},\"type\":\"barpolar\"}],\"bar\":[{\"error_x\":{\"color\":\"#2a3f5f\"},\"error_y\":{\"color\":\"#2a3f5f\"},\"marker\":{\"line\":{\"color\":\"white\",\"width\":0.5},\"pattern\":{\"fillmode\":\"overlay\",\"size\":10,\"solidity\":0.2}},\"type\":\"bar\"}],\"carpet\":[{\"aaxis\":{\"endlinecolor\":\"#2a3f5f\",\"gridcolor\":\"#C8D4E3\",\"linecolor\":\"#C8D4E3\",\"minorgridcolor\":\"#C8D4E3\",\"startlinecolor\":\"#2a3f5f\"},\"baxis\":{\"endlinecolor\":\"#2a3f5f\",\"gridcolor\":\"#C8D4E3\",\"linecolor\":\"#C8D4E3\",\"minorgridcolor\":\"#C8D4E3\",\"startlinecolor\":\"#2a3f5f\"},\"type\":\"carpet\"}],\"choropleth\":[{\"colorbar\":{\"outlinewidth\":0,\"ticks\":\"\"},\"type\":\"choropleth\"}],\"contourcarpet\":[{\"colorbar\":{\"outlinewidth\":0,\"ticks\":\"\"},\"type\":\"contourcarpet\"}],\"contour\":[{\"colorbar\":{\"outlinewidth\":0,\"ticks\":\"\"},\"colorscale\":[[0.0,\"#0d0887\"],[0.1111111111111111,\"#46039f\"],[0.2222222222222222,\"#7201a8\"],[0.3333333333333333,\"#9c179e\"],[0.4444444444444444,\"#bd3786\"],[0.5555555555555556,\"#d8576b\"],[0.6666666666666666,\"#ed7953\"],[0.7777777777777778,\"#fb9f3a\"],[0.8888888888888888,\"#fdca26\"],[1.0,\"#f0f921\"]],\"type\":\"contour\"}],\"heatmapgl\":[{\"colorbar\":{\"outlinewidth\":0,\"ticks\":\"\"},\"colorscale\":[[0.0,\"#0d0887\"],[0.1111111111111111,\"#46039f\"],[0.2222222222222222,\"#7201a8\"],[0.3333333333333333,\"#9c179e\"],[0.4444444444444444,\"#bd3786\"],[0.5555555555555556,\"#d8576b\"],[0.6666666666666666,\"#ed7953\"],[0.7777777777777778,\"#fb9f3a\"],[0.8888888888888888,\"#fdca26\"],[1.0,\"#f0f921\"]],\"type\":\"heatmapgl\"}],\"heatmap\":[{\"colorbar\":{\"outlinewidth\":0,\"ticks\":\"\"},\"colorscale\":[[0.0,\"#0d0887\"],[0.1111111111111111,\"#46039f\"],[0.2222222222222222,\"#7201a8\"],[0.3333333333333333,\"#9c179e\"],[0.4444444444444444,\"#bd3786\"],[0.5555555555555556,\"#d8576b\"],[0.6666666666666666,\"#ed7953\"],[0.7777777777777778,\"#fb9f3a\"],[0.8888888888888888,\"#fdca26\"],[1.0,\"#f0f921\"]],\"type\":\"heatmap\"}],\"histogram2dcontour\":[{\"colorbar\":{\"outlinewidth\":0,\"ticks\":\"\"},\"colorscale\":[[0.0,\"#0d0887\"],[0.1111111111111111,\"#46039f\"],[0.2222222222222222,\"#7201a8\"],[0.3333333333333333,\"#9c179e\"],[0.4444444444444444,\"#bd3786\"],[0.5555555555555556,\"#d8576b\"],[0.6666666666666666,\"#ed7953\"],[0.7777777777777778,\"#fb9f3a\"],[0.8888888888888888,\"#fdca26\"],[1.0,\"#f0f921\"]],\"type\":\"histogram2dcontour\"}],\"histogram2d\":[{\"colorbar\":{\"outlinewidth\":0,\"ticks\":\"\"},\"colorscale\":[[0.0,\"#0d0887\"],[0.1111111111111111,\"#46039f\"],[0.2222222222222222,\"#7201a8\"],[0.3333333333333333,\"#9c179e\"],[0.4444444444444444,\"#bd3786\"],[0.5555555555555556,\"#d8576b\"],[0.6666666666666666,\"#ed7953\"],[0.7777777777777778,\"#fb9f3a\"],[0.8888888888888888,\"#fdca26\"],[1.0,\"#f0f921\"]],\"type\":\"histogram2d\"}],\"histogram\":[{\"marker\":{\"pattern\":{\"fillmode\":\"overlay\",\"size\":10,\"solidity\":0.2}},\"type\":\"histogram\"}],\"mesh3d\":[{\"colorbar\":{\"outlinewidth\":0,\"ticks\":\"\"},\"type\":\"mesh3d\"}],\"parcoords\":[{\"line\":{\"colorbar\":{\"outlinewidth\":0,\"ticks\":\"\"}},\"type\":\"parcoords\"}],\"pie\":[{\"automargin\":true,\"type\":\"pie\"}],\"scatter3d\":[{\"line\":{\"colorbar\":{\"outlinewidth\":0,\"ticks\":\"\"}},\"marker\":{\"colorbar\":{\"outlinewidth\":0,\"ticks\":\"\"}},\"type\":\"scatter3d\"}],\"scattercarpet\":[{\"marker\":{\"colorbar\":{\"outlinewidth\":0,\"ticks\":\"\"}},\"type\":\"scattercarpet\"}],\"scattergeo\":[{\"marker\":{\"colorbar\":{\"outlinewidth\":0,\"ticks\":\"\"}},\"type\":\"scattergeo\"}],\"scattergl\":[{\"marker\":{\"colorbar\":{\"outlinewidth\":0,\"ticks\":\"\"}},\"type\":\"scattergl\"}],\"scattermapbox\":[{\"marker\":{\"colorbar\":{\"outlinewidth\":0,\"ticks\":\"\"}},\"type\":\"scattermapbox\"}],\"scatterpolargl\":[{\"marker\":{\"colorbar\":{\"outlinewidth\":0,\"ticks\":\"\"}},\"type\":\"scatterpolargl\"}],\"scatterpolar\":[{\"marker\":{\"colorbar\":{\"outlinewidth\":0,\"ticks\":\"\"}},\"type\":\"scatterpolar\"}],\"scatter\":[{\"fillpattern\":{\"fillmode\":\"overlay\",\"size\":10,\"solidity\":0.2},\"type\":\"scatter\"}],\"scatterternary\":[{\"marker\":{\"colorbar\":{\"outlinewidth\":0,\"ticks\":\"\"}},\"type\":\"scatterternary\"}],\"surface\":[{\"colorbar\":{\"outlinewidth\":0,\"ticks\":\"\"},\"colorscale\":[[0.0,\"#0d0887\"],[0.1111111111111111,\"#46039f\"],[0.2222222222222222,\"#7201a8\"],[0.3333333333333333,\"#9c179e\"],[0.4444444444444444,\"#bd3786\"],[0.5555555555555556,\"#d8576b\"],[0.6666666666666666,\"#ed7953\"],[0.7777777777777778,\"#fb9f3a\"],[0.8888888888888888,\"#fdca26\"],[1.0,\"#f0f921\"]],\"type\":\"surface\"}],\"table\":[{\"cells\":{\"fill\":{\"color\":\"#EBF0F8\"},\"line\":{\"color\":\"white\"}},\"header\":{\"fill\":{\"color\":\"#C8D4E3\"},\"line\":{\"color\":\"white\"}},\"type\":\"table\"}]},\"layout\":{\"annotationdefaults\":{\"arrowcolor\":\"#2a3f5f\",\"arrowhead\":0,\"arrowwidth\":1},\"autotypenumbers\":\"strict\",\"coloraxis\":{\"colorbar\":{\"outlinewidth\":0,\"ticks\":\"\"}},\"colorscale\":{\"diverging\":[[0,\"#8e0152\"],[0.1,\"#c51b7d\"],[0.2,\"#de77ae\"],[0.3,\"#f1b6da\"],[0.4,\"#fde0ef\"],[0.5,\"#f7f7f7\"],[0.6,\"#e6f5d0\"],[0.7,\"#b8e186\"],[0.8,\"#7fbc41\"],[0.9,\"#4d9221\"],[1,\"#276419\"]],\"sequential\":[[0.0,\"#0d0887\"],[0.1111111111111111,\"#46039f\"],[0.2222222222222222,\"#7201a8\"],[0.3333333333333333,\"#9c179e\"],[0.4444444444444444,\"#bd3786\"],[0.5555555555555556,\"#d8576b\"],[0.6666666666666666,\"#ed7953\"],[0.7777777777777778,\"#fb9f3a\"],[0.8888888888888888,\"#fdca26\"],[1.0,\"#f0f921\"]],\"sequentialminus\":[[0.0,\"#0d0887\"],[0.1111111111111111,\"#46039f\"],[0.2222222222222222,\"#7201a8\"],[0.3333333333333333,\"#9c179e\"],[0.4444444444444444,\"#bd3786\"],[0.5555555555555556,\"#d8576b\"],[0.6666666666666666,\"#ed7953\"],[0.7777777777777778,\"#fb9f3a\"],[0.8888888888888888,\"#fdca26\"],[1.0,\"#f0f921\"]]},\"colorway\":[\"#636efa\",\"#EF553B\",\"#00cc96\",\"#ab63fa\",\"#FFA15A\",\"#19d3f3\",\"#FF6692\",\"#B6E880\",\"#FF97FF\",\"#FECB52\"],\"font\":{\"color\":\"#2a3f5f\"},\"geo\":{\"bgcolor\":\"white\",\"lakecolor\":\"white\",\"landcolor\":\"white\",\"showlakes\":true,\"showland\":true,\"subunitcolor\":\"#C8D4E3\"},\"hoverlabel\":{\"align\":\"left\"},\"hovermode\":\"closest\",\"mapbox\":{\"style\":\"light\"},\"paper_bgcolor\":\"white\",\"plot_bgcolor\":\"white\",\"polar\":{\"angularaxis\":{\"gridcolor\":\"#EBF0F8\",\"linecolor\":\"#EBF0F8\",\"ticks\":\"\"},\"bgcolor\":\"white\",\"radialaxis\":{\"gridcolor\":\"#EBF0F8\",\"linecolor\":\"#EBF0F8\",\"ticks\":\"\"}},\"scene\":{\"xaxis\":{\"backgroundcolor\":\"white\",\"gridcolor\":\"#DFE8F3\",\"gridwidth\":2,\"linecolor\":\"#EBF0F8\",\"showbackground\":true,\"ticks\":\"\",\"zerolinecolor\":\"#EBF0F8\"},\"yaxis\":{\"backgroundcolor\":\"white\",\"gridcolor\":\"#DFE8F3\",\"gridwidth\":2,\"linecolor\":\"#EBF0F8\",\"showbackground\":true,\"ticks\":\"\",\"zerolinecolor\":\"#EBF0F8\"},\"zaxis\":{\"backgroundcolor\":\"white\",\"gridcolor\":\"#DFE8F3\",\"gridwidth\":2,\"linecolor\":\"#EBF0F8\",\"showbackground\":true,\"ticks\":\"\",\"zerolinecolor\":\"#EBF0F8\"}},\"shapedefaults\":{\"line\":{\"color\":\"#2a3f5f\"}},\"ternary\":{\"aaxis\":{\"gridcolor\":\"#DFE8F3\",\"linecolor\":\"#A2B1C6\",\"ticks\":\"\"},\"baxis\":{\"gridcolor\":\"#DFE8F3\",\"linecolor\":\"#A2B1C6\",\"ticks\":\"\"},\"bgcolor\":\"white\",\"caxis\":{\"gridcolor\":\"#DFE8F3\",\"linecolor\":\"#A2B1C6\",\"ticks\":\"\"}},\"title\":{\"x\":0.05},\"xaxis\":{\"automargin\":true,\"gridcolor\":\"#EBF0F8\",\"linecolor\":\"#EBF0F8\",\"ticks\":\"\",\"title\":{\"standoff\":15},\"zerolinecolor\":\"#EBF0F8\",\"zerolinewidth\":2},\"yaxis\":{\"automargin\":true,\"gridcolor\":\"#EBF0F8\",\"linecolor\":\"#EBF0F8\",\"ticks\":\"\",\"title\":{\"standoff\":15},\"zerolinecolor\":\"#EBF0F8\",\"zerolinewidth\":2}}},\"xaxis\":{\"anchor\":\"y\",\"domain\":[0.0,1.0],\"title\":{\"text\":\"Years at Company\"},\"categoryorder\":\"array\",\"categoryarray\":[\"1-2 years\",\"3-6 years\",\"6-10 years\"]},\"yaxis\":{\"anchor\":\"x\",\"domain\":[0.0,1.0],\"title\":{\"text\":\"Count\"}},\"legend\":{\"title\":{\"text\":\"Years at Company\"},\"tracegroupgap\":0},\"title\":{\"text\":\"Employee Distribution by Years at Company\"},\"barmode\":\"relative\",\"height\":400,\"width\":700},                        {\"responsive\": true}                    ).then(function(){\n",
              "                            \n",
              "var gd = document.getElementById('80476e17-ff4d-40f9-894c-5c95cde23207');\n",
              "var x = new MutationObserver(function (mutations, observer) {{\n",
              "        var display = window.getComputedStyle(gd).display;\n",
              "        if (!display || display === 'none') {{\n",
              "            console.log([gd, 'removed!']);\n",
              "            Plotly.purge(gd);\n",
              "            observer.disconnect();\n",
              "        }}\n",
              "}});\n",
              "\n",
              "// Listen for the removal of the full notebook cells\n",
              "var notebookContainer = gd.closest('#notebook-container');\n",
              "if (notebookContainer) {{\n",
              "    x.observe(notebookContainer, {childList: true});\n",
              "}}\n",
              "\n",
              "// Listen for the clearing of the current output cell\n",
              "var outputEl = gd.closest('.output');\n",
              "if (outputEl) {{\n",
              "    x.observe(outputEl, {childList: true});\n",
              "}}\n",
              "\n",
              "                        })                };                            </script>        </div>\n",
              "</body>\n",
              "</html>"
            ]
          },
          "metadata": {}
        }
      ],
      "source": [
        "def categorize_years_at_company(years):\n",
        "    if 0 <= years <= 1:\n",
        "        return '1-2 years'\n",
        "    elif 2 <= years <= 5:\n",
        "        return '3-6 years'\n",
        "    else:\n",
        "        return '6-10 years'\n",
        "df_filtered['YearsAtCompanyGroup'] = df_filtered['YearsAtCompany'].apply(categorize_years_at_company)\n",
        "df_years_at_company = df_filtered.groupby('YearsAtCompanyGroup').size().reset_index(name='EmployeeCount')\n",
        "fig6 = px.bar(df_years_at_company, x='YearsAtCompanyGroup', y='EmployeeCount', title='Employee Distribution by Years at Company',\n",
        "             width=700, height=400, labels={'YearsAtCompanyGroup': 'Years at Company', 'EmployeeCount': 'Count'},\n",
        "             color='YearsAtCompanyGroup', color_discrete_sequence=px.colors.sequential.dense, template='plotly_white')\n",
        "fig6.show()"
      ]
    },
    {
      "cell_type": "markdown",
      "metadata": {
        "id": "XUw26XJh-N1d"
      },
      "source": [
        "The employee distribution by years at the company shows that the majority of employees fall within the 6-10 years range, indicating strong retention during mid-career. The second-largest group is the 2-5 years range, suggesting that many employees stay for a few years before deciding whether to continue or move on. The 0-1 years group is the smallest, reflecting a potential influx of new hires but also possibly a higher turnover rate in the early stages of employment."
      ]
    },
    {
      "cell_type": "markdown",
      "metadata": {
        "id": "TIO0HgOvXrFQ"
      },
      "source": [
        "## Salaries"
      ]
    },
    {
      "cell_type": "markdown",
      "metadata": {
        "id": "RT_izfRSwrcR"
      },
      "source": [
        "The salary analysis explores the distribution of employee salaries across different job roles, departments, and work history. It highlights the variations in compensation within the company, offering insights into pay disparities and trends. Only employees who have not left the company are included in this analysis."
      ]
    },
    {
      "cell_type": "markdown",
      "metadata": {
        "id": "fe_mk_ROElKW"
      },
      "source": [
        "**Max Min Average salary**"
      ]
    },
    {
      "cell_type": "code",
      "execution_count": 115,
      "metadata": {
        "colab": {
          "base_uri": "https://localhost:8080/"
        },
        "id": "zB7tESKjw7U-",
        "outputId": "78bf5b3f-6b90-40f6-c73d-18437b010279"
      },
      "outputs": [
        {
          "output_type": "execute_result",
          "data": {
            "text/plain": [
              "count      1233.000000\n",
              "mean     118856.433090\n",
              "std      105903.150384\n",
              "min       20418.000000\n",
              "25%       46388.000000\n",
              "50%       75816.000000\n",
              "75%      152278.000000\n",
              "max      547204.000000\n",
              "Name: Salary, dtype: float64"
            ]
          },
          "metadata": {},
          "execution_count": 115
        }
      ],
      "source": [
        "df_filtered['Salary'].describe()"
      ]
    },
    {
      "cell_type": "markdown",
      "metadata": {
        "id": "9RZd4O2L-4Lz"
      },
      "source": [
        "The company has a wide range of salaries, with the lowest being $20,418 and the highest at \\$547,204. This shows that there’s a big difference in what employees earn, probably depending on their role and experience. The average salary is \\$118,856, which means most employees earn somewhere around this amount, though there are some who earn much more."
      ]
    },
    {
      "cell_type": "markdown",
      "metadata": {
        "id": "NuCgj0RTZ-qw"
      },
      "source": [
        "**Salary Distribution**"
      ]
    },
    {
      "cell_type": "code",
      "execution_count": 116,
      "metadata": {
        "colab": {
          "base_uri": "https://localhost:8080/",
          "height": 467
        },
        "id": "GbVEKFfAZveb",
        "outputId": "c5ee9cb4-a8fb-4b9f-f86f-7678035f7157"
      },
      "outputs": [
        {
          "output_type": "display_data",
          "data": {
            "text/html": [
              "<html>\n",
              "<head><meta charset=\"utf-8\" /></head>\n",
              "<body>\n",
              "    <div>            <script src=\"https://cdnjs.cloudflare.com/ajax/libs/mathjax/2.7.5/MathJax.js?config=TeX-AMS-MML_SVG\"></script><script type=\"text/javascript\">if (window.MathJax && window.MathJax.Hub && window.MathJax.Hub.Config) {window.MathJax.Hub.Config({SVG: {font: \"STIX-Web\"}});}</script>                <script type=\"text/javascript\">window.PlotlyConfig = {MathJaxConfig: 'local'};</script>\n",
              "        <script charset=\"utf-8\" src=\"https://cdn.plot.ly/plotly-2.35.2.min.js\"></script>                <div id=\"055ddae7-1f5c-4023-9d2e-4d36c33a7948\" class=\"plotly-graph-div\" style=\"height:450px; width:700px;\"></div>            <script type=\"text/javascript\">                                    window.PLOTLYENV=window.PLOTLYENV || {};                                    if (document.getElementById(\"055ddae7-1f5c-4023-9d2e-4d36c33a7948\")) {                    Plotly.newPlot(                        \"055ddae7-1f5c-4023-9d2e-4d36c33a7948\",                        [{\"alignmentgroup\":\"True\",\"bingroup\":\"x\",\"hovertemplate\":\"Salary=%{x}\\u003cbr\\u003ecount=%{y}\\u003cextra\\u003e\\u003c\\u002fextra\\u003e\",\"legendgroup\":\"\",\"marker\":{\"color\":\"rgb(230, 240, 240)\",\"pattern\":{\"shape\":\"\"}},\"name\":\"\",\"nbinsx\":14,\"offsetgroup\":\"\",\"orientation\":\"v\",\"showlegend\":false,\"x\":[102059,157718,309964,293132,49606,133468,259284,104426,147098,69747,102022,272175,340229,48395,97126,316208,128885,108315,136521,151141,107863,53616,61298,54132,328415,145337,71201,55682,63455,65626,68508,75821,285620,65860,40786,59697,316725,105984,393294,107008,127432,76693,90017,426142,46514,125587,98608,72794,69119,48835,218406,42333,300299,173246,67264,93591,82099,83590,122811,58551,53325,47326,48147,463051,111294,542695,64795,59086,116966,137427,47464,150731,436813,205159,70771,126238,58685,182764,47995,48930,102964,482510,116057,90264,106277,264285,357371,197592,97153,65416,117151,105748,56608,194823,205433,126463,133616,208338,187930,180996,108798,176158,73643,76826,126505,152278,87175,98435,54536,63482,153909,78726,96188,53439,43578,120858,78672,228438,71257,99936,129356,206277,106610,194964,47461,176705,97542,35606,48922,65659,179561,70487,68256,43211,87039,108623,218940,368494,119917,191771,35749,100710,50386,48740,249553,86639,167089,350525,77136,92884,91179,88726,46684,102061,73577,81115,100717,149688,60585,514945,253719,78541,126515,89362,85744,280756,174019,41601,81389,133865,93181,40285,173037,44632,313198,152314,56122,103198,92634,62999,78743,70872,60388,41857,298558,96170,56937,91407,354336,129703,43753,123619,257978,72688,43358,47338,94534,159438,189405,57890,87879,154405,244114,97794,180561,60549,70182,67578,140962,96319,253077,94499,65796,277344,314656,242890,40050,377203,50175,237749,111294,248987,109747,136970,43939,155786,85568,238630,100925,138989,142075,207952,121510,43854,372980,40321,45927,134427,46313,513608,429939,195261,39015,132563,267009,68043,140097,432191,70535,253952,223124,42188,44388,108095,42045,160352,207456,309141,48321,116165,99602,85884,56546,148862,365504,91563,135919,47148,115114,110839,92613,276322,74172,36280,70703,37124,52581,145328,130665,81297,141998,114713,35126,262409,55485,110069,94791,183189,126073,287710,76133,61915,40638,181244,46388,45942,49882,243863,59899,121881,130848,104268,341039,195502,65612,70682,105554,46773,110744,72118,265922,46740,108213,48125,50946,101906,55537,155506,304520,42008,104720,115895,49374,115982,46112,215327,409998,311475,97595,193190,57327,119083,119592,48994,20650,62756,46465,44057,288450,142853,46813,281175,38849,61117,204005,53336,60754,45989,76331,65094,71349,60759,92483,454993,168087,361616,65328,90187,56053,79990,43487,52528,98693,86038,241907,177402,189256,349793,49550,121303,192475,186169,114246,46703,26296,51050,295688,30502,58828,24583,85523,41307,149482,77269,90726,547204,43998,38382,49447,46285,75667,232155,102708,58993,155259,89351,53929,546549,55880,86428,105126,142488,88609,72057,81654,57296,117918,44646,410970,106840,476151,42721,240248,22089,230381,95808,48377,110076,131047,127014,30870,96632,63511,92022,31450,23547,33273,140538,240633,25276,315071,54746,43438,30783,148211,83951,91202,112728,57018,92522,52930,179602,39001,68638,85982,31962,24626,57030,87704,67814,445906,45046,82312,50559,51454,48442,45438,52390,72840,148080,56966,33606,57698,28317,97811,190198,167509,44082,59981,194982,252301,49131,60834,62016,140377,22986,81906,34320,145905,28751,77039,206137,57837,28646,195911,127450,339731,178337,47676,128719,78735,40100,105398,31672,238435,29791,153420,30931,50949,60967,110057,137012,205622,60494,249071,73326,25110,30217,86485,54324,102569,200409,185380,56892,112175,87762,26542,39198,157549,73918,83864,42052,220234,62496,304858,181164,67708,55778,120049,128222,120225,33180,87142,41524,36794,109172,70787,57102,28024,34047,32354,45276,89785,50046,123307,113512,50614,70068,71553,113448,107863,44146,28137,93170,22648,49045,105383,75275,108865,152147,139627,79828,149519,45880,37053,27550,69539,55565,85412,24417,46362,393103,106738,39048,61238,152322,24571,178836,31931,217544,22918,26919,52614,33554,92798,28139,71832,90487,23993,41664,111750,54566,49343,34579,82405,107966,133274,513262,36101,52210,151986,28828,70395,92364,55206,45286,211401,66488,29126,39636,54470,79329,173994,26363,130012,34630,61883,56302,130774,149390,35270,20387,27219,46283,149813,28090,30207,70849,40314,94318,104649,292500,130434,37423,47183,54379,89771,56449,28984,67447,22162,255718,167879,104898,28952,133949,21350,73825,290774,81726,75555,60087,92778,46151,184441,182961,129366,28156,93490,27369,82147,37545,84770,99203,388605,55541,94810,58345,43158,89366,323488,37626,38775,25986,31698,105859,35586,28288,50570,29428,64852,87483,221954,61686,45085,55814,23794,190466,37322,26198,128126,172070,63709,39456,67151,29449,100586,132102,44634,28753,27673,26414,243908,77358,231843,43644,75635,61054,30683,46809,57722,23041,83677,52957,23505,38022,63078,29890,35757,44082,64398,37530,261970,35373,240035,335261,115399,25500,292386,158330,48917,65194,56155,47648,22525,246505,293425,207687,30720,26608,105502,74096,68762,58631,79324,126527,80779,62868,80374,64277,184411,34805,200350,78934,55805,104176,71198,53271,34657,62602,310285,161600,37742,442820,110761,204154,35776,100818,85238,33202,36098,91332,39732,72758,509940,85074,87629,168483,38038,27185,96514,32502,90418,30838,30477,145716,208684,28926,23039,74314,33086,250555,60699,285138,121373,81034,42250,36862,67558,105411,69678,78937,170803,37461,300594,167051,23995,24095,174400,48797,34193,48570,193347,57742,303446,96779,32894,95643,44256,57686,42250,99052,52314,356378,54841,101408,68046,128634,22965,52318,381759,65838,126055,22150,236739,75250,83894,69325,244765,135407,70737,337046,58914,42656,37021,34753,188516,265523,41741,91915,33657,23198,67538,54501,50513,54371,38448,251681,65486,41555,35199,116132,30117,303779,28539,52039,41745,283081,175342,38169,53930,118048,80975,53530,75250,37121,144335,45024,106418,273211,46850,77420,57765,22122,304343,41243,81889,231699,40079,40438,30233,125759,56946,65642,56163,57054,21649,45850,325452,73653,313891,75810,32173,49543,199034,66552,70546,213191,64887,241646,43588,28790,24208,82174,39845,69402,350101,52850,22462,40115,58270,53014,45410,54130,24422,248115,152909,75738,183768,47046,28797,57118,37164,78242,513325,27360,85118,396470,31342,68743,68629,330940,105702,26937,220472,35885,349233,222303,371727,267834,311448,81974,52975,208435,54171,176282,24518,188180,27097,163950,28484,519361,31386,32679,187372,46366,33641,58717,36534,235812,25102,71698,405965,40342,30390,65432,51682,29558,26158,29793,67900,58274,268964,58992,38358,230945,77798,32313,25208,66110,43009,29128,28953,157676,393420,104807,25425,42303,249505,62324,93015,61230,85006,57133,110542,31254,339245,28704,76518,69078,31624,28989,31426,42066,107634,27961,57603,26451,32930,33443,100314,45995,44940,40561,106586,48432,78275,34823,195447,62509,73498,517695,121470,88382,29722,26782,87347,44646,28898,115110,94417,22515,34634,45518,175692,100576,47294,53080,158656,24174,84558,20802,149734,101210,531629,63234,63747,445906,51906,215246,151229,26406,64689,26752,44566,82357,326896,27347,31618,57285,70766,28359,81294,327587,35654,62828,37094,41476,72622,26186,127182,456418,30442,321244,97824,95591,46750,314668,247730,29956,22558,67200,27053,40341,223619,254535,462687,29490,495977,84985,26508,260835,44135,45220,105091,309371,56187,266449,34133,30714,327674,20583,21158,22778,236732,360384,28824,29835,264513,43072,33750,65489,41342,243989,207479,85987,40614,199718,73389,68820,61345,67718,337946,465219,35754,23632,38138,28262,341971,22488,93291,31072,113501,79724,21344,75948,155386,243869,226512,40701,307688,53590,37014,390142,25149,80236,41179,350024,33354,46452,44076,96807,75816,54114,49374,96187,42687,539998,26880,56541,76057,56422,63201,126008,54899,73075,297181,75816,50352,186215,140158,23385,62882,74458,25114,232658,78467,319619,66266,29322,128192,380905,48698,43961,439641,42900,63049,193287,362540,286432,41958,125751,37436,30896,260021,25060,366078,51272,29673,241664,85422,70455,53912,70202,22773,59519,32322,152771,293303,225831,286660,374781,86102,25838,165988,376853,423941,27141,60810,89960,48716,314961,33488,221827,228427,28346,37954,262392,380248,43030,22925,31014,187698,21854,145929,439935,93246,26137,26062,265712,42308,36677,78265,135160,60077,31161,223874,38749,145589,31801,49005,53387,88122,41092,64882,202322,36012,27763,37035,37361,200802,60769,253019,46546,76482,34432,47553,254834,46813,509261,214707,303360,413946,65642,35355,70809,211375,38066,264407,26702,65960,392379,89527,60515,183057,50502,301332,65743,53220,51673,36980,68302,64364,52260,291477,22382,27782,54502,175032,49516,28506,51802,63571,38726,54355,41539,27060,93008,26973,487746,54085,58523,24906,108352,36554,41708,72639,52198,139882,33306,144071,38906,83064,225565,29266,55170,38717,36832,443218,71821,192073,34024,21454,42946,225330,32191,20526,368010,21506,62828,29798,36353,49100,74515,32480,118961,36431,273739,42569,35770,34257,50660,58923,77905,32676,219195,20418,28544,46714,106476,178472,21202,270302,51582,26960,33454,31532,20778,283171,58408,227477,22696,32077,66119,134537,74515,62054,236103,26545,109778,61582,34954,22889,113262,71551,29329,125232,353335,118176,53571,142773,49006,272255,39145,173656,271683,25255,51132,65010,59158,38009,72355,32456,61811,37645,31894,63478,44770,194967,31024,96806,44782,314181,124429,29872,455643,311310,23612,72639,33632,158437,111619,47707,181293,69344,161538,201564,54824,58262,67873,24499,24504,21026,24959,59962,41877,43259,374977,27760,240197,249325,96942,28246,103429,220896,61758,248259,38532,27474,26973,35372,39722,42097,291663,121414,38508,92995,63375,46521,38258],\"xaxis\":\"x\",\"yaxis\":\"y\",\"type\":\"histogram\"}],                        {\"template\":{\"data\":{\"barpolar\":[{\"marker\":{\"line\":{\"color\":\"white\",\"width\":0.5},\"pattern\":{\"fillmode\":\"overlay\",\"size\":10,\"solidity\":0.2}},\"type\":\"barpolar\"}],\"bar\":[{\"error_x\":{\"color\":\"#2a3f5f\"},\"error_y\":{\"color\":\"#2a3f5f\"},\"marker\":{\"line\":{\"color\":\"white\",\"width\":0.5},\"pattern\":{\"fillmode\":\"overlay\",\"size\":10,\"solidity\":0.2}},\"type\":\"bar\"}],\"carpet\":[{\"aaxis\":{\"endlinecolor\":\"#2a3f5f\",\"gridcolor\":\"#C8D4E3\",\"linecolor\":\"#C8D4E3\",\"minorgridcolor\":\"#C8D4E3\",\"startlinecolor\":\"#2a3f5f\"},\"baxis\":{\"endlinecolor\":\"#2a3f5f\",\"gridcolor\":\"#C8D4E3\",\"linecolor\":\"#C8D4E3\",\"minorgridcolor\":\"#C8D4E3\",\"startlinecolor\":\"#2a3f5f\"},\"type\":\"carpet\"}],\"choropleth\":[{\"colorbar\":{\"outlinewidth\":0,\"ticks\":\"\"},\"type\":\"choropleth\"}],\"contourcarpet\":[{\"colorbar\":{\"outlinewidth\":0,\"ticks\":\"\"},\"type\":\"contourcarpet\"}],\"contour\":[{\"colorbar\":{\"outlinewidth\":0,\"ticks\":\"\"},\"colorscale\":[[0.0,\"#0d0887\"],[0.1111111111111111,\"#46039f\"],[0.2222222222222222,\"#7201a8\"],[0.3333333333333333,\"#9c179e\"],[0.4444444444444444,\"#bd3786\"],[0.5555555555555556,\"#d8576b\"],[0.6666666666666666,\"#ed7953\"],[0.7777777777777778,\"#fb9f3a\"],[0.8888888888888888,\"#fdca26\"],[1.0,\"#f0f921\"]],\"type\":\"contour\"}],\"heatmapgl\":[{\"colorbar\":{\"outlinewidth\":0,\"ticks\":\"\"},\"colorscale\":[[0.0,\"#0d0887\"],[0.1111111111111111,\"#46039f\"],[0.2222222222222222,\"#7201a8\"],[0.3333333333333333,\"#9c179e\"],[0.4444444444444444,\"#bd3786\"],[0.5555555555555556,\"#d8576b\"],[0.6666666666666666,\"#ed7953\"],[0.7777777777777778,\"#fb9f3a\"],[0.8888888888888888,\"#fdca26\"],[1.0,\"#f0f921\"]],\"type\":\"heatmapgl\"}],\"heatmap\":[{\"colorbar\":{\"outlinewidth\":0,\"ticks\":\"\"},\"colorscale\":[[0.0,\"#0d0887\"],[0.1111111111111111,\"#46039f\"],[0.2222222222222222,\"#7201a8\"],[0.3333333333333333,\"#9c179e\"],[0.4444444444444444,\"#bd3786\"],[0.5555555555555556,\"#d8576b\"],[0.6666666666666666,\"#ed7953\"],[0.7777777777777778,\"#fb9f3a\"],[0.8888888888888888,\"#fdca26\"],[1.0,\"#f0f921\"]],\"type\":\"heatmap\"}],\"histogram2dcontour\":[{\"colorbar\":{\"outlinewidth\":0,\"ticks\":\"\"},\"colorscale\":[[0.0,\"#0d0887\"],[0.1111111111111111,\"#46039f\"],[0.2222222222222222,\"#7201a8\"],[0.3333333333333333,\"#9c179e\"],[0.4444444444444444,\"#bd3786\"],[0.5555555555555556,\"#d8576b\"],[0.6666666666666666,\"#ed7953\"],[0.7777777777777778,\"#fb9f3a\"],[0.8888888888888888,\"#fdca26\"],[1.0,\"#f0f921\"]],\"type\":\"histogram2dcontour\"}],\"histogram2d\":[{\"colorbar\":{\"outlinewidth\":0,\"ticks\":\"\"},\"colorscale\":[[0.0,\"#0d0887\"],[0.1111111111111111,\"#46039f\"],[0.2222222222222222,\"#7201a8\"],[0.3333333333333333,\"#9c179e\"],[0.4444444444444444,\"#bd3786\"],[0.5555555555555556,\"#d8576b\"],[0.6666666666666666,\"#ed7953\"],[0.7777777777777778,\"#fb9f3a\"],[0.8888888888888888,\"#fdca26\"],[1.0,\"#f0f921\"]],\"type\":\"histogram2d\"}],\"histogram\":[{\"marker\":{\"pattern\":{\"fillmode\":\"overlay\",\"size\":10,\"solidity\":0.2}},\"type\":\"histogram\"}],\"mesh3d\":[{\"colorbar\":{\"outlinewidth\":0,\"ticks\":\"\"},\"type\":\"mesh3d\"}],\"parcoords\":[{\"line\":{\"colorbar\":{\"outlinewidth\":0,\"ticks\":\"\"}},\"type\":\"parcoords\"}],\"pie\":[{\"automargin\":true,\"type\":\"pie\"}],\"scatter3d\":[{\"line\":{\"colorbar\":{\"outlinewidth\":0,\"ticks\":\"\"}},\"marker\":{\"colorbar\":{\"outlinewidth\":0,\"ticks\":\"\"}},\"type\":\"scatter3d\"}],\"scattercarpet\":[{\"marker\":{\"colorbar\":{\"outlinewidth\":0,\"ticks\":\"\"}},\"type\":\"scattercarpet\"}],\"scattergeo\":[{\"marker\":{\"colorbar\":{\"outlinewidth\":0,\"ticks\":\"\"}},\"type\":\"scattergeo\"}],\"scattergl\":[{\"marker\":{\"colorbar\":{\"outlinewidth\":0,\"ticks\":\"\"}},\"type\":\"scattergl\"}],\"scattermapbox\":[{\"marker\":{\"colorbar\":{\"outlinewidth\":0,\"ticks\":\"\"}},\"type\":\"scattermapbox\"}],\"scatterpolargl\":[{\"marker\":{\"colorbar\":{\"outlinewidth\":0,\"ticks\":\"\"}},\"type\":\"scatterpolargl\"}],\"scatterpolar\":[{\"marker\":{\"colorbar\":{\"outlinewidth\":0,\"ticks\":\"\"}},\"type\":\"scatterpolar\"}],\"scatter\":[{\"fillpattern\":{\"fillmode\":\"overlay\",\"size\":10,\"solidity\":0.2},\"type\":\"scatter\"}],\"scatterternary\":[{\"marker\":{\"colorbar\":{\"outlinewidth\":0,\"ticks\":\"\"}},\"type\":\"scatterternary\"}],\"surface\":[{\"colorbar\":{\"outlinewidth\":0,\"ticks\":\"\"},\"colorscale\":[[0.0,\"#0d0887\"],[0.1111111111111111,\"#46039f\"],[0.2222222222222222,\"#7201a8\"],[0.3333333333333333,\"#9c179e\"],[0.4444444444444444,\"#bd3786\"],[0.5555555555555556,\"#d8576b\"],[0.6666666666666666,\"#ed7953\"],[0.7777777777777778,\"#fb9f3a\"],[0.8888888888888888,\"#fdca26\"],[1.0,\"#f0f921\"]],\"type\":\"surface\"}],\"table\":[{\"cells\":{\"fill\":{\"color\":\"#EBF0F8\"},\"line\":{\"color\":\"white\"}},\"header\":{\"fill\":{\"color\":\"#C8D4E3\"},\"line\":{\"color\":\"white\"}},\"type\":\"table\"}]},\"layout\":{\"annotationdefaults\":{\"arrowcolor\":\"#2a3f5f\",\"arrowhead\":0,\"arrowwidth\":1},\"autotypenumbers\":\"strict\",\"coloraxis\":{\"colorbar\":{\"outlinewidth\":0,\"ticks\":\"\"}},\"colorscale\":{\"diverging\":[[0,\"#8e0152\"],[0.1,\"#c51b7d\"],[0.2,\"#de77ae\"],[0.3,\"#f1b6da\"],[0.4,\"#fde0ef\"],[0.5,\"#f7f7f7\"],[0.6,\"#e6f5d0\"],[0.7,\"#b8e186\"],[0.8,\"#7fbc41\"],[0.9,\"#4d9221\"],[1,\"#276419\"]],\"sequential\":[[0.0,\"#0d0887\"],[0.1111111111111111,\"#46039f\"],[0.2222222222222222,\"#7201a8\"],[0.3333333333333333,\"#9c179e\"],[0.4444444444444444,\"#bd3786\"],[0.5555555555555556,\"#d8576b\"],[0.6666666666666666,\"#ed7953\"],[0.7777777777777778,\"#fb9f3a\"],[0.8888888888888888,\"#fdca26\"],[1.0,\"#f0f921\"]],\"sequentialminus\":[[0.0,\"#0d0887\"],[0.1111111111111111,\"#46039f\"],[0.2222222222222222,\"#7201a8\"],[0.3333333333333333,\"#9c179e\"],[0.4444444444444444,\"#bd3786\"],[0.5555555555555556,\"#d8576b\"],[0.6666666666666666,\"#ed7953\"],[0.7777777777777778,\"#fb9f3a\"],[0.8888888888888888,\"#fdca26\"],[1.0,\"#f0f921\"]]},\"colorway\":[\"#636efa\",\"#EF553B\",\"#00cc96\",\"#ab63fa\",\"#FFA15A\",\"#19d3f3\",\"#FF6692\",\"#B6E880\",\"#FF97FF\",\"#FECB52\"],\"font\":{\"color\":\"#2a3f5f\"},\"geo\":{\"bgcolor\":\"white\",\"lakecolor\":\"white\",\"landcolor\":\"white\",\"showlakes\":true,\"showland\":true,\"subunitcolor\":\"#C8D4E3\"},\"hoverlabel\":{\"align\":\"left\"},\"hovermode\":\"closest\",\"mapbox\":{\"style\":\"light\"},\"paper_bgcolor\":\"white\",\"plot_bgcolor\":\"white\",\"polar\":{\"angularaxis\":{\"gridcolor\":\"#EBF0F8\",\"linecolor\":\"#EBF0F8\",\"ticks\":\"\"},\"bgcolor\":\"white\",\"radialaxis\":{\"gridcolor\":\"#EBF0F8\",\"linecolor\":\"#EBF0F8\",\"ticks\":\"\"}},\"scene\":{\"xaxis\":{\"backgroundcolor\":\"white\",\"gridcolor\":\"#DFE8F3\",\"gridwidth\":2,\"linecolor\":\"#EBF0F8\",\"showbackground\":true,\"ticks\":\"\",\"zerolinecolor\":\"#EBF0F8\"},\"yaxis\":{\"backgroundcolor\":\"white\",\"gridcolor\":\"#DFE8F3\",\"gridwidth\":2,\"linecolor\":\"#EBF0F8\",\"showbackground\":true,\"ticks\":\"\",\"zerolinecolor\":\"#EBF0F8\"},\"zaxis\":{\"backgroundcolor\":\"white\",\"gridcolor\":\"#DFE8F3\",\"gridwidth\":2,\"linecolor\":\"#EBF0F8\",\"showbackground\":true,\"ticks\":\"\",\"zerolinecolor\":\"#EBF0F8\"}},\"shapedefaults\":{\"line\":{\"color\":\"#2a3f5f\"}},\"ternary\":{\"aaxis\":{\"gridcolor\":\"#DFE8F3\",\"linecolor\":\"#A2B1C6\",\"ticks\":\"\"},\"baxis\":{\"gridcolor\":\"#DFE8F3\",\"linecolor\":\"#A2B1C6\",\"ticks\":\"\"},\"bgcolor\":\"white\",\"caxis\":{\"gridcolor\":\"#DFE8F3\",\"linecolor\":\"#A2B1C6\",\"ticks\":\"\"}},\"title\":{\"x\":0.05},\"xaxis\":{\"automargin\":true,\"gridcolor\":\"#EBF0F8\",\"linecolor\":\"#EBF0F8\",\"ticks\":\"\",\"title\":{\"standoff\":15},\"zerolinecolor\":\"#EBF0F8\",\"zerolinewidth\":2},\"yaxis\":{\"automargin\":true,\"gridcolor\":\"#EBF0F8\",\"linecolor\":\"#EBF0F8\",\"ticks\":\"\",\"title\":{\"standoff\":15},\"zerolinecolor\":\"#EBF0F8\",\"zerolinewidth\":2}}},\"xaxis\":{\"anchor\":\"y\",\"domain\":[0.0,1.0],\"title\":{\"text\":\"Salary\"}},\"yaxis\":{\"anchor\":\"x\",\"domain\":[0.0,1.0],\"title\":{\"text\":\"count\"}},\"legend\":{\"tracegroupgap\":0},\"title\":{\"text\":\"Salary Distribution (Histogram)\"},\"barmode\":\"relative\",\"height\":450,\"width\":700},                        {\"responsive\": true}                    ).then(function(){\n",
              "                            \n",
              "var gd = document.getElementById('055ddae7-1f5c-4023-9d2e-4d36c33a7948');\n",
              "var x = new MutationObserver(function (mutations, observer) {{\n",
              "        var display = window.getComputedStyle(gd).display;\n",
              "        if (!display || display === 'none') {{\n",
              "            console.log([gd, 'removed!']);\n",
              "            Plotly.purge(gd);\n",
              "            observer.disconnect();\n",
              "        }}\n",
              "}});\n",
              "\n",
              "// Listen for the removal of the full notebook cells\n",
              "var notebookContainer = gd.closest('#notebook-container');\n",
              "if (notebookContainer) {{\n",
              "    x.observe(notebookContainer, {childList: true});\n",
              "}}\n",
              "\n",
              "// Listen for the clearing of the current output cell\n",
              "var outputEl = gd.closest('.output');\n",
              "if (outputEl) {{\n",
              "    x.observe(outputEl, {childList: true});\n",
              "}}\n",
              "\n",
              "                        })                };                            </script>        </div>\n",
              "</body>\n",
              "</html>"
            ]
          },
          "metadata": {}
        }
      ],
      "source": [
        "df_salary = df_employee[['Salary']]\n",
        "\n",
        "fig7 = px.histogram(df_salary, x='Salary', title=\"Salary Distribution (Histogram)\", nbins=14,\n",
        "                   labels={'Salary': 'Salary'}, width=700, height=450,\n",
        "                   color_discrete_sequence=px.colors.sequential.dense, template='plotly_white')\n",
        "\n",
        "fig7.show()"
      ]
    },
    {
      "cell_type": "markdown",
      "metadata": {
        "id": "vtfApefxBx8O"
      },
      "source": [
        "The salary distribution shows that most employees earn salaries in the lower to middle range, with only a few earning much higher salaries. This is shown by the histogram's positive skew, where the tail of the distribution stretches toward the higher salaries. This could indicate that the company has a large number of employees in entry-level or mid-career positions, with a smaller group of senior or high-paid individuals."
      ]
    },
    {
      "cell_type": "markdown",
      "metadata": {
        "id": "tkbruRVocYQO"
      },
      "source": [
        "**Average Salary By Department/Job Role**"
      ]
    },
    {
      "cell_type": "code",
      "execution_count": 117,
      "metadata": {
        "colab": {
          "base_uri": "https://localhost:8080/",
          "height": 617
        },
        "id": "bwFZw5hCcWyk",
        "outputId": "731d0eec-f467-4475-d6ae-3e6c0266f548"
      },
      "outputs": [
        {
          "output_type": "display_data",
          "data": {
            "text/html": [
              "<html>\n",
              "<head><meta charset=\"utf-8\" /></head>\n",
              "<body>\n",
              "    <div>            <script src=\"https://cdnjs.cloudflare.com/ajax/libs/mathjax/2.7.5/MathJax.js?config=TeX-AMS-MML_SVG\"></script><script type=\"text/javascript\">if (window.MathJax && window.MathJax.Hub && window.MathJax.Hub.Config) {window.MathJax.Hub.Config({SVG: {font: \"STIX-Web\"}});}</script>                <script type=\"text/javascript\">window.PlotlyConfig = {MathJaxConfig: 'local'};</script>\n",
              "        <script charset=\"utf-8\" src=\"https://cdn.plot.ly/plotly-2.35.2.min.js\"></script>                <div id=\"05a64648-ca40-4b25-83b8-861c33466490\" class=\"plotly-graph-div\" style=\"height:600px; width:800px;\"></div>            <script type=\"text/javascript\">                                    window.PLOTLYENV=window.PLOTLYENV || {};                                    if (document.getElementById(\"05a64648-ca40-4b25-83b8-861c33466490\")) {                    Plotly.newPlot(                        \"05a64648-ca40-4b25-83b8-861c33466490\",                        [{\"alignmentgroup\":\"True\",\"hovertemplate\":\"Department=Human Resources\\u003cbr\\u003eJob Role=%{x}\\u003cbr\\u003eAverage Salary=%{y}\\u003cextra\\u003e\\u003c\\u002fextra\\u003e\",\"legendgroup\":\"Human Resources\",\"marker\":{\"color\":\"rgb(230, 240, 240)\",\"pattern\":{\"shape\":\"\"}},\"name\":\"Human Resources\",\"offsetgroup\":\"Human Resources\",\"orientation\":\"v\",\"showlegend\":true,\"textposition\":\"auto\",\"x\":[\"HR Business Partner\",\"HR Executive\",\"HR Manager\",\"Recruiter\"],\"xaxis\":\"x\",\"y\":[314002.43,88655.44,449330.75,39330.13],\"yaxis\":\"y\",\"type\":\"bar\"},{\"alignmentgroup\":\"True\",\"hovertemplate\":\"Department=Sales\\u003cbr\\u003eJob Role=%{x}\\u003cbr\\u003eAverage Salary=%{y}\\u003cextra\\u003e\\u003c\\u002fextra\\u003e\",\"legendgroup\":\"Sales\",\"marker\":{\"color\":\"rgb(191, 221, 229)\",\"pattern\":{\"shape\":\"\"}},\"name\":\"Sales\",\"offsetgroup\":\"Sales\",\"orientation\":\"v\",\"showlegend\":true,\"textposition\":\"auto\",\"x\":[\"Manager\",\"Sales Executive\",\"Sales Representative\"],\"xaxis\":\"x\",\"y\":[315899.57,113865.79,43437.28],\"yaxis\":\"y\",\"type\":\"bar\"},{\"alignmentgroup\":\"True\",\"hovertemplate\":\"Department=Technology\\u003cbr\\u003eJob Role=%{x}\\u003cbr\\u003eAverage Salary=%{y}\\u003cextra\\u003e\\u003c\\u002fextra\\u003e\",\"legendgroup\":\"Technology\",\"marker\":{\"color\":\"rgb(156, 201, 226)\",\"pattern\":{\"shape\":\"\"}},\"name\":\"Technology\",\"offsetgroup\":\"Technology\",\"orientation\":\"v\",\"showlegend\":true,\"textposition\":\"auto\",\"x\":[\"Analytics Manager\",\"Data Scientist\",\"Engineering Manager\",\"Machine Learning Engineer\",\"Sales Executive\",\"Senior Software Engineer\",\"Software Engineer\"],\"xaxis\":\"x\",\"y\":[345410.73,57632.58,282548.36,131145.71,319619.0,124429.45,54290.52],\"yaxis\":\"y\",\"type\":\"bar\"}],                        {\"template\":{\"data\":{\"barpolar\":[{\"marker\":{\"line\":{\"color\":\"white\",\"width\":0.5},\"pattern\":{\"fillmode\":\"overlay\",\"size\":10,\"solidity\":0.2}},\"type\":\"barpolar\"}],\"bar\":[{\"error_x\":{\"color\":\"#2a3f5f\"},\"error_y\":{\"color\":\"#2a3f5f\"},\"marker\":{\"line\":{\"color\":\"white\",\"width\":0.5},\"pattern\":{\"fillmode\":\"overlay\",\"size\":10,\"solidity\":0.2}},\"type\":\"bar\"}],\"carpet\":[{\"aaxis\":{\"endlinecolor\":\"#2a3f5f\",\"gridcolor\":\"#C8D4E3\",\"linecolor\":\"#C8D4E3\",\"minorgridcolor\":\"#C8D4E3\",\"startlinecolor\":\"#2a3f5f\"},\"baxis\":{\"endlinecolor\":\"#2a3f5f\",\"gridcolor\":\"#C8D4E3\",\"linecolor\":\"#C8D4E3\",\"minorgridcolor\":\"#C8D4E3\",\"startlinecolor\":\"#2a3f5f\"},\"type\":\"carpet\"}],\"choropleth\":[{\"colorbar\":{\"outlinewidth\":0,\"ticks\":\"\"},\"type\":\"choropleth\"}],\"contourcarpet\":[{\"colorbar\":{\"outlinewidth\":0,\"ticks\":\"\"},\"type\":\"contourcarpet\"}],\"contour\":[{\"colorbar\":{\"outlinewidth\":0,\"ticks\":\"\"},\"colorscale\":[[0.0,\"#0d0887\"],[0.1111111111111111,\"#46039f\"],[0.2222222222222222,\"#7201a8\"],[0.3333333333333333,\"#9c179e\"],[0.4444444444444444,\"#bd3786\"],[0.5555555555555556,\"#d8576b\"],[0.6666666666666666,\"#ed7953\"],[0.7777777777777778,\"#fb9f3a\"],[0.8888888888888888,\"#fdca26\"],[1.0,\"#f0f921\"]],\"type\":\"contour\"}],\"heatmapgl\":[{\"colorbar\":{\"outlinewidth\":0,\"ticks\":\"\"},\"colorscale\":[[0.0,\"#0d0887\"],[0.1111111111111111,\"#46039f\"],[0.2222222222222222,\"#7201a8\"],[0.3333333333333333,\"#9c179e\"],[0.4444444444444444,\"#bd3786\"],[0.5555555555555556,\"#d8576b\"],[0.6666666666666666,\"#ed7953\"],[0.7777777777777778,\"#fb9f3a\"],[0.8888888888888888,\"#fdca26\"],[1.0,\"#f0f921\"]],\"type\":\"heatmapgl\"}],\"heatmap\":[{\"colorbar\":{\"outlinewidth\":0,\"ticks\":\"\"},\"colorscale\":[[0.0,\"#0d0887\"],[0.1111111111111111,\"#46039f\"],[0.2222222222222222,\"#7201a8\"],[0.3333333333333333,\"#9c179e\"],[0.4444444444444444,\"#bd3786\"],[0.5555555555555556,\"#d8576b\"],[0.6666666666666666,\"#ed7953\"],[0.7777777777777778,\"#fb9f3a\"],[0.8888888888888888,\"#fdca26\"],[1.0,\"#f0f921\"]],\"type\":\"heatmap\"}],\"histogram2dcontour\":[{\"colorbar\":{\"outlinewidth\":0,\"ticks\":\"\"},\"colorscale\":[[0.0,\"#0d0887\"],[0.1111111111111111,\"#46039f\"],[0.2222222222222222,\"#7201a8\"],[0.3333333333333333,\"#9c179e\"],[0.4444444444444444,\"#bd3786\"],[0.5555555555555556,\"#d8576b\"],[0.6666666666666666,\"#ed7953\"],[0.7777777777777778,\"#fb9f3a\"],[0.8888888888888888,\"#fdca26\"],[1.0,\"#f0f921\"]],\"type\":\"histogram2dcontour\"}],\"histogram2d\":[{\"colorbar\":{\"outlinewidth\":0,\"ticks\":\"\"},\"colorscale\":[[0.0,\"#0d0887\"],[0.1111111111111111,\"#46039f\"],[0.2222222222222222,\"#7201a8\"],[0.3333333333333333,\"#9c179e\"],[0.4444444444444444,\"#bd3786\"],[0.5555555555555556,\"#d8576b\"],[0.6666666666666666,\"#ed7953\"],[0.7777777777777778,\"#fb9f3a\"],[0.8888888888888888,\"#fdca26\"],[1.0,\"#f0f921\"]],\"type\":\"histogram2d\"}],\"histogram\":[{\"marker\":{\"pattern\":{\"fillmode\":\"overlay\",\"size\":10,\"solidity\":0.2}},\"type\":\"histogram\"}],\"mesh3d\":[{\"colorbar\":{\"outlinewidth\":0,\"ticks\":\"\"},\"type\":\"mesh3d\"}],\"parcoords\":[{\"line\":{\"colorbar\":{\"outlinewidth\":0,\"ticks\":\"\"}},\"type\":\"parcoords\"}],\"pie\":[{\"automargin\":true,\"type\":\"pie\"}],\"scatter3d\":[{\"line\":{\"colorbar\":{\"outlinewidth\":0,\"ticks\":\"\"}},\"marker\":{\"colorbar\":{\"outlinewidth\":0,\"ticks\":\"\"}},\"type\":\"scatter3d\"}],\"scattercarpet\":[{\"marker\":{\"colorbar\":{\"outlinewidth\":0,\"ticks\":\"\"}},\"type\":\"scattercarpet\"}],\"scattergeo\":[{\"marker\":{\"colorbar\":{\"outlinewidth\":0,\"ticks\":\"\"}},\"type\":\"scattergeo\"}],\"scattergl\":[{\"marker\":{\"colorbar\":{\"outlinewidth\":0,\"ticks\":\"\"}},\"type\":\"scattergl\"}],\"scattermapbox\":[{\"marker\":{\"colorbar\":{\"outlinewidth\":0,\"ticks\":\"\"}},\"type\":\"scattermapbox\"}],\"scatterpolargl\":[{\"marker\":{\"colorbar\":{\"outlinewidth\":0,\"ticks\":\"\"}},\"type\":\"scatterpolargl\"}],\"scatterpolar\":[{\"marker\":{\"colorbar\":{\"outlinewidth\":0,\"ticks\":\"\"}},\"type\":\"scatterpolar\"}],\"scatter\":[{\"fillpattern\":{\"fillmode\":\"overlay\",\"size\":10,\"solidity\":0.2},\"type\":\"scatter\"}],\"scatterternary\":[{\"marker\":{\"colorbar\":{\"outlinewidth\":0,\"ticks\":\"\"}},\"type\":\"scatterternary\"}],\"surface\":[{\"colorbar\":{\"outlinewidth\":0,\"ticks\":\"\"},\"colorscale\":[[0.0,\"#0d0887\"],[0.1111111111111111,\"#46039f\"],[0.2222222222222222,\"#7201a8\"],[0.3333333333333333,\"#9c179e\"],[0.4444444444444444,\"#bd3786\"],[0.5555555555555556,\"#d8576b\"],[0.6666666666666666,\"#ed7953\"],[0.7777777777777778,\"#fb9f3a\"],[0.8888888888888888,\"#fdca26\"],[1.0,\"#f0f921\"]],\"type\":\"surface\"}],\"table\":[{\"cells\":{\"fill\":{\"color\":\"#EBF0F8\"},\"line\":{\"color\":\"white\"}},\"header\":{\"fill\":{\"color\":\"#C8D4E3\"},\"line\":{\"color\":\"white\"}},\"type\":\"table\"}]},\"layout\":{\"annotationdefaults\":{\"arrowcolor\":\"#2a3f5f\",\"arrowhead\":0,\"arrowwidth\":1},\"autotypenumbers\":\"strict\",\"coloraxis\":{\"colorbar\":{\"outlinewidth\":0,\"ticks\":\"\"}},\"colorscale\":{\"diverging\":[[0,\"#8e0152\"],[0.1,\"#c51b7d\"],[0.2,\"#de77ae\"],[0.3,\"#f1b6da\"],[0.4,\"#fde0ef\"],[0.5,\"#f7f7f7\"],[0.6,\"#e6f5d0\"],[0.7,\"#b8e186\"],[0.8,\"#7fbc41\"],[0.9,\"#4d9221\"],[1,\"#276419\"]],\"sequential\":[[0.0,\"#0d0887\"],[0.1111111111111111,\"#46039f\"],[0.2222222222222222,\"#7201a8\"],[0.3333333333333333,\"#9c179e\"],[0.4444444444444444,\"#bd3786\"],[0.5555555555555556,\"#d8576b\"],[0.6666666666666666,\"#ed7953\"],[0.7777777777777778,\"#fb9f3a\"],[0.8888888888888888,\"#fdca26\"],[1.0,\"#f0f921\"]],\"sequentialminus\":[[0.0,\"#0d0887\"],[0.1111111111111111,\"#46039f\"],[0.2222222222222222,\"#7201a8\"],[0.3333333333333333,\"#9c179e\"],[0.4444444444444444,\"#bd3786\"],[0.5555555555555556,\"#d8576b\"],[0.6666666666666666,\"#ed7953\"],[0.7777777777777778,\"#fb9f3a\"],[0.8888888888888888,\"#fdca26\"],[1.0,\"#f0f921\"]]},\"colorway\":[\"#636efa\",\"#EF553B\",\"#00cc96\",\"#ab63fa\",\"#FFA15A\",\"#19d3f3\",\"#FF6692\",\"#B6E880\",\"#FF97FF\",\"#FECB52\"],\"font\":{\"color\":\"#2a3f5f\"},\"geo\":{\"bgcolor\":\"white\",\"lakecolor\":\"white\",\"landcolor\":\"white\",\"showlakes\":true,\"showland\":true,\"subunitcolor\":\"#C8D4E3\"},\"hoverlabel\":{\"align\":\"left\"},\"hovermode\":\"closest\",\"mapbox\":{\"style\":\"light\"},\"paper_bgcolor\":\"white\",\"plot_bgcolor\":\"white\",\"polar\":{\"angularaxis\":{\"gridcolor\":\"#EBF0F8\",\"linecolor\":\"#EBF0F8\",\"ticks\":\"\"},\"bgcolor\":\"white\",\"radialaxis\":{\"gridcolor\":\"#EBF0F8\",\"linecolor\":\"#EBF0F8\",\"ticks\":\"\"}},\"scene\":{\"xaxis\":{\"backgroundcolor\":\"white\",\"gridcolor\":\"#DFE8F3\",\"gridwidth\":2,\"linecolor\":\"#EBF0F8\",\"showbackground\":true,\"ticks\":\"\",\"zerolinecolor\":\"#EBF0F8\"},\"yaxis\":{\"backgroundcolor\":\"white\",\"gridcolor\":\"#DFE8F3\",\"gridwidth\":2,\"linecolor\":\"#EBF0F8\",\"showbackground\":true,\"ticks\":\"\",\"zerolinecolor\":\"#EBF0F8\"},\"zaxis\":{\"backgroundcolor\":\"white\",\"gridcolor\":\"#DFE8F3\",\"gridwidth\":2,\"linecolor\":\"#EBF0F8\",\"showbackground\":true,\"ticks\":\"\",\"zerolinecolor\":\"#EBF0F8\"}},\"shapedefaults\":{\"line\":{\"color\":\"#2a3f5f\"}},\"ternary\":{\"aaxis\":{\"gridcolor\":\"#DFE8F3\",\"linecolor\":\"#A2B1C6\",\"ticks\":\"\"},\"baxis\":{\"gridcolor\":\"#DFE8F3\",\"linecolor\":\"#A2B1C6\",\"ticks\":\"\"},\"bgcolor\":\"white\",\"caxis\":{\"gridcolor\":\"#DFE8F3\",\"linecolor\":\"#A2B1C6\",\"ticks\":\"\"}},\"title\":{\"x\":0.05},\"xaxis\":{\"automargin\":true,\"gridcolor\":\"#EBF0F8\",\"linecolor\":\"#EBF0F8\",\"ticks\":\"\",\"title\":{\"standoff\":15},\"zerolinecolor\":\"#EBF0F8\",\"zerolinewidth\":2},\"yaxis\":{\"automargin\":true,\"gridcolor\":\"#EBF0F8\",\"linecolor\":\"#EBF0F8\",\"ticks\":\"\",\"title\":{\"standoff\":15},\"zerolinecolor\":\"#EBF0F8\",\"zerolinewidth\":2}}},\"xaxis\":{\"anchor\":\"y\",\"domain\":[0.0,1.0],\"title\":{\"text\":\"Job Role\"}},\"yaxis\":{\"anchor\":\"x\",\"domain\":[0.0,1.0],\"title\":{\"text\":\"Average Salary\"}},\"legend\":{\"title\":{\"text\":\"Department\"},\"tracegroupgap\":0},\"title\":{\"text\":\"Average Salary by Job Role and Department\"},\"barmode\":\"relative\",\"height\":600,\"width\":800,\"updatemenus\":[{\"active\":0,\"buttons\":[{\"args\":[{\"visible\":[true,true,true,true,false,false,false,false,false,false,false,false,false,false]},{\"title\":\"Average Salary by Job Role in Human Resources\"}],\"label\":\"Human Resources\",\"method\":\"update\"},{\"args\":[{\"visible\":[false,false,false,false,true,true,true,false,false,false,false,false,false,false]},{\"title\":\"Average Salary by Job Role in Sales\"}],\"label\":\"Sales\",\"method\":\"update\"},{\"args\":[{\"visible\":[false,false,false,false,false,false,false,true,true,true,true,true,true,true]},{\"title\":\"Average Salary by Job Role in Technology\"}],\"label\":\"Technology\",\"method\":\"update\"}],\"direction\":\"down\",\"showactive\":true}]},                        {\"responsive\": true}                    ).then(function(){\n",
              "                            \n",
              "var gd = document.getElementById('05a64648-ca40-4b25-83b8-861c33466490');\n",
              "var x = new MutationObserver(function (mutations, observer) {{\n",
              "        var display = window.getComputedStyle(gd).display;\n",
              "        if (!display || display === 'none') {{\n",
              "            console.log([gd, 'removed!']);\n",
              "            Plotly.purge(gd);\n",
              "            observer.disconnect();\n",
              "        }}\n",
              "}});\n",
              "\n",
              "// Listen for the removal of the full notebook cells\n",
              "var notebookContainer = gd.closest('#notebook-container');\n",
              "if (notebookContainer) {{\n",
              "    x.observe(notebookContainer, {childList: true});\n",
              "}}\n",
              "\n",
              "// Listen for the clearing of the current output cell\n",
              "var outputEl = gd.closest('.output');\n",
              "if (outputEl) {{\n",
              "    x.observe(outputEl, {childList: true});\n",
              "}}\n",
              "\n",
              "                        })                };                            </script>        </div>\n",
              "</body>\n",
              "</html>"
            ]
          },
          "metadata": {}
        }
      ],
      "source": [
        "df_department = df_filtered.groupby('Department').agg(AvgSalary=('Salary', 'mean'))\n",
        "df_department['AvgSalary'] = df_department['AvgSalary'].round(2)\n",
        "\n",
        "df_job = df_filtered.groupby(['Department', 'JobRole'], as_index=False).agg(AvgSalary_JobRole=('Salary', 'mean'))\n",
        "df_job['AvgSalary_JobRole'] = df_job['AvgSalary_JobRole'].round(2)\n",
        "\n",
        "combined_df = pd.merge(df_job, df_department, on='Department')\n",
        "\n",
        "fig8 = px.bar(combined_df, x='JobRole', y='AvgSalary_JobRole', color='Department',\n",
        "             title=\"Average Salary by Job Role and Department\",\n",
        "             labels={'JobRole': 'Job Role', 'AvgSalary_JobRole': 'Average Salary'},\n",
        "             color_discrete_sequence=px.colors.sequential.dense,\n",
        "             width=800, height=600, template='plotly_white',\n",
        "             category_orders={'Department': combined_df['Department'].unique()})\n",
        "\n",
        "fig8.update_layout(\n",
        "    updatemenus=[{\n",
        "        'buttons': [\n",
        "            {'label': dept, 'method': 'update',\n",
        "             'args': [\n",
        "                 {'visible': [dept == x for x in combined_df['Department']]},\n",
        "                 {'title': f\"Average Salary by Job Role in {dept}\"}\n",
        "             ]}\n",
        "            for dept in combined_df['Department'].unique()\n",
        "        ],\n",
        "        'direction': 'down',\n",
        "        'showactive': True,\n",
        "        'active': 0,\n",
        "    }]\n",
        ")\n",
        "\n",
        "fig8.show()"
      ]
    },
    {
      "cell_type": "markdown",
      "metadata": {
        "id": "iMcI8GtYdd1c"
      },
      "source": [
        "Average Salary by Department/Job Role\n",
        "This interactive bar chart shows the average salary across different departments and job roles. By hovering over the bars, you can compare salaries and identify patterns or disparities across roles and departments."
      ]
    },
    {
      "cell_type": "markdown",
      "metadata": {
        "id": "tGUcpJcnfjTf"
      },
      "source": [
        "**Job Satisfaction Vs. Salary 2022**"
      ]
    },
    {
      "cell_type": "code",
      "execution_count": 118,
      "metadata": {
        "colab": {
          "base_uri": "https://localhost:8080/",
          "height": 238
        },
        "id": "H9mIyCvYfbcz",
        "outputId": "207eeb20-ab8d-4b54-9e51-9e852d6c70b8"
      },
      "outputs": [
        {
          "output_type": "display_data",
          "data": {
            "text/html": [
              "<div>\n",
              "<style scoped>\n",
              "    .dataframe tbody tr th:only-of-type {\n",
              "        vertical-align: middle;\n",
              "    }\n",
              "\n",
              "    .dataframe tbody tr th {\n",
              "        vertical-align: top;\n",
              "    }\n",
              "\n",
              "    .dataframe thead th {\n",
              "        text-align: right;\n",
              "    }\n",
              "</style>\n",
              "<table border=\"1\" class=\"dataframe\">\n",
              "  <thead>\n",
              "    <tr style=\"text-align: right;\">\n",
              "      <th></th>\n",
              "      <th>AverageSalary</th>\n",
              "    </tr>\n",
              "    <tr>\n",
              "      <th>JobSatisfaction</th>\n",
              "      <th></th>\n",
              "    </tr>\n",
              "  </thead>\n",
              "  <tbody>\n",
              "    <tr>\n",
              "      <th>1</th>\n",
              "      <td>104066.09</td>\n",
              "    </tr>\n",
              "    <tr>\n",
              "      <th>2</th>\n",
              "      <td>124073.17</td>\n",
              "    </tr>\n",
              "    <tr>\n",
              "      <th>3</th>\n",
              "      <td>118182.88</td>\n",
              "    </tr>\n",
              "    <tr>\n",
              "      <th>4</th>\n",
              "      <td>129426.99</td>\n",
              "    </tr>\n",
              "    <tr>\n",
              "      <th>5</th>\n",
              "      <td>125553.77</td>\n",
              "    </tr>\n",
              "  </tbody>\n",
              "</table>\n",
              "</div>"
            ]
          },
          "metadata": {}
        }
      ],
      "source": [
        "df_merged = pd.merge(df_filtered, df_Performance_copy, on='EmployeeID')\n",
        "df_merged = df_merged[df_merged['ReviewDate'].dt.year.isin([2022])]\n",
        "df_result = df_merged.groupby('JobSatisfaction').agg(AverageSalary=('Salary', 'mean'))\n",
        "df_result['AverageSalary'] = df_result['AverageSalary'].round(2)\n",
        "display(df_result)"
      ]
    },
    {
      "cell_type": "markdown",
      "metadata": {
        "id": "ragCyoiL_eB9"
      },
      "source": [
        "The analysis explores how job satisfaction relates to average salary for employees who stayed with the company in 2021 and 2022. It shows that as salary increases, job satisfaction levels also rise. Employees with the lowest satisfaction level earn about (104,000$) on average, while those with the highest satisfaction levels earn around (125,553-129,426\\$). This suggests that higher pay might be a key factor contributing to greater job satisfaction."
      ]
    },
    {
      "cell_type": "markdown",
      "metadata": {
        "id": "H01IfF4fAweZ"
      },
      "source": [
        "**Do employees who work overtime earn higher salaries?**"
      ]
    },
    {
      "cell_type": "code",
      "execution_count": 119,
      "metadata": {
        "colab": {
          "base_uri": "https://localhost:8080/",
          "height": 143
        },
        "id": "7I2KLuyPPJgP",
        "outputId": "79ba00b0-bc43-4202-8879-520eed72ae4d"
      },
      "outputs": [
        {
          "output_type": "display_data",
          "data": {
            "text/html": [
              "<div>\n",
              "<style scoped>\n",
              "    .dataframe tbody tr th:only-of-type {\n",
              "        vertical-align: middle;\n",
              "    }\n",
              "\n",
              "    .dataframe tbody tr th {\n",
              "        vertical-align: top;\n",
              "    }\n",
              "\n",
              "    .dataframe thead th {\n",
              "        text-align: right;\n",
              "    }\n",
              "</style>\n",
              "<table border=\"1\" class=\"dataframe\">\n",
              "  <thead>\n",
              "    <tr style=\"text-align: right;\">\n",
              "      <th></th>\n",
              "      <th>AverageSalary</th>\n",
              "    </tr>\n",
              "    <tr>\n",
              "      <th>OverTime</th>\n",
              "      <th></th>\n",
              "    </tr>\n",
              "  </thead>\n",
              "  <tbody>\n",
              "    <tr>\n",
              "      <th>Yes</th>\n",
              "      <td>129272.0</td>\n",
              "    </tr>\n",
              "    <tr>\n",
              "      <th>No</th>\n",
              "      <td>115668.0</td>\n",
              "    </tr>\n",
              "  </tbody>\n",
              "</table>\n",
              "</div>"
            ]
          },
          "metadata": {}
        }
      ],
      "source": [
        "df_result = df_filtered.groupby('OverTime').agg(AverageSalary=('Salary', 'mean'))\n",
        "df_result['AverageSalary'] = df_result['AverageSalary'].round()\n",
        "df_result = df_result.sort_values(by='AverageSalary', ascending=False)\n",
        "\n",
        "display(df_result)"
      ]
    },
    {
      "cell_type": "markdown",
      "metadata": {
        "id": "yRd_pjraBfV3"
      },
      "source": [
        "Employees who work overtime have an average salary of $129,272, which is noticeably higher than the \\$115,668 earned by those who don't work overtime. This suggests that overtime work might be associated with higher compensation, possibly due to additional hours worked or job responsibilities."
      ]
    },
    {
      "cell_type": "markdown",
      "metadata": {
        "id": "y7B5Vj68vO31"
      },
      "source": [
        "**Average Salary By Gender**"
      ]
    },
    {
      "cell_type": "code",
      "execution_count": 120,
      "metadata": {
        "colab": {
          "base_uri": "https://localhost:8080/",
          "height": 206
        },
        "id": "SEIRz0qSQabO",
        "outputId": "d97bd46d-63d1-4e35-fa06-d6caed868cb3"
      },
      "outputs": [
        {
          "output_type": "display_data",
          "data": {
            "text/html": [
              "<div>\n",
              "<style scoped>\n",
              "    .dataframe tbody tr th:only-of-type {\n",
              "        vertical-align: middle;\n",
              "    }\n",
              "\n",
              "    .dataframe tbody tr th {\n",
              "        vertical-align: top;\n",
              "    }\n",
              "\n",
              "    .dataframe thead th {\n",
              "        text-align: right;\n",
              "    }\n",
              "</style>\n",
              "<table border=\"1\" class=\"dataframe\">\n",
              "  <thead>\n",
              "    <tr style=\"text-align: right;\">\n",
              "      <th></th>\n",
              "      <th>AverageSalary</th>\n",
              "    </tr>\n",
              "    <tr>\n",
              "      <th>Gender</th>\n",
              "      <th></th>\n",
              "    </tr>\n",
              "  </thead>\n",
              "  <tbody>\n",
              "    <tr>\n",
              "      <th>Prefer Not To Say</th>\n",
              "      <td>128083.0</td>\n",
              "    </tr>\n",
              "    <tr>\n",
              "      <th>Female</th>\n",
              "      <td>121236.0</td>\n",
              "    </tr>\n",
              "    <tr>\n",
              "      <th>Male</th>\n",
              "      <td>116770.0</td>\n",
              "    </tr>\n",
              "    <tr>\n",
              "      <th>Non-Binary</th>\n",
              "      <td>114827.0</td>\n",
              "    </tr>\n",
              "  </tbody>\n",
              "</table>\n",
              "</div>"
            ]
          },
          "metadata": {}
        }
      ],
      "source": [
        "df_result = df_filtered.groupby('Gender').agg(AverageSalary=('Salary', 'mean'))\n",
        "df_result['AverageSalary'] = df_result['AverageSalary'].round()\n",
        "df_result = df_result.sort_values(by='AverageSalary', ascending=False)\n",
        "\n",
        "display(df_result)"
      ]
    },
    {
      "cell_type": "markdown",
      "metadata": {
        "id": "NLc_5B4UfRN7"
      },
      "source": [
        "The salary analysis by gender reveals slight variations in average salaries across different gender identities. Female employees have the highest average salary at \\$121,236, followed by male employees at \\$116,770. Non-binary employees earn slightly less on average at \\$114,827, while those who prefer not to disclose their gender earn the highest average salary at $128,083. While the differences are not huge, they highlight potential disparities that could be worth investigating further to ensure fair compensation practices across all gender groups in the company."
      ]
    },
    {
      "cell_type": "markdown",
      "metadata": {
        "id": "R89Up9ub3kNl"
      },
      "source": [
        "**Average Salary By Education Level**"
      ]
    },
    {
      "cell_type": "code",
      "execution_count": 121,
      "metadata": {
        "colab": {
          "base_uri": "https://localhost:8080/",
          "height": 238
        },
        "id": "McEryqtcvavw",
        "outputId": "33141d9e-d302-43b7-c787-51295e05b1d8"
      },
      "outputs": [
        {
          "output_type": "display_data",
          "data": {
            "text/html": [
              "<div>\n",
              "<style scoped>\n",
              "    .dataframe tbody tr th:only-of-type {\n",
              "        vertical-align: middle;\n",
              "    }\n",
              "\n",
              "    .dataframe tbody tr th {\n",
              "        vertical-align: top;\n",
              "    }\n",
              "\n",
              "    .dataframe thead th {\n",
              "        text-align: right;\n",
              "    }\n",
              "</style>\n",
              "<table border=\"1\" class=\"dataframe\">\n",
              "  <thead>\n",
              "    <tr style=\"text-align: right;\">\n",
              "      <th></th>\n",
              "      <th>AverageSalary</th>\n",
              "    </tr>\n",
              "    <tr>\n",
              "      <th>EducationLevel</th>\n",
              "      <th></th>\n",
              "    </tr>\n",
              "  </thead>\n",
              "  <tbody>\n",
              "    <tr>\n",
              "      <th>Doctor</th>\n",
              "      <td>160017.0</td>\n",
              "    </tr>\n",
              "    <tr>\n",
              "      <th>Masters</th>\n",
              "      <td>122517.0</td>\n",
              "    </tr>\n",
              "    <tr>\n",
              "      <th>Bachelor</th>\n",
              "      <td>121414.0</td>\n",
              "    </tr>\n",
              "    <tr>\n",
              "      <th>High School</th>\n",
              "      <td>111581.0</td>\n",
              "    </tr>\n",
              "    <tr>\n",
              "      <th>No Formal Qualification</th>\n",
              "      <td>100925.0</td>\n",
              "    </tr>\n",
              "  </tbody>\n",
              "</table>\n",
              "</div>"
            ]
          },
          "metadata": {}
        }
      ],
      "source": [
        "df_result = df_filtered.groupby('EducationLevel').agg(AverageSalary=('Salary', 'mean'))\n",
        "df_result['AverageSalary'] = df_result['AverageSalary'].round()\n",
        "df_result = df_result.sort_values(by='AverageSalary', ascending=False)\n",
        "\n",
        "display(df_result)"
      ]
    },
    {
      "cell_type": "markdown",
      "metadata": {
        "id": "7q6kA6ONC27V"
      },
      "source": [
        "The analysis reveals a clear trend: as education level increases, so does the average salary. Employees with a Doctorate earn the highest average salary of \\$160,017, followed by those with a Master's degree at $122,517. Bachelor's degree holders earn an average of \\$121,414, while employees with only a high school education or no formal qualifications earn comparatively lower salaries. This suggests that higher education qualifications may lead to better-paying roles within the company."
      ]
    },
    {
      "cell_type": "markdown",
      "metadata": {
        "id": "Lod1mvVPxqrl"
      },
      "source": [
        "## Attrition"
      ]
    },
    {
      "cell_type": "markdown",
      "metadata": {
        "id": "GBXdI-NZxunP"
      },
      "source": [
        "**Attrition Percentage**"
      ]
    },
    {
      "cell_type": "code",
      "execution_count": 122,
      "metadata": {
        "colab": {
          "base_uri": "https://localhost:8080/"
        },
        "id": "bdaTj7Fsxt_I",
        "outputId": "2ce749ba-16c5-41fc-fcec-394649a1eced"
      },
      "outputs": [
        {
          "output_type": "stream",
          "name": "stdout",
          "text": [
            "Attrition Percentage: 16.12%\n"
          ]
        }
      ],
      "source": [
        "attrition_percentage = (df_employee['Attrition'].value_counts(normalize=True)['Yes']) * 100\n",
        "attrition_percentage = round(attrition_percentage, 2)\n",
        "print(f\"Attrition Percentage: {attrition_percentage}%\")"
      ]
    },
    {
      "cell_type": "markdown",
      "metadata": {
        "id": "pJjimvA1GNc-"
      },
      "source": [
        "The attrition rate is about 16.12%, meaning roughly 16% of employees have left the company. This gives the company an idea of how many people are leaving and can help identify ways to improve employee retention."
      ]
    },
    {
      "cell_type": "markdown",
      "metadata": {
        "id": "RmNrI1zP4RYG"
      },
      "source": [
        "**Attrition Percentage By Department**"
      ]
    },
    {
      "cell_type": "code",
      "execution_count": 123,
      "metadata": {
        "colab": {
          "base_uri": "https://localhost:8080/",
          "height": 417
        },
        "id": "ZOxrsV0_GOzX",
        "outputId": "8819921f-34c6-41d9-e416-a25bc804dc6c"
      },
      "outputs": [
        {
          "output_type": "display_data",
          "data": {
            "text/html": [
              "<html>\n",
              "<head><meta charset=\"utf-8\" /></head>\n",
              "<body>\n",
              "    <div>            <script src=\"https://cdnjs.cloudflare.com/ajax/libs/mathjax/2.7.5/MathJax.js?config=TeX-AMS-MML_SVG\"></script><script type=\"text/javascript\">if (window.MathJax && window.MathJax.Hub && window.MathJax.Hub.Config) {window.MathJax.Hub.Config({SVG: {font: \"STIX-Web\"}});}</script>                <script type=\"text/javascript\">window.PlotlyConfig = {MathJaxConfig: 'local'};</script>\n",
              "        <script charset=\"utf-8\" src=\"https://cdn.plot.ly/plotly-2.35.2.min.js\"></script>                <div id=\"931ffef1-8fb0-4443-9193-337620975375\" class=\"plotly-graph-div\" style=\"height:400px; width:800px;\"></div>            <script type=\"text/javascript\">                                    window.PLOTLYENV=window.PLOTLYENV || {};                                    if (document.getElementById(\"931ffef1-8fb0-4443-9193-337620975375\")) {                    Plotly.newPlot(                        \"931ffef1-8fb0-4443-9193-337620975375\",                        [{\"alignmentgroup\":\"True\",\"hovertemplate\":\"Department=%{x}\\u003cbr\\u003eAttrition (%)=%{y}\\u003cextra\\u003e\\u003c\\u002fextra\\u003e\",\"legendgroup\":\"Sales\",\"marker\":{\"color\":\"rgb(230, 240, 240)\",\"pattern\":{\"shape\":\"\"}},\"name\":\"Sales\",\"offsetgroup\":\"Sales\",\"orientation\":\"v\",\"showlegend\":true,\"textposition\":\"auto\",\"x\":[\"Sales\"],\"xaxis\":\"x\",\"y\":[20.62780269058296],\"yaxis\":\"y\",\"type\":\"bar\"},{\"alignmentgroup\":\"True\",\"hovertemplate\":\"Department=%{x}\\u003cbr\\u003eAttrition (%)=%{y}\\u003cextra\\u003e\\u003c\\u002fextra\\u003e\",\"legendgroup\":\"Human Resources\",\"marker\":{\"color\":\"rgb(191, 221, 229)\",\"pattern\":{\"shape\":\"\"}},\"name\":\"Human Resources\",\"offsetgroup\":\"Human Resources\",\"orientation\":\"v\",\"showlegend\":true,\"textposition\":\"auto\",\"x\":[\"Human Resources\"],\"xaxis\":\"x\",\"y\":[19.047619047619047],\"yaxis\":\"y\",\"type\":\"bar\"},{\"alignmentgroup\":\"True\",\"hovertemplate\":\"Department=%{x}\\u003cbr\\u003eAttrition (%)=%{y}\\u003cextra\\u003e\\u003c\\u002fextra\\u003e\",\"legendgroup\":\"Technology\",\"marker\":{\"color\":\"rgb(156, 201, 226)\",\"pattern\":{\"shape\":\"\"}},\"name\":\"Technology\",\"offsetgroup\":\"Technology\",\"orientation\":\"v\",\"showlegend\":true,\"textposition\":\"auto\",\"x\":[\"Technology\"],\"xaxis\":\"x\",\"y\":[13.839750260145681],\"yaxis\":\"y\",\"type\":\"bar\"}],                        {\"template\":{\"data\":{\"barpolar\":[{\"marker\":{\"line\":{\"color\":\"white\",\"width\":0.5},\"pattern\":{\"fillmode\":\"overlay\",\"size\":10,\"solidity\":0.2}},\"type\":\"barpolar\"}],\"bar\":[{\"error_x\":{\"color\":\"#2a3f5f\"},\"error_y\":{\"color\":\"#2a3f5f\"},\"marker\":{\"line\":{\"color\":\"white\",\"width\":0.5},\"pattern\":{\"fillmode\":\"overlay\",\"size\":10,\"solidity\":0.2}},\"type\":\"bar\"}],\"carpet\":[{\"aaxis\":{\"endlinecolor\":\"#2a3f5f\",\"gridcolor\":\"#C8D4E3\",\"linecolor\":\"#C8D4E3\",\"minorgridcolor\":\"#C8D4E3\",\"startlinecolor\":\"#2a3f5f\"},\"baxis\":{\"endlinecolor\":\"#2a3f5f\",\"gridcolor\":\"#C8D4E3\",\"linecolor\":\"#C8D4E3\",\"minorgridcolor\":\"#C8D4E3\",\"startlinecolor\":\"#2a3f5f\"},\"type\":\"carpet\"}],\"choropleth\":[{\"colorbar\":{\"outlinewidth\":0,\"ticks\":\"\"},\"type\":\"choropleth\"}],\"contourcarpet\":[{\"colorbar\":{\"outlinewidth\":0,\"ticks\":\"\"},\"type\":\"contourcarpet\"}],\"contour\":[{\"colorbar\":{\"outlinewidth\":0,\"ticks\":\"\"},\"colorscale\":[[0.0,\"#0d0887\"],[0.1111111111111111,\"#46039f\"],[0.2222222222222222,\"#7201a8\"],[0.3333333333333333,\"#9c179e\"],[0.4444444444444444,\"#bd3786\"],[0.5555555555555556,\"#d8576b\"],[0.6666666666666666,\"#ed7953\"],[0.7777777777777778,\"#fb9f3a\"],[0.8888888888888888,\"#fdca26\"],[1.0,\"#f0f921\"]],\"type\":\"contour\"}],\"heatmapgl\":[{\"colorbar\":{\"outlinewidth\":0,\"ticks\":\"\"},\"colorscale\":[[0.0,\"#0d0887\"],[0.1111111111111111,\"#46039f\"],[0.2222222222222222,\"#7201a8\"],[0.3333333333333333,\"#9c179e\"],[0.4444444444444444,\"#bd3786\"],[0.5555555555555556,\"#d8576b\"],[0.6666666666666666,\"#ed7953\"],[0.7777777777777778,\"#fb9f3a\"],[0.8888888888888888,\"#fdca26\"],[1.0,\"#f0f921\"]],\"type\":\"heatmapgl\"}],\"heatmap\":[{\"colorbar\":{\"outlinewidth\":0,\"ticks\":\"\"},\"colorscale\":[[0.0,\"#0d0887\"],[0.1111111111111111,\"#46039f\"],[0.2222222222222222,\"#7201a8\"],[0.3333333333333333,\"#9c179e\"],[0.4444444444444444,\"#bd3786\"],[0.5555555555555556,\"#d8576b\"],[0.6666666666666666,\"#ed7953\"],[0.7777777777777778,\"#fb9f3a\"],[0.8888888888888888,\"#fdca26\"],[1.0,\"#f0f921\"]],\"type\":\"heatmap\"}],\"histogram2dcontour\":[{\"colorbar\":{\"outlinewidth\":0,\"ticks\":\"\"},\"colorscale\":[[0.0,\"#0d0887\"],[0.1111111111111111,\"#46039f\"],[0.2222222222222222,\"#7201a8\"],[0.3333333333333333,\"#9c179e\"],[0.4444444444444444,\"#bd3786\"],[0.5555555555555556,\"#d8576b\"],[0.6666666666666666,\"#ed7953\"],[0.7777777777777778,\"#fb9f3a\"],[0.8888888888888888,\"#fdca26\"],[1.0,\"#f0f921\"]],\"type\":\"histogram2dcontour\"}],\"histogram2d\":[{\"colorbar\":{\"outlinewidth\":0,\"ticks\":\"\"},\"colorscale\":[[0.0,\"#0d0887\"],[0.1111111111111111,\"#46039f\"],[0.2222222222222222,\"#7201a8\"],[0.3333333333333333,\"#9c179e\"],[0.4444444444444444,\"#bd3786\"],[0.5555555555555556,\"#d8576b\"],[0.6666666666666666,\"#ed7953\"],[0.7777777777777778,\"#fb9f3a\"],[0.8888888888888888,\"#fdca26\"],[1.0,\"#f0f921\"]],\"type\":\"histogram2d\"}],\"histogram\":[{\"marker\":{\"pattern\":{\"fillmode\":\"overlay\",\"size\":10,\"solidity\":0.2}},\"type\":\"histogram\"}],\"mesh3d\":[{\"colorbar\":{\"outlinewidth\":0,\"ticks\":\"\"},\"type\":\"mesh3d\"}],\"parcoords\":[{\"line\":{\"colorbar\":{\"outlinewidth\":0,\"ticks\":\"\"}},\"type\":\"parcoords\"}],\"pie\":[{\"automargin\":true,\"type\":\"pie\"}],\"scatter3d\":[{\"line\":{\"colorbar\":{\"outlinewidth\":0,\"ticks\":\"\"}},\"marker\":{\"colorbar\":{\"outlinewidth\":0,\"ticks\":\"\"}},\"type\":\"scatter3d\"}],\"scattercarpet\":[{\"marker\":{\"colorbar\":{\"outlinewidth\":0,\"ticks\":\"\"}},\"type\":\"scattercarpet\"}],\"scattergeo\":[{\"marker\":{\"colorbar\":{\"outlinewidth\":0,\"ticks\":\"\"}},\"type\":\"scattergeo\"}],\"scattergl\":[{\"marker\":{\"colorbar\":{\"outlinewidth\":0,\"ticks\":\"\"}},\"type\":\"scattergl\"}],\"scattermapbox\":[{\"marker\":{\"colorbar\":{\"outlinewidth\":0,\"ticks\":\"\"}},\"type\":\"scattermapbox\"}],\"scatterpolargl\":[{\"marker\":{\"colorbar\":{\"outlinewidth\":0,\"ticks\":\"\"}},\"type\":\"scatterpolargl\"}],\"scatterpolar\":[{\"marker\":{\"colorbar\":{\"outlinewidth\":0,\"ticks\":\"\"}},\"type\":\"scatterpolar\"}],\"scatter\":[{\"fillpattern\":{\"fillmode\":\"overlay\",\"size\":10,\"solidity\":0.2},\"type\":\"scatter\"}],\"scatterternary\":[{\"marker\":{\"colorbar\":{\"outlinewidth\":0,\"ticks\":\"\"}},\"type\":\"scatterternary\"}],\"surface\":[{\"colorbar\":{\"outlinewidth\":0,\"ticks\":\"\"},\"colorscale\":[[0.0,\"#0d0887\"],[0.1111111111111111,\"#46039f\"],[0.2222222222222222,\"#7201a8\"],[0.3333333333333333,\"#9c179e\"],[0.4444444444444444,\"#bd3786\"],[0.5555555555555556,\"#d8576b\"],[0.6666666666666666,\"#ed7953\"],[0.7777777777777778,\"#fb9f3a\"],[0.8888888888888888,\"#fdca26\"],[1.0,\"#f0f921\"]],\"type\":\"surface\"}],\"table\":[{\"cells\":{\"fill\":{\"color\":\"#EBF0F8\"},\"line\":{\"color\":\"white\"}},\"header\":{\"fill\":{\"color\":\"#C8D4E3\"},\"line\":{\"color\":\"white\"}},\"type\":\"table\"}]},\"layout\":{\"annotationdefaults\":{\"arrowcolor\":\"#2a3f5f\",\"arrowhead\":0,\"arrowwidth\":1},\"autotypenumbers\":\"strict\",\"coloraxis\":{\"colorbar\":{\"outlinewidth\":0,\"ticks\":\"\"}},\"colorscale\":{\"diverging\":[[0,\"#8e0152\"],[0.1,\"#c51b7d\"],[0.2,\"#de77ae\"],[0.3,\"#f1b6da\"],[0.4,\"#fde0ef\"],[0.5,\"#f7f7f7\"],[0.6,\"#e6f5d0\"],[0.7,\"#b8e186\"],[0.8,\"#7fbc41\"],[0.9,\"#4d9221\"],[1,\"#276419\"]],\"sequential\":[[0.0,\"#0d0887\"],[0.1111111111111111,\"#46039f\"],[0.2222222222222222,\"#7201a8\"],[0.3333333333333333,\"#9c179e\"],[0.4444444444444444,\"#bd3786\"],[0.5555555555555556,\"#d8576b\"],[0.6666666666666666,\"#ed7953\"],[0.7777777777777778,\"#fb9f3a\"],[0.8888888888888888,\"#fdca26\"],[1.0,\"#f0f921\"]],\"sequentialminus\":[[0.0,\"#0d0887\"],[0.1111111111111111,\"#46039f\"],[0.2222222222222222,\"#7201a8\"],[0.3333333333333333,\"#9c179e\"],[0.4444444444444444,\"#bd3786\"],[0.5555555555555556,\"#d8576b\"],[0.6666666666666666,\"#ed7953\"],[0.7777777777777778,\"#fb9f3a\"],[0.8888888888888888,\"#fdca26\"],[1.0,\"#f0f921\"]]},\"colorway\":[\"#636efa\",\"#EF553B\",\"#00cc96\",\"#ab63fa\",\"#FFA15A\",\"#19d3f3\",\"#FF6692\",\"#B6E880\",\"#FF97FF\",\"#FECB52\"],\"font\":{\"color\":\"#2a3f5f\"},\"geo\":{\"bgcolor\":\"white\",\"lakecolor\":\"white\",\"landcolor\":\"white\",\"showlakes\":true,\"showland\":true,\"subunitcolor\":\"#C8D4E3\"},\"hoverlabel\":{\"align\":\"left\"},\"hovermode\":\"closest\",\"mapbox\":{\"style\":\"light\"},\"paper_bgcolor\":\"white\",\"plot_bgcolor\":\"white\",\"polar\":{\"angularaxis\":{\"gridcolor\":\"#EBF0F8\",\"linecolor\":\"#EBF0F8\",\"ticks\":\"\"},\"bgcolor\":\"white\",\"radialaxis\":{\"gridcolor\":\"#EBF0F8\",\"linecolor\":\"#EBF0F8\",\"ticks\":\"\"}},\"scene\":{\"xaxis\":{\"backgroundcolor\":\"white\",\"gridcolor\":\"#DFE8F3\",\"gridwidth\":2,\"linecolor\":\"#EBF0F8\",\"showbackground\":true,\"ticks\":\"\",\"zerolinecolor\":\"#EBF0F8\"},\"yaxis\":{\"backgroundcolor\":\"white\",\"gridcolor\":\"#DFE8F3\",\"gridwidth\":2,\"linecolor\":\"#EBF0F8\",\"showbackground\":true,\"ticks\":\"\",\"zerolinecolor\":\"#EBF0F8\"},\"zaxis\":{\"backgroundcolor\":\"white\",\"gridcolor\":\"#DFE8F3\",\"gridwidth\":2,\"linecolor\":\"#EBF0F8\",\"showbackground\":true,\"ticks\":\"\",\"zerolinecolor\":\"#EBF0F8\"}},\"shapedefaults\":{\"line\":{\"color\":\"#2a3f5f\"}},\"ternary\":{\"aaxis\":{\"gridcolor\":\"#DFE8F3\",\"linecolor\":\"#A2B1C6\",\"ticks\":\"\"},\"baxis\":{\"gridcolor\":\"#DFE8F3\",\"linecolor\":\"#A2B1C6\",\"ticks\":\"\"},\"bgcolor\":\"white\",\"caxis\":{\"gridcolor\":\"#DFE8F3\",\"linecolor\":\"#A2B1C6\",\"ticks\":\"\"}},\"title\":{\"x\":0.05},\"xaxis\":{\"automargin\":true,\"gridcolor\":\"#EBF0F8\",\"linecolor\":\"#EBF0F8\",\"ticks\":\"\",\"title\":{\"standoff\":15},\"zerolinecolor\":\"#EBF0F8\",\"zerolinewidth\":2},\"yaxis\":{\"automargin\":true,\"gridcolor\":\"#EBF0F8\",\"linecolor\":\"#EBF0F8\",\"ticks\":\"\",\"title\":{\"standoff\":15},\"zerolinecolor\":\"#EBF0F8\",\"zerolinewidth\":2}}},\"xaxis\":{\"anchor\":\"y\",\"domain\":[0.0,1.0],\"title\":{\"text\":\"Department\"},\"categoryorder\":\"array\",\"categoryarray\":[\"Sales\",\"Human Resources\",\"Technology\"]},\"yaxis\":{\"anchor\":\"x\",\"domain\":[0.0,1.0],\"title\":{\"text\":\"Attrition (%)\"}},\"legend\":{\"title\":{\"text\":\"Department\"},\"tracegroupgap\":0},\"title\":{\"text\":\"Attrition Percentage by Department\"},\"barmode\":\"relative\",\"height\":400,\"width\":800},                        {\"responsive\": true}                    ).then(function(){\n",
              "                            \n",
              "var gd = document.getElementById('931ffef1-8fb0-4443-9193-337620975375');\n",
              "var x = new MutationObserver(function (mutations, observer) {{\n",
              "        var display = window.getComputedStyle(gd).display;\n",
              "        if (!display || display === 'none') {{\n",
              "            console.log([gd, 'removed!']);\n",
              "            Plotly.purge(gd);\n",
              "            observer.disconnect();\n",
              "        }}\n",
              "}});\n",
              "\n",
              "// Listen for the removal of the full notebook cells\n",
              "var notebookContainer = gd.closest('#notebook-container');\n",
              "if (notebookContainer) {{\n",
              "    x.observe(notebookContainer, {childList: true});\n",
              "}}\n",
              "\n",
              "// Listen for the clearing of the current output cell\n",
              "var outputEl = gd.closest('.output');\n",
              "if (outputEl) {{\n",
              "    x.observe(outputEl, {childList: true});\n",
              "}}\n",
              "\n",
              "                        })                };                            </script>        </div>\n",
              "</body>\n",
              "</html>"
            ]
          },
          "metadata": {}
        }
      ],
      "source": [
        "department_attrition = df_employee.groupby('Department').apply(lambda x: (x['Attrition'].eq('Yes').sum() * 100.0) / len(x)).reset_index(name='AttritionPercentage').sort_values(by='AttritionPercentage', ascending=False)\n",
        "\n",
        "fig9 = px.bar(department_attrition, x='Department', y='AttritionPercentage',title='Attrition Percentage by Department',color='Department',width=800, height=400,\n",
        "             labels={'Department': 'Department', 'AttritionPercentage': 'Attrition (%)'},color_discrete_sequence=px.colors.sequential.dense,template='plotly_white')\n",
        "fig9.show()"
      ]
    },
    {
      "cell_type": "markdown",
      "metadata": {
        "id": "6qRMFg5mKEqt"
      },
      "source": [
        "Attrition rates differ by department, with sales having the highest at 20.62%, followed by human resources at 19.04%, and technology at 13.84%. This shows that sales and HR have higher turnover, while technology has a lower rate. The company may want to look into why employees are leaving more in sales and HR."
      ]
    },
    {
      "cell_type": "markdown",
      "metadata": {
        "id": "ig8Y_QHdILlV"
      },
      "source": [
        "**Attrition By Age Group**"
      ]
    },
    {
      "cell_type": "code",
      "execution_count": 124,
      "metadata": {
        "colab": {
          "base_uri": "https://localhost:8080/",
          "height": 417
        },
        "id": "qzVRD1BqIAE7",
        "outputId": "2049ab58-f2b4-48ab-af5d-2ff24d647ac0"
      },
      "outputs": [
        {
          "output_type": "display_data",
          "data": {
            "text/html": [
              "<html>\n",
              "<head><meta charset=\"utf-8\" /></head>\n",
              "<body>\n",
              "    <div>            <script src=\"https://cdnjs.cloudflare.com/ajax/libs/mathjax/2.7.5/MathJax.js?config=TeX-AMS-MML_SVG\"></script><script type=\"text/javascript\">if (window.MathJax && window.MathJax.Hub && window.MathJax.Hub.Config) {window.MathJax.Hub.Config({SVG: {font: \"STIX-Web\"}});}</script>                <script type=\"text/javascript\">window.PlotlyConfig = {MathJaxConfig: 'local'};</script>\n",
              "        <script charset=\"utf-8\" src=\"https://cdn.plot.ly/plotly-2.35.2.min.js\"></script>                <div id=\"c32a3048-fb1a-448c-ba81-db5b001137a3\" class=\"plotly-graph-div\" style=\"height:400px; width:700px;\"></div>            <script type=\"text/javascript\">                                    window.PLOTLYENV=window.PLOTLYENV || {};                                    if (document.getElementById(\"c32a3048-fb1a-448c-ba81-db5b001137a3\")) {                    Plotly.newPlot(                        \"c32a3048-fb1a-448c-ba81-db5b001137a3\",                        [{\"alignmentgroup\":\"True\",\"hovertemplate\":\"Age Group=%{x}\\u003cbr\\u003eAttrition (%)=%{y}\\u003cextra\\u003e\\u003c\\u002fextra\\u003e\",\"legendgroup\":\"Young\",\"marker\":{\"color\":\"rgb(230, 240, 240)\",\"pattern\":{\"shape\":\"\"}},\"name\":\"Young\",\"offsetgroup\":\"Young\",\"orientation\":\"v\",\"showlegend\":true,\"textposition\":\"auto\",\"x\":[\"Young\"],\"xaxis\":\"x\",\"y\":[20.42042042042042],\"yaxis\":\"y\",\"type\":\"bar\"},{\"alignmentgroup\":\"True\",\"hovertemplate\":\"Age Group=%{x}\\u003cbr\\u003eAttrition (%)=%{y}\\u003cextra\\u003e\\u003c\\u002fextra\\u003e\",\"legendgroup\":\"Middle-Aged\",\"marker\":{\"color\":\"rgb(191, 221, 229)\",\"pattern\":{\"shape\":\"\"}},\"name\":\"Middle-Aged\",\"offsetgroup\":\"Middle-Aged\",\"orientation\":\"v\",\"showlegend\":true,\"textposition\":\"auto\",\"x\":[\"Middle-Aged\"],\"xaxis\":\"x\",\"y\":[7.249999999999999],\"yaxis\":\"y\",\"type\":\"bar\"},{\"alignmentgroup\":\"True\",\"hovertemplate\":\"Age Group=%{x}\\u003cbr\\u003eAttrition (%)=%{y}\\u003cextra\\u003e\\u003c\\u002fextra\\u003e\",\"legendgroup\":\"Older\",\"marker\":{\"color\":\"rgb(156, 201, 226)\",\"pattern\":{\"shape\":\"\"}},\"name\":\"Older\",\"offsetgroup\":\"Older\",\"orientation\":\"v\",\"showlegend\":true,\"textposition\":\"auto\",\"x\":[\"Older\"],\"xaxis\":\"x\",\"y\":[5.633802816901409],\"yaxis\":\"y\",\"type\":\"bar\"}],                        {\"template\":{\"data\":{\"barpolar\":[{\"marker\":{\"line\":{\"color\":\"white\",\"width\":0.5},\"pattern\":{\"fillmode\":\"overlay\",\"size\":10,\"solidity\":0.2}},\"type\":\"barpolar\"}],\"bar\":[{\"error_x\":{\"color\":\"#2a3f5f\"},\"error_y\":{\"color\":\"#2a3f5f\"},\"marker\":{\"line\":{\"color\":\"white\",\"width\":0.5},\"pattern\":{\"fillmode\":\"overlay\",\"size\":10,\"solidity\":0.2}},\"type\":\"bar\"}],\"carpet\":[{\"aaxis\":{\"endlinecolor\":\"#2a3f5f\",\"gridcolor\":\"#C8D4E3\",\"linecolor\":\"#C8D4E3\",\"minorgridcolor\":\"#C8D4E3\",\"startlinecolor\":\"#2a3f5f\"},\"baxis\":{\"endlinecolor\":\"#2a3f5f\",\"gridcolor\":\"#C8D4E3\",\"linecolor\":\"#C8D4E3\",\"minorgridcolor\":\"#C8D4E3\",\"startlinecolor\":\"#2a3f5f\"},\"type\":\"carpet\"}],\"choropleth\":[{\"colorbar\":{\"outlinewidth\":0,\"ticks\":\"\"},\"type\":\"choropleth\"}],\"contourcarpet\":[{\"colorbar\":{\"outlinewidth\":0,\"ticks\":\"\"},\"type\":\"contourcarpet\"}],\"contour\":[{\"colorbar\":{\"outlinewidth\":0,\"ticks\":\"\"},\"colorscale\":[[0.0,\"#0d0887\"],[0.1111111111111111,\"#46039f\"],[0.2222222222222222,\"#7201a8\"],[0.3333333333333333,\"#9c179e\"],[0.4444444444444444,\"#bd3786\"],[0.5555555555555556,\"#d8576b\"],[0.6666666666666666,\"#ed7953\"],[0.7777777777777778,\"#fb9f3a\"],[0.8888888888888888,\"#fdca26\"],[1.0,\"#f0f921\"]],\"type\":\"contour\"}],\"heatmapgl\":[{\"colorbar\":{\"outlinewidth\":0,\"ticks\":\"\"},\"colorscale\":[[0.0,\"#0d0887\"],[0.1111111111111111,\"#46039f\"],[0.2222222222222222,\"#7201a8\"],[0.3333333333333333,\"#9c179e\"],[0.4444444444444444,\"#bd3786\"],[0.5555555555555556,\"#d8576b\"],[0.6666666666666666,\"#ed7953\"],[0.7777777777777778,\"#fb9f3a\"],[0.8888888888888888,\"#fdca26\"],[1.0,\"#f0f921\"]],\"type\":\"heatmapgl\"}],\"heatmap\":[{\"colorbar\":{\"outlinewidth\":0,\"ticks\":\"\"},\"colorscale\":[[0.0,\"#0d0887\"],[0.1111111111111111,\"#46039f\"],[0.2222222222222222,\"#7201a8\"],[0.3333333333333333,\"#9c179e\"],[0.4444444444444444,\"#bd3786\"],[0.5555555555555556,\"#d8576b\"],[0.6666666666666666,\"#ed7953\"],[0.7777777777777778,\"#fb9f3a\"],[0.8888888888888888,\"#fdca26\"],[1.0,\"#f0f921\"]],\"type\":\"heatmap\"}],\"histogram2dcontour\":[{\"colorbar\":{\"outlinewidth\":0,\"ticks\":\"\"},\"colorscale\":[[0.0,\"#0d0887\"],[0.1111111111111111,\"#46039f\"],[0.2222222222222222,\"#7201a8\"],[0.3333333333333333,\"#9c179e\"],[0.4444444444444444,\"#bd3786\"],[0.5555555555555556,\"#d8576b\"],[0.6666666666666666,\"#ed7953\"],[0.7777777777777778,\"#fb9f3a\"],[0.8888888888888888,\"#fdca26\"],[1.0,\"#f0f921\"]],\"type\":\"histogram2dcontour\"}],\"histogram2d\":[{\"colorbar\":{\"outlinewidth\":0,\"ticks\":\"\"},\"colorscale\":[[0.0,\"#0d0887\"],[0.1111111111111111,\"#46039f\"],[0.2222222222222222,\"#7201a8\"],[0.3333333333333333,\"#9c179e\"],[0.4444444444444444,\"#bd3786\"],[0.5555555555555556,\"#d8576b\"],[0.6666666666666666,\"#ed7953\"],[0.7777777777777778,\"#fb9f3a\"],[0.8888888888888888,\"#fdca26\"],[1.0,\"#f0f921\"]],\"type\":\"histogram2d\"}],\"histogram\":[{\"marker\":{\"pattern\":{\"fillmode\":\"overlay\",\"size\":10,\"solidity\":0.2}},\"type\":\"histogram\"}],\"mesh3d\":[{\"colorbar\":{\"outlinewidth\":0,\"ticks\":\"\"},\"type\":\"mesh3d\"}],\"parcoords\":[{\"line\":{\"colorbar\":{\"outlinewidth\":0,\"ticks\":\"\"}},\"type\":\"parcoords\"}],\"pie\":[{\"automargin\":true,\"type\":\"pie\"}],\"scatter3d\":[{\"line\":{\"colorbar\":{\"outlinewidth\":0,\"ticks\":\"\"}},\"marker\":{\"colorbar\":{\"outlinewidth\":0,\"ticks\":\"\"}},\"type\":\"scatter3d\"}],\"scattercarpet\":[{\"marker\":{\"colorbar\":{\"outlinewidth\":0,\"ticks\":\"\"}},\"type\":\"scattercarpet\"}],\"scattergeo\":[{\"marker\":{\"colorbar\":{\"outlinewidth\":0,\"ticks\":\"\"}},\"type\":\"scattergeo\"}],\"scattergl\":[{\"marker\":{\"colorbar\":{\"outlinewidth\":0,\"ticks\":\"\"}},\"type\":\"scattergl\"}],\"scattermapbox\":[{\"marker\":{\"colorbar\":{\"outlinewidth\":0,\"ticks\":\"\"}},\"type\":\"scattermapbox\"}],\"scatterpolargl\":[{\"marker\":{\"colorbar\":{\"outlinewidth\":0,\"ticks\":\"\"}},\"type\":\"scatterpolargl\"}],\"scatterpolar\":[{\"marker\":{\"colorbar\":{\"outlinewidth\":0,\"ticks\":\"\"}},\"type\":\"scatterpolar\"}],\"scatter\":[{\"fillpattern\":{\"fillmode\":\"overlay\",\"size\":10,\"solidity\":0.2},\"type\":\"scatter\"}],\"scatterternary\":[{\"marker\":{\"colorbar\":{\"outlinewidth\":0,\"ticks\":\"\"}},\"type\":\"scatterternary\"}],\"surface\":[{\"colorbar\":{\"outlinewidth\":0,\"ticks\":\"\"},\"colorscale\":[[0.0,\"#0d0887\"],[0.1111111111111111,\"#46039f\"],[0.2222222222222222,\"#7201a8\"],[0.3333333333333333,\"#9c179e\"],[0.4444444444444444,\"#bd3786\"],[0.5555555555555556,\"#d8576b\"],[0.6666666666666666,\"#ed7953\"],[0.7777777777777778,\"#fb9f3a\"],[0.8888888888888888,\"#fdca26\"],[1.0,\"#f0f921\"]],\"type\":\"surface\"}],\"table\":[{\"cells\":{\"fill\":{\"color\":\"#EBF0F8\"},\"line\":{\"color\":\"white\"}},\"header\":{\"fill\":{\"color\":\"#C8D4E3\"},\"line\":{\"color\":\"white\"}},\"type\":\"table\"}]},\"layout\":{\"annotationdefaults\":{\"arrowcolor\":\"#2a3f5f\",\"arrowhead\":0,\"arrowwidth\":1},\"autotypenumbers\":\"strict\",\"coloraxis\":{\"colorbar\":{\"outlinewidth\":0,\"ticks\":\"\"}},\"colorscale\":{\"diverging\":[[0,\"#8e0152\"],[0.1,\"#c51b7d\"],[0.2,\"#de77ae\"],[0.3,\"#f1b6da\"],[0.4,\"#fde0ef\"],[0.5,\"#f7f7f7\"],[0.6,\"#e6f5d0\"],[0.7,\"#b8e186\"],[0.8,\"#7fbc41\"],[0.9,\"#4d9221\"],[1,\"#276419\"]],\"sequential\":[[0.0,\"#0d0887\"],[0.1111111111111111,\"#46039f\"],[0.2222222222222222,\"#7201a8\"],[0.3333333333333333,\"#9c179e\"],[0.4444444444444444,\"#bd3786\"],[0.5555555555555556,\"#d8576b\"],[0.6666666666666666,\"#ed7953\"],[0.7777777777777778,\"#fb9f3a\"],[0.8888888888888888,\"#fdca26\"],[1.0,\"#f0f921\"]],\"sequentialminus\":[[0.0,\"#0d0887\"],[0.1111111111111111,\"#46039f\"],[0.2222222222222222,\"#7201a8\"],[0.3333333333333333,\"#9c179e\"],[0.4444444444444444,\"#bd3786\"],[0.5555555555555556,\"#d8576b\"],[0.6666666666666666,\"#ed7953\"],[0.7777777777777778,\"#fb9f3a\"],[0.8888888888888888,\"#fdca26\"],[1.0,\"#f0f921\"]]},\"colorway\":[\"#636efa\",\"#EF553B\",\"#00cc96\",\"#ab63fa\",\"#FFA15A\",\"#19d3f3\",\"#FF6692\",\"#B6E880\",\"#FF97FF\",\"#FECB52\"],\"font\":{\"color\":\"#2a3f5f\"},\"geo\":{\"bgcolor\":\"white\",\"lakecolor\":\"white\",\"landcolor\":\"white\",\"showlakes\":true,\"showland\":true,\"subunitcolor\":\"#C8D4E3\"},\"hoverlabel\":{\"align\":\"left\"},\"hovermode\":\"closest\",\"mapbox\":{\"style\":\"light\"},\"paper_bgcolor\":\"white\",\"plot_bgcolor\":\"white\",\"polar\":{\"angularaxis\":{\"gridcolor\":\"#EBF0F8\",\"linecolor\":\"#EBF0F8\",\"ticks\":\"\"},\"bgcolor\":\"white\",\"radialaxis\":{\"gridcolor\":\"#EBF0F8\",\"linecolor\":\"#EBF0F8\",\"ticks\":\"\"}},\"scene\":{\"xaxis\":{\"backgroundcolor\":\"white\",\"gridcolor\":\"#DFE8F3\",\"gridwidth\":2,\"linecolor\":\"#EBF0F8\",\"showbackground\":true,\"ticks\":\"\",\"zerolinecolor\":\"#EBF0F8\"},\"yaxis\":{\"backgroundcolor\":\"white\",\"gridcolor\":\"#DFE8F3\",\"gridwidth\":2,\"linecolor\":\"#EBF0F8\",\"showbackground\":true,\"ticks\":\"\",\"zerolinecolor\":\"#EBF0F8\"},\"zaxis\":{\"backgroundcolor\":\"white\",\"gridcolor\":\"#DFE8F3\",\"gridwidth\":2,\"linecolor\":\"#EBF0F8\",\"showbackground\":true,\"ticks\":\"\",\"zerolinecolor\":\"#EBF0F8\"}},\"shapedefaults\":{\"line\":{\"color\":\"#2a3f5f\"}},\"ternary\":{\"aaxis\":{\"gridcolor\":\"#DFE8F3\",\"linecolor\":\"#A2B1C6\",\"ticks\":\"\"},\"baxis\":{\"gridcolor\":\"#DFE8F3\",\"linecolor\":\"#A2B1C6\",\"ticks\":\"\"},\"bgcolor\":\"white\",\"caxis\":{\"gridcolor\":\"#DFE8F3\",\"linecolor\":\"#A2B1C6\",\"ticks\":\"\"}},\"title\":{\"x\":0.05},\"xaxis\":{\"automargin\":true,\"gridcolor\":\"#EBF0F8\",\"linecolor\":\"#EBF0F8\",\"ticks\":\"\",\"title\":{\"standoff\":15},\"zerolinecolor\":\"#EBF0F8\",\"zerolinewidth\":2},\"yaxis\":{\"automargin\":true,\"gridcolor\":\"#EBF0F8\",\"linecolor\":\"#EBF0F8\",\"ticks\":\"\",\"title\":{\"standoff\":15},\"zerolinecolor\":\"#EBF0F8\",\"zerolinewidth\":2}}},\"xaxis\":{\"anchor\":\"y\",\"domain\":[0.0,1.0],\"title\":{\"text\":\"Age Group\"},\"categoryorder\":\"array\",\"categoryarray\":[\"Young\",\"Middle-Aged\",\"Older\"]},\"yaxis\":{\"anchor\":\"x\",\"domain\":[0.0,1.0],\"title\":{\"text\":\"Attrition (%)\"}},\"legend\":{\"title\":{\"text\":\"Age Group\"},\"tracegroupgap\":0},\"title\":{\"text\":\"Attrition Percentage by Age Group\"},\"barmode\":\"relative\",\"height\":400,\"width\":700},                        {\"responsive\": true}                    ).then(function(){\n",
              "                            \n",
              "var gd = document.getElementById('c32a3048-fb1a-448c-ba81-db5b001137a3');\n",
              "var x = new MutationObserver(function (mutations, observer) {{\n",
              "        var display = window.getComputedStyle(gd).display;\n",
              "        if (!display || display === 'none') {{\n",
              "            console.log([gd, 'removed!']);\n",
              "            Plotly.purge(gd);\n",
              "            observer.disconnect();\n",
              "        }}\n",
              "}});\n",
              "\n",
              "// Listen for the removal of the full notebook cells\n",
              "var notebookContainer = gd.closest('#notebook-container');\n",
              "if (notebookContainer) {{\n",
              "    x.observe(notebookContainer, {childList: true});\n",
              "}}\n",
              "\n",
              "// Listen for the clearing of the current output cell\n",
              "var outputEl = gd.closest('.output');\n",
              "if (outputEl) {{\n",
              "    x.observe(outputEl, {childList: true});\n",
              "}}\n",
              "\n",
              "                        })                };                            </script>        </div>\n",
              "</body>\n",
              "</html>"
            ]
          },
          "metadata": {}
        }
      ],
      "source": [
        "df_employee['AgeGroup'] = df_employee['Age'].apply(categorize_age_group)\n",
        "df_age_group_2 = df_employee.groupby('AgeGroup').size().reset_index(name='AgeGroupCount')\n",
        "AgeGroup = df_employee.groupby('AgeGroup').apply(lambda x: (x['Attrition'].eq('Yes').sum() * 1 / len(x)) * 100).reset_index(name='AttritionPercentage').sort_values(by='AttritionPercentage', ascending=False)\n",
        "\n",
        "fig10 = px.bar ( AgeGroup,x='AgeGroup', y='AttritionPercentage' , title = 'Attrition Percentage by Age Group',width=700, height=400,\n",
        "              labels={'AgeGroup':'Age Group','AttritionPercentage': 'Attrition (%)'}, color = 'AgeGroup',color_discrete_sequence=px.colors.sequential.dense,template= 'plotly_white' )\n",
        "fig10.show()"
      ]
    },
    {
      "cell_type": "markdown",
      "metadata": {
        "id": "w7T7_1qMKn4x"
      },
      "source": [
        "The attrition rate is highest among employees under 30 (20.42%) compared to mid-age (7.25%) and older employees (5.63%). This suggests younger employees may be seeking better opportunities or facing dissatisfaction, while mid-age and older employees are more stable in their roles. Addressing younger employees’ needs through career growth initiatives could improve retention."
      ]
    },
    {
      "cell_type": "markdown",
      "metadata": {
        "id": "Z2fWkR-bUDEL"
      },
      "source": [
        "**Is there a link between job satisfaction and attrition in the most recent year 2022?**"
      ]
    },
    {
      "cell_type": "code",
      "execution_count": 125,
      "metadata": {
        "colab": {
          "base_uri": "https://localhost:8080/"
        },
        "id": "Hq0VFnTRLEv2",
        "outputId": "94442a58-78f9-48a5-8d9b-4d63661aab34"
      },
      "outputs": [
        {
          "output_type": "stream",
          "name": "stdout",
          "text": [
            "   JobSatisfaction  AttritionRate\n",
            "0                1       0.266667\n",
            "1                2       0.193798\n",
            "2                3       0.244898\n",
            "3                4       0.208754\n",
            "4                5       0.160173\n"
          ]
        }
      ],
      "source": [
        "df_merged = pd.merge(df_employee, df_Performance_copy, on='EmployeeID')\n",
        "df_merged = df_merged[df_merged['ReviewDate'].dt.year.isin([2022])]\n",
        "df_merged['AttritionRate'] = (df_merged['Attrition'] == 'Yes').astype(int)\n",
        "attrition_rates = df_merged.groupby('JobSatisfaction')['AttritionRate'].mean().reset_index()\n",
        "print(attrition_rates)"
      ]
    },
    {
      "cell_type": "markdown",
      "metadata": {
        "id": "DntcpMobLWet"
      },
      "source": [
        "Employees with the lowest satisfaction (level 1) have the highest attrition rate (26.6%), while those with higher satisfaction levels have lower attrition rates. This indicates dissatisfaction plays a key role in turnover, potentially due to feeling undervalued or lacking growth opportunities.\n",
        "\n",
        "To address this, the company could focus on improving the work environment, offering growth opportunities, and engaging dissatisfied employees (level 1) first, as they are at the highest risk of leaving."
      ]
    },
    {
      "cell_type": "markdown",
      "metadata": {
        "id": "ObG7NYW-7GQu"
      },
      "source": [
        "**Is there a link between Work-Life Balance and attrition in the most recent year 2022?**"
      ]
    },
    {
      "cell_type": "code",
      "execution_count": 126,
      "metadata": {
        "colab": {
          "base_uri": "https://localhost:8080/"
        },
        "id": "as-WBowoLSdg",
        "outputId": "6eb334c0-4a22-4e47-b218-1a7eb987b959"
      },
      "outputs": [
        {
          "output_type": "stream",
          "name": "stdout",
          "text": [
            "   WorkLifeBalance  AttritionRate\n",
            "0                1       0.325000\n",
            "1                2       0.203636\n",
            "2                3       0.229091\n",
            "3                4       0.179402\n",
            "4                5       0.200855\n"
          ]
        }
      ],
      "source": [
        "df_merged = pd.merge(df_employee, df_Performance_copy, on='EmployeeID')\n",
        "df_merged = df_merged[df_merged['ReviewDate'].dt.year.isin([2022])]\n",
        "df_merged['AttritionRate'] = (df_merged['Attrition'] == 'Yes').astype(int)\n",
        "attrition_rates = df_merged.groupby('WorkLifeBalance')['AttritionRate'].mean().reset_index()\n",
        "print(attrition_rates)"
      ]
    },
    {
      "cell_type": "markdown",
      "metadata": {
        "id": "BMuzq2LXObxF"
      },
      "source": [
        "This analysis shows a clear trend: employees with poor work-life balance (satisfaction level 1) have the highest attrition rate at 32.5%. As work-life balance satisfaction improves, the attrition rate decreases, with employees at satisfaction levels 4 and 5 having lower turnover rates . This suggests that employees who are dissatisfied with their work-life balance are more likely to leave the company.\n",
        "\n",
        "To address this, the company could implement policies to improve work-life balance, such as flexible working hours, remote work options, and support for personal time off. By fostering a better balance, the company could reduce turnover and increase overall employee satisfaction."
      ]
    },
    {
      "cell_type": "markdown",
      "metadata": {
        "id": "Q6e-DBOlBaBH"
      },
      "source": [
        "### **Employee Attrition Risk Prediction**"
      ]
    },
    {
      "cell_type": "markdown",
      "metadata": {
        "id": "Pmtgy7CT-K7G"
      },
      "source": [
        "In this analysis, I predicted employee risk levels based on factors such as Age, Job Satisfaction, Relationship Satisfaction, and Work-Life Balance. Building upon our previous study of correlations between these factors and employee outcomes, I developed a simple classification model to categorize employees into High Risk and Low-Middle Risk groups."
      ]
    },
    {
      "cell_type": "markdown",
      "metadata": {
        "id": "ZzEMlKRjCgoe"
      },
      "source": [
        "**Categorizing**"
      ]
    },
    {
      "cell_type": "code",
      "execution_count": 127,
      "metadata": {
        "colab": {
          "base_uri": "https://localhost:8080/",
          "height": 206
        },
        "id": "7NJ9BbGqLzmo",
        "outputId": "25c9f0a2-5ffd-46d5-afbf-f95bab34d808"
      },
      "outputs": [
        {
          "output_type": "display_data",
          "data": {
            "text/html": [
              "<div>\n",
              "<style scoped>\n",
              "    .dataframe tbody tr th:only-of-type {\n",
              "        vertical-align: middle;\n",
              "    }\n",
              "\n",
              "    .dataframe tbody tr th {\n",
              "        vertical-align: top;\n",
              "    }\n",
              "\n",
              "    .dataframe thead th {\n",
              "        text-align: right;\n",
              "    }\n",
              "</style>\n",
              "<table border=\"1\" class=\"dataframe\">\n",
              "  <thead>\n",
              "    <tr style=\"text-align: right;\">\n",
              "      <th></th>\n",
              "      <th>EmployeeID</th>\n",
              "      <th>FirstName</th>\n",
              "      <th>LastName</th>\n",
              "      <th>Age</th>\n",
              "      <th>JobSatisfaction</th>\n",
              "      <th>RiskCategory</th>\n",
              "    </tr>\n",
              "  </thead>\n",
              "  <tbody>\n",
              "    <tr>\n",
              "      <th>3350</th>\n",
              "      <td>C2DD-9D37</td>\n",
              "      <td>Ring</td>\n",
              "      <td>Genge</td>\n",
              "      <td>42</td>\n",
              "      <td>4</td>\n",
              "      <td>Low Risk</td>\n",
              "    </tr>\n",
              "    <tr>\n",
              "      <th>3351</th>\n",
              "      <td>DF71-97FB</td>\n",
              "      <td>Carlyle</td>\n",
              "      <td>Tinghill</td>\n",
              "      <td>29</td>\n",
              "      <td>5</td>\n",
              "      <td>Middle Risk</td>\n",
              "    </tr>\n",
              "    <tr>\n",
              "      <th>3352</th>\n",
              "      <td>2637-BDCD</td>\n",
              "      <td>Davin</td>\n",
              "      <td>Nutley</td>\n",
              "      <td>21</td>\n",
              "      <td>5</td>\n",
              "      <td>Middle Risk</td>\n",
              "    </tr>\n",
              "    <tr>\n",
              "      <th>3353</th>\n",
              "      <td>89A6-7EF1</td>\n",
              "      <td>Johan</td>\n",
              "      <td>Rudinger</td>\n",
              "      <td>26</td>\n",
              "      <td>3</td>\n",
              "      <td>Middle Risk</td>\n",
              "    </tr>\n",
              "    <tr>\n",
              "      <th>3354</th>\n",
              "      <td>4C66-6E16</td>\n",
              "      <td>Niki</td>\n",
              "      <td>Boseley</td>\n",
              "      <td>33</td>\n",
              "      <td>4</td>\n",
              "      <td>Low Risk</td>\n",
              "    </tr>\n",
              "  </tbody>\n",
              "</table>\n",
              "</div>"
            ]
          },
          "metadata": {}
        }
      ],
      "source": [
        "df_merged = pd.merge(df_filtered, df_Performance_copy, on='EmployeeID')\n",
        "\n",
        "df_new = df_merged[\n",
        "    (df_merged['ReviewDate'].dt.year.isin([2022]))]\n",
        "\n",
        "def classify_risk(row):\n",
        "    risk_score = 0\n",
        "\n",
        "    if 18 <= row['Age'] < 30:\n",
        "        risk_score += 1\n",
        "    if row['JobSatisfaction'] < 2:\n",
        "        risk_score += 1\n",
        "    if row['RelationshipSatisfaction'] < 2:\n",
        "        risk_score += 1\n",
        "    if row['WorkLifeBalance'] < 2:\n",
        "        risk_score += 1\n",
        "\n",
        "    if risk_score >= 2:\n",
        "        return 'High Risk'\n",
        "    elif risk_score == 1:\n",
        "        return 'Middle Risk'\n",
        "    else:\n",
        "        return 'Low Risk'\n",
        "\n",
        "df_new['RiskCategory'] = df_new.apply(classify_risk, axis=1)\n",
        "\n",
        "display(df_new[['EmployeeID', 'FirstName', 'LastName', 'Age', 'JobSatisfaction', 'RiskCategory']].head())\n"
      ]
    },
    {
      "cell_type": "markdown",
      "metadata": {
        "id": "21ELGwiICxRz"
      },
      "source": [
        "**Count Of Employees Who are In High Risk Of Attrition**"
      ]
    },
    {
      "cell_type": "code",
      "execution_count": 128,
      "metadata": {
        "colab": {
          "base_uri": "https://localhost:8080/"
        },
        "id": "RsiTBfGL_4Er",
        "outputId": "42598182-ef54-40b1-f83b-c915db4cf43c"
      },
      "outputs": [
        {
          "output_type": "stream",
          "name": "stdout",
          "text": [
            "Employees with high attrition risk count : 53\n"
          ]
        }
      ],
      "source": [
        "high_risk_count = df_new[df_new['RiskCategory'] == 'High Risk'].shape[0]\n",
        "print(\"Employees with high attrition risk count :\", high_risk_count)"
      ]
    },
    {
      "cell_type": "code",
      "execution_count": 129,
      "metadata": {
        "colab": {
          "base_uri": "https://localhost:8080/"
        },
        "outputId": "55ca735a-2da6-4bc4-c2ba-fe5dcc8f819c",
        "id": "Zf-ivMEFWT9G"
      },
      "outputs": [
        {
          "output_type": "stream",
          "name": "stdout",
          "text": [
            "Employees with middle attrition risk count : 488\n"
          ]
        }
      ],
      "source": [
        "middle_risk_count = df_new[df_new['RiskCategory'] == 'Middle Risk'].shape[0]\n",
        "print(\"Employees with middle attrition risk count :\", middle_risk_count)"
      ]
    },
    {
      "cell_type": "markdown",
      "metadata": {
        "id": "Y6me6q8DC8xa"
      },
      "source": [
        "**Names And Departments Of Employees Who Are At high Risk Of Attrition**"
      ]
    },
    {
      "cell_type": "code",
      "execution_count": 130,
      "metadata": {
        "colab": {
          "base_uri": "https://localhost:8080/",
          "height": 1000
        },
        "id": "yQnW3NU4AHDJ",
        "outputId": "e27791ed-78f6-4e74-e9cc-5539222b3c49"
      },
      "outputs": [
        {
          "output_type": "display_data",
          "data": {
            "text/html": [
              "<div>\n",
              "<style scoped>\n",
              "    .dataframe tbody tr th:only-of-type {\n",
              "        vertical-align: middle;\n",
              "    }\n",
              "\n",
              "    .dataframe tbody tr th {\n",
              "        vertical-align: top;\n",
              "    }\n",
              "\n",
              "    .dataframe thead th {\n",
              "        text-align: right;\n",
              "    }\n",
              "</style>\n",
              "<table border=\"1\" class=\"dataframe\">\n",
              "  <thead>\n",
              "    <tr style=\"text-align: right;\">\n",
              "      <th></th>\n",
              "      <th>FirstName</th>\n",
              "      <th>LastName</th>\n",
              "      <th>Department</th>\n",
              "    </tr>\n",
              "  </thead>\n",
              "  <tbody>\n",
              "    <tr>\n",
              "      <th>3374</th>\n",
              "      <td>Agna</td>\n",
              "      <td>Grinnov</td>\n",
              "      <td>Technology</td>\n",
              "    </tr>\n",
              "    <tr>\n",
              "      <th>3375</th>\n",
              "      <td>Lola</td>\n",
              "      <td>Gatecliffe</td>\n",
              "      <td>Technology</td>\n",
              "    </tr>\n",
              "    <tr>\n",
              "      <th>3392</th>\n",
              "      <td>Josh</td>\n",
              "      <td>Tomczykowski</td>\n",
              "      <td>Technology</td>\n",
              "    </tr>\n",
              "    <tr>\n",
              "      <th>3411</th>\n",
              "      <td>Jose</td>\n",
              "      <td>Davydzenko</td>\n",
              "      <td>Technology</td>\n",
              "    </tr>\n",
              "    <tr>\n",
              "      <th>3412</th>\n",
              "      <td>Nada</td>\n",
              "      <td>Finlator</td>\n",
              "      <td>Human Resources</td>\n",
              "    </tr>\n",
              "    <tr>\n",
              "      <th>3421</th>\n",
              "      <td>Haywood</td>\n",
              "      <td>Ruprich</td>\n",
              "      <td>Technology</td>\n",
              "    </tr>\n",
              "    <tr>\n",
              "      <th>3430</th>\n",
              "      <td>Donavon</td>\n",
              "      <td>Hallet</td>\n",
              "      <td>Technology</td>\n",
              "    </tr>\n",
              "    <tr>\n",
              "      <th>3526</th>\n",
              "      <td>Anna-diana</td>\n",
              "      <td>Horbart</td>\n",
              "      <td>Sales</td>\n",
              "    </tr>\n",
              "    <tr>\n",
              "      <th>3527</th>\n",
              "      <td>Lindsey</td>\n",
              "      <td>Hedley</td>\n",
              "      <td>Technology</td>\n",
              "    </tr>\n",
              "    <tr>\n",
              "      <th>3556</th>\n",
              "      <td>Cassaundra</td>\n",
              "      <td>Kenyam</td>\n",
              "      <td>Sales</td>\n",
              "    </tr>\n",
              "    <tr>\n",
              "      <th>3564</th>\n",
              "      <td>Cindy</td>\n",
              "      <td>Mordanti</td>\n",
              "      <td>Sales</td>\n",
              "    </tr>\n",
              "    <tr>\n",
              "      <th>3641</th>\n",
              "      <td>Marlin</td>\n",
              "      <td>Upcraft</td>\n",
              "      <td>Technology</td>\n",
              "    </tr>\n",
              "    <tr>\n",
              "      <th>3660</th>\n",
              "      <td>Allys</td>\n",
              "      <td>Ruberry</td>\n",
              "      <td>Technology</td>\n",
              "    </tr>\n",
              "    <tr>\n",
              "      <th>3706</th>\n",
              "      <td>Frannie</td>\n",
              "      <td>Dunrige</td>\n",
              "      <td>Technology</td>\n",
              "    </tr>\n",
              "    <tr>\n",
              "      <th>3713</th>\n",
              "      <td>Loria</td>\n",
              "      <td>Pursey</td>\n",
              "      <td>Sales</td>\n",
              "    </tr>\n",
              "    <tr>\n",
              "      <th>3714</th>\n",
              "      <td>Clemmie</td>\n",
              "      <td>Heckner</td>\n",
              "      <td>Technology</td>\n",
              "    </tr>\n",
              "    <tr>\n",
              "      <th>3748</th>\n",
              "      <td>Clarita</td>\n",
              "      <td>Chetter</td>\n",
              "      <td>Technology</td>\n",
              "    </tr>\n",
              "    <tr>\n",
              "      <th>3798</th>\n",
              "      <td>Ilario</td>\n",
              "      <td>Stearne</td>\n",
              "      <td>Sales</td>\n",
              "    </tr>\n",
              "    <tr>\n",
              "      <th>3800</th>\n",
              "      <td>Sonja</td>\n",
              "      <td>Crone</td>\n",
              "      <td>Technology</td>\n",
              "    </tr>\n",
              "    <tr>\n",
              "      <th>3808</th>\n",
              "      <td>Kele</td>\n",
              "      <td>Halsworth</td>\n",
              "      <td>Sales</td>\n",
              "    </tr>\n",
              "    <tr>\n",
              "      <th>3809</th>\n",
              "      <td>Emmit</td>\n",
              "      <td>Le Provost</td>\n",
              "      <td>Technology</td>\n",
              "    </tr>\n",
              "    <tr>\n",
              "      <th>3810</th>\n",
              "      <td>Sarge</td>\n",
              "      <td>Dikels</td>\n",
              "      <td>Technology</td>\n",
              "    </tr>\n",
              "    <tr>\n",
              "      <th>3846</th>\n",
              "      <td>Morten</td>\n",
              "      <td>Keig</td>\n",
              "      <td>Technology</td>\n",
              "    </tr>\n",
              "    <tr>\n",
              "      <th>3946</th>\n",
              "      <td>Scarlett</td>\n",
              "      <td>Elstob</td>\n",
              "      <td>Technology</td>\n",
              "    </tr>\n",
              "    <tr>\n",
              "      <th>4013</th>\n",
              "      <td>Son</td>\n",
              "      <td>Crowther</td>\n",
              "      <td>Technology</td>\n",
              "    </tr>\n",
              "    <tr>\n",
              "      <th>4014</th>\n",
              "      <td>Allyn</td>\n",
              "      <td>Glyde</td>\n",
              "      <td>Human Resources</td>\n",
              "    </tr>\n",
              "    <tr>\n",
              "      <th>4016</th>\n",
              "      <td>Fabio</td>\n",
              "      <td>Metham</td>\n",
              "      <td>Technology</td>\n",
              "    </tr>\n",
              "    <tr>\n",
              "      <th>4019</th>\n",
              "      <td>Ebenezer</td>\n",
              "      <td>Bontein</td>\n",
              "      <td>Technology</td>\n",
              "    </tr>\n",
              "    <tr>\n",
              "      <th>4021</th>\n",
              "      <td>Greta</td>\n",
              "      <td>Turneux</td>\n",
              "      <td>Sales</td>\n",
              "    </tr>\n",
              "    <tr>\n",
              "      <th>4037</th>\n",
              "      <td>Gracie</td>\n",
              "      <td>Horley</td>\n",
              "      <td>Technology</td>\n",
              "    </tr>\n",
              "    <tr>\n",
              "      <th>4055</th>\n",
              "      <td>Camilla</td>\n",
              "      <td>Caistor</td>\n",
              "      <td>Human Resources</td>\n",
              "    </tr>\n",
              "    <tr>\n",
              "      <th>4079</th>\n",
              "      <td>Desmond</td>\n",
              "      <td>O'Fallone</td>\n",
              "      <td>Sales</td>\n",
              "    </tr>\n",
              "    <tr>\n",
              "      <th>4094</th>\n",
              "      <td>Gerardo</td>\n",
              "      <td>Geggus</td>\n",
              "      <td>Technology</td>\n",
              "    </tr>\n",
              "    <tr>\n",
              "      <th>4100</th>\n",
              "      <td>Shandeigh</td>\n",
              "      <td>Plott</td>\n",
              "      <td>Technology</td>\n",
              "    </tr>\n",
              "    <tr>\n",
              "      <th>4105</th>\n",
              "      <td>Olvan</td>\n",
              "      <td>Pilgram</td>\n",
              "      <td>Sales</td>\n",
              "    </tr>\n",
              "    <tr>\n",
              "      <th>4149</th>\n",
              "      <td>Rivkah</td>\n",
              "      <td>Siderfin</td>\n",
              "      <td>Technology</td>\n",
              "    </tr>\n",
              "    <tr>\n",
              "      <th>4152</th>\n",
              "      <td>Reinhold</td>\n",
              "      <td>Bradane</td>\n",
              "      <td>Technology</td>\n",
              "    </tr>\n",
              "    <tr>\n",
              "      <th>4158</th>\n",
              "      <td>Eldredge</td>\n",
              "      <td>Probyn</td>\n",
              "      <td>Human Resources</td>\n",
              "    </tr>\n",
              "    <tr>\n",
              "      <th>4169</th>\n",
              "      <td>Hashim</td>\n",
              "      <td>Stolze</td>\n",
              "      <td>Technology</td>\n",
              "    </tr>\n",
              "    <tr>\n",
              "      <th>4182</th>\n",
              "      <td>Ludvig</td>\n",
              "      <td>Gadman</td>\n",
              "      <td>Technology</td>\n",
              "    </tr>\n",
              "    <tr>\n",
              "      <th>4201</th>\n",
              "      <td>Dina</td>\n",
              "      <td>Paice</td>\n",
              "      <td>Technology</td>\n",
              "    </tr>\n",
              "    <tr>\n",
              "      <th>4202</th>\n",
              "      <td>Eldridge</td>\n",
              "      <td>Artois</td>\n",
              "      <td>Technology</td>\n",
              "    </tr>\n",
              "    <tr>\n",
              "      <th>4216</th>\n",
              "      <td>Kaitlyn</td>\n",
              "      <td>Ernshaw</td>\n",
              "      <td>Technology</td>\n",
              "    </tr>\n",
              "    <tr>\n",
              "      <th>4224</th>\n",
              "      <td>Morris</td>\n",
              "      <td>Bente</td>\n",
              "      <td>Sales</td>\n",
              "    </tr>\n",
              "    <tr>\n",
              "      <th>4228</th>\n",
              "      <td>Urbano</td>\n",
              "      <td>Hinckes</td>\n",
              "      <td>Technology</td>\n",
              "    </tr>\n",
              "    <tr>\n",
              "      <th>4230</th>\n",
              "      <td>Loella</td>\n",
              "      <td>Woodrough</td>\n",
              "      <td>Technology</td>\n",
              "    </tr>\n",
              "    <tr>\n",
              "      <th>4233</th>\n",
              "      <td>Gussy</td>\n",
              "      <td>Gaber</td>\n",
              "      <td>Technology</td>\n",
              "    </tr>\n",
              "    <tr>\n",
              "      <th>4236</th>\n",
              "      <td>Dix</td>\n",
              "      <td>Presley</td>\n",
              "      <td>Sales</td>\n",
              "    </tr>\n",
              "    <tr>\n",
              "      <th>4241</th>\n",
              "      <td>Catharina</td>\n",
              "      <td>Sandle</td>\n",
              "      <td>Sales</td>\n",
              "    </tr>\n",
              "    <tr>\n",
              "      <th>4263</th>\n",
              "      <td>Elton</td>\n",
              "      <td>Hyrons</td>\n",
              "      <td>Technology</td>\n",
              "    </tr>\n",
              "    <tr>\n",
              "      <th>4275</th>\n",
              "      <td>Britt</td>\n",
              "      <td>Ritchley</td>\n",
              "      <td>Technology</td>\n",
              "    </tr>\n",
              "    <tr>\n",
              "      <th>4277</th>\n",
              "      <td>Hillard</td>\n",
              "      <td>Hulson</td>\n",
              "      <td>Technology</td>\n",
              "    </tr>\n",
              "    <tr>\n",
              "      <th>4278</th>\n",
              "      <td>Mag</td>\n",
              "      <td>Groves</td>\n",
              "      <td>Technology</td>\n",
              "    </tr>\n",
              "  </tbody>\n",
              "</table>\n",
              "</div>"
            ]
          },
          "metadata": {}
        }
      ],
      "source": [
        "high_risk_employees = df_new[df_new['RiskCategory'] == 'High Risk'][['FirstName', 'LastName', 'Department']]\n",
        "display(high_risk_employees)"
      ]
    },
    {
      "cell_type": "code",
      "execution_count": 131,
      "metadata": {
        "colab": {
          "base_uri": "https://localhost:8080/",
          "height": 517
        },
        "id": "0unjUs_tNpfk",
        "outputId": "1179ee26-5879-4a37-9917-803d65c97b8d"
      },
      "outputs": [
        {
          "output_type": "display_data",
          "data": {
            "text/html": [
              "<html>\n",
              "<head><meta charset=\"utf-8\" /></head>\n",
              "<body>\n",
              "    <div>            <script src=\"https://cdnjs.cloudflare.com/ajax/libs/mathjax/2.7.5/MathJax.js?config=TeX-AMS-MML_SVG\"></script><script type=\"text/javascript\">if (window.MathJax && window.MathJax.Hub && window.MathJax.Hub.Config) {window.MathJax.Hub.Config({SVG: {font: \"STIX-Web\"}});}</script>                <script type=\"text/javascript\">window.PlotlyConfig = {MathJaxConfig: 'local'};</script>\n",
              "        <script charset=\"utf-8\" src=\"https://cdn.plot.ly/plotly-2.35.2.min.js\"></script>                <div id=\"6a861b0f-cd5f-4772-a3ef-a2d97507c9aa\" class=\"plotly-graph-div\" style=\"height:500px; width:700px;\"></div>            <script type=\"text/javascript\">                                    window.PLOTLYENV=window.PLOTLYENV || {};                                    if (document.getElementById(\"6a861b0f-cd5f-4772-a3ef-a2d97507c9aa\")) {                    Plotly.newPlot(                        \"6a861b0f-cd5f-4772-a3ef-a2d97507c9aa\",                        [{\"customdata\":[[\"High Risk\"],[\"High Risk\"],[\"High Risk\"],[\"High Risk\"],[\"High Risk\"],[\"High Risk\"],[\"High Risk\"],[\"High Risk\"],[\"High Risk\"],[\"High Risk\"],[\"High Risk\"],[\"High Risk\"],[\"High Risk\"],[\"High Risk\"],[\"High Risk\"],[\"High Risk\"],[\"High Risk\"],[\"High Risk\"],[\"High Risk\"],[\"High Risk\"],[\"High Risk\"],[\"High Risk\"],[\"High Risk\"],[\"High Risk\"],[\"High Risk\"],[\"High Risk\"],[\"High Risk\"],[\"High Risk\"],[\"High Risk\"],[\"High Risk\"],[\"High Risk\"],[\"High Risk\"],[\"High Risk\"],[\"High Risk\"],[\"High Risk\"],[\"High Risk\"],[\"High Risk\"],[\"High Risk\"],[\"High Risk\"],[\"High Risk\"],[\"High Risk\"],[\"High Risk\"],[\"High Risk\"],[\"High Risk\"],[\"High Risk\"],[\"High Risk\"],[\"High Risk\"],[\"High Risk\"],[\"High Risk\"],[\"High Risk\"],[\"High Risk\"],[\"High Risk\"],[\"High Risk\"],[\"Middle Risk\"],[\"Middle Risk\"],[\"Middle Risk\"],[\"Middle Risk\"],[\"Middle Risk\"],[\"Middle Risk\"],[\"Middle Risk\"],[\"Middle Risk\"],[\"Middle Risk\"],[\"Middle Risk\"],[\"Middle Risk\"],[\"Middle Risk\"],[\"Middle Risk\"],[\"Middle Risk\"],[\"Middle Risk\"],[\"Middle Risk\"],[\"Middle Risk\"],[\"Middle Risk\"],[\"Middle Risk\"],[\"Middle Risk\"],[\"Middle Risk\"],[\"Middle Risk\"],[\"Middle Risk\"],[\"Middle Risk\"],[\"Middle Risk\"],[\"Middle Risk\"],[\"Middle Risk\"],[\"Middle Risk\"],[\"Middle Risk\"],[\"Middle Risk\"],[\"Middle Risk\"],[\"Middle Risk\"],[\"Middle Risk\"],[\"Middle Risk\"],[\"Middle Risk\"],[\"Middle Risk\"],[\"Middle Risk\"],[\"Middle Risk\"],[\"Middle Risk\"],[\"Middle Risk\"],[\"Middle Risk\"],[\"Middle Risk\"],[\"Middle Risk\"],[\"Middle Risk\"],[\"Middle Risk\"],[\"Middle Risk\"],[\"Middle Risk\"],[\"Middle Risk\"],[\"Middle Risk\"],[\"Middle Risk\"],[\"Middle Risk\"],[\"Middle Risk\"],[\"Middle Risk\"],[\"Middle Risk\"],[\"Middle Risk\"],[\"Middle Risk\"],[\"Middle Risk\"],[\"Middle Risk\"],[\"Middle Risk\"],[\"Middle Risk\"],[\"Middle Risk\"],[\"Middle Risk\"],[\"Middle Risk\"],[\"Middle Risk\"],[\"Middle Risk\"],[\"Middle Risk\"],[\"Middle Risk\"],[\"Middle Risk\"],[\"Middle Risk\"],[\"Middle Risk\"],[\"Middle Risk\"],[\"Middle Risk\"],[\"Middle Risk\"],[\"Middle Risk\"],[\"Middle Risk\"],[\"Middle Risk\"],[\"Middle Risk\"],[\"Middle Risk\"],[\"Middle Risk\"],[\"Middle Risk\"],[\"Middle Risk\"],[\"Middle Risk\"],[\"Middle Risk\"],[\"Middle Risk\"],[\"Middle Risk\"],[\"Middle Risk\"],[\"Middle Risk\"],[\"Middle Risk\"],[\"Middle Risk\"],[\"Middle Risk\"],[\"Middle Risk\"],[\"Middle Risk\"],[\"Middle Risk\"],[\"Middle Risk\"],[\"Middle Risk\"],[\"Middle Risk\"],[\"Middle Risk\"],[\"Middle Risk\"],[\"Middle Risk\"],[\"Middle Risk\"],[\"Middle Risk\"],[\"Middle Risk\"],[\"Middle Risk\"],[\"Middle Risk\"],[\"Middle Risk\"],[\"Middle Risk\"],[\"Middle Risk\"],[\"Middle Risk\"],[\"Middle Risk\"],[\"Middle Risk\"],[\"Middle Risk\"],[\"Middle Risk\"],[\"Middle Risk\"],[\"Middle Risk\"],[\"Middle Risk\"],[\"Middle Risk\"],[\"Middle Risk\"],[\"Middle Risk\"],[\"Middle Risk\"],[\"Middle Risk\"],[\"Middle Risk\"],[\"Middle Risk\"],[\"Middle Risk\"],[\"Middle Risk\"],[\"Middle Risk\"],[\"Middle Risk\"],[\"Middle Risk\"],[\"Middle Risk\"],[\"Middle Risk\"],[\"Middle Risk\"],[\"Middle Risk\"],[\"Middle Risk\"],[\"Middle Risk\"],[\"Middle Risk\"],[\"Middle Risk\"],[\"Middle Risk\"],[\"Middle Risk\"],[\"Middle Risk\"],[\"Middle Risk\"],[\"Middle Risk\"],[\"Middle Risk\"],[\"Middle Risk\"],[\"Middle Risk\"],[\"Middle Risk\"],[\"Middle Risk\"],[\"Middle Risk\"],[\"Middle Risk\"],[\"Middle Risk\"],[\"Middle Risk\"],[\"Middle Risk\"],[\"Middle Risk\"],[\"Middle Risk\"],[\"Middle Risk\"],[\"Middle Risk\"],[\"Middle Risk\"],[\"Middle Risk\"],[\"Middle Risk\"],[\"Middle Risk\"],[\"Middle Risk\"],[\"Middle Risk\"],[\"Middle Risk\"],[\"Middle Risk\"],[\"Middle Risk\"],[\"Middle Risk\"],[\"Middle Risk\"],[\"Middle Risk\"],[\"Middle Risk\"],[\"Middle Risk\"],[\"Middle Risk\"],[\"Middle Risk\"],[\"Middle Risk\"],[\"Middle Risk\"],[\"Middle Risk\"],[\"Middle Risk\"],[\"Middle Risk\"],[\"Middle Risk\"],[\"Middle Risk\"],[\"Middle Risk\"],[\"Middle Risk\"],[\"Middle Risk\"],[\"Middle Risk\"],[\"Middle Risk\"],[\"Middle Risk\"],[\"Middle Risk\"],[\"Middle Risk\"],[\"Middle Risk\"],[\"Middle Risk\"],[\"Middle Risk\"],[\"Middle Risk\"],[\"Middle Risk\"],[\"Middle Risk\"],[\"Middle Risk\"],[\"Middle Risk\"],[\"Middle Risk\"],[\"Middle Risk\"],[\"Middle Risk\"],[\"Middle Risk\"],[\"Middle Risk\"],[\"Middle Risk\"],[\"Middle Risk\"],[\"Middle Risk\"],[\"Middle Risk\"],[\"Middle Risk\"],[\"Middle Risk\"],[\"Middle Risk\"],[\"Middle Risk\"],[\"Middle Risk\"],[\"Middle Risk\"],[\"Middle Risk\"],[\"Middle Risk\"],[\"Middle Risk\"],[\"Middle Risk\"],[\"Middle Risk\"],[\"Middle Risk\"],[\"Middle Risk\"],[\"Middle Risk\"],[\"Middle Risk\"],[\"Middle Risk\"],[\"Middle Risk\"],[\"Middle Risk\"],[\"Middle Risk\"],[\"Middle Risk\"],[\"Middle Risk\"],[\"Middle Risk\"],[\"Middle Risk\"],[\"Middle Risk\"],[\"Middle Risk\"],[\"Middle Risk\"],[\"Middle Risk\"],[\"Middle Risk\"],[\"Middle Risk\"],[\"Middle Risk\"],[\"Middle Risk\"],[\"Middle Risk\"],[\"Middle Risk\"],[\"Middle Risk\"],[\"Middle Risk\"],[\"Middle Risk\"],[\"Middle Risk\"],[\"Middle Risk\"],[\"Middle Risk\"],[\"Middle Risk\"],[\"Middle Risk\"],[\"Middle Risk\"],[\"Middle Risk\"],[\"Middle Risk\"],[\"Middle Risk\"],[\"Middle Risk\"],[\"Middle Risk\"],[\"Middle Risk\"],[\"Middle Risk\"],[\"Middle Risk\"],[\"Middle Risk\"],[\"Middle Risk\"],[\"Middle Risk\"],[\"Middle Risk\"],[\"Middle Risk\"],[\"Middle Risk\"],[\"Middle Risk\"],[\"Middle Risk\"],[\"Middle Risk\"],[\"Middle Risk\"],[\"Middle Risk\"],[\"Middle Risk\"],[\"Middle Risk\"],[\"Middle Risk\"],[\"Middle Risk\"],[\"Middle Risk\"],[\"Middle Risk\"],[\"Middle Risk\"],[\"Middle Risk\"],[\"Middle Risk\"],[\"Middle Risk\"],[\"Middle Risk\"],[\"Middle Risk\"],[\"Middle Risk\"],[\"Middle Risk\"],[\"Middle Risk\"],[\"Middle Risk\"],[\"Middle Risk\"],[\"Middle Risk\"],[\"Middle Risk\"],[\"Middle Risk\"],[\"Middle Risk\"],[\"Middle Risk\"],[\"Middle Risk\"],[\"Middle Risk\"],[\"Middle Risk\"],[\"Middle Risk\"],[\"Middle Risk\"],[\"Middle Risk\"],[\"Middle Risk\"],[\"Middle Risk\"],[\"Middle Risk\"],[\"Middle Risk\"],[\"Middle Risk\"],[\"Middle Risk\"],[\"Middle Risk\"],[\"Middle Risk\"],[\"Middle Risk\"],[\"Middle Risk\"],[\"Middle Risk\"],[\"Middle Risk\"],[\"Middle Risk\"],[\"Middle Risk\"],[\"Middle Risk\"],[\"Middle Risk\"],[\"Middle Risk\"],[\"Middle Risk\"],[\"Middle Risk\"],[\"Middle Risk\"],[\"Middle Risk\"],[\"Middle Risk\"],[\"Middle Risk\"],[\"Middle Risk\"],[\"Middle Risk\"],[\"Middle Risk\"],[\"Middle Risk\"],[\"Middle Risk\"],[\"Middle Risk\"],[\"Middle Risk\"],[\"Middle Risk\"],[\"Middle Risk\"],[\"Middle Risk\"],[\"Middle Risk\"],[\"Middle Risk\"],[\"Middle Risk\"],[\"Middle Risk\"],[\"Middle Risk\"],[\"Middle Risk\"],[\"Middle Risk\"],[\"Middle Risk\"],[\"Middle Risk\"],[\"Middle Risk\"],[\"Middle Risk\"],[\"Middle Risk\"],[\"Middle Risk\"],[\"Middle Risk\"],[\"Middle Risk\"],[\"Middle Risk\"],[\"Middle Risk\"],[\"Middle Risk\"],[\"Middle Risk\"],[\"Middle Risk\"],[\"Middle Risk\"],[\"Middle Risk\"],[\"Middle Risk\"],[\"Middle Risk\"],[\"Middle Risk\"],[\"Middle Risk\"],[\"Middle Risk\"],[\"Middle Risk\"],[\"Middle Risk\"],[\"Middle Risk\"],[\"Middle Risk\"],[\"Middle Risk\"],[\"Middle Risk\"],[\"Middle Risk\"],[\"Middle Risk\"],[\"Middle Risk\"],[\"Middle Risk\"],[\"Middle Risk\"],[\"Middle Risk\"],[\"Middle Risk\"],[\"Middle Risk\"],[\"Middle Risk\"],[\"Middle Risk\"],[\"Middle Risk\"],[\"Middle Risk\"],[\"Middle Risk\"],[\"Middle Risk\"],[\"Middle Risk\"],[\"Middle Risk\"],[\"Middle Risk\"],[\"Middle Risk\"],[\"Middle Risk\"],[\"Middle Risk\"],[\"Middle Risk\"],[\"Middle Risk\"],[\"Middle Risk\"],[\"Middle Risk\"],[\"Middle Risk\"],[\"Middle Risk\"],[\"Middle Risk\"],[\"Middle Risk\"],[\"Middle Risk\"],[\"Middle Risk\"],[\"Middle Risk\"],[\"Middle Risk\"],[\"Middle Risk\"],[\"Middle Risk\"],[\"Middle Risk\"],[\"Middle Risk\"],[\"Middle Risk\"],[\"Middle Risk\"],[\"Middle Risk\"],[\"Middle Risk\"],[\"Middle Risk\"],[\"Middle Risk\"],[\"Middle Risk\"],[\"Middle Risk\"],[\"Middle Risk\"],[\"Middle Risk\"],[\"Middle Risk\"],[\"Middle Risk\"],[\"Middle Risk\"],[\"Middle Risk\"],[\"Middle Risk\"],[\"Middle Risk\"],[\"Middle Risk\"],[\"Middle Risk\"],[\"Middle Risk\"],[\"Middle Risk\"],[\"Middle Risk\"],[\"Middle Risk\"],[\"Middle Risk\"],[\"Middle Risk\"],[\"Middle Risk\"],[\"Middle Risk\"],[\"Middle Risk\"],[\"Middle Risk\"],[\"Middle Risk\"],[\"Middle Risk\"],[\"Middle Risk\"],[\"Middle Risk\"],[\"Middle Risk\"],[\"Middle Risk\"],[\"Middle Risk\"],[\"Middle Risk\"],[\"Middle Risk\"],[\"Middle Risk\"],[\"Middle Risk\"],[\"Middle Risk\"],[\"Middle Risk\"],[\"Middle Risk\"],[\"Middle Risk\"],[\"Middle Risk\"],[\"Middle Risk\"],[\"Middle Risk\"],[\"Middle Risk\"],[\"Middle Risk\"],[\"Middle Risk\"],[\"Middle Risk\"],[\"Middle Risk\"],[\"Middle Risk\"],[\"Middle Risk\"],[\"Middle Risk\"],[\"Middle Risk\"],[\"Middle Risk\"],[\"Middle Risk\"],[\"Middle Risk\"],[\"Middle Risk\"],[\"Middle Risk\"],[\"Middle Risk\"],[\"Middle Risk\"],[\"Middle Risk\"],[\"Middle Risk\"],[\"Middle Risk\"],[\"Middle Risk\"],[\"Middle Risk\"],[\"Middle Risk\"],[\"Middle Risk\"],[\"Middle Risk\"],[\"Middle Risk\"],[\"Middle Risk\"],[\"Middle Risk\"],[\"Middle Risk\"],[\"Middle Risk\"],[\"Middle Risk\"],[\"Middle Risk\"],[\"Middle Risk\"],[\"Middle Risk\"],[\"Middle Risk\"],[\"Middle Risk\"],[\"Middle Risk\"],[\"Middle Risk\"],[\"Middle Risk\"],[\"Middle Risk\"],[\"Middle Risk\"],[\"Middle Risk\"],[\"Middle Risk\"],[\"Middle Risk\"],[\"Middle Risk\"],[\"Middle Risk\"],[\"Middle Risk\"],[\"Middle Risk\"],[\"Middle Risk\"],[\"Middle Risk\"],[\"Low Risk\"],[\"Low Risk\"],[\"Low Risk\"],[\"Low Risk\"],[\"Low Risk\"],[\"Low Risk\"],[\"Low Risk\"],[\"Low Risk\"],[\"Low Risk\"],[\"Low Risk\"],[\"Low Risk\"],[\"Low Risk\"],[\"Low Risk\"],[\"Low Risk\"],[\"Low Risk\"],[\"Low Risk\"],[\"Low Risk\"],[\"Low Risk\"],[\"Low Risk\"],[\"Low Risk\"],[\"Low Risk\"],[\"Low Risk\"],[\"Low Risk\"],[\"Low Risk\"],[\"Low Risk\"],[\"Low Risk\"],[\"Low Risk\"],[\"Low Risk\"],[\"Low Risk\"],[\"Low Risk\"],[\"Low Risk\"],[\"Low Risk\"],[\"Low Risk\"],[\"Low Risk\"],[\"Low Risk\"],[\"Low Risk\"],[\"Low Risk\"],[\"Low Risk\"],[\"Low Risk\"],[\"Low Risk\"],[\"Low Risk\"],[\"Low Risk\"],[\"Low Risk\"],[\"Low Risk\"],[\"Low Risk\"],[\"Low Risk\"],[\"Low Risk\"],[\"Low Risk\"],[\"Low Risk\"],[\"Low Risk\"],[\"Low Risk\"],[\"Low Risk\"],[\"Low Risk\"],[\"Low Risk\"],[\"Low Risk\"],[\"Low Risk\"],[\"Low Risk\"],[\"Low Risk\"],[\"Low Risk\"],[\"Low Risk\"],[\"Low Risk\"],[\"Low Risk\"],[\"Low Risk\"],[\"Low Risk\"],[\"Low Risk\"],[\"Low Risk\"],[\"Low Risk\"],[\"Low Risk\"],[\"Low Risk\"],[\"Low Risk\"],[\"Low Risk\"],[\"Low Risk\"],[\"Low Risk\"],[\"Low Risk\"],[\"Low Risk\"],[\"Low Risk\"],[\"Low Risk\"],[\"Low Risk\"],[\"Low Risk\"],[\"Low Risk\"],[\"Low Risk\"],[\"Low Risk\"],[\"Low Risk\"],[\"Low Risk\"],[\"Low Risk\"],[\"Low Risk\"],[\"Low Risk\"],[\"Low Risk\"],[\"Low Risk\"],[\"Low Risk\"],[\"Low Risk\"],[\"Low Risk\"],[\"Low Risk\"],[\"Low Risk\"],[\"Low Risk\"],[\"Low Risk\"],[\"Low Risk\"],[\"Low Risk\"],[\"Low Risk\"],[\"Low Risk\"],[\"Low Risk\"],[\"Low Risk\"],[\"Low Risk\"],[\"Low Risk\"],[\"Low Risk\"],[\"Low Risk\"],[\"Low Risk\"],[\"Low Risk\"],[\"Low Risk\"],[\"Low Risk\"],[\"Low Risk\"],[\"Low Risk\"],[\"Low Risk\"],[\"Low Risk\"],[\"Low Risk\"],[\"Low Risk\"],[\"Low Risk\"],[\"Low Risk\"],[\"Low Risk\"],[\"Low Risk\"],[\"Low Risk\"],[\"Low Risk\"],[\"Low Risk\"],[\"Low Risk\"],[\"Low Risk\"],[\"Low Risk\"],[\"Low Risk\"],[\"Low Risk\"],[\"Low Risk\"],[\"Low Risk\"],[\"Low Risk\"],[\"Low Risk\"],[\"Low Risk\"],[\"Low Risk\"],[\"Low Risk\"],[\"Low Risk\"],[\"Low Risk\"],[\"Low Risk\"],[\"Low Risk\"],[\"Low Risk\"],[\"Low Risk\"],[\"Low Risk\"],[\"Low Risk\"],[\"Low Risk\"],[\"Low Risk\"],[\"Low Risk\"],[\"Low Risk\"],[\"Low Risk\"],[\"Low Risk\"],[\"Low Risk\"],[\"Low Risk\"],[\"Low Risk\"],[\"Low Risk\"],[\"Low Risk\"],[\"Low Risk\"],[\"Low Risk\"],[\"Low Risk\"],[\"Low Risk\"],[\"Low Risk\"],[\"Low Risk\"],[\"Low Risk\"],[\"Low Risk\"],[\"Low Risk\"],[\"Low Risk\"],[\"Low Risk\"],[\"Low Risk\"],[\"Low Risk\"],[\"Low Risk\"],[\"Low Risk\"],[\"Low Risk\"],[\"Low Risk\"],[\"Low Risk\"],[\"Low Risk\"],[\"Low Risk\"],[\"Low Risk\"],[\"Low Risk\"],[\"Low Risk\"],[\"Low Risk\"],[\"Low Risk\"],[\"Low Risk\"],[\"Low Risk\"],[\"Low Risk\"],[\"Low Risk\"],[\"Low Risk\"],[\"Low Risk\"],[\"Low Risk\"],[\"Low Risk\"],[\"Low Risk\"],[\"Low Risk\"],[\"Low Risk\"],[\"Low Risk\"],[\"Low Risk\"],[\"Low Risk\"],[\"Low Risk\"],[\"Low Risk\"],[\"Low Risk\"],[\"Low Risk\"],[\"Low Risk\"],[\"Low Risk\"],[\"Low Risk\"],[\"Low Risk\"],[\"Low Risk\"],[\"Low Risk\"],[\"Low Risk\"],[\"Low Risk\"],[\"Low Risk\"],[\"Low Risk\"],[\"Low Risk\"],[\"Low Risk\"],[\"Low Risk\"],[\"Low Risk\"],[\"Low Risk\"],[\"Low Risk\"],[\"Low Risk\"],[\"Low Risk\"],[\"Low Risk\"],[\"Low Risk\"],[\"Low Risk\"],[\"Low Risk\"],[\"Low Risk\"],[\"Low Risk\"],[\"Low Risk\"],[\"Low Risk\"],[\"Low Risk\"],[\"Low Risk\"],[\"Low Risk\"],[\"Low Risk\"],[\"Low Risk\"],[\"Low Risk\"],[\"Low Risk\"],[\"Low Risk\"],[\"Low Risk\"],[\"Low Risk\"],[\"Low Risk\"],[\"Low Risk\"],[\"Low Risk\"],[\"Low Risk\"],[\"Low Risk\"],[\"Low Risk\"],[\"Low Risk\"],[\"Low Risk\"],[\"Low Risk\"],[\"Low Risk\"],[\"Low Risk\"],[\"Low Risk\"],[\"Low Risk\"],[\"Low Risk\"],[\"Low Risk\"],[\"Low Risk\"],[\"Low Risk\"],[\"Low Risk\"],[\"Low Risk\"],[\"Low Risk\"],[\"Low Risk\"],[\"Low Risk\"],[\"Low Risk\"],[\"Low Risk\"],[\"Low Risk\"],[\"Low Risk\"],[\"Low Risk\"],[\"Low Risk\"],[\"Low Risk\"],[\"Low Risk\"],[\"Low Risk\"],[\"Low Risk\"],[\"Low Risk\"],[\"Low Risk\"],[\"Low Risk\"],[\"Low Risk\"],[\"Low Risk\"],[\"Low Risk\"],[\"Low Risk\"],[\"Low Risk\"],[\"Low Risk\"],[\"Low Risk\"],[\"Low Risk\"],[\"Low Risk\"],[\"Low Risk\"],[\"Low Risk\"],[\"Low Risk\"],[\"Low Risk\"],[\"Low Risk\"],[\"Low Risk\"],[\"Low Risk\"],[\"Low Risk\"],[\"Low Risk\"],[\"Low Risk\"],[\"Low Risk\"],[\"Low Risk\"],[\"Low Risk\"],[\"Low Risk\"],[\"Low Risk\"],[\"Low Risk\"],[\"Low Risk\"],[\"Low Risk\"],[\"Low Risk\"],[\"Low Risk\"],[\"Low Risk\"],[\"Low Risk\"],[\"Low Risk\"],[\"Low Risk\"],[\"Low Risk\"],[\"Low Risk\"],[\"Low Risk\"],[\"Low Risk\"],[\"Low Risk\"],[\"Low Risk\"],[\"Low Risk\"],[\"Low Risk\"],[\"Low Risk\"],[\"Low Risk\"],[\"Low Risk\"],[\"Low Risk\"],[\"Low Risk\"],[\"Low Risk\"],[\"Low Risk\"],[\"Low Risk\"],[\"Low Risk\"],[\"Low Risk\"],[\"Low Risk\"],[\"Low Risk\"],[\"Low Risk\"],[\"Low Risk\"],[\"Low Risk\"],[\"Low Risk\"],[\"Low Risk\"],[\"Low Risk\"],[\"Low Risk\"],[\"Low Risk\"],[\"Low Risk\"],[\"Low Risk\"],[\"Low Risk\"],[\"Low Risk\"],[\"Low Risk\"],[\"Low Risk\"],[\"Low Risk\"],[\"Low Risk\"],[\"Low Risk\"],[\"Low Risk\"],[\"Low Risk\"],[\"Low Risk\"],[\"Low Risk\"],[\"Low Risk\"],[\"Low Risk\"],[\"Low Risk\"],[\"Low Risk\"],[\"Low Risk\"],[\"Low Risk\"],[\"Low Risk\"],[\"Low Risk\"],[\"Low Risk\"]],\"direction\":\"clockwise\",\"domain\":{\"x\":[0.0,1.0],\"y\":[0.0,1.0]},\"hole\":0.4,\"hovertemplate\":\"Risk Categories=%{customdata[0]}\\u003cextra\\u003e\\u003c\\u002fextra\\u003e\",\"labels\":[\"High Risk\",\"High Risk\",\"High Risk\",\"High Risk\",\"High Risk\",\"High Risk\",\"High Risk\",\"High Risk\",\"High Risk\",\"High Risk\",\"High Risk\",\"High Risk\",\"High Risk\",\"High Risk\",\"High Risk\",\"High Risk\",\"High Risk\",\"High Risk\",\"High Risk\",\"High Risk\",\"High Risk\",\"High Risk\",\"High Risk\",\"High Risk\",\"High Risk\",\"High Risk\",\"High Risk\",\"High Risk\",\"High Risk\",\"High Risk\",\"High Risk\",\"High Risk\",\"High Risk\",\"High Risk\",\"High Risk\",\"High Risk\",\"High Risk\",\"High Risk\",\"High Risk\",\"High Risk\",\"High Risk\",\"High Risk\",\"High Risk\",\"High Risk\",\"High Risk\",\"High Risk\",\"High Risk\",\"High Risk\",\"High Risk\",\"High Risk\",\"High Risk\",\"High Risk\",\"High Risk\",\"Middle Risk\",\"Middle Risk\",\"Middle Risk\",\"Middle Risk\",\"Middle Risk\",\"Middle Risk\",\"Middle Risk\",\"Middle Risk\",\"Middle Risk\",\"Middle Risk\",\"Middle Risk\",\"Middle Risk\",\"Middle Risk\",\"Middle Risk\",\"Middle Risk\",\"Middle Risk\",\"Middle Risk\",\"Middle Risk\",\"Middle Risk\",\"Middle Risk\",\"Middle Risk\",\"Middle Risk\",\"Middle Risk\",\"Middle Risk\",\"Middle Risk\",\"Middle Risk\",\"Middle Risk\",\"Middle Risk\",\"Middle Risk\",\"Middle Risk\",\"Middle Risk\",\"Middle Risk\",\"Middle Risk\",\"Middle Risk\",\"Middle Risk\",\"Middle Risk\",\"Middle Risk\",\"Middle Risk\",\"Middle Risk\",\"Middle Risk\",\"Middle Risk\",\"Middle Risk\",\"Middle Risk\",\"Middle Risk\",\"Middle Risk\",\"Middle Risk\",\"Middle Risk\",\"Middle Risk\",\"Middle Risk\",\"Middle Risk\",\"Middle Risk\",\"Middle Risk\",\"Middle Risk\",\"Middle Risk\",\"Middle Risk\",\"Middle Risk\",\"Middle Risk\",\"Middle Risk\",\"Middle Risk\",\"Middle Risk\",\"Middle Risk\",\"Middle Risk\",\"Middle Risk\",\"Middle Risk\",\"Middle Risk\",\"Middle Risk\",\"Middle Risk\",\"Middle Risk\",\"Middle Risk\",\"Middle Risk\",\"Middle Risk\",\"Middle Risk\",\"Middle Risk\",\"Middle Risk\",\"Middle Risk\",\"Middle Risk\",\"Middle Risk\",\"Middle Risk\",\"Middle Risk\",\"Middle Risk\",\"Middle Risk\",\"Middle Risk\",\"Middle Risk\",\"Middle Risk\",\"Middle Risk\",\"Middle Risk\",\"Middle Risk\",\"Middle Risk\",\"Middle Risk\",\"Middle Risk\",\"Middle Risk\",\"Middle Risk\",\"Middle Risk\",\"Middle Risk\",\"Middle Risk\",\"Middle Risk\",\"Middle Risk\",\"Middle Risk\",\"Middle Risk\",\"Middle Risk\",\"Middle Risk\",\"Middle Risk\",\"Middle Risk\",\"Middle Risk\",\"Middle Risk\",\"Middle Risk\",\"Middle Risk\",\"Middle Risk\",\"Middle Risk\",\"Middle Risk\",\"Middle Risk\",\"Middle Risk\",\"Middle Risk\",\"Middle Risk\",\"Middle Risk\",\"Middle Risk\",\"Middle Risk\",\"Middle Risk\",\"Middle Risk\",\"Middle Risk\",\"Middle Risk\",\"Middle Risk\",\"Middle Risk\",\"Middle Risk\",\"Middle Risk\",\"Middle Risk\",\"Middle Risk\",\"Middle Risk\",\"Middle Risk\",\"Middle Risk\",\"Middle Risk\",\"Middle Risk\",\"Middle Risk\",\"Middle Risk\",\"Middle Risk\",\"Middle Risk\",\"Middle Risk\",\"Middle Risk\",\"Middle Risk\",\"Middle Risk\",\"Middle Risk\",\"Middle Risk\",\"Middle Risk\",\"Middle Risk\",\"Middle Risk\",\"Middle Risk\",\"Middle Risk\",\"Middle Risk\",\"Middle Risk\",\"Middle Risk\",\"Middle Risk\",\"Middle Risk\",\"Middle Risk\",\"Middle Risk\",\"Middle Risk\",\"Middle Risk\",\"Middle Risk\",\"Middle Risk\",\"Middle Risk\",\"Middle Risk\",\"Middle Risk\",\"Middle Risk\",\"Middle Risk\",\"Middle Risk\",\"Middle Risk\",\"Middle Risk\",\"Middle Risk\",\"Middle Risk\",\"Middle Risk\",\"Middle Risk\",\"Middle Risk\",\"Middle Risk\",\"Middle Risk\",\"Middle Risk\",\"Middle Risk\",\"Middle Risk\",\"Middle Risk\",\"Middle Risk\",\"Middle Risk\",\"Middle Risk\",\"Middle Risk\",\"Middle Risk\",\"Middle Risk\",\"Middle Risk\",\"Middle Risk\",\"Middle Risk\",\"Middle Risk\",\"Middle Risk\",\"Middle Risk\",\"Middle Risk\",\"Middle Risk\",\"Middle Risk\",\"Middle Risk\",\"Middle Risk\",\"Middle Risk\",\"Middle Risk\",\"Middle Risk\",\"Middle Risk\",\"Middle Risk\",\"Middle Risk\",\"Middle Risk\",\"Middle Risk\",\"Middle Risk\",\"Middle Risk\",\"Middle Risk\",\"Middle Risk\",\"Middle Risk\",\"Middle Risk\",\"Middle Risk\",\"Middle Risk\",\"Middle Risk\",\"Middle Risk\",\"Middle Risk\",\"Middle Risk\",\"Middle Risk\",\"Middle Risk\",\"Middle Risk\",\"Middle Risk\",\"Middle Risk\",\"Middle Risk\",\"Middle Risk\",\"Middle Risk\",\"Middle Risk\",\"Middle Risk\",\"Middle Risk\",\"Middle Risk\",\"Middle Risk\",\"Middle Risk\",\"Middle Risk\",\"Middle Risk\",\"Middle Risk\",\"Middle Risk\",\"Middle Risk\",\"Middle Risk\",\"Middle Risk\",\"Middle Risk\",\"Middle Risk\",\"Middle Risk\",\"Middle Risk\",\"Middle Risk\",\"Middle Risk\",\"Middle Risk\",\"Middle Risk\",\"Middle Risk\",\"Middle Risk\",\"Middle Risk\",\"Middle Risk\",\"Middle Risk\",\"Middle Risk\",\"Middle Risk\",\"Middle Risk\",\"Middle Risk\",\"Middle Risk\",\"Middle Risk\",\"Middle Risk\",\"Middle Risk\",\"Middle Risk\",\"Middle Risk\",\"Middle Risk\",\"Middle Risk\",\"Middle Risk\",\"Middle Risk\",\"Middle Risk\",\"Middle Risk\",\"Middle Risk\",\"Middle Risk\",\"Middle Risk\",\"Middle Risk\",\"Middle Risk\",\"Middle Risk\",\"Middle Risk\",\"Middle Risk\",\"Middle Risk\",\"Middle Risk\",\"Middle Risk\",\"Middle Risk\",\"Middle Risk\",\"Middle Risk\",\"Middle Risk\",\"Middle Risk\",\"Middle Risk\",\"Middle Risk\",\"Middle Risk\",\"Middle Risk\",\"Middle Risk\",\"Middle Risk\",\"Middle Risk\",\"Middle Risk\",\"Middle Risk\",\"Middle Risk\",\"Middle Risk\",\"Middle Risk\",\"Middle Risk\",\"Middle Risk\",\"Middle Risk\",\"Middle Risk\",\"Middle Risk\",\"Middle Risk\",\"Middle Risk\",\"Middle Risk\",\"Middle Risk\",\"Middle Risk\",\"Middle Risk\",\"Middle Risk\",\"Middle Risk\",\"Middle Risk\",\"Middle Risk\",\"Middle Risk\",\"Middle Risk\",\"Middle Risk\",\"Middle Risk\",\"Middle Risk\",\"Middle Risk\",\"Middle Risk\",\"Middle Risk\",\"Middle Risk\",\"Middle Risk\",\"Middle Risk\",\"Middle Risk\",\"Middle Risk\",\"Middle Risk\",\"Middle Risk\",\"Middle Risk\",\"Middle Risk\",\"Middle Risk\",\"Middle Risk\",\"Middle Risk\",\"Middle Risk\",\"Middle Risk\",\"Middle Risk\",\"Middle Risk\",\"Middle Risk\",\"Middle Risk\",\"Middle Risk\",\"Middle Risk\",\"Middle Risk\",\"Middle Risk\",\"Middle Risk\",\"Middle Risk\",\"Middle Risk\",\"Middle Risk\",\"Middle Risk\",\"Middle Risk\",\"Middle Risk\",\"Middle Risk\",\"Middle Risk\",\"Middle Risk\",\"Middle Risk\",\"Middle Risk\",\"Middle Risk\",\"Middle Risk\",\"Middle Risk\",\"Middle Risk\",\"Middle Risk\",\"Middle Risk\",\"Middle Risk\",\"Middle Risk\",\"Middle Risk\",\"Middle Risk\",\"Middle Risk\",\"Middle Risk\",\"Middle Risk\",\"Middle Risk\",\"Middle Risk\",\"Middle Risk\",\"Middle Risk\",\"Middle Risk\",\"Middle Risk\",\"Middle Risk\",\"Middle Risk\",\"Middle Risk\",\"Middle Risk\",\"Middle Risk\",\"Middle Risk\",\"Middle Risk\",\"Middle Risk\",\"Middle Risk\",\"Middle Risk\",\"Middle Risk\",\"Middle Risk\",\"Middle Risk\",\"Middle Risk\",\"Middle Risk\",\"Middle Risk\",\"Middle Risk\",\"Middle Risk\",\"Middle Risk\",\"Middle Risk\",\"Middle Risk\",\"Middle Risk\",\"Middle Risk\",\"Middle Risk\",\"Middle Risk\",\"Middle Risk\",\"Middle Risk\",\"Middle Risk\",\"Middle Risk\",\"Middle Risk\",\"Middle Risk\",\"Middle Risk\",\"Middle Risk\",\"Middle Risk\",\"Middle Risk\",\"Middle Risk\",\"Middle Risk\",\"Middle Risk\",\"Middle Risk\",\"Middle Risk\",\"Middle Risk\",\"Middle Risk\",\"Middle Risk\",\"Middle Risk\",\"Middle Risk\",\"Middle Risk\",\"Middle Risk\",\"Middle Risk\",\"Middle Risk\",\"Middle Risk\",\"Middle Risk\",\"Middle Risk\",\"Middle Risk\",\"Middle Risk\",\"Middle Risk\",\"Middle Risk\",\"Middle Risk\",\"Middle Risk\",\"Middle Risk\",\"Middle Risk\",\"Middle Risk\",\"Middle Risk\",\"Middle Risk\",\"Middle Risk\",\"Middle Risk\",\"Middle Risk\",\"Middle Risk\",\"Middle Risk\",\"Middle Risk\",\"Middle Risk\",\"Middle Risk\",\"Middle Risk\",\"Middle Risk\",\"Middle Risk\",\"Middle Risk\",\"Middle Risk\",\"Middle Risk\",\"Middle Risk\",\"Middle Risk\",\"Middle Risk\",\"Middle Risk\",\"Middle Risk\",\"Middle Risk\",\"Middle Risk\",\"Middle Risk\",\"Middle Risk\",\"Middle Risk\",\"Middle Risk\",\"Middle Risk\",\"Middle Risk\",\"Middle Risk\",\"Middle Risk\",\"Middle Risk\",\"Middle Risk\",\"Middle Risk\",\"Middle Risk\",\"Middle Risk\",\"Middle Risk\",\"Middle Risk\",\"Middle Risk\",\"Middle Risk\",\"Middle Risk\",\"Middle Risk\",\"Middle Risk\",\"Middle Risk\",\"Middle Risk\",\"Middle Risk\",\"Middle Risk\",\"Middle Risk\",\"Middle Risk\",\"Middle Risk\",\"Middle Risk\",\"Middle Risk\",\"Middle Risk\",\"Middle Risk\",\"Middle Risk\",\"Middle Risk\",\"Middle Risk\",\"Middle Risk\",\"Middle Risk\",\"Low Risk\",\"Low Risk\",\"Low Risk\",\"Low Risk\",\"Low Risk\",\"Low Risk\",\"Low Risk\",\"Low Risk\",\"Low Risk\",\"Low Risk\",\"Low Risk\",\"Low Risk\",\"Low Risk\",\"Low Risk\",\"Low Risk\",\"Low Risk\",\"Low Risk\",\"Low Risk\",\"Low Risk\",\"Low Risk\",\"Low Risk\",\"Low Risk\",\"Low Risk\",\"Low Risk\",\"Low Risk\",\"Low Risk\",\"Low Risk\",\"Low Risk\",\"Low Risk\",\"Low Risk\",\"Low Risk\",\"Low Risk\",\"Low Risk\",\"Low Risk\",\"Low Risk\",\"Low Risk\",\"Low Risk\",\"Low Risk\",\"Low Risk\",\"Low Risk\",\"Low Risk\",\"Low Risk\",\"Low Risk\",\"Low Risk\",\"Low Risk\",\"Low Risk\",\"Low Risk\",\"Low Risk\",\"Low Risk\",\"Low Risk\",\"Low Risk\",\"Low Risk\",\"Low Risk\",\"Low Risk\",\"Low Risk\",\"Low Risk\",\"Low Risk\",\"Low Risk\",\"Low Risk\",\"Low Risk\",\"Low Risk\",\"Low Risk\",\"Low Risk\",\"Low Risk\",\"Low Risk\",\"Low Risk\",\"Low Risk\",\"Low Risk\",\"Low Risk\",\"Low Risk\",\"Low Risk\",\"Low Risk\",\"Low Risk\",\"Low Risk\",\"Low Risk\",\"Low Risk\",\"Low Risk\",\"Low Risk\",\"Low Risk\",\"Low Risk\",\"Low Risk\",\"Low Risk\",\"Low Risk\",\"Low Risk\",\"Low Risk\",\"Low Risk\",\"Low Risk\",\"Low Risk\",\"Low Risk\",\"Low Risk\",\"Low Risk\",\"Low Risk\",\"Low Risk\",\"Low Risk\",\"Low Risk\",\"Low Risk\",\"Low Risk\",\"Low Risk\",\"Low Risk\",\"Low Risk\",\"Low Risk\",\"Low Risk\",\"Low Risk\",\"Low Risk\",\"Low Risk\",\"Low Risk\",\"Low Risk\",\"Low Risk\",\"Low Risk\",\"Low Risk\",\"Low Risk\",\"Low Risk\",\"Low Risk\",\"Low Risk\",\"Low Risk\",\"Low Risk\",\"Low Risk\",\"Low Risk\",\"Low Risk\",\"Low Risk\",\"Low Risk\",\"Low Risk\",\"Low Risk\",\"Low Risk\",\"Low Risk\",\"Low Risk\",\"Low Risk\",\"Low Risk\",\"Low Risk\",\"Low Risk\",\"Low Risk\",\"Low Risk\",\"Low Risk\",\"Low Risk\",\"Low Risk\",\"Low Risk\",\"Low Risk\",\"Low Risk\",\"Low Risk\",\"Low Risk\",\"Low Risk\",\"Low Risk\",\"Low Risk\",\"Low Risk\",\"Low Risk\",\"Low Risk\",\"Low Risk\",\"Low Risk\",\"Low Risk\",\"Low Risk\",\"Low Risk\",\"Low Risk\",\"Low Risk\",\"Low Risk\",\"Low Risk\",\"Low Risk\",\"Low Risk\",\"Low Risk\",\"Low Risk\",\"Low Risk\",\"Low Risk\",\"Low Risk\",\"Low Risk\",\"Low Risk\",\"Low Risk\",\"Low Risk\",\"Low Risk\",\"Low Risk\",\"Low Risk\",\"Low Risk\",\"Low Risk\",\"Low Risk\",\"Low Risk\",\"Low Risk\",\"Low Risk\",\"Low Risk\",\"Low Risk\",\"Low Risk\",\"Low Risk\",\"Low Risk\",\"Low Risk\",\"Low Risk\",\"Low Risk\",\"Low Risk\",\"Low Risk\",\"Low Risk\",\"Low Risk\",\"Low Risk\",\"Low Risk\",\"Low Risk\",\"Low Risk\",\"Low Risk\",\"Low Risk\",\"Low Risk\",\"Low Risk\",\"Low Risk\",\"Low Risk\",\"Low Risk\",\"Low Risk\",\"Low Risk\",\"Low Risk\",\"Low Risk\",\"Low Risk\",\"Low Risk\",\"Low Risk\",\"Low Risk\",\"Low Risk\",\"Low Risk\",\"Low Risk\",\"Low Risk\",\"Low Risk\",\"Low Risk\",\"Low Risk\",\"Low Risk\",\"Low Risk\",\"Low Risk\",\"Low Risk\",\"Low Risk\",\"Low Risk\",\"Low Risk\",\"Low Risk\",\"Low Risk\",\"Low Risk\",\"Low Risk\",\"Low Risk\",\"Low Risk\",\"Low Risk\",\"Low Risk\",\"Low Risk\",\"Low Risk\",\"Low Risk\",\"Low Risk\",\"Low Risk\",\"Low Risk\",\"Low Risk\",\"Low Risk\",\"Low Risk\",\"Low Risk\",\"Low Risk\",\"Low Risk\",\"Low Risk\",\"Low Risk\",\"Low Risk\",\"Low Risk\",\"Low Risk\",\"Low Risk\",\"Low Risk\",\"Low Risk\",\"Low Risk\",\"Low Risk\",\"Low Risk\",\"Low Risk\",\"Low Risk\",\"Low Risk\",\"Low Risk\",\"Low Risk\",\"Low Risk\",\"Low Risk\",\"Low Risk\",\"Low Risk\",\"Low Risk\",\"Low Risk\",\"Low Risk\",\"Low Risk\",\"Low Risk\",\"Low Risk\",\"Low Risk\",\"Low Risk\",\"Low Risk\",\"Low Risk\",\"Low Risk\",\"Low Risk\",\"Low Risk\",\"Low Risk\",\"Low Risk\",\"Low Risk\",\"Low Risk\",\"Low Risk\",\"Low Risk\",\"Low Risk\",\"Low Risk\",\"Low Risk\",\"Low Risk\",\"Low Risk\",\"Low Risk\",\"Low Risk\",\"Low Risk\",\"Low Risk\",\"Low Risk\",\"Low Risk\",\"Low Risk\",\"Low Risk\",\"Low Risk\",\"Low Risk\",\"Low Risk\",\"Low Risk\",\"Low Risk\",\"Low Risk\",\"Low Risk\",\"Low Risk\",\"Low Risk\",\"Low Risk\",\"Low Risk\",\"Low Risk\",\"Low Risk\",\"Low Risk\",\"Low Risk\",\"Low Risk\",\"Low Risk\",\"Low Risk\",\"Low Risk\",\"Low Risk\",\"Low Risk\",\"Low Risk\",\"Low Risk\",\"Low Risk\",\"Low Risk\",\"Low Risk\",\"Low Risk\",\"Low Risk\",\"Low Risk\",\"Low Risk\",\"Low Risk\",\"Low Risk\",\"Low Risk\",\"Low Risk\",\"Low Risk\",\"Low Risk\",\"Low Risk\",\"Low Risk\",\"Low Risk\",\"Low Risk\",\"Low Risk\",\"Low Risk\",\"Low Risk\",\"Low Risk\",\"Low Risk\",\"Low Risk\",\"Low Risk\",\"Low Risk\",\"Low Risk\",\"Low Risk\",\"Low Risk\",\"Low Risk\",\"Low Risk\",\"Low Risk\",\"Low Risk\",\"Low Risk\",\"Low Risk\",\"Low Risk\",\"Low Risk\"],\"legendgroup\":\"\",\"marker\":{\"colors\":[\"rgb(0, 0, 255)\",\"rgb(0, 0, 255)\",\"rgb(0, 0, 255)\",\"rgb(0, 0, 255)\",\"rgb(0, 0, 255)\",\"rgb(0, 0, 255)\",\"rgb(0, 0, 255)\",\"rgb(0, 0, 255)\",\"rgb(0, 0, 255)\",\"rgb(0, 0, 255)\",\"rgb(0, 0, 255)\",\"rgb(0, 0, 255)\",\"rgb(0, 0, 255)\",\"rgb(0, 0, 255)\",\"rgb(0, 0, 255)\",\"rgb(0, 0, 255)\",\"rgb(0, 0, 255)\",\"rgb(0, 0, 255)\",\"rgb(0, 0, 255)\",\"rgb(0, 0, 255)\",\"rgb(0, 0, 255)\",\"rgb(0, 0, 255)\",\"rgb(0, 0, 255)\",\"rgb(0, 0, 255)\",\"rgb(0, 0, 255)\",\"rgb(0, 0, 255)\",\"rgb(0, 0, 255)\",\"rgb(0, 0, 255)\",\"rgb(0, 0, 255)\",\"rgb(0, 0, 255)\",\"rgb(0, 0, 255)\",\"rgb(0, 0, 255)\",\"rgb(0, 0, 255)\",\"rgb(0, 0, 255)\",\"rgb(0, 0, 255)\",\"rgb(0, 0, 255)\",\"rgb(0, 0, 255)\",\"rgb(0, 0, 255)\",\"rgb(0, 0, 255)\",\"rgb(0, 0, 255)\",\"rgb(0, 0, 255)\",\"rgb(0, 0, 255)\",\"rgb(0, 0, 255)\",\"rgb(0, 0, 255)\",\"rgb(0, 0, 255)\",\"rgb(0, 0, 255)\",\"rgb(0, 0, 255)\",\"rgb(0, 0, 255)\",\"rgb(0, 0, 255)\",\"rgb(0, 0, 255)\",\"rgb(0, 0, 255)\",\"rgb(0, 0, 255)\",\"rgb(0, 0, 255)\",\"rgb(70, 130, 180)\",\"rgb(70, 130, 180)\",\"rgb(70, 130, 180)\",\"rgb(70, 130, 180)\",\"rgb(70, 130, 180)\",\"rgb(70, 130, 180)\",\"rgb(70, 130, 180)\",\"rgb(70, 130, 180)\",\"rgb(70, 130, 180)\",\"rgb(70, 130, 180)\",\"rgb(70, 130, 180)\",\"rgb(70, 130, 180)\",\"rgb(70, 130, 180)\",\"rgb(70, 130, 180)\",\"rgb(70, 130, 180)\",\"rgb(70, 130, 180)\",\"rgb(70, 130, 180)\",\"rgb(70, 130, 180)\",\"rgb(70, 130, 180)\",\"rgb(70, 130, 180)\",\"rgb(70, 130, 180)\",\"rgb(70, 130, 180)\",\"rgb(70, 130, 180)\",\"rgb(70, 130, 180)\",\"rgb(70, 130, 180)\",\"rgb(70, 130, 180)\",\"rgb(70, 130, 180)\",\"rgb(70, 130, 180)\",\"rgb(70, 130, 180)\",\"rgb(70, 130, 180)\",\"rgb(70, 130, 180)\",\"rgb(70, 130, 180)\",\"rgb(70, 130, 180)\",\"rgb(70, 130, 180)\",\"rgb(70, 130, 180)\",\"rgb(70, 130, 180)\",\"rgb(70, 130, 180)\",\"rgb(70, 130, 180)\",\"rgb(70, 130, 180)\",\"rgb(70, 130, 180)\",\"rgb(70, 130, 180)\",\"rgb(70, 130, 180)\",\"rgb(70, 130, 180)\",\"rgb(70, 130, 180)\",\"rgb(70, 130, 180)\",\"rgb(70, 130, 180)\",\"rgb(70, 130, 180)\",\"rgb(70, 130, 180)\",\"rgb(70, 130, 180)\",\"rgb(70, 130, 180)\",\"rgb(70, 130, 180)\",\"rgb(70, 130, 180)\",\"rgb(70, 130, 180)\",\"rgb(70, 130, 180)\",\"rgb(70, 130, 180)\",\"rgb(70, 130, 180)\",\"rgb(70, 130, 180)\",\"rgb(70, 130, 180)\",\"rgb(70, 130, 180)\",\"rgb(70, 130, 180)\",\"rgb(70, 130, 180)\",\"rgb(70, 130, 180)\",\"rgb(70, 130, 180)\",\"rgb(70, 130, 180)\",\"rgb(70, 130, 180)\",\"rgb(70, 130, 180)\",\"rgb(70, 130, 180)\",\"rgb(70, 130, 180)\",\"rgb(70, 130, 180)\",\"rgb(70, 130, 180)\",\"rgb(70, 130, 180)\",\"rgb(70, 130, 180)\",\"rgb(70, 130, 180)\",\"rgb(70, 130, 180)\",\"rgb(70, 130, 180)\",\"rgb(70, 130, 180)\",\"rgb(70, 130, 180)\",\"rgb(70, 130, 180)\",\"rgb(70, 130, 180)\",\"rgb(70, 130, 180)\",\"rgb(70, 130, 180)\",\"rgb(70, 130, 180)\",\"rgb(70, 130, 180)\",\"rgb(70, 130, 180)\",\"rgb(70, 130, 180)\",\"rgb(70, 130, 180)\",\"rgb(70, 130, 180)\",\"rgb(70, 130, 180)\",\"rgb(70, 130, 180)\",\"rgb(70, 130, 180)\",\"rgb(70, 130, 180)\",\"rgb(70, 130, 180)\",\"rgb(70, 130, 180)\",\"rgb(70, 130, 180)\",\"rgb(70, 130, 180)\",\"rgb(70, 130, 180)\",\"rgb(70, 130, 180)\",\"rgb(70, 130, 180)\",\"rgb(70, 130, 180)\",\"rgb(70, 130, 180)\",\"rgb(70, 130, 180)\",\"rgb(70, 130, 180)\",\"rgb(70, 130, 180)\",\"rgb(70, 130, 180)\",\"rgb(70, 130, 180)\",\"rgb(70, 130, 180)\",\"rgb(70, 130, 180)\",\"rgb(70, 130, 180)\",\"rgb(70, 130, 180)\",\"rgb(70, 130, 180)\",\"rgb(70, 130, 180)\",\"rgb(70, 130, 180)\",\"rgb(70, 130, 180)\",\"rgb(70, 130, 180)\",\"rgb(70, 130, 180)\",\"rgb(70, 130, 180)\",\"rgb(70, 130, 180)\",\"rgb(70, 130, 180)\",\"rgb(70, 130, 180)\",\"rgb(70, 130, 180)\",\"rgb(70, 130, 180)\",\"rgb(70, 130, 180)\",\"rgb(70, 130, 180)\",\"rgb(70, 130, 180)\",\"rgb(70, 130, 180)\",\"rgb(70, 130, 180)\",\"rgb(70, 130, 180)\",\"rgb(70, 130, 180)\",\"rgb(70, 130, 180)\",\"rgb(70, 130, 180)\",\"rgb(70, 130, 180)\",\"rgb(70, 130, 180)\",\"rgb(70, 130, 180)\",\"rgb(70, 130, 180)\",\"rgb(70, 130, 180)\",\"rgb(70, 130, 180)\",\"rgb(70, 130, 180)\",\"rgb(70, 130, 180)\",\"rgb(70, 130, 180)\",\"rgb(70, 130, 180)\",\"rgb(70, 130, 180)\",\"rgb(70, 130, 180)\",\"rgb(70, 130, 180)\",\"rgb(70, 130, 180)\",\"rgb(70, 130, 180)\",\"rgb(70, 130, 180)\",\"rgb(70, 130, 180)\",\"rgb(70, 130, 180)\",\"rgb(70, 130, 180)\",\"rgb(70, 130, 180)\",\"rgb(70, 130, 180)\",\"rgb(70, 130, 180)\",\"rgb(70, 130, 180)\",\"rgb(70, 130, 180)\",\"rgb(70, 130, 180)\",\"rgb(70, 130, 180)\",\"rgb(70, 130, 180)\",\"rgb(70, 130, 180)\",\"rgb(70, 130, 180)\",\"rgb(70, 130, 180)\",\"rgb(70, 130, 180)\",\"rgb(70, 130, 180)\",\"rgb(70, 130, 180)\",\"rgb(70, 130, 180)\",\"rgb(70, 130, 180)\",\"rgb(70, 130, 180)\",\"rgb(70, 130, 180)\",\"rgb(70, 130, 180)\",\"rgb(70, 130, 180)\",\"rgb(70, 130, 180)\",\"rgb(70, 130, 180)\",\"rgb(70, 130, 180)\",\"rgb(70, 130, 180)\",\"rgb(70, 130, 180)\",\"rgb(70, 130, 180)\",\"rgb(70, 130, 180)\",\"rgb(70, 130, 180)\",\"rgb(70, 130, 180)\",\"rgb(70, 130, 180)\",\"rgb(70, 130, 180)\",\"rgb(70, 130, 180)\",\"rgb(70, 130, 180)\",\"rgb(70, 130, 180)\",\"rgb(70, 130, 180)\",\"rgb(70, 130, 180)\",\"rgb(70, 130, 180)\",\"rgb(70, 130, 180)\",\"rgb(70, 130, 180)\",\"rgb(70, 130, 180)\",\"rgb(70, 130, 180)\",\"rgb(70, 130, 180)\",\"rgb(70, 130, 180)\",\"rgb(70, 130, 180)\",\"rgb(70, 130, 180)\",\"rgb(70, 130, 180)\",\"rgb(70, 130, 180)\",\"rgb(70, 130, 180)\",\"rgb(70, 130, 180)\",\"rgb(70, 130, 180)\",\"rgb(70, 130, 180)\",\"rgb(70, 130, 180)\",\"rgb(70, 130, 180)\",\"rgb(70, 130, 180)\",\"rgb(70, 130, 180)\",\"rgb(70, 130, 180)\",\"rgb(70, 130, 180)\",\"rgb(70, 130, 180)\",\"rgb(70, 130, 180)\",\"rgb(70, 130, 180)\",\"rgb(70, 130, 180)\",\"rgb(70, 130, 180)\",\"rgb(70, 130, 180)\",\"rgb(70, 130, 180)\",\"rgb(70, 130, 180)\",\"rgb(70, 130, 180)\",\"rgb(70, 130, 180)\",\"rgb(70, 130, 180)\",\"rgb(70, 130, 180)\",\"rgb(70, 130, 180)\",\"rgb(70, 130, 180)\",\"rgb(70, 130, 180)\",\"rgb(70, 130, 180)\",\"rgb(70, 130, 180)\",\"rgb(70, 130, 180)\",\"rgb(70, 130, 180)\",\"rgb(70, 130, 180)\",\"rgb(70, 130, 180)\",\"rgb(70, 130, 180)\",\"rgb(70, 130, 180)\",\"rgb(70, 130, 180)\",\"rgb(70, 130, 180)\",\"rgb(70, 130, 180)\",\"rgb(70, 130, 180)\",\"rgb(70, 130, 180)\",\"rgb(70, 130, 180)\",\"rgb(70, 130, 180)\",\"rgb(70, 130, 180)\",\"rgb(70, 130, 180)\",\"rgb(70, 130, 180)\",\"rgb(70, 130, 180)\",\"rgb(70, 130, 180)\",\"rgb(70, 130, 180)\",\"rgb(70, 130, 180)\",\"rgb(70, 130, 180)\",\"rgb(70, 130, 180)\",\"rgb(70, 130, 180)\",\"rgb(70, 130, 180)\",\"rgb(70, 130, 180)\",\"rgb(70, 130, 180)\",\"rgb(70, 130, 180)\",\"rgb(70, 130, 180)\",\"rgb(70, 130, 180)\",\"rgb(70, 130, 180)\",\"rgb(70, 130, 180)\",\"rgb(70, 130, 180)\",\"rgb(70, 130, 180)\",\"rgb(70, 130, 180)\",\"rgb(70, 130, 180)\",\"rgb(70, 130, 180)\",\"rgb(70, 130, 180)\",\"rgb(70, 130, 180)\",\"rgb(70, 130, 180)\",\"rgb(70, 130, 180)\",\"rgb(70, 130, 180)\",\"rgb(70, 130, 180)\",\"rgb(70, 130, 180)\",\"rgb(70, 130, 180)\",\"rgb(70, 130, 180)\",\"rgb(70, 130, 180)\",\"rgb(70, 130, 180)\",\"rgb(70, 130, 180)\",\"rgb(70, 130, 180)\",\"rgb(70, 130, 180)\",\"rgb(70, 130, 180)\",\"rgb(70, 130, 180)\",\"rgb(70, 130, 180)\",\"rgb(70, 130, 180)\",\"rgb(70, 130, 180)\",\"rgb(70, 130, 180)\",\"rgb(70, 130, 180)\",\"rgb(70, 130, 180)\",\"rgb(70, 130, 180)\",\"rgb(70, 130, 180)\",\"rgb(70, 130, 180)\",\"rgb(70, 130, 180)\",\"rgb(70, 130, 180)\",\"rgb(70, 130, 180)\",\"rgb(70, 130, 180)\",\"rgb(70, 130, 180)\",\"rgb(70, 130, 180)\",\"rgb(70, 130, 180)\",\"rgb(70, 130, 180)\",\"rgb(70, 130, 180)\",\"rgb(70, 130, 180)\",\"rgb(70, 130, 180)\",\"rgb(70, 130, 180)\",\"rgb(70, 130, 180)\",\"rgb(70, 130, 180)\",\"rgb(70, 130, 180)\",\"rgb(70, 130, 180)\",\"rgb(70, 130, 180)\",\"rgb(70, 130, 180)\",\"rgb(70, 130, 180)\",\"rgb(70, 130, 180)\",\"rgb(70, 130, 180)\",\"rgb(70, 130, 180)\",\"rgb(70, 130, 180)\",\"rgb(70, 130, 180)\",\"rgb(70, 130, 180)\",\"rgb(70, 130, 180)\",\"rgb(70, 130, 180)\",\"rgb(70, 130, 180)\",\"rgb(70, 130, 180)\",\"rgb(70, 130, 180)\",\"rgb(70, 130, 180)\",\"rgb(70, 130, 180)\",\"rgb(70, 130, 180)\",\"rgb(70, 130, 180)\",\"rgb(70, 130, 180)\",\"rgb(70, 130, 180)\",\"rgb(70, 130, 180)\",\"rgb(70, 130, 180)\",\"rgb(70, 130, 180)\",\"rgb(70, 130, 180)\",\"rgb(70, 130, 180)\",\"rgb(70, 130, 180)\",\"rgb(70, 130, 180)\",\"rgb(70, 130, 180)\",\"rgb(70, 130, 180)\",\"rgb(70, 130, 180)\",\"rgb(70, 130, 180)\",\"rgb(70, 130, 180)\",\"rgb(70, 130, 180)\",\"rgb(70, 130, 180)\",\"rgb(70, 130, 180)\",\"rgb(70, 130, 180)\",\"rgb(70, 130, 180)\",\"rgb(70, 130, 180)\",\"rgb(70, 130, 180)\",\"rgb(70, 130, 180)\",\"rgb(70, 130, 180)\",\"rgb(70, 130, 180)\",\"rgb(70, 130, 180)\",\"rgb(70, 130, 180)\",\"rgb(70, 130, 180)\",\"rgb(70, 130, 180)\",\"rgb(70, 130, 180)\",\"rgb(70, 130, 180)\",\"rgb(70, 130, 180)\",\"rgb(70, 130, 180)\",\"rgb(70, 130, 180)\",\"rgb(70, 130, 180)\",\"rgb(70, 130, 180)\",\"rgb(70, 130, 180)\",\"rgb(70, 130, 180)\",\"rgb(70, 130, 180)\",\"rgb(70, 130, 180)\",\"rgb(70, 130, 180)\",\"rgb(70, 130, 180)\",\"rgb(70, 130, 180)\",\"rgb(70, 130, 180)\",\"rgb(70, 130, 180)\",\"rgb(70, 130, 180)\",\"rgb(70, 130, 180)\",\"rgb(70, 130, 180)\",\"rgb(70, 130, 180)\",\"rgb(70, 130, 180)\",\"rgb(70, 130, 180)\",\"rgb(70, 130, 180)\",\"rgb(70, 130, 180)\",\"rgb(70, 130, 180)\",\"rgb(70, 130, 180)\",\"rgb(70, 130, 180)\",\"rgb(70, 130, 180)\",\"rgb(70, 130, 180)\",\"rgb(70, 130, 180)\",\"rgb(70, 130, 180)\",\"rgb(70, 130, 180)\",\"rgb(70, 130, 180)\",\"rgb(70, 130, 180)\",\"rgb(70, 130, 180)\",\"rgb(70, 130, 180)\",\"rgb(70, 130, 180)\",\"rgb(70, 130, 180)\",\"rgb(70, 130, 180)\",\"rgb(70, 130, 180)\",\"rgb(70, 130, 180)\",\"rgb(70, 130, 180)\",\"rgb(70, 130, 180)\",\"rgb(70, 130, 180)\",\"rgb(70, 130, 180)\",\"rgb(70, 130, 180)\",\"rgb(70, 130, 180)\",\"rgb(70, 130, 180)\",\"rgb(70, 130, 180)\",\"rgb(70, 130, 180)\",\"rgb(70, 130, 180)\",\"rgb(70, 130, 180)\",\"rgb(70, 130, 180)\",\"rgb(70, 130, 180)\",\"rgb(70, 130, 180)\",\"rgb(70, 130, 180)\",\"rgb(70, 130, 180)\",\"rgb(70, 130, 180)\",\"rgb(70, 130, 180)\",\"rgb(70, 130, 180)\",\"rgb(70, 130, 180)\",\"rgb(70, 130, 180)\",\"rgb(70, 130, 180)\",\"rgb(70, 130, 180)\",\"rgb(70, 130, 180)\",\"rgb(70, 130, 180)\",\"rgb(70, 130, 180)\",\"rgb(70, 130, 180)\",\"rgb(70, 130, 180)\",\"rgb(70, 130, 180)\",\"rgb(70, 130, 180)\",\"rgb(70, 130, 180)\",\"rgb(70, 130, 180)\",\"rgb(70, 130, 180)\",\"rgb(70, 130, 180)\",\"rgb(70, 130, 180)\",\"rgb(70, 130, 180)\",\"rgb(70, 130, 180)\",\"rgb(70, 130, 180)\",\"rgb(70, 130, 180)\",\"rgb(70, 130, 180)\",\"rgb(70, 130, 180)\",\"rgb(70, 130, 180)\",\"rgb(70, 130, 180)\",\"rgb(70, 130, 180)\",\"rgb(70, 130, 180)\",\"rgb(70, 130, 180)\",\"rgb(70, 130, 180)\",\"rgb(70, 130, 180)\",\"rgb(70, 130, 180)\",\"rgb(70, 130, 180)\",\"rgb(70, 130, 180)\",\"rgb(70, 130, 180)\",\"rgb(70, 130, 180)\",\"rgb(70, 130, 180)\",\"rgb(70, 130, 180)\",\"rgb(70, 130, 180)\",\"rgb(70, 130, 180)\",\"rgb(70, 130, 180)\",\"rgb(70, 130, 180)\",\"rgb(70, 130, 180)\",\"rgb(70, 130, 180)\",\"rgb(70, 130, 180)\",\"rgb(70, 130, 180)\",\"rgb(70, 130, 180)\",\"rgb(70, 130, 180)\",\"rgb(70, 130, 180)\",\"rgb(70, 130, 180)\",\"rgb(70, 130, 180)\",\"rgb(70, 130, 180)\",\"rgb(70, 130, 180)\",\"rgb(70, 130, 180)\",\"rgb(70, 130, 180)\",\"rgb(70, 130, 180)\",\"rgb(70, 130, 180)\",\"rgb(70, 130, 180)\",\"rgb(70, 130, 180)\",\"rgb(70, 130, 180)\",\"rgb(70, 130, 180)\",\"rgb(70, 130, 180)\",\"rgb(70, 130, 180)\",\"rgb(70, 130, 180)\",\"rgb(70, 130, 180)\",\"rgb(70, 130, 180)\",\"rgb(70, 130, 180)\",\"rgb(70, 130, 180)\",\"rgb(70, 130, 180)\",\"rgb(70, 130, 180)\",\"rgb(70, 130, 180)\",\"rgb(70, 130, 180)\",\"rgb(70, 130, 180)\",\"rgb(70, 130, 180)\",\"rgb(70, 130, 180)\",\"rgb(70, 130, 180)\",\"rgb(70, 130, 180)\",\"rgb(70, 130, 180)\",\"rgb(70, 130, 180)\",\"rgb(70, 130, 180)\",\"rgb(70, 130, 180)\",\"rgb(70, 130, 180)\",\"rgb(70, 130, 180)\",\"rgb(70, 130, 180)\",\"rgb(173, 216, 230)\",\"rgb(173, 216, 230)\",\"rgb(173, 216, 230)\",\"rgb(173, 216, 230)\",\"rgb(173, 216, 230)\",\"rgb(173, 216, 230)\",\"rgb(173, 216, 230)\",\"rgb(173, 216, 230)\",\"rgb(173, 216, 230)\",\"rgb(173, 216, 230)\",\"rgb(173, 216, 230)\",\"rgb(173, 216, 230)\",\"rgb(173, 216, 230)\",\"rgb(173, 216, 230)\",\"rgb(173, 216, 230)\",\"rgb(173, 216, 230)\",\"rgb(173, 216, 230)\",\"rgb(173, 216, 230)\",\"rgb(173, 216, 230)\",\"rgb(173, 216, 230)\",\"rgb(173, 216, 230)\",\"rgb(173, 216, 230)\",\"rgb(173, 216, 230)\",\"rgb(173, 216, 230)\",\"rgb(173, 216, 230)\",\"rgb(173, 216, 230)\",\"rgb(173, 216, 230)\",\"rgb(173, 216, 230)\",\"rgb(173, 216, 230)\",\"rgb(173, 216, 230)\",\"rgb(173, 216, 230)\",\"rgb(173, 216, 230)\",\"rgb(173, 216, 230)\",\"rgb(173, 216, 230)\",\"rgb(173, 216, 230)\",\"rgb(173, 216, 230)\",\"rgb(173, 216, 230)\",\"rgb(173, 216, 230)\",\"rgb(173, 216, 230)\",\"rgb(173, 216, 230)\",\"rgb(173, 216, 230)\",\"rgb(173, 216, 230)\",\"rgb(173, 216, 230)\",\"rgb(173, 216, 230)\",\"rgb(173, 216, 230)\",\"rgb(173, 216, 230)\",\"rgb(173, 216, 230)\",\"rgb(173, 216, 230)\",\"rgb(173, 216, 230)\",\"rgb(173, 216, 230)\",\"rgb(173, 216, 230)\",\"rgb(173, 216, 230)\",\"rgb(173, 216, 230)\",\"rgb(173, 216, 230)\",\"rgb(173, 216, 230)\",\"rgb(173, 216, 230)\",\"rgb(173, 216, 230)\",\"rgb(173, 216, 230)\",\"rgb(173, 216, 230)\",\"rgb(173, 216, 230)\",\"rgb(173, 216, 230)\",\"rgb(173, 216, 230)\",\"rgb(173, 216, 230)\",\"rgb(173, 216, 230)\",\"rgb(173, 216, 230)\",\"rgb(173, 216, 230)\",\"rgb(173, 216, 230)\",\"rgb(173, 216, 230)\",\"rgb(173, 216, 230)\",\"rgb(173, 216, 230)\",\"rgb(173, 216, 230)\",\"rgb(173, 216, 230)\",\"rgb(173, 216, 230)\",\"rgb(173, 216, 230)\",\"rgb(173, 216, 230)\",\"rgb(173, 216, 230)\",\"rgb(173, 216, 230)\",\"rgb(173, 216, 230)\",\"rgb(173, 216, 230)\",\"rgb(173, 216, 230)\",\"rgb(173, 216, 230)\",\"rgb(173, 216, 230)\",\"rgb(173, 216, 230)\",\"rgb(173, 216, 230)\",\"rgb(173, 216, 230)\",\"rgb(173, 216, 230)\",\"rgb(173, 216, 230)\",\"rgb(173, 216, 230)\",\"rgb(173, 216, 230)\",\"rgb(173, 216, 230)\",\"rgb(173, 216, 230)\",\"rgb(173, 216, 230)\",\"rgb(173, 216, 230)\",\"rgb(173, 216, 230)\",\"rgb(173, 216, 230)\",\"rgb(173, 216, 230)\",\"rgb(173, 216, 230)\",\"rgb(173, 216, 230)\",\"rgb(173, 216, 230)\",\"rgb(173, 216, 230)\",\"rgb(173, 216, 230)\",\"rgb(173, 216, 230)\",\"rgb(173, 216, 230)\",\"rgb(173, 216, 230)\",\"rgb(173, 216, 230)\",\"rgb(173, 216, 230)\",\"rgb(173, 216, 230)\",\"rgb(173, 216, 230)\",\"rgb(173, 216, 230)\",\"rgb(173, 216, 230)\",\"rgb(173, 216, 230)\",\"rgb(173, 216, 230)\",\"rgb(173, 216, 230)\",\"rgb(173, 216, 230)\",\"rgb(173, 216, 230)\",\"rgb(173, 216, 230)\",\"rgb(173, 216, 230)\",\"rgb(173, 216, 230)\",\"rgb(173, 216, 230)\",\"rgb(173, 216, 230)\",\"rgb(173, 216, 230)\",\"rgb(173, 216, 230)\",\"rgb(173, 216, 230)\",\"rgb(173, 216, 230)\",\"rgb(173, 216, 230)\",\"rgb(173, 216, 230)\",\"rgb(173, 216, 230)\",\"rgb(173, 216, 230)\",\"rgb(173, 216, 230)\",\"rgb(173, 216, 230)\",\"rgb(173, 216, 230)\",\"rgb(173, 216, 230)\",\"rgb(173, 216, 230)\",\"rgb(173, 216, 230)\",\"rgb(173, 216, 230)\",\"rgb(173, 216, 230)\",\"rgb(173, 216, 230)\",\"rgb(173, 216, 230)\",\"rgb(173, 216, 230)\",\"rgb(173, 216, 230)\",\"rgb(173, 216, 230)\",\"rgb(173, 216, 230)\",\"rgb(173, 216, 230)\",\"rgb(173, 216, 230)\",\"rgb(173, 216, 230)\",\"rgb(173, 216, 230)\",\"rgb(173, 216, 230)\",\"rgb(173, 216, 230)\",\"rgb(173, 216, 230)\",\"rgb(173, 216, 230)\",\"rgb(173, 216, 230)\",\"rgb(173, 216, 230)\",\"rgb(173, 216, 230)\",\"rgb(173, 216, 230)\",\"rgb(173, 216, 230)\",\"rgb(173, 216, 230)\",\"rgb(173, 216, 230)\",\"rgb(173, 216, 230)\",\"rgb(173, 216, 230)\",\"rgb(173, 216, 230)\",\"rgb(173, 216, 230)\",\"rgb(173, 216, 230)\",\"rgb(173, 216, 230)\",\"rgb(173, 216, 230)\",\"rgb(173, 216, 230)\",\"rgb(173, 216, 230)\",\"rgb(173, 216, 230)\",\"rgb(173, 216, 230)\",\"rgb(173, 216, 230)\",\"rgb(173, 216, 230)\",\"rgb(173, 216, 230)\",\"rgb(173, 216, 230)\",\"rgb(173, 216, 230)\",\"rgb(173, 216, 230)\",\"rgb(173, 216, 230)\",\"rgb(173, 216, 230)\",\"rgb(173, 216, 230)\",\"rgb(173, 216, 230)\",\"rgb(173, 216, 230)\",\"rgb(173, 216, 230)\",\"rgb(173, 216, 230)\",\"rgb(173, 216, 230)\",\"rgb(173, 216, 230)\",\"rgb(173, 216, 230)\",\"rgb(173, 216, 230)\",\"rgb(173, 216, 230)\",\"rgb(173, 216, 230)\",\"rgb(173, 216, 230)\",\"rgb(173, 216, 230)\",\"rgb(173, 216, 230)\",\"rgb(173, 216, 230)\",\"rgb(173, 216, 230)\",\"rgb(173, 216, 230)\",\"rgb(173, 216, 230)\",\"rgb(173, 216, 230)\",\"rgb(173, 216, 230)\",\"rgb(173, 216, 230)\",\"rgb(173, 216, 230)\",\"rgb(173, 216, 230)\",\"rgb(173, 216, 230)\",\"rgb(173, 216, 230)\",\"rgb(173, 216, 230)\",\"rgb(173, 216, 230)\",\"rgb(173, 216, 230)\",\"rgb(173, 216, 230)\",\"rgb(173, 216, 230)\",\"rgb(173, 216, 230)\",\"rgb(173, 216, 230)\",\"rgb(173, 216, 230)\",\"rgb(173, 216, 230)\",\"rgb(173, 216, 230)\",\"rgb(173, 216, 230)\",\"rgb(173, 216, 230)\",\"rgb(173, 216, 230)\",\"rgb(173, 216, 230)\",\"rgb(173, 216, 230)\",\"rgb(173, 216, 230)\",\"rgb(173, 216, 230)\",\"rgb(173, 216, 230)\",\"rgb(173, 216, 230)\",\"rgb(173, 216, 230)\",\"rgb(173, 216, 230)\",\"rgb(173, 216, 230)\",\"rgb(173, 216, 230)\",\"rgb(173, 216, 230)\",\"rgb(173, 216, 230)\",\"rgb(173, 216, 230)\",\"rgb(173, 216, 230)\",\"rgb(173, 216, 230)\",\"rgb(173, 216, 230)\",\"rgb(173, 216, 230)\",\"rgb(173, 216, 230)\",\"rgb(173, 216, 230)\",\"rgb(173, 216, 230)\",\"rgb(173, 216, 230)\",\"rgb(173, 216, 230)\",\"rgb(173, 216, 230)\",\"rgb(173, 216, 230)\",\"rgb(173, 216, 230)\",\"rgb(173, 216, 230)\",\"rgb(173, 216, 230)\",\"rgb(173, 216, 230)\",\"rgb(173, 216, 230)\",\"rgb(173, 216, 230)\",\"rgb(173, 216, 230)\",\"rgb(173, 216, 230)\",\"rgb(173, 216, 230)\",\"rgb(173, 216, 230)\",\"rgb(173, 216, 230)\",\"rgb(173, 216, 230)\",\"rgb(173, 216, 230)\",\"rgb(173, 216, 230)\",\"rgb(173, 216, 230)\",\"rgb(173, 216, 230)\",\"rgb(173, 216, 230)\",\"rgb(173, 216, 230)\",\"rgb(173, 216, 230)\",\"rgb(173, 216, 230)\",\"rgb(173, 216, 230)\",\"rgb(173, 216, 230)\",\"rgb(173, 216, 230)\",\"rgb(173, 216, 230)\",\"rgb(173, 216, 230)\",\"rgb(173, 216, 230)\",\"rgb(173, 216, 230)\",\"rgb(173, 216, 230)\",\"rgb(173, 216, 230)\",\"rgb(173, 216, 230)\",\"rgb(173, 216, 230)\",\"rgb(173, 216, 230)\",\"rgb(173, 216, 230)\",\"rgb(173, 216, 230)\",\"rgb(173, 216, 230)\",\"rgb(173, 216, 230)\",\"rgb(173, 216, 230)\",\"rgb(173, 216, 230)\",\"rgb(173, 216, 230)\",\"rgb(173, 216, 230)\",\"rgb(173, 216, 230)\",\"rgb(173, 216, 230)\",\"rgb(173, 216, 230)\",\"rgb(173, 216, 230)\",\"rgb(173, 216, 230)\",\"rgb(173, 216, 230)\",\"rgb(173, 216, 230)\",\"rgb(173, 216, 230)\",\"rgb(173, 216, 230)\",\"rgb(173, 216, 230)\",\"rgb(173, 216, 230)\",\"rgb(173, 216, 230)\",\"rgb(173, 216, 230)\",\"rgb(173, 216, 230)\",\"rgb(173, 216, 230)\",\"rgb(173, 216, 230)\",\"rgb(173, 216, 230)\",\"rgb(173, 216, 230)\",\"rgb(173, 216, 230)\",\"rgb(173, 216, 230)\",\"rgb(173, 216, 230)\",\"rgb(173, 216, 230)\",\"rgb(173, 216, 230)\",\"rgb(173, 216, 230)\",\"rgb(173, 216, 230)\",\"rgb(173, 216, 230)\",\"rgb(173, 216, 230)\",\"rgb(173, 216, 230)\",\"rgb(173, 216, 230)\",\"rgb(173, 216, 230)\",\"rgb(173, 216, 230)\",\"rgb(173, 216, 230)\",\"rgb(173, 216, 230)\",\"rgb(173, 216, 230)\",\"rgb(173, 216, 230)\",\"rgb(173, 216, 230)\",\"rgb(173, 216, 230)\",\"rgb(173, 216, 230)\",\"rgb(173, 216, 230)\",\"rgb(173, 216, 230)\",\"rgb(173, 216, 230)\",\"rgb(173, 216, 230)\",\"rgb(173, 216, 230)\",\"rgb(173, 216, 230)\",\"rgb(173, 216, 230)\",\"rgb(173, 216, 230)\",\"rgb(173, 216, 230)\",\"rgb(173, 216, 230)\",\"rgb(173, 216, 230)\",\"rgb(173, 216, 230)\",\"rgb(173, 216, 230)\",\"rgb(173, 216, 230)\",\"rgb(173, 216, 230)\",\"rgb(173, 216, 230)\",\"rgb(173, 216, 230)\",\"rgb(173, 216, 230)\",\"rgb(173, 216, 230)\",\"rgb(173, 216, 230)\",\"rgb(173, 216, 230)\",\"rgb(173, 216, 230)\",\"rgb(173, 216, 230)\",\"rgb(173, 216, 230)\",\"rgb(173, 216, 230)\",\"rgb(173, 216, 230)\",\"rgb(173, 216, 230)\",\"rgb(173, 216, 230)\",\"rgb(173, 216, 230)\",\"rgb(173, 216, 230)\",\"rgb(173, 216, 230)\",\"rgb(173, 216, 230)\",\"rgb(173, 216, 230)\",\"rgb(173, 216, 230)\",\"rgb(173, 216, 230)\"]},\"name\":\"\",\"showlegend\":true,\"sort\":false,\"type\":\"pie\",\"opacity\":0.8,\"pull\":[0.1,0,0],\"textinfo\":\"percent+label\"}],                        {\"template\":{\"data\":{\"barpolar\":[{\"marker\":{\"line\":{\"color\":\"white\",\"width\":0.5},\"pattern\":{\"fillmode\":\"overlay\",\"size\":10,\"solidity\":0.2}},\"type\":\"barpolar\"}],\"bar\":[{\"error_x\":{\"color\":\"#2a3f5f\"},\"error_y\":{\"color\":\"#2a3f5f\"},\"marker\":{\"line\":{\"color\":\"white\",\"width\":0.5},\"pattern\":{\"fillmode\":\"overlay\",\"size\":10,\"solidity\":0.2}},\"type\":\"bar\"}],\"carpet\":[{\"aaxis\":{\"endlinecolor\":\"#2a3f5f\",\"gridcolor\":\"#C8D4E3\",\"linecolor\":\"#C8D4E3\",\"minorgridcolor\":\"#C8D4E3\",\"startlinecolor\":\"#2a3f5f\"},\"baxis\":{\"endlinecolor\":\"#2a3f5f\",\"gridcolor\":\"#C8D4E3\",\"linecolor\":\"#C8D4E3\",\"minorgridcolor\":\"#C8D4E3\",\"startlinecolor\":\"#2a3f5f\"},\"type\":\"carpet\"}],\"choropleth\":[{\"colorbar\":{\"outlinewidth\":0,\"ticks\":\"\"},\"type\":\"choropleth\"}],\"contourcarpet\":[{\"colorbar\":{\"outlinewidth\":0,\"ticks\":\"\"},\"type\":\"contourcarpet\"}],\"contour\":[{\"colorbar\":{\"outlinewidth\":0,\"ticks\":\"\"},\"colorscale\":[[0.0,\"#0d0887\"],[0.1111111111111111,\"#46039f\"],[0.2222222222222222,\"#7201a8\"],[0.3333333333333333,\"#9c179e\"],[0.4444444444444444,\"#bd3786\"],[0.5555555555555556,\"#d8576b\"],[0.6666666666666666,\"#ed7953\"],[0.7777777777777778,\"#fb9f3a\"],[0.8888888888888888,\"#fdca26\"],[1.0,\"#f0f921\"]],\"type\":\"contour\"}],\"heatmapgl\":[{\"colorbar\":{\"outlinewidth\":0,\"ticks\":\"\"},\"colorscale\":[[0.0,\"#0d0887\"],[0.1111111111111111,\"#46039f\"],[0.2222222222222222,\"#7201a8\"],[0.3333333333333333,\"#9c179e\"],[0.4444444444444444,\"#bd3786\"],[0.5555555555555556,\"#d8576b\"],[0.6666666666666666,\"#ed7953\"],[0.7777777777777778,\"#fb9f3a\"],[0.8888888888888888,\"#fdca26\"],[1.0,\"#f0f921\"]],\"type\":\"heatmapgl\"}],\"heatmap\":[{\"colorbar\":{\"outlinewidth\":0,\"ticks\":\"\"},\"colorscale\":[[0.0,\"#0d0887\"],[0.1111111111111111,\"#46039f\"],[0.2222222222222222,\"#7201a8\"],[0.3333333333333333,\"#9c179e\"],[0.4444444444444444,\"#bd3786\"],[0.5555555555555556,\"#d8576b\"],[0.6666666666666666,\"#ed7953\"],[0.7777777777777778,\"#fb9f3a\"],[0.8888888888888888,\"#fdca26\"],[1.0,\"#f0f921\"]],\"type\":\"heatmap\"}],\"histogram2dcontour\":[{\"colorbar\":{\"outlinewidth\":0,\"ticks\":\"\"},\"colorscale\":[[0.0,\"#0d0887\"],[0.1111111111111111,\"#46039f\"],[0.2222222222222222,\"#7201a8\"],[0.3333333333333333,\"#9c179e\"],[0.4444444444444444,\"#bd3786\"],[0.5555555555555556,\"#d8576b\"],[0.6666666666666666,\"#ed7953\"],[0.7777777777777778,\"#fb9f3a\"],[0.8888888888888888,\"#fdca26\"],[1.0,\"#f0f921\"]],\"type\":\"histogram2dcontour\"}],\"histogram2d\":[{\"colorbar\":{\"outlinewidth\":0,\"ticks\":\"\"},\"colorscale\":[[0.0,\"#0d0887\"],[0.1111111111111111,\"#46039f\"],[0.2222222222222222,\"#7201a8\"],[0.3333333333333333,\"#9c179e\"],[0.4444444444444444,\"#bd3786\"],[0.5555555555555556,\"#d8576b\"],[0.6666666666666666,\"#ed7953\"],[0.7777777777777778,\"#fb9f3a\"],[0.8888888888888888,\"#fdca26\"],[1.0,\"#f0f921\"]],\"type\":\"histogram2d\"}],\"histogram\":[{\"marker\":{\"pattern\":{\"fillmode\":\"overlay\",\"size\":10,\"solidity\":0.2}},\"type\":\"histogram\"}],\"mesh3d\":[{\"colorbar\":{\"outlinewidth\":0,\"ticks\":\"\"},\"type\":\"mesh3d\"}],\"parcoords\":[{\"line\":{\"colorbar\":{\"outlinewidth\":0,\"ticks\":\"\"}},\"type\":\"parcoords\"}],\"pie\":[{\"automargin\":true,\"type\":\"pie\"}],\"scatter3d\":[{\"line\":{\"colorbar\":{\"outlinewidth\":0,\"ticks\":\"\"}},\"marker\":{\"colorbar\":{\"outlinewidth\":0,\"ticks\":\"\"}},\"type\":\"scatter3d\"}],\"scattercarpet\":[{\"marker\":{\"colorbar\":{\"outlinewidth\":0,\"ticks\":\"\"}},\"type\":\"scattercarpet\"}],\"scattergeo\":[{\"marker\":{\"colorbar\":{\"outlinewidth\":0,\"ticks\":\"\"}},\"type\":\"scattergeo\"}],\"scattergl\":[{\"marker\":{\"colorbar\":{\"outlinewidth\":0,\"ticks\":\"\"}},\"type\":\"scattergl\"}],\"scattermapbox\":[{\"marker\":{\"colorbar\":{\"outlinewidth\":0,\"ticks\":\"\"}},\"type\":\"scattermapbox\"}],\"scatterpolargl\":[{\"marker\":{\"colorbar\":{\"outlinewidth\":0,\"ticks\":\"\"}},\"type\":\"scatterpolargl\"}],\"scatterpolar\":[{\"marker\":{\"colorbar\":{\"outlinewidth\":0,\"ticks\":\"\"}},\"type\":\"scatterpolar\"}],\"scatter\":[{\"fillpattern\":{\"fillmode\":\"overlay\",\"size\":10,\"solidity\":0.2},\"type\":\"scatter\"}],\"scatterternary\":[{\"marker\":{\"colorbar\":{\"outlinewidth\":0,\"ticks\":\"\"}},\"type\":\"scatterternary\"}],\"surface\":[{\"colorbar\":{\"outlinewidth\":0,\"ticks\":\"\"},\"colorscale\":[[0.0,\"#0d0887\"],[0.1111111111111111,\"#46039f\"],[0.2222222222222222,\"#7201a8\"],[0.3333333333333333,\"#9c179e\"],[0.4444444444444444,\"#bd3786\"],[0.5555555555555556,\"#d8576b\"],[0.6666666666666666,\"#ed7953\"],[0.7777777777777778,\"#fb9f3a\"],[0.8888888888888888,\"#fdca26\"],[1.0,\"#f0f921\"]],\"type\":\"surface\"}],\"table\":[{\"cells\":{\"fill\":{\"color\":\"#EBF0F8\"},\"line\":{\"color\":\"white\"}},\"header\":{\"fill\":{\"color\":\"#C8D4E3\"},\"line\":{\"color\":\"white\"}},\"type\":\"table\"}]},\"layout\":{\"annotationdefaults\":{\"arrowcolor\":\"#2a3f5f\",\"arrowhead\":0,\"arrowwidth\":1},\"autotypenumbers\":\"strict\",\"coloraxis\":{\"colorbar\":{\"outlinewidth\":0,\"ticks\":\"\"}},\"colorscale\":{\"diverging\":[[0,\"#8e0152\"],[0.1,\"#c51b7d\"],[0.2,\"#de77ae\"],[0.3,\"#f1b6da\"],[0.4,\"#fde0ef\"],[0.5,\"#f7f7f7\"],[0.6,\"#e6f5d0\"],[0.7,\"#b8e186\"],[0.8,\"#7fbc41\"],[0.9,\"#4d9221\"],[1,\"#276419\"]],\"sequential\":[[0.0,\"#0d0887\"],[0.1111111111111111,\"#46039f\"],[0.2222222222222222,\"#7201a8\"],[0.3333333333333333,\"#9c179e\"],[0.4444444444444444,\"#bd3786\"],[0.5555555555555556,\"#d8576b\"],[0.6666666666666666,\"#ed7953\"],[0.7777777777777778,\"#fb9f3a\"],[0.8888888888888888,\"#fdca26\"],[1.0,\"#f0f921\"]],\"sequentialminus\":[[0.0,\"#0d0887\"],[0.1111111111111111,\"#46039f\"],[0.2222222222222222,\"#7201a8\"],[0.3333333333333333,\"#9c179e\"],[0.4444444444444444,\"#bd3786\"],[0.5555555555555556,\"#d8576b\"],[0.6666666666666666,\"#ed7953\"],[0.7777777777777778,\"#fb9f3a\"],[0.8888888888888888,\"#fdca26\"],[1.0,\"#f0f921\"]]},\"colorway\":[\"#636efa\",\"#EF553B\",\"#00cc96\",\"#ab63fa\",\"#FFA15A\",\"#19d3f3\",\"#FF6692\",\"#B6E880\",\"#FF97FF\",\"#FECB52\"],\"font\":{\"color\":\"#2a3f5f\"},\"geo\":{\"bgcolor\":\"white\",\"lakecolor\":\"white\",\"landcolor\":\"white\",\"showlakes\":true,\"showland\":true,\"subunitcolor\":\"#C8D4E3\"},\"hoverlabel\":{\"align\":\"left\"},\"hovermode\":\"closest\",\"mapbox\":{\"style\":\"light\"},\"paper_bgcolor\":\"white\",\"plot_bgcolor\":\"white\",\"polar\":{\"angularaxis\":{\"gridcolor\":\"#EBF0F8\",\"linecolor\":\"#EBF0F8\",\"ticks\":\"\"},\"bgcolor\":\"white\",\"radialaxis\":{\"gridcolor\":\"#EBF0F8\",\"linecolor\":\"#EBF0F8\",\"ticks\":\"\"}},\"scene\":{\"xaxis\":{\"backgroundcolor\":\"white\",\"gridcolor\":\"#DFE8F3\",\"gridwidth\":2,\"linecolor\":\"#EBF0F8\",\"showbackground\":true,\"ticks\":\"\",\"zerolinecolor\":\"#EBF0F8\"},\"yaxis\":{\"backgroundcolor\":\"white\",\"gridcolor\":\"#DFE8F3\",\"gridwidth\":2,\"linecolor\":\"#EBF0F8\",\"showbackground\":true,\"ticks\":\"\",\"zerolinecolor\":\"#EBF0F8\"},\"zaxis\":{\"backgroundcolor\":\"white\",\"gridcolor\":\"#DFE8F3\",\"gridwidth\":2,\"linecolor\":\"#EBF0F8\",\"showbackground\":true,\"ticks\":\"\",\"zerolinecolor\":\"#EBF0F8\"}},\"shapedefaults\":{\"line\":{\"color\":\"#2a3f5f\"}},\"ternary\":{\"aaxis\":{\"gridcolor\":\"#DFE8F3\",\"linecolor\":\"#A2B1C6\",\"ticks\":\"\"},\"baxis\":{\"gridcolor\":\"#DFE8F3\",\"linecolor\":\"#A2B1C6\",\"ticks\":\"\"},\"bgcolor\":\"white\",\"caxis\":{\"gridcolor\":\"#DFE8F3\",\"linecolor\":\"#A2B1C6\",\"ticks\":\"\"}},\"title\":{\"x\":0.05},\"xaxis\":{\"automargin\":true,\"gridcolor\":\"#EBF0F8\",\"linecolor\":\"#EBF0F8\",\"ticks\":\"\",\"title\":{\"standoff\":15},\"zerolinecolor\":\"#EBF0F8\",\"zerolinewidth\":2},\"yaxis\":{\"automargin\":true,\"gridcolor\":\"#EBF0F8\",\"linecolor\":\"#EBF0F8\",\"ticks\":\"\",\"title\":{\"standoff\":15},\"zerolinecolor\":\"#EBF0F8\",\"zerolinewidth\":2}}},\"legend\":{\"tracegroupgap\":0},\"title\":{\"text\":\"Risk Category Distribution\"},\"piecolorway\":[\"rgb(0, 0, 255)\",\"rgb(70, 130, 180)\",\"rgb(173, 216, 230)\"],\"height\":500,\"width\":700},                        {\"responsive\": true}                    ).then(function(){\n",
              "                            \n",
              "var gd = document.getElementById('6a861b0f-cd5f-4772-a3ef-a2d97507c9aa');\n",
              "var x = new MutationObserver(function (mutations, observer) {{\n",
              "        var display = window.getComputedStyle(gd).display;\n",
              "        if (!display || display === 'none') {{\n",
              "            console.log([gd, 'removed!']);\n",
              "            Plotly.purge(gd);\n",
              "            observer.disconnect();\n",
              "        }}\n",
              "}});\n",
              "\n",
              "// Listen for the removal of the full notebook cells\n",
              "var notebookContainer = gd.closest('#notebook-container');\n",
              "if (notebookContainer) {{\n",
              "    x.observe(notebookContainer, {childList: true});\n",
              "}}\n",
              "\n",
              "// Listen for the clearing of the current output cell\n",
              "var outputEl = gd.closest('.output');\n",
              "if (outputEl) {{\n",
              "    x.observe(outputEl, {childList: true});\n",
              "}}\n",
              "\n",
              "                        })                };                            </script>        </div>\n",
              "</body>\n",
              "</html>"
            ]
          },
          "metadata": {}
        }
      ],
      "source": [
        "fig = px.pie(df_new,\n",
        "             names='RiskCategory',\n",
        "             title=\"Risk Category Distribution\",\n",
        "             color='RiskCategory',\n",
        "             color_discrete_map={'High Risk': 'rgb(0, 0, 255)',\n",
        "                                 'Middle Risk': 'rgb(70, 130, 180)',\n",
        "                                 'Low Risk': 'rgb(173, 216, 230)'},\n",
        "             category_orders={'RiskCategory': ['High Risk', 'Middle Risk', 'Low Risk']},hole=0.4,\n",
        "             width=700, height=500,\n",
        "             labels={'RiskCategory': 'Risk Categories'},\n",
        "             template=\"plotly_white\",\n",
        "             color_discrete_sequence=['rgb(0, 0, 255)', 'rgb(70, 130, 180)', 'rgb(173, 216, 230)'])\n",
        "fig.update_traces(textinfo=\"percent+label\", pull=[0.1, 0, 0], opacity=0.8)\n",
        "\n",
        "fig.show()"
      ]
    },
    {
      "cell_type": "markdown",
      "metadata": {
        "id": "VeEKvoGmJlQ3"
      },
      "source": [
        "## Average Satisfaction Levels Across Departments"
      ]
    },
    {
      "cell_type": "code",
      "execution_count": 132,
      "metadata": {
        "colab": {
          "base_uri": "https://localhost:8080/",
          "height": 517
        },
        "id": "hRqY5YhFL7K8",
        "outputId": "5449d72f-120f-4d28-e504-7cd8c10e2574"
      },
      "outputs": [
        {
          "output_type": "display_data",
          "data": {
            "text/html": [
              "<html>\n",
              "<head><meta charset=\"utf-8\" /></head>\n",
              "<body>\n",
              "    <div>            <script src=\"https://cdnjs.cloudflare.com/ajax/libs/mathjax/2.7.5/MathJax.js?config=TeX-AMS-MML_SVG\"></script><script type=\"text/javascript\">if (window.MathJax && window.MathJax.Hub && window.MathJax.Hub.Config) {window.MathJax.Hub.Config({SVG: {font: \"STIX-Web\"}});}</script>                <script type=\"text/javascript\">window.PlotlyConfig = {MathJaxConfig: 'local'};</script>\n",
              "        <script charset=\"utf-8\" src=\"https://cdn.plot.ly/plotly-2.35.2.min.js\"></script>                <div id=\"78b21b37-a2b1-4244-9a6c-ddb5a1dbcee6\" class=\"plotly-graph-div\" style=\"height:500px; width:800px;\"></div>            <script type=\"text/javascript\">                                    window.PLOTLYENV=window.PLOTLYENV || {};                                    if (document.getElementById(\"78b21b37-a2b1-4244-9a6c-ddb5a1dbcee6\")) {                    Plotly.newPlot(                        \"78b21b37-a2b1-4244-9a6c-ddb5a1dbcee6\",                        [{\"alignmentgroup\":\"True\",\"hovertemplate\":\"SatisfactionType=AvgJobSatisfaction\\u003cbr\\u003eDepartment=%{x}\\u003cbr\\u003eAverage Satisfaction=%{y}\\u003cextra\\u003e\\u003c\\u002fextra\\u003e\",\"legendgroup\":\"AvgJobSatisfaction\",\"marker\":{\"color\":\"rgb(230, 240, 240)\",\"pattern\":{\"shape\":\"\"}},\"name\":\"AvgJobSatisfaction\",\"offsetgroup\":\"AvgJobSatisfaction\",\"orientation\":\"v\",\"showlegend\":true,\"textposition\":\"auto\",\"x\":[\"Human Resources\",\"Sales\",\"Technology\"],\"xaxis\":\"x\",\"y\":[3.15625,3.3877551020408165,3.4048780487804877],\"yaxis\":\"y\",\"type\":\"bar\"},{\"alignmentgroup\":\"True\",\"hovertemplate\":\"SatisfactionType=AvgRelationshipSatisfaction\\u003cbr\\u003eDepartment=%{x}\\u003cbr\\u003eAverage Satisfaction=%{y}\\u003cextra\\u003e\\u003c\\u002fextra\\u003e\",\"legendgroup\":\"AvgRelationshipSatisfaction\",\"marker\":{\"color\":\"rgb(191, 221, 229)\",\"pattern\":{\"shape\":\"\"}},\"name\":\"AvgRelationshipSatisfaction\",\"offsetgroup\":\"AvgRelationshipSatisfaction\",\"orientation\":\"v\",\"showlegend\":true,\"textposition\":\"auto\",\"x\":[\"Human Resources\",\"Sales\",\"Technology\"],\"xaxis\":\"x\",\"y\":[3.21875,3.240816326530612,3.3658536585365852],\"yaxis\":\"y\",\"type\":\"bar\"},{\"alignmentgroup\":\"True\",\"hovertemplate\":\"SatisfactionType=AvgEnvironmentSatisfaction\\u003cbr\\u003eDepartment=%{x}\\u003cbr\\u003eAverage Satisfaction=%{y}\\u003cextra\\u003e\\u003c\\u002fextra\\u003e\",\"legendgroup\":\"AvgEnvironmentSatisfaction\",\"marker\":{\"color\":\"rgb(156, 201, 226)\",\"pattern\":{\"shape\":\"\"}},\"name\":\"AvgEnvironmentSatisfaction\",\"offsetgroup\":\"AvgEnvironmentSatisfaction\",\"orientation\":\"v\",\"showlegend\":true,\"textposition\":\"auto\",\"x\":[\"Human Resources\",\"Sales\",\"Technology\"],\"xaxis\":\"x\",\"y\":[3.625,3.7551020408163267,3.6975609756097563],\"yaxis\":\"y\",\"type\":\"bar\"}],                        {\"template\":{\"data\":{\"barpolar\":[{\"marker\":{\"line\":{\"color\":\"white\",\"width\":0.5},\"pattern\":{\"fillmode\":\"overlay\",\"size\":10,\"solidity\":0.2}},\"type\":\"barpolar\"}],\"bar\":[{\"error_x\":{\"color\":\"#2a3f5f\"},\"error_y\":{\"color\":\"#2a3f5f\"},\"marker\":{\"line\":{\"color\":\"white\",\"width\":0.5},\"pattern\":{\"fillmode\":\"overlay\",\"size\":10,\"solidity\":0.2}},\"type\":\"bar\"}],\"carpet\":[{\"aaxis\":{\"endlinecolor\":\"#2a3f5f\",\"gridcolor\":\"#C8D4E3\",\"linecolor\":\"#C8D4E3\",\"minorgridcolor\":\"#C8D4E3\",\"startlinecolor\":\"#2a3f5f\"},\"baxis\":{\"endlinecolor\":\"#2a3f5f\",\"gridcolor\":\"#C8D4E3\",\"linecolor\":\"#C8D4E3\",\"minorgridcolor\":\"#C8D4E3\",\"startlinecolor\":\"#2a3f5f\"},\"type\":\"carpet\"}],\"choropleth\":[{\"colorbar\":{\"outlinewidth\":0,\"ticks\":\"\"},\"type\":\"choropleth\"}],\"contourcarpet\":[{\"colorbar\":{\"outlinewidth\":0,\"ticks\":\"\"},\"type\":\"contourcarpet\"}],\"contour\":[{\"colorbar\":{\"outlinewidth\":0,\"ticks\":\"\"},\"colorscale\":[[0.0,\"#0d0887\"],[0.1111111111111111,\"#46039f\"],[0.2222222222222222,\"#7201a8\"],[0.3333333333333333,\"#9c179e\"],[0.4444444444444444,\"#bd3786\"],[0.5555555555555556,\"#d8576b\"],[0.6666666666666666,\"#ed7953\"],[0.7777777777777778,\"#fb9f3a\"],[0.8888888888888888,\"#fdca26\"],[1.0,\"#f0f921\"]],\"type\":\"contour\"}],\"heatmapgl\":[{\"colorbar\":{\"outlinewidth\":0,\"ticks\":\"\"},\"colorscale\":[[0.0,\"#0d0887\"],[0.1111111111111111,\"#46039f\"],[0.2222222222222222,\"#7201a8\"],[0.3333333333333333,\"#9c179e\"],[0.4444444444444444,\"#bd3786\"],[0.5555555555555556,\"#d8576b\"],[0.6666666666666666,\"#ed7953\"],[0.7777777777777778,\"#fb9f3a\"],[0.8888888888888888,\"#fdca26\"],[1.0,\"#f0f921\"]],\"type\":\"heatmapgl\"}],\"heatmap\":[{\"colorbar\":{\"outlinewidth\":0,\"ticks\":\"\"},\"colorscale\":[[0.0,\"#0d0887\"],[0.1111111111111111,\"#46039f\"],[0.2222222222222222,\"#7201a8\"],[0.3333333333333333,\"#9c179e\"],[0.4444444444444444,\"#bd3786\"],[0.5555555555555556,\"#d8576b\"],[0.6666666666666666,\"#ed7953\"],[0.7777777777777778,\"#fb9f3a\"],[0.8888888888888888,\"#fdca26\"],[1.0,\"#f0f921\"]],\"type\":\"heatmap\"}],\"histogram2dcontour\":[{\"colorbar\":{\"outlinewidth\":0,\"ticks\":\"\"},\"colorscale\":[[0.0,\"#0d0887\"],[0.1111111111111111,\"#46039f\"],[0.2222222222222222,\"#7201a8\"],[0.3333333333333333,\"#9c179e\"],[0.4444444444444444,\"#bd3786\"],[0.5555555555555556,\"#d8576b\"],[0.6666666666666666,\"#ed7953\"],[0.7777777777777778,\"#fb9f3a\"],[0.8888888888888888,\"#fdca26\"],[1.0,\"#f0f921\"]],\"type\":\"histogram2dcontour\"}],\"histogram2d\":[{\"colorbar\":{\"outlinewidth\":0,\"ticks\":\"\"},\"colorscale\":[[0.0,\"#0d0887\"],[0.1111111111111111,\"#46039f\"],[0.2222222222222222,\"#7201a8\"],[0.3333333333333333,\"#9c179e\"],[0.4444444444444444,\"#bd3786\"],[0.5555555555555556,\"#d8576b\"],[0.6666666666666666,\"#ed7953\"],[0.7777777777777778,\"#fb9f3a\"],[0.8888888888888888,\"#fdca26\"],[1.0,\"#f0f921\"]],\"type\":\"histogram2d\"}],\"histogram\":[{\"marker\":{\"pattern\":{\"fillmode\":\"overlay\",\"size\":10,\"solidity\":0.2}},\"type\":\"histogram\"}],\"mesh3d\":[{\"colorbar\":{\"outlinewidth\":0,\"ticks\":\"\"},\"type\":\"mesh3d\"}],\"parcoords\":[{\"line\":{\"colorbar\":{\"outlinewidth\":0,\"ticks\":\"\"}},\"type\":\"parcoords\"}],\"pie\":[{\"automargin\":true,\"type\":\"pie\"}],\"scatter3d\":[{\"line\":{\"colorbar\":{\"outlinewidth\":0,\"ticks\":\"\"}},\"marker\":{\"colorbar\":{\"outlinewidth\":0,\"ticks\":\"\"}},\"type\":\"scatter3d\"}],\"scattercarpet\":[{\"marker\":{\"colorbar\":{\"outlinewidth\":0,\"ticks\":\"\"}},\"type\":\"scattercarpet\"}],\"scattergeo\":[{\"marker\":{\"colorbar\":{\"outlinewidth\":0,\"ticks\":\"\"}},\"type\":\"scattergeo\"}],\"scattergl\":[{\"marker\":{\"colorbar\":{\"outlinewidth\":0,\"ticks\":\"\"}},\"type\":\"scattergl\"}],\"scattermapbox\":[{\"marker\":{\"colorbar\":{\"outlinewidth\":0,\"ticks\":\"\"}},\"type\":\"scattermapbox\"}],\"scatterpolargl\":[{\"marker\":{\"colorbar\":{\"outlinewidth\":0,\"ticks\":\"\"}},\"type\":\"scatterpolargl\"}],\"scatterpolar\":[{\"marker\":{\"colorbar\":{\"outlinewidth\":0,\"ticks\":\"\"}},\"type\":\"scatterpolar\"}],\"scatter\":[{\"fillpattern\":{\"fillmode\":\"overlay\",\"size\":10,\"solidity\":0.2},\"type\":\"scatter\"}],\"scatterternary\":[{\"marker\":{\"colorbar\":{\"outlinewidth\":0,\"ticks\":\"\"}},\"type\":\"scatterternary\"}],\"surface\":[{\"colorbar\":{\"outlinewidth\":0,\"ticks\":\"\"},\"colorscale\":[[0.0,\"#0d0887\"],[0.1111111111111111,\"#46039f\"],[0.2222222222222222,\"#7201a8\"],[0.3333333333333333,\"#9c179e\"],[0.4444444444444444,\"#bd3786\"],[0.5555555555555556,\"#d8576b\"],[0.6666666666666666,\"#ed7953\"],[0.7777777777777778,\"#fb9f3a\"],[0.8888888888888888,\"#fdca26\"],[1.0,\"#f0f921\"]],\"type\":\"surface\"}],\"table\":[{\"cells\":{\"fill\":{\"color\":\"#EBF0F8\"},\"line\":{\"color\":\"white\"}},\"header\":{\"fill\":{\"color\":\"#C8D4E3\"},\"line\":{\"color\":\"white\"}},\"type\":\"table\"}]},\"layout\":{\"annotationdefaults\":{\"arrowcolor\":\"#2a3f5f\",\"arrowhead\":0,\"arrowwidth\":1},\"autotypenumbers\":\"strict\",\"coloraxis\":{\"colorbar\":{\"outlinewidth\":0,\"ticks\":\"\"}},\"colorscale\":{\"diverging\":[[0,\"#8e0152\"],[0.1,\"#c51b7d\"],[0.2,\"#de77ae\"],[0.3,\"#f1b6da\"],[0.4,\"#fde0ef\"],[0.5,\"#f7f7f7\"],[0.6,\"#e6f5d0\"],[0.7,\"#b8e186\"],[0.8,\"#7fbc41\"],[0.9,\"#4d9221\"],[1,\"#276419\"]],\"sequential\":[[0.0,\"#0d0887\"],[0.1111111111111111,\"#46039f\"],[0.2222222222222222,\"#7201a8\"],[0.3333333333333333,\"#9c179e\"],[0.4444444444444444,\"#bd3786\"],[0.5555555555555556,\"#d8576b\"],[0.6666666666666666,\"#ed7953\"],[0.7777777777777778,\"#fb9f3a\"],[0.8888888888888888,\"#fdca26\"],[1.0,\"#f0f921\"]],\"sequentialminus\":[[0.0,\"#0d0887\"],[0.1111111111111111,\"#46039f\"],[0.2222222222222222,\"#7201a8\"],[0.3333333333333333,\"#9c179e\"],[0.4444444444444444,\"#bd3786\"],[0.5555555555555556,\"#d8576b\"],[0.6666666666666666,\"#ed7953\"],[0.7777777777777778,\"#fb9f3a\"],[0.8888888888888888,\"#fdca26\"],[1.0,\"#f0f921\"]]},\"colorway\":[\"#636efa\",\"#EF553B\",\"#00cc96\",\"#ab63fa\",\"#FFA15A\",\"#19d3f3\",\"#FF6692\",\"#B6E880\",\"#FF97FF\",\"#FECB52\"],\"font\":{\"color\":\"#2a3f5f\"},\"geo\":{\"bgcolor\":\"white\",\"lakecolor\":\"white\",\"landcolor\":\"white\",\"showlakes\":true,\"showland\":true,\"subunitcolor\":\"#C8D4E3\"},\"hoverlabel\":{\"align\":\"left\"},\"hovermode\":\"closest\",\"mapbox\":{\"style\":\"light\"},\"paper_bgcolor\":\"white\",\"plot_bgcolor\":\"white\",\"polar\":{\"angularaxis\":{\"gridcolor\":\"#EBF0F8\",\"linecolor\":\"#EBF0F8\",\"ticks\":\"\"},\"bgcolor\":\"white\",\"radialaxis\":{\"gridcolor\":\"#EBF0F8\",\"linecolor\":\"#EBF0F8\",\"ticks\":\"\"}},\"scene\":{\"xaxis\":{\"backgroundcolor\":\"white\",\"gridcolor\":\"#DFE8F3\",\"gridwidth\":2,\"linecolor\":\"#EBF0F8\",\"showbackground\":true,\"ticks\":\"\",\"zerolinecolor\":\"#EBF0F8\"},\"yaxis\":{\"backgroundcolor\":\"white\",\"gridcolor\":\"#DFE8F3\",\"gridwidth\":2,\"linecolor\":\"#EBF0F8\",\"showbackground\":true,\"ticks\":\"\",\"zerolinecolor\":\"#EBF0F8\"},\"zaxis\":{\"backgroundcolor\":\"white\",\"gridcolor\":\"#DFE8F3\",\"gridwidth\":2,\"linecolor\":\"#EBF0F8\",\"showbackground\":true,\"ticks\":\"\",\"zerolinecolor\":\"#EBF0F8\"}},\"shapedefaults\":{\"line\":{\"color\":\"#2a3f5f\"}},\"ternary\":{\"aaxis\":{\"gridcolor\":\"#DFE8F3\",\"linecolor\":\"#A2B1C6\",\"ticks\":\"\"},\"baxis\":{\"gridcolor\":\"#DFE8F3\",\"linecolor\":\"#A2B1C6\",\"ticks\":\"\"},\"bgcolor\":\"white\",\"caxis\":{\"gridcolor\":\"#DFE8F3\",\"linecolor\":\"#A2B1C6\",\"ticks\":\"\"}},\"title\":{\"x\":0.05},\"xaxis\":{\"automargin\":true,\"gridcolor\":\"#EBF0F8\",\"linecolor\":\"#EBF0F8\",\"ticks\":\"\",\"title\":{\"standoff\":15},\"zerolinecolor\":\"#EBF0F8\",\"zerolinewidth\":2},\"yaxis\":{\"automargin\":true,\"gridcolor\":\"#EBF0F8\",\"linecolor\":\"#EBF0F8\",\"ticks\":\"\",\"title\":{\"standoff\":15},\"zerolinecolor\":\"#EBF0F8\",\"zerolinewidth\":2}}},\"xaxis\":{\"anchor\":\"y\",\"domain\":[0.0,1.0],\"title\":{\"text\":\"Department\"}},\"yaxis\":{\"anchor\":\"x\",\"domain\":[0.0,1.0],\"title\":{\"text\":\"Average Satisfaction\"}},\"legend\":{\"title\":{\"text\":\"SatisfactionType\"},\"tracegroupgap\":0},\"title\":{\"text\":\"Average Satisfaction by Department\"},\"barmode\":\"group\",\"height\":500,\"width\":800},                        {\"responsive\": true}                    ).then(function(){\n",
              "                            \n",
              "var gd = document.getElementById('78b21b37-a2b1-4244-9a6c-ddb5a1dbcee6');\n",
              "var x = new MutationObserver(function (mutations, observer) {{\n",
              "        var display = window.getComputedStyle(gd).display;\n",
              "        if (!display || display === 'none') {{\n",
              "            console.log([gd, 'removed!']);\n",
              "            Plotly.purge(gd);\n",
              "            observer.disconnect();\n",
              "        }}\n",
              "}});\n",
              "\n",
              "// Listen for the removal of the full notebook cells\n",
              "var notebookContainer = gd.closest('#notebook-container');\n",
              "if (notebookContainer) {{\n",
              "    x.observe(notebookContainer, {childList: true});\n",
              "}}\n",
              "\n",
              "// Listen for the clearing of the current output cell\n",
              "var outputEl = gd.closest('.output');\n",
              "if (outputEl) {{\n",
              "    x.observe(outputEl, {childList: true});\n",
              "}}\n",
              "\n",
              "                        })                };                            </script>        </div>\n",
              "</body>\n",
              "</html>"
            ]
          },
          "metadata": {}
        }
      ],
      "source": [
        "merged = df_filtered.merge(df_Performance_copy, on = 'EmployeeID')\n",
        "merged['Year'] = pd.to_datetime(merged['ReviewDate']).dt.year\n",
        "filtered = merged[(merged['Year'].isin([2022]))]\n",
        "wellness_df = filtered.groupby('Department', as_index=False).agg(\n",
        "    AvgJobSatisfaction=('JobSatisfaction', 'mean'),\n",
        "    AvgRelationshipSatisfaction=('RelationshipSatisfaction', 'mean'),\n",
        "    AvgEnvironmentSatisfaction=('EnvironmentSatisfaction', 'mean'))\n",
        "melted_df = wellness_df.melt(\n",
        "    id_vars='Department',\n",
        "    value_vars=['AvgJobSatisfaction', 'AvgRelationshipSatisfaction', 'AvgEnvironmentSatisfaction'],\n",
        "    var_name='SatisfactionType',\n",
        "    value_name='AverageSatisfaction')\n",
        "fig11 = px.bar(melted_df, x='Department', y='AverageSatisfaction', color='SatisfactionType',\n",
        "             barmode='group', title='Average Satisfaction by Department', width=800, height=500,\n",
        "             labels={'AverageSatisfaction': 'Average Satisfaction', 'Department': 'Department'},\n",
        "             color_discrete_sequence=px.colors.sequential.dense, template='plotly_white')\n",
        "\n",
        "fig11.show()"
      ]
    },
    {
      "cell_type": "markdown",
      "metadata": {
        "id": "I1hZsyLBOHv3"
      },
      "source": [
        "Environment Satisfaction is pretty high across all departments, with scores between 3.741 and 3.819, meaning most people are happy with their work environment.\n",
        "\n",
        "But Job Satisfaction seems really low in Human Resources, with an average of just 3.1. One possible cause is that HR work is stressful as they deal with a lot of tough situations like complaints and conflicts. They also might not get as much recognition as people in other departments, so they could be feeling underappreciated.\n",
        "\n",
        "For Relationship Satisfaction, the Sales department has the lowest score. Sales roles can be very competitive and high pressure, which might lead to tension between team members."
      ]
    },
    {
      "cell_type": "markdown",
      "metadata": {
        "id": "sA_mBEa70x_V"
      },
      "source": [
        "## Performance"
      ]
    },
    {
      "cell_type": "markdown",
      "metadata": {
        "id": "rGHyaGeuNHW8"
      },
      "source": [
        "In the Performance section , I focused on Manager Rating as the key measure of employee performance. I analyzed how ratings vary across departments and employee groups to spot trends, potential biases, and performance gaps. This helps understand how managerial feedback affects employees and where improvements can be made."
      ]
    },
    {
      "cell_type": "markdown",
      "metadata": {
        "id": "FpfI21S5MIRR"
      },
      "source": [
        "**By Gender**"
      ]
    },
    {
      "cell_type": "code",
      "execution_count": 133,
      "metadata": {
        "colab": {
          "base_uri": "https://localhost:8080/"
        },
        "id": "41VNdhVtMN2n",
        "outputId": "8d326b13-270f-4ca8-b47c-783dce5dbae0"
      },
      "outputs": [
        {
          "output_type": "stream",
          "name": "stdout",
          "text": [
            "              Gender  AverageManagerRating\n",
            "0             Female              3.438257\n",
            "1               Male              3.505076\n",
            "2         Non-Binary              3.301370\n",
            "3  Prefer Not To Say              3.416667\n"
          ]
        }
      ],
      "source": [
        "df = filtered.groupby('Gender', as_index=False).agg(AverageManagerRating=('ManagerRating', 'mean'))\n",
        "print(df)"
      ]
    },
    {
      "cell_type": "markdown",
      "metadata": {
        "id": "3hW1E36PNncM"
      },
      "source": [
        "The average Manager Rating varies slightly across gender groups. Male employees have the highest average rating (3.51), while Non-Binary employees have the lowest (3.30). Female employees (3.44) and those who Prefer Not to Say (3.42) fall in between. This suggests potential differences in performance evaluations, which may be worth exploring further to ensure fairness and consistency."
      ]
    },
    {
      "cell_type": "markdown",
      "metadata": {
        "id": "VAW9yIkBMOkU"
      },
      "source": [
        "**By Age Group**"
      ]
    },
    {
      "cell_type": "code",
      "execution_count": 134,
      "metadata": {
        "colab": {
          "base_uri": "https://localhost:8080/"
        },
        "id": "zP2496AYBUcd",
        "outputId": "3cfcbf32-5142-4f9b-edaa-ce798e1732ed"
      },
      "outputs": [
        {
          "output_type": "stream",
          "name": "stdout",
          "text": [
            "      AgeGroup  AverageManagerRating\n",
            "0  Middle-Aged              3.437086\n",
            "1        Older              3.309091\n",
            "2        Young              3.482243\n"
          ]
        }
      ],
      "source": [
        "df = filtered.groupby('AgeGroup', as_index=False).agg(AverageManagerRating=('ManagerRating', 'mean'))\n",
        "print(df)"
      ]
    },
    {
      "cell_type": "markdown",
      "metadata": {
        "id": "MuooL1hTN6nk"
      },
      "source": [
        "The average Manager Rating also varies by age group. Middle-Aged employees have the highest rating (3.47), followed by Young employees (3.45). Older employees have the lowest average rating (3.31). This could suggest different perceptions of performance across age groups, which may require further analysis."
      ]
    },
    {
      "cell_type": "markdown",
      "metadata": {
        "id": "seJiIDDhBxii"
      },
      "source": [
        "**By Department**"
      ]
    },
    {
      "cell_type": "code",
      "execution_count": 135,
      "metadata": {
        "colab": {
          "base_uri": "https://localhost:8080/"
        },
        "id": "HHC74JU3Blxt",
        "outputId": "9aaf6eaf-36e2-47a8-f463-c7c8c120fe72"
      },
      "outputs": [
        {
          "output_type": "stream",
          "name": "stdout",
          "text": [
            "        Department  AverageManagerRating\n",
            "0  Human Resources              3.656250\n",
            "1            Sales              3.461224\n",
            "2       Technology              3.443902\n"
          ]
        }
      ],
      "source": [
        "df = filtered.groupby('Department', as_index=False).agg(AverageManagerRating=('ManagerRating', 'mean'))\n",
        "print(df)"
      ]
    },
    {
      "cell_type": "markdown",
      "source": [
        "The average Manager Rating differs across departments. Human Resources received the highest average rating (3.66), followed by Sales (3.46) and Technology (3.44). This suggests that employees in HR may perceive their managers more favorably, while those in Tech and Sales may have slightly lower levels of satisfaction with managerial performance."
      ],
      "metadata": {
        "id": "YNMcx9dbT7xx"
      }
    }
  ],
  "metadata": {
    "colab": {
      "provenance": []
    },
    "kernelspec": {
      "display_name": "Python 3",
      "name": "python3"
    },
    "language_info": {
      "name": "python"
    }
  },
  "nbformat": 4,
  "nbformat_minor": 0
}